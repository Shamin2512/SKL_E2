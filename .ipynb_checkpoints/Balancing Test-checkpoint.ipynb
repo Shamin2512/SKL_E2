{
 "cells": [
  {
   "cell_type": "code",
   "execution_count": 22,
   "id": "04dcfa95",
   "metadata": {},
   "outputs": [],
   "source": [
    "#!/usr/bin/python3\n",
    "import random\n",
    "\n",
    "# Global variable to define the two output labels - can be changed to SNP/PD etc.\n",
    "SNP='0'\n",
    "PD='1'"
   ]
  },
  {
   "cell_type": "code",
   "execution_count": 23,
   "id": "46394a36",
   "metadata": {},
   "outputs": [],
   "source": [
    "def print_data(inData, classData, usedLines):\n",
    "    \"\"\" Input:  inData    array of input data\n",
    "                classData array of classes assigned\n",
    "                usedLines array of line indexes to print\n",
    "\n",
    "    Prints the selected lines\n",
    "    \"\"\"\n",
    "    for idx in range(len(inData)):\n",
    "        if usedLines[idx]:\n",
    "            print(inData[idx]+\",\"+classData[idx])"
   ]
  },
  {
   "cell_type": "code",
   "execution_count": 24,
   "id": "f566f633",
   "metadata": {},
   "outputs": [],
   "source": [
    "def balance(inData, classData, minorityClass, minoritySize):\n",
    "    \"\"\" Input:    inData        array of input data\n",
    "                  classData     array of classes assigned\n",
    "                  minorityClass class label for the minority class\n",
    "                  minoritySize  size of the minority class\n",
    "         Returns: array of indexes that are of interest for a \n",
    "                  balanced dataset\n",
    "\n",
    "    Performs the actual balancing\n",
    "    \"\"\"\n",
    "\n",
    "    usedLines = [False] * len(inData)\n",
    "    for idx in range(len(inData)):\n",
    "        if classData[idx] == minorityClass:\n",
    "            usedLines[idx] = True\n",
    "        else:\n",
    "            usedLines[idx] = False\n",
    "        \n",
    "    usedCount = 0\n",
    "    while usedCount < minoritySize:\n",
    "        idx = random.randrange(len(inData))\n",
    "        if usedLines[idx] == False:\n",
    "            usedLines[idx] = True\n",
    "            usedCount += 1\n",
    "\n",
    "    return(usedLines)"
   ]
  },
  {
   "cell_type": "code",
   "execution_count": 81,
   "id": "27b5e386",
   "metadata": {},
   "outputs": [],
   "source": [
    "def split_line(line):\n",
    "    \"\"\" Input:   line   Line of input/output data\n",
    "        Returns:        The first part of the line (the features)\n",
    "                        and the second part of the line (the \n",
    "                        class label)\n",
    "    Splits a line from the data file into the feature data and \n",
    "    the class label - can be tweaked as needed\n",
    "    \"\"\"\n",
    "    return(line.rsplit(',',47))"
   ]
  },
  {
   "cell_type": "code",
   "execution_count": 82,
   "id": "010784bf",
   "metadata": {},
   "outputs": [],
   "source": [
    "def read_csv(file):\n",
    "    \"\"\"\n",
    "    Input:    file       The filename to read\n",
    "    Returns:  inData     An array of the lines of input feature data\n",
    "              classData  An array of the lines of assigned class labels\n",
    "              header     An array of header (comment) lines\n",
    "\n",
    "    Very simple CSV reader that splits only into feature data and label\n",
    "    \"\"\"\n",
    "    inData    = []\n",
    "    classData = []\n",
    "    header    = []\n",
    "    with open(file, \"r\") as inputFile:\n",
    "        for line in inputFile:\n",
    "            line=line.strip()\n",
    "            if line[0:0] == '#':\n",
    "                header.append(line)\n",
    "            else:\n",
    "                input_data, label = split_line(line)\n",
    "                inData.append(input_data)\n",
    "                classData.append(label)\n",
    "    return(inData, classData, header)"
   ]
  },
  {
   "cell_type": "code",
   "execution_count": 77,
   "id": "03b83b5a",
   "metadata": {},
   "outputs": [],
   "source": [
    "def find_minority_class(classData):\n",
    "    \"\"\" Input:    classData  Array of class labels\n",
    "        Returns:  minClass   The label for the minority class\n",
    "                  minSize    The number of items in the minority class\n",
    "                  maxSize    The number of items in the majority class\n",
    "    Finds information about the inbalance in class sizes\n",
    "    \"\"\"\n",
    "    N_zero = 0\n",
    "    N_one  = 0\n",
    "    for datum in classData:\n",
    "        if(datum == PD):\n",
    "            N_one += 1\n",
    "        elif(datum == SNP):\n",
    "            N_zero += 1\n",
    "\n",
    "    minClass = SNP\n",
    "    minSize  = N_zero\n",
    "    maxSize  = N_one\n",
    "    if(N_zero > N_one):\n",
    "        minClass = PD\n",
    "        minSize  = N_one\n",
    "        maxSize  = N_zero\n",
    "\n",
    "    return(minClass, minSize, maxSize)"
   ]
  },
  {
   "cell_type": "code",
   "execution_count": 83,
   "id": "984286a0",
   "metadata": {},
   "outputs": [
    {
     "ename": "ValueError",
     "evalue": "too many values to unpack (expected 2)",
     "output_type": "error",
     "traceback": [
      "\u001b[1;31m---------------------------------------------------------------------------\u001b[0m",
      "\u001b[1;31mValueError\u001b[0m                                Traceback (most recent call last)",
      "Cell \u001b[1;32mIn [83], line 1\u001b[0m\n\u001b[1;32m----> 1\u001b[0m inData, classData, header \u001b[38;5;241m=\u001b[39m \u001b[43mread_csv\u001b[49m\u001b[43m(\u001b[49m\u001b[43mfile\u001b[49m\u001b[43m \u001b[49m\u001b[38;5;241;43m=\u001b[39;49m\u001b[43m \u001b[49m\u001b[38;5;124;43m\"\u001b[39;49m\u001b[38;5;124;43mE2.csv\u001b[39;49m\u001b[38;5;124;43m\"\u001b[39;49m\u001b[43m)\u001b[49m\n\u001b[0;32m      3\u001b[0m minorityClass, minoritySize, majoritySize \u001b[38;5;241m=\u001b[39m find_minority_class(classData)\n\u001b[0;32m      5\u001b[0m nFolds \u001b[38;5;241m=\u001b[39m \u001b[38;5;241m1\u001b[39m \u001b[38;5;241m+\u001b[39m \u001b[38;5;241m3\u001b[39m \u001b[38;5;241m*\u001b[39m \u001b[38;5;28mint\u001b[39m(majoritySize \u001b[38;5;241m/\u001b[39m minoritySize)\n",
      "Cell \u001b[1;32mIn [82], line 19\u001b[0m, in \u001b[0;36mread_csv\u001b[1;34m(file)\u001b[0m\n\u001b[0;32m     17\u001b[0m     header\u001b[38;5;241m.\u001b[39mappend(line)\n\u001b[0;32m     18\u001b[0m \u001b[38;5;28;01melse\u001b[39;00m:\n\u001b[1;32m---> 19\u001b[0m     input_data, label \u001b[38;5;241m=\u001b[39m split_line(line)\n\u001b[0;32m     20\u001b[0m     inData\u001b[38;5;241m.\u001b[39mappend(input_data)\n\u001b[0;32m     21\u001b[0m     classData\u001b[38;5;241m.\u001b[39mappend(label)\n",
      "\u001b[1;31mValueError\u001b[0m: too many values to unpack (expected 2)"
     ]
    }
   ],
   "source": [
    "inData, classData, header = read_csv(file = \"E2.csv\")\n",
    "\n",
    "minorityClass, minoritySize, majoritySize = find_minority_class(classData)\n",
    "\n",
    "nFolds = 1 + 3 * int(majoritySize / minoritySize)\n",
    "\n",
    "for fold in range(nFolds):\n",
    "    print(\"\\nFold \", fold)\n",
    "    for h in header:\n",
    "        print(h)\n",
    "    usedLines = balance(inData, classData, minorityClass, minoritySize)\n",
    "    print_data(inData, classData, usedLines)"
   ]
  },
  {
   "cell_type": "code",
   "execution_count": null,
   "id": "3d2fc508",
   "metadata": {},
   "outputs": [],
   "source": []
  }
 ],
 "metadata": {
  "kernelspec": {
   "display_name": "Python 3 (ipykernel)",
   "language": "python",
   "name": "python3"
  },
  "language_info": {
   "codemirror_mode": {
    "name": "ipython",
    "version": 3
   },
   "file_extension": ".py",
   "mimetype": "text/x-python",
   "name": "python",
   "nbconvert_exporter": "python",
   "pygments_lexer": "ipython3",
   "version": "3.10.7"
  },
  "varInspector": {
   "cols": {
    "lenName": 16,
    "lenType": 16,
    "lenVar": 40
   },
   "kernels_config": {
    "python": {
     "delete_cmd_postfix": "",
     "delete_cmd_prefix": "del ",
     "library": "var_list.py",
     "varRefreshCmd": "print(var_dic_list())"
    },
    "r": {
     "delete_cmd_postfix": ") ",
     "delete_cmd_prefix": "rm(",
     "library": "var_list.r",
     "varRefreshCmd": "cat(var_dic_list()) "
    }
   },
   "types_to_exclude": [
    "module",
    "function",
    "builtin_function_or_method",
    "instance",
    "_Feature"
   ],
   "window_display": true
  }
 },
 "nbformat": 4,
 "nbformat_minor": 5
}
