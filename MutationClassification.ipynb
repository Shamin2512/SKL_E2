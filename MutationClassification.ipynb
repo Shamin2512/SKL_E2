{
 "cells": [
  {
   "cell_type": "markdown",
   "id": "0fcba82d",
   "metadata": {},
   "source": [
    "### Import library"
   ]
  },
  {
   "cell_type": "code",
   "execution_count": null,
   "id": "6524f333",
   "metadata": {},
   "outputs": [],
   "source": [
    "\"\"\" Example 2 is inbalanced data set; ~2200 in PD and ~1100 in SNP\n",
    "    Goal is to predict if mutation is SNP or PD\n",
    "    ImprovedBalancing branch\n",
    "    \n",
    "    Total samples: 3368\n",
    "    2254 PD samples\n",
    "    1111 SNP samples\n",
    "\"\"\""
   ]
  },
  {
   "cell_type": "code",
   "execution_count": 1,
   "id": "5737f62f",
   "metadata": {},
   "outputs": [],
   "source": [
    "\n",
    "\n",
    "\"\"\" Imports the required libraries and packages\n",
    "\"\"\"\n",
    "\n",
    "import pandas as pd  #Import for data manipulation in dataframes\n",
    "import numpy as np  #Array manipulation and calculates mean\n",
    "\n",
    "import random as rd\n",
    "\n",
    "from sklearn.metrics import(\n",
    "    matthews_corrcoef,  # CC for evaluation\n",
    "    f1_score,  #F1 score for evaluation\n",
    "    confusion_matrix,  #Creates the confusion matrix - stats on how accurate the test set output is\n",
    "    classification_report #Returns the F1 socre, precision, and recall of a prediction using a given model\n",
    "    )\n",
    "from sklearn.model_selection import(\n",
    "    train_test_split,  # Splits data frame into the training set and testing set\n",
    "    GridSearchCV,  # Cross validation to improve hyperparameters\n",
    "    StratifiedKFold\n",
    "        )\n",
    "from sklearn.ensemble import RandomForestClassifier #SK learn API for classificastion random forests\n",
    "from sklearn.tree import DecisionTreeClassifier #Single tree decisions \n",
    "from sklearn.preprocessing import StandardScaler\n",
    "from sklearn.linear_model import LogisticRegression\n",
    "from sklearn.pipeline import make_pipeline\n",
    "from sklearn.neighbors import KNeighborsClassifier #allows for confidence scores to be predicted for each\n",
    "\n",
    "np.set_printoptions(threshold=np.inf) #full array printing"
   ]
  },
  {
   "cell_type": "markdown",
   "id": "3ddcc865",
   "metadata": {},
   "source": [
    "### Clean dataset in pandas"
   ]
  },
  {
   "cell_type": "code",
   "execution_count": 2,
   "id": "62413d95",
   "metadata": {},
   "outputs": [],
   "source": [
    "\"\"\" Input:      file        The dataset to read\n",
    "\n",
    "    Returns:    Input       Dataframe with of input features for training\n",
    "                Output      Dataframe of class labels for each instance in Input\n",
    "\n",
    "    Create, clean and convert dataset E2.csv to PD dataframe. Drops uneeded columns, removes blank spaces, \n",
    "    and applies \"One Hot Encoding\" to convert PD/SNP to 1/0\n",
    "\"\"\"\n",
    "\n",
    "df = pd.read_csv('E2.csv')\n",
    "df.drop(['pdbcode:chain:resnum:mutation'], axis=1, inplace=True)\n",
    "df.columns = df.columns.str.replace(' ', '_')\n",
    "df.replace(' ', '_', regex=True, inplace=True)\n",
    "df.reset_index(drop=True, inplace = True)\n",
    "\n",
    "Input = df.drop('dataset', axis =1).fillna('0')\n",
    "Output_encoded = pd.get_dummies(df, columns=['dataset'])\n",
    "Output = Output_encoded['dataset_pd'].copy().astype('int32')\n",
    "\n",
    "\n",
    "#file = E2.csv\n",
    "#Input, Output = Clean_data(file)"
   ]
  },
  {
   "cell_type": "markdown",
   "id": "bb451c9e",
   "metadata": {},
   "source": [
    "### Split into training and testing, generate RF (whole dataset)"
   ]
  },
  {
   "cell_type": "code",
   "execution_count": 3,
   "id": "bbfacd1c",
   "metadata": {},
   "outputs": [
    {
     "name": "stderr",
     "output_type": "stream",
     "text": [
      "[Parallel(n_jobs=1)]: Using backend SequentialBackend with 1 concurrent workers.\n",
      "[Parallel(n_jobs=1)]: Done 1000 out of 1000 | elapsed:    4.2s finished\n"
     ]
    }
   ],
   "source": [
    "\"\"\" Input:      Input           Dataframe with of input features for training\n",
    "                Output          Dataframe of class labels for each instance in Input\n",
    "\n",
    "    Returns:    Input_train     Features training data\n",
    "                Input_test      Features test data\n",
    "                Classes_train   Class label training data\n",
    "                Classes_test    Class label test data\n",
    "\n",
    "    80% training and 20% testing split. Strartify ensures fixed poportion of labels are in both sets. \n",
    "    Random forest defined as RFC with 1000 trees, seed = 42. Outputs the training data to files.\n",
    "    \"\"\"\n",
    "\n",
    "Input_train, Input_test, Classes_train, Classes_test = train_test_split(Input, Output, train_size = 0.8, random_state=42, stratify=Output) \n",
    "RFC = RandomForestClassifier(random_state = rd.seed(), n_estimators = 1000, verbose = 1)\n",
    "RFC.fit(Input_train, Classes_train)\n",
    "\n",
    "with open('Training Data.txt', 'w') as file: #Writes class labels for all instances to text file\n",
    "    file.write(Input_train.to_string())\n",
    "with open('Class labels.txt', 'w') as file: #Writes class labels for all instances to text file\n",
    "    file.write(Classes_train.to_string())"
   ]
  },
  {
   "cell_type": "markdown",
   "id": "b2e8b7f5",
   "metadata": {},
   "source": [
    "### Initial evaluation"
   ]
  },
  {
   "cell_type": "code",
   "execution_count": 4,
   "id": "cf8d9857",
   "metadata": {},
   "outputs": [
    {
     "name": "stdout",
     "output_type": "stream",
     "text": [
      "Confusion Matrix:\n",
      " [[143  80]\n",
      " [ 27 424]]\n",
      "              precision    recall  f1-score   support\n",
      "\n",
      "           0       0.84      0.64      0.73       223\n",
      "           1       0.84      0.94      0.89       451\n",
      "\n",
      "    accuracy                           0.84       674\n",
      "   macro avg       0.84      0.79      0.81       674\n",
      "weighted avg       0.84      0.84      0.83       674\n",
      "\n",
      "MCC                0.629894066667426\n"
     ]
    },
    {
     "name": "stderr",
     "output_type": "stream",
     "text": [
      "[Parallel(n_jobs=1)]: Using backend SequentialBackend with 1 concurrent workers.\n",
      "[Parallel(n_jobs=1)]: Done 1000 out of 1000 | elapsed:    0.0s finished\n"
     ]
    }
   ],
   "source": [
    "\"\"\" Input:      Input_test      Features test data\n",
    "                Classes_test    Class label test data\n",
    "                    \n",
    "        Evaluates the training data. Random forest classifier makes prediction using the test features. True values \n",
    "        are the class labels testing data\n",
    "\"\"\"\n",
    "\n",
    "Output_pred = RFC.predict(Input_test) #Always perdict on the unseen test data, as train has been used by the estimastor\n",
    "print(f\"Confusion Matrix:\\n {confusion_matrix(Classes_test, Output_pred)}\")\n",
    "print(f\"{classification_report(Classes_test, Output_pred)}\\nMCC                {matthews_corrcoef(Classes_test, Output_pred)}\")\n"
   ]
  },
  {
   "cell_type": "markdown",
   "id": "a335a585",
   "metadata": {},
   "source": [
    "### Balancing"
   ]
  },
  {
   "cell_type": "code",
   "execution_count": 5,
   "id": "6b6924e9",
   "metadata": {},
   "outputs": [],
   "source": [
    "def find_minority_class(classData):\n",
    "    \"\"\" Input:    classData  Array of class labels\n",
    "        Returns:  minClass   The label for the minority class\n",
    "                  minSize    The number of items in the minority class\n",
    "                  maxSize    The number of items in the majority class\n",
    "    Finds information about the inbalance in class sizes\n",
    "    \"\"\"\n",
    "    \n",
    "    Minority_count = 0\n",
    "    Majority_count = 0\n",
    "    for datum in classData:\n",
    "        if datum == 1:\n",
    "            Majority_count += 1\n",
    "        elif datum == 0:\n",
    "            Minority_count += 1\n",
    "\n",
    "    minClass = 0\n",
    "    minSize = Minority_count\n",
    "    maxSize = Majority_count\n",
    "    if Minority_count > Majority_count:\n",
    "        minClass = 1\n",
    "        minSize = Majority_count\n",
    "        maxSize = Minority_count\n",
    "\n",
    "    return minClass, minSize, maxSize"
   ]
  },
  {
   "cell_type": "code",
   "execution_count": 6,
   "id": "6746be83",
   "metadata": {},
   "outputs": [],
   "source": [
    "\"\"\" Input:      maxSize     The number of items in the majority class\n",
    "                minSize     The number of items in the minority class\n",
    "                \n",
    "    Returns:    BF          Number of balancing folds\n",
    "    \n",
    "    Calculates the number of balancing folds needed using the majority and minority class size. If ratio between the two \n",
    "    classes is even, then made to be odd to allow weighted vote.\n",
    "\"\"\"\n",
    "def Balance_ratio(maxSize, minSize): \n",
    "    Divide = maxSize/minSize\n",
    "    if round(Divide) % 2 == 0:\n",
    "        BF = 2 * round(Divide) + 1\n",
    "    else:\n",
    "        BF = round(Divide)\n",
    "    return BF"
   ]
  },
  {
   "cell_type": "code",
   "execution_count": 7,
   "id": "5d1241bf",
   "metadata": {},
   "outputs": [],
   "source": [
    "def balance(inData, classData, minClass, minSize):\n",
    "    \"\"\" Input:    inData          array of input data\n",
    "                  classData       array of classes assigned\n",
    "                  minorityClass   class label for the minority class\n",
    "                  minoritySize    size of the minority class\n",
    "                  \n",
    "         Returns: array of indexes that are of interest for a \n",
    "                  balanced dataset\n",
    "\n",
    "    Performs the actual balancing between SNPs and PDs\n",
    "    \"\"\"\n",
    "    \n",
    "    usedLines = [False] * len(inData) #sets used lines as 0\n",
    "    for i in range(len(inData)):\n",
    "        if classData[i] == minClass:\n",
    "            usedLines[i] = True\n",
    "        else:\n",
    "            usedLines[i] = False\n",
    "    usedCount = 0\n",
    "    while usedCount < minSize:\n",
    "        i = rd.randrange(len(inData))\n",
    "        if usedLines[i] == False:\n",
    "            usedCount += 1\n",
    "            usedLines[i] = True       \n",
    "\n",
    "    return usedLines"
   ]
  },
  {
   "cell_type": "code",
   "execution_count": 8,
   "id": "d5c54edb",
   "metadata": {},
   "outputs": [],
   "source": [
    "def balance_data(inData, classData, usedLines):\n",
    "    \"\"\" Input:     inData      array of input training data\n",
    "                   classData   array of classes assigned to training data\n",
    "                   usedLines   array of line indexes to print\n",
    "                \n",
    "        Returns:   Input_balance  Array of balanced input training data\n",
    "                   Label_balance  Array of balanced classes assigned to training data\n",
    "\n",
    "    Creates arrays for the input training data and its corresponding classes, as needed for predicting the probability.\n",
    "    The index [i] is the identifier between the two arrays\n",
    "    \"\"\"\n",
    "    Input_balance = []\n",
    "    Label_balance = []\n",
    "    for i in range(len(inData)):\n",
    "        if usedLines[i]:\n",
    "            Input_balance.append(inData[i])\n",
    "            Label_balance.append(classData[i])\n",
    "            \n",
    "    Input_balance = np.stack(Input_balance, axis =0)\n",
    "    Label_balance = np.stack(Label_balance, axis =0)\n",
    "    \n",
    "    return Input_balance, Label_balance"
   ]
  },
  {
   "cell_type": "markdown",
   "id": "27419a33",
   "metadata": {},
   "source": [
    "### Balance for n folds"
   ]
  },
  {
   "cell_type": "code",
   "execution_count": 9,
   "id": "12239dc9",
   "metadata": {
    "scrolled": false
   },
   "outputs": [],
   "source": [
    "\"\"\" Input:      BF                Number of balancing folds needed\n",
    "                usedLines         Array of line indexes to print\n",
    "                Input_balance     Input_balance  Array of balanced input training data\n",
    "                Label_balance     Array of balanced classes assigned to training data\n",
    "\n",
    "    Returns:    Input_folds       List of 5 balanced arrays of training data\n",
    "                Output_folds      List of 5 balanced arrays of training data's labels\n",
    "\n",
    "    Performs the balance_data() function n number of balancing fold times. Returns lists for training data and labels\n",
    "    where each item is the output of balance_data().\n",
    "\"\"\"\n",
    "def Balance_Folds(BF, usedLines, Input_balance, Label_balance):\n",
    "    Input_folds = []\n",
    "    Output_folds = []\n",
    "    for fold in range(BF):\n",
    "        Input_folds.append(Input_balance)\n",
    "        Output_folds.append(Label_balance)\n",
    "        \n",
    "    return Input_folds, Output_folds"
   ]
  },
  {
   "cell_type": "code",
   "execution_count": 12,
   "id": "7c696a8c",
   "metadata": {},
   "outputs": [],
   "source": [
    "inData = pd.DataFrame(Input_train).to_numpy()\n",
    "classData = pd.DataFrame(Classes_train).to_numpy()\n",
    "minClass, minSize, maxSize = find_minority_class(classData)\n",
    "BF = Balance_ratio(maxSize, minSize)\n",
    "usedLines = balance(inData, classData, minClass, minSize)\n",
    "Input_balance, Label_balance = balance_data(inData, classData, usedLines)\n",
    "\n",
    "\n",
    "Input_folds, Output_folds = Balance_Folds(BF, usedLines, Input_balance, Label_balance)"
   ]
  },
  {
   "cell_type": "markdown",
   "id": "4ea8505e",
   "metadata": {},
   "source": [
    "### Train balanced data on random forest model"
   ]
  },
  {
   "cell_type": "code",
   "execution_count": 13,
   "id": "1decd7a3",
   "metadata": {},
   "outputs": [],
   "source": [
    "\"\"\" Input:      BF              Number of balancing folds\n",
    "                Input_folds     List of 5 balanced arrays for training data\n",
    "                Output_folds    List of 5 balanced arrays of training data's labels\n",
    "                \n",
    "    Returns:    Prob_list       Predicted probability for each class, for each fold in list\n",
    "    \n",
    "    Creates a model that returns probability predictions for each fold, using Balance_Fold() as input\n",
    "\"\"\"\n",
    "def BF_training(BF): \n",
    "    \n",
    "    BF_RFC = RandomForestClassifier(random_state = 42, n_estimators = 1000, verbose = 1) #Defines the Random Forest. 42 seeds, 1000 trees\n",
    "    Prob_list = []\n",
    "    \n",
    "    for i in range(BF):\n",
    "        BF_RFC.fit(Input_folds[i], Output_folds[i].ravel()) #Generates a random forest for each fold's training data\n",
    "        Prob = BF_RFC.predict_proba(Input_folds[i]) \n",
    "        Prob_list.append(Prob)\n",
    "        \n",
    "        with open('Balanced probabilities.txt', 'w') as f:\n",
    "            for number, line in zip(range(BF), Prob_list):\n",
    "                f.write(f\"Fold: {number}\\n\\n{line}\\n\\n\\n\")\n",
    "        \n",
    "    return Prob_list"
   ]
  },
  {
   "cell_type": "code",
   "execution_count": null,
   "id": "18409838",
   "metadata": {},
   "outputs": [],
   "source": [
    "Prob_list = BF_training(BF)"
   ]
  },
  {
   "cell_type": "markdown",
   "id": "0c4b8fdd",
   "metadata": {},
   "source": [
    "### Weighted voting"
   ]
  },
  {
   "cell_type": "code",
   "execution_count": null,
   "id": "71033215",
   "metadata": {},
   "outputs": [],
   "source": [
    "def Score(Instance, BF):\n",
    "    BF_prob_PD =[]\n",
    "    BF_prob_SNP =[]\n",
    "    for i in range(BF):\n",
    "        BF_prob_PD.append(Instance[i][:,1] - Instance[i][:,0]) #PD - SNP prob\n",
    "        BF_prob_SNP.append(Instance[i][:,0] - Instance[i][:,1]) #SNP - PD prob     \n",
    "    \n",
    "    PD_Sum = 0\n",
    "    SNP_Sum = 0\n",
    "    for i in range(BF):\n",
    "        PD_Sum += BF_prob_PD[i]\n",
    "        SNP_Sum += BF_prob_SNP[i]\n",
    "        \n",
    "    S_Out = np.abs((PD_Sum - SNP_Sum)/(BF * 2))\n",
    "    \n",
    "    np.savetxt('S_out.txt', S_Out, \"%.3f\")\n",
    "    \n",
    "    return(S_Out) #Returns the final confidence scores\n"
   ]
  },
  {
   "cell_type": "code",
   "execution_count": null,
   "id": "a322d7eb",
   "metadata": {},
   "outputs": [],
   "source": [
    "#Final vote\n",
    "def Final_vote(Value):\n",
    "    \n",
    "    SNP_Count = 0\n",
    "    PD_Count = 0\n",
    "    BalancedValues = []\n",
    "    for i in range(len(Value)):\n",
    "        if Value[i] > 0.5:\n",
    "            PD_Count += 1\n",
    "            BalancedValues.append(round(Value[i]))\n",
    "        elif Value[i] < 0.5:\n",
    "            SNP_Count += 1\n",
    "            BalancedValues.append(round(Value[i]))\n",
    "\n",
    "\n",
    "    final = print(f\"{PD_Count} samples predicted to be PD\\n{SNP_Count} samples predicted to be SNP\")\n",
    "    \n",
    "    return BalancedValues  \n",
    "    # #Evaluation of training after weighted vote\n",
    "    # Classes_pred = RFC.predict(Input_test)\n",
    "    # print(f\"Confusion Matrix:\\n {confusion_matrix(Classes_test, Classes_pred)}\")\n",
    "    # print(f\"MCC:\\n {matthews_corrcoef(Classes_test, Classes_pred)}\")\n",
    "    # print(\"F1:\\n\", f1_score(Classes_test, Classes_pred))"
   ]
  },
  {
   "cell_type": "code",
   "execution_count": null,
   "id": "bb4af5bf",
   "metadata": {},
   "outputs": [],
   "source": [
    "# TODO: retrive the probability from each tree for a single sample  "
   ]
  },
  {
   "cell_type": "code",
   "execution_count": null,
   "id": "9ce6740d",
   "metadata": {},
   "outputs": [],
   "source": [
    "Value = Score(Instance = Prob_list, BF = BF)\n",
    "\n",
    "vote = Final_vote(Value)\n",
    "\n",
    "Array = np.stack(vote, axis =0)\n",
    "print(len(Array))"
   ]
  },
  {
   "cell_type": "code",
   "execution_count": null,
   "id": "8a5eb930",
   "metadata": {},
   "outputs": [],
   "source": [
    "Output_pred = RFC.predict(Input_test) #Always perdict on the unseen test data, as train has been used by the estimastor\n",
    "print(f\"Confusion Matrix:\\n {confusion_matrix(Classes_test, Output_pred)}\")\n",
    "print(f\"{classification_report(Classes_test, Output_pred)}\\nMCC                {matthews_corrcoef(Classes_test, Output_pred)}\")\n"
   ]
  },
  {
   "cell_type": "markdown",
   "id": "965f8777",
   "metadata": {},
   "source": [
    "### Validation"
   ]
  },
  {
   "cell_type": "code",
   "execution_count": null,
   "id": "c426f23e",
   "metadata": {},
   "outputs": [],
   "source": [
    "# # **Split data into training and test**\n",
    "# with open('SNPorPD.txt', 'w+') as f:\n",
    "#         data=f.read()\n",
    "#         f.write(str(y_test.to_string()))\n",
    "\n",
    "# # pipeline.fit(X, y) #applies list if transformers to give a fitted model\n",
    "\n",
    "# plt.scatter(Classes_test, Output_pred)"
   ]
  },
  {
   "cell_type": "code",
   "execution_count": null,
   "id": "9f620e35",
   "metadata": {},
   "outputs": [],
   "source": [
    "gridsearch = GridSearchCV( #validation\n",
    "    estimator = LogisticRegression(solver='saga'),\n",
    "    param_grid = {}, #dictionary of parameters to search through\n",
    "    cv = StratifiedKFold(),\n",
    "    n_jobs = 1, #how many processors to run in parallel\n",
    "    scoring = 'f1',\n",
    "    verbose = 3 \n",
    "    ).fit(X_train, y_train)"
   ]
  },
  {
   "cell_type": "code",
   "execution_count": null,
   "id": "15af356d",
   "metadata": {},
   "outputs": [],
   "source": [
    "# y_pred = clf.predict(X_test)\n",
    "# print(\"Training time:\", stop-start)\n",
    "# print(\"Confusion Matrix:\\n\", confusion_matrix(y_test, y_pred))\n",
    "# print(\"MCC:\\n\", matthews_corrcoef(y_test, y_pred))\n",
    "# print(\"F1:\\n\", f1_score(y_test, y_pred))"
   ]
  },
  {
   "cell_type": "code",
   "execution_count": null,
   "id": "b1de8521",
   "metadata": {},
   "outputs": [],
   "source": []
  }
 ],
 "metadata": {
  "kernelspec": {
   "display_name": "Python 3 (ipykernel)",
   "language": "python",
   "name": "python3"
  },
  "language_info": {
   "codemirror_mode": {
    "name": "ipython",
    "version": 3
   },
   "file_extension": ".py",
   "mimetype": "text/x-python",
   "name": "python",
   "nbconvert_exporter": "python",
   "pygments_lexer": "ipython3",
   "version": "3.10.7"
  },
  "varInspector": {
   "cols": {
    "lenName": 16,
    "lenType": 16,
    "lenVar": 40
   },
   "kernels_config": {
    "python": {
     "delete_cmd_postfix": "",
     "delete_cmd_prefix": "del ",
     "library": "var_list.py",
     "varRefreshCmd": "print(var_dic_list())"
    },
    "r": {
     "delete_cmd_postfix": ") ",
     "delete_cmd_prefix": "rm(",
     "library": "var_list.r",
     "varRefreshCmd": "cat(var_dic_list()) "
    }
   },
   "oldHeight": 337.844,
   "position": {
    "height": "359.844px",
    "left": "1536px",
    "right": "20px",
    "top": "112px",
    "width": "354px"
   },
   "types_to_exclude": [
    "module",
    "function",
    "builtin_function_or_method",
    "instance",
    "_Feature"
   ],
   "varInspector_section_display": "block",
   "window_display": false
  }
 },
 "nbformat": 4,
 "nbformat_minor": 5
}
