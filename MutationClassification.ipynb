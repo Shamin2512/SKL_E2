{
 "cells": [
  {
   "cell_type": "markdown",
   "id": "0fcba82d",
   "metadata": {},
   "source": [
    "### Import library"
   ]
  },
  {
   "cell_type": "code",
   "execution_count": 1,
   "id": "5d94d2bb",
   "metadata": {},
   "outputs": [
    {
     "data": {
      "text/plain": [
       "' Example 2 is inbalanced data set; ~2200 in PD and ~1100 in SNP\\n    Goal is to predict if mutation is SNP or PD\\n    improve_MCC branch\\n    \\n    Total samples: 3368\\n    2254 PD samples\\n    1111 SNP samples\\n'"
      ]
     },
     "execution_count": 1,
     "metadata": {},
     "output_type": "execute_result"
    }
   ],
   "source": [
    "\"\"\" Example 2 is inbalanced data set; ~2200 in PD and ~1100 in SNP\n",
    "    Goal is to predict if mutation is SNP or PD\n",
    "    improve_MCC branch\n",
    "    \n",
    "    Total samples: 3368\n",
    "    2254 PD samples\n",
    "    1111 SNP samples\n",
    "\"\"\""
   ]
  },
  {
   "cell_type": "code",
   "execution_count": 2,
   "id": "5737f62f",
   "metadata": {},
   "outputs": [],
   "source": [
    "\"\"\" Imports the required libraries and packages \"\"\"\n",
    "\n",
    "import pandas as pd  # Data manipulation in dataframes\n",
    "import numpy as np  # Array manipulation\n",
    "\n",
    "import random as rd # Random seed generation\n",
    "import time #Time program run time\n",
    "import sys\n",
    "\n",
    "import matplotlib.pyplot as plt\n",
    "from matplotlib.patches import Patch #CV visualise\n",
    "\n",
    "# import PDB2AC\n",
    "\n",
    "from sklearn.metrics import(\n",
    "    matthews_corrcoef,  # MCC for evaluation\n",
    "    balanced_accuracy_score, #hyperparameter evaluation\n",
    "    f1_score,  #hyperparameter evaluation\n",
    "    confusion_matrix,  # confusion matrix for classification evalutation\n",
    "    classification_report #Return the F1, precision, and recall of a prediction\n",
    "    )\n",
    "\n",
    "from sklearn.model_selection import(\n",
    "    train_test_split,  # Splits data frame into the training set and testing set\n",
    "    GridSearchCV,  # Searches all hyperparameters\n",
    "    RandomizedSearchCV, # Searches random range of hyperparameters\n",
    "    GroupKFold, # K-fold CV with as groups\n",
    "        )\n",
    "\n",
    "from sklearn.utils import shuffle\n",
    "from sklearn.ensemble import RandomForestClassifier #SK learn API for classificastion random forests\n",
    "from sklearn.tree import DecisionTreeClassifier #Single tree decisions \n",
    "from sklearn.preprocessing import StandardScaler\n",
    "from sklearn.linear_model import LogisticRegression\n",
    "from sklearn.neighbors import KNeighborsClassifier #allows for confidence scores to be predicted for each\n",
    "\n",
    "np.set_printoptions(threshold=np.inf) #full array printing"
   ]
  },
  {
   "cell_type": "markdown",
   "id": "bb451c9e",
   "metadata": {},
   "source": [
    "### Split dataset into training and validation sets"
   ]
  },
  {
   "cell_type": "code",
   "execution_count": 3,
   "id": "bbfacd1c",
   "metadata": {},
   "outputs": [],
   "source": [
    "def Train_Test_Split(file):\n",
    "    \"\"\"      \n",
    "    Input:      file             Pre-processed dataset done by PDB2AC script\n",
    "\n",
    "    Returns:    Training_Set     80% training set split\n",
    "                Testing_Set      20% testing set split\n",
    "                labels           Class labels for training set\n",
    "\n",
    "    80% training and 20% testing split. Writes the data to txt files. Splits are shuffled randomly\n",
    "    \"\"\"\n",
    "    AC_dataset = pd.read_csv(file)    \n",
    "    Training_Set, Testing_Set = train_test_split(AC_dataset,train_size = 0.8)\n",
    "    labels = Training_Set['dataset_pd'].astype('int32')\n",
    "    Training_Set.reset_index(drop=True, inplace = True)\n",
    "    Testing_Set.reset_index(drop=True, inplace = True)\n",
    "    \n",
    "#     Training_file = Training_Set.drop(['Binding', 'SProtFT0', 'SProtFT1', 'SProtFT2', 'SProtFT3', 'SProtFT4', 'SProtFT5', 'SProtFT6', 'SProtFT7', 'SProtFT8', 'SProtFT9', 'SProtFT10', 'SProtFT11', 'SProtFT12', 'Interface', 'Relaccess', 'Impact', 'HBonds', 'SPhobic', 'CPhilic', 'BCharge', 'SSGeom', 'Voids', 'MLargest1', 'MLargest2', 'MLargest3', 'MLargest4', 'MLargest5', 'MLargest6', 'MLargest7', 'MLargest8', 'MLargest9', 'MLargest10', 'NLargest1', 'NLargest2', 'NLargest3', 'NLargest4', 'NLargest5', 'NLargest6', 'NLargest7', 'NLargest8', 'NLargest9', 'NLargest10', 'Clash', 'Glycine', 'Proline', 'CisPro'],axis=1)\n",
    "#     Testing_file = Testing_Set.drop(['Binding', 'SProtFT0', 'SProtFT1', 'SProtFT2', 'SProtFT3', 'SProtFT4', 'SProtFT5', 'SProtFT6', 'SProtFT7', 'SProtFT8', 'SProtFT9', 'SProtFT10', 'SProtFT11', 'SProtFT12', 'Interface', 'Relaccess', 'Impact', 'HBonds', 'SPhobic', 'CPhilic', 'BCharge', 'SSGeom', 'Voids', 'MLargest1', 'MLargest2', 'MLargest3', 'MLargest4', 'MLargest5', 'MLargest6', 'MLargest7', 'MLargest8', 'MLargest9', 'MLargest10', 'NLargest1', 'NLargest2', 'NLargest3', 'NLargest4', 'NLargest5', 'NLargest6', 'NLargest7', 'NLargest8', 'NLargest9', 'NLargest10', 'Clash', 'Glycine', 'Proline', 'CisPro'],axis=1)\n",
    "\n",
    "    with open('Training set.txt', 'w') as file: #Writes training data to files\n",
    "        file.write(Training_Set.to_string())\n",
    "    with open('Testing set.txt', 'w') as file: #Writes testing data to files\n",
    "        file.write(Testing_Set.to_string())\n",
    "\n",
    "\n",
    "    return Training_Set, Testing_Set, labels"
   ]
  },
  {
   "cell_type": "markdown",
   "id": "b2e8b7f5",
   "metadata": {},
   "source": [
    "### Initial evaluation"
   ]
  },
  {
   "cell_type": "code",
   "execution_count": 4,
   "id": "cf8d9857",
   "metadata": {},
   "outputs": [],
   "source": [
    "# def test(Initial_RFC, Input_test, Classes_test):\n",
    "#     \"\"\" Input:  Input_test      Features test data\n",
    "#                 Classes_test    Class label test data\n",
    "\n",
    "#         Evaluates the training data before balancing. Random forest classifier makes prediction using the test features. True values \n",
    "#         are the class labels testing data\n",
    "#     \"\"\"\n",
    "\n",
    "#     Output_pred = Initial_RFC.predict(Input_test) #Always perdict on the unseen test data, as train has been used by the estimastor\n",
    "#     print(f\"              **Initial Evaluation**\\n\")\n",
    "#     print(f\"Confusion Matrix:\\n {confusion_matrix(Classes_test, Output_pred)}\")\n",
    "#     print(f\"{classification_report(Classes_test, Output_pred)}\\nMCC                {matthews_corrcoef(Classes_test, Output_pred)}\")\n"
   ]
  },
  {
   "cell_type": "markdown",
   "id": "05b3a2df",
   "metadata": {},
   "source": [
    "## Group K-fold CV (outer loop)"
   ]
  },
  {
   "cell_type": "code",
   "execution_count": 5,
   "id": "975ff775",
   "metadata": {},
   "outputs": [],
   "source": [
    "def CV(Training_Set):\n",
    "    \"\"\"      \n",
    "    Input:      Training_Set     80% training set split\n",
    "            \n",
    "    Returns:    Input_train     Training features, for each fold\n",
    "                Classes_train   Ttraining classes, for each fold\n",
    "                Input_val       Validating features, for each fold\n",
    "                Classes_val     Validating classes, for each fold\n",
    "\n",
    "    Group K-fold CV that maintains protein groups, attempts to preserve number of samples of each class \n",
    "    for each fold, and ensures protein groups are separated. Creates 5 folds.\n",
    "    \"\"\"\n",
    "    \n",
    "    Input_CV       = Training_Set.drop(['dataset_pd'], axis =1)         #Input features for training\n",
    "    Output_CV      = Training_Set['dataset_pd'].copy().astype('int32')  #Class labels for training\n",
    "    Protein_Groups = Training_Set['AC Code'].to_list()                  #List of proteins for grouping\n",
    "        \n",
    "    CV             = GroupKFold(n_splits = 5)                           #Only shuffles proteins in each group, not groups in fold\n",
    "    \n",
    "    IT_list = []\n",
    "    LT_list = []\n",
    "    IV_list = []\n",
    "    LV_list = []\n",
    "    \n",
    "    for train_idx, val_idx in CV.split(Input_CV, Output_CV, Protein_Groups):\n",
    "        Rd = np.random.randint(time.time())                             #Random number from 1 to time since epoch\n",
    "\n",
    "        Input_train                        = Input_CV.loc[train_idx]\n",
    "        Classes_train                      = Output_CV.loc[train_idx]\n",
    "        Input_train.drop(['AC Code'], axis = 1, inplace = True)         #Group identifer not needed for training\n",
    "\n",
    "        Input_val                          = Input_CV.loc[val_idx]\n",
    "        Classes_val                        = Output_CV.loc[val_idx]\n",
    "        Input_val.drop(['AC Code'], axis   = 1, inplace = True)\n",
    "        \n",
    "        IT_list.append(Input_train.sample(frac=1, random_state=Rd)) \n",
    "        LT_list.append(Classes_train.sample(frac=1, random_state=Rd))\n",
    "        IV_list.append(Input_val.sample(frac=1, random_state=Rd))\n",
    "        LV_list.append(Classes_val.sample(frac=1, random_state=Rd))\n",
    "        \n",
    "    with open('CV validation data.txt', 'w') as f:\n",
    "        for number, fold in zip(range(len(LV_list)), LV_list):\n",
    "            f.write(f\"Fold: {number}\\n\\n{fold.to_string()}\\n\\n\\n\")\n",
    "\n",
    "    return(IT_list, LT_list, IV_list, LV_list)\n"
   ]
  },
  {
   "cell_type": "markdown",
   "id": "a335a585",
   "metadata": {},
   "source": [
    "## Balancing (inner loop)"
   ]
  },
  {
   "cell_type": "code",
   "execution_count": 6,
   "id": "6b6924e9",
   "metadata": {},
   "outputs": [],
   "source": [
    "def find_minority_class(classData):\n",
    "    \"\"\" Input:    classData  Array of class labels\n",
    "    \n",
    "        Returns:  minClass   The label for the minority class\n",
    "                  minSize    The number of items in the minority class\n",
    "                  maxSize    The number of items in the majority class\n",
    "\n",
    "        Finds information about the inbalance in class sizes\n",
    "    \"\"\"\n",
    "    \n",
    "    Minority_count = 0\n",
    "    Majority_count = 0\n",
    "    for datum in classData:\n",
    "        if datum == 1:\n",
    "            Majority_count += 1\n",
    "        elif datum == 0:\n",
    "            Minority_count += 1\n",
    "\n",
    "    minClass = 0\n",
    "    minSize = Minority_count\n",
    "    maxSize = Majority_count\n",
    "    if Minority_count > Majority_count:\n",
    "        minClass = 1\n",
    "        minSize = Majority_count\n",
    "        maxSize = Minority_count\n",
    "\n",
    "    return minClass, minSize, maxSize"
   ]
  },
  {
   "cell_type": "code",
   "execution_count": 7,
   "id": "5d1241bf",
   "metadata": {},
   "outputs": [],
   "source": [
    "def balance(inData, classData, minClass, minSize):\n",
    "    \"\"\" Input:    inData          array of input data\n",
    "                  classData       array of classes assigned\n",
    "                  minorityClass   class label for the minority class\n",
    "                  minoritySize    size of the minority class\n",
    "\n",
    "        Returns: array of indexes that are of interest for a balanced dataset\n",
    "\n",
    "        Perform the actual balancing for a fold between SNPs and PDs\n",
    "    \"\"\"\n",
    "    usedLines = [False] * len(inData) #Array of false for length of data\n",
    "    for i in range(len(inData)):\n",
    "        if classData[i] == minClass:\n",
    "            usedLines[i] = True\n",
    "            \n",
    "    usedCount = 0\n",
    "    while usedCount < minSize:\n",
    "        i = rd.randrange(len(inData))\n",
    "        if usedLines[i] == False:\n",
    "            usedCount += 1\n",
    "            usedLines[i] = True       \n",
    "\n",
    "    return usedLines"
   ]
  },
  {
   "cell_type": "code",
   "execution_count": 8,
   "id": "d5c54edb",
   "metadata": {},
   "outputs": [],
   "source": [
    "def balance_data(inData, classData, usedLines):\n",
    "    \"\"\"     Input:     inData      array of input training data\n",
    "                       classData   array of classes assigned to training data\n",
    "                       usedLines   array of line indexes to print\n",
    "\n",
    "            Returns:   input_balance  Array of balanced input training data\n",
    "                       label_balance  Array of balanced labels training data\n",
    "                       \n",
    "        Create array of the input training data and classes used. Converts from array to dataframe for CV code compatibility.\n",
    "        The index [i] is the identifier between the two arrays.\n",
    "    \"\"\"\n",
    "    input_balance = []\n",
    "    label_balance = []\n",
    "    \n",
    "    for i in range(len(inData)):\n",
    "        if usedLines[i]:\n",
    "            input_balance.append(inData[i])\n",
    "            label_balance.append(classData[i])  \n",
    "    \n",
    "#     Dataframe format\n",
    "#     label_balance = pd.DataFrame(label_balance, columns = ['Class'])\n",
    "    \n",
    "    return input_balance, label_balance"
   ]
  },
  {
   "cell_type": "markdown",
   "id": "27419a33",
   "metadata": {},
   "source": [
    "### Balance for n folds"
   ]
  },
  {
   "cell_type": "code",
   "execution_count": 9,
   "id": "6746be83",
   "metadata": {},
   "outputs": [],
   "source": [
    "def Balance_ratio(maxSize, minSize): \n",
    "    \"\"\" Input:      maxSize     The number of items in the majority class\n",
    "                    minSize     The number of items in the minority class\n",
    "\n",
    "        Returns:    BF          Number of balancing folds\n",
    "\n",
    "        Calculate the number of balancing folds needed using ratio of majority to minority class size. Double to ensure sufficient\n",
    "        majority class instances are sampled, then + 1 to make odd to allow weighted vote.\n",
    "    \"\"\"\n",
    "    Divide = maxSize/minSize\n",
    "    BF = (2 * round(Divide)) + 1 #Double ratio to nearest integer\n",
    "    return BF"
   ]
  },
  {
   "cell_type": "code",
   "execution_count": 10,
   "id": "12239dc9",
   "metadata": {
    "scrolled": false
   },
   "outputs": [],
   "source": [
    "def Balance_Folds(BF, inData, classData, minClass, minSize):\n",
    "    \"\"\" Input:      BF                Number of balancing folds needed\n",
    "                    usedLines         Array of line indexes to print\n",
    "                    input_balance     Dataframe of balanced training data\n",
    "                    label_balance\n",
    "                    \n",
    "        Returns:    Input_folds       List of balanced arrays of training data\n",
    "                    Output_folds\n",
    "\n",
    "        Perform the balance_data() function n number of balancing fold times. Return lists for feature data and labels\n",
    "        where each item is the output of balance_data()\n",
    "    \"\"\"\n",
    "    Input_folds = []\n",
    "    Output_folds = []\n",
    "    fold_df = []\n",
    "\n",
    "    for i in range(BF):\n",
    "        usedLines = balance(inData, classData, minClass, minSize)\n",
    "        input_balance, label_balance = balance_data(inData, classData, usedLines)\n",
    "        \n",
    "        Input_folds.append(input_balance)\n",
    "        Output_folds.append(label_balance)\n",
    "        \n",
    "        df = pd.DataFrame(input_balance)\n",
    "        fold_df.append(df)\n",
    "        \n",
    "    with open('Balanced training data.txt', 'w') as f:\n",
    "        for number, fold in zip(range(BF), fold_df):\n",
    "            f.write(f\"Fold: {number}\\n\\n{fold}\\n\\n\\n\")\n",
    "            \n",
    "    return Input_folds, Output_folds"
   ]
  },
  {
   "cell_type": "markdown",
   "id": "21cd1aaa",
   "metadata": {},
   "source": [
    "### RFC hyperparameter tuning"
   ]
  },
  {
   "cell_type": "code",
   "execution_count": 11,
   "id": "0840d9dc",
   "metadata": {
    "scrolled": true
   },
   "outputs": [],
   "source": [
    "#  def Hyperparameter(BF, Input_folds, Output_folds):\n",
    "#     \"\"\" Input:      BF                Number of balancing folds needed\n",
    "#                     Input_folds       List of 5 balanced arrays of training data\n",
    "#                     Output_folds      List of 5 balanced arrays of training data's labels\n",
    "\n",
    "#         Returns:    BF_RFC_HP         List of optimized hyperparameters for each RFC\n",
    "\n",
    "#         Perform RandomSearchCV on each RFC to optimize number of trees, max depth and max samples\n",
    "#     \"\"\"  \n",
    "#     estimator = RandomForestClassifier()\n",
    "#     param_grid = {\n",
    "#                 'n_estimators':np.arange(50,500,50),\n",
    "#                 'max_depth': np.arange(2, 10, 2),\n",
    "#                 'max_samples': np.arange(0.2, 1.2, 0.2)\n",
    "#                   }\n",
    "#     BF_RFC_HP = []\n",
    "\n",
    "#     for i in range(BF):\n",
    "#         HPtuning = RandomizedSearchCV(\n",
    "#             estimator,\n",
    "#             param_grid, \n",
    "#             scoring = 'balanced_accuracy',\n",
    "#             cv = 10,\n",
    "#             n_jobs = 6, #how many cores to run in parallel\n",
    "#             verbose = 2\n",
    "#             ).fit(Input_folds[i], Output_folds[i].ravel())\n",
    "#         BF_RFC_HP.append(HPtuning.best_params_)\n",
    "    \n",
    "#     return(BF_RFC_HP)"
   ]
  },
  {
   "cell_type": "markdown",
   "id": "796af0e8",
   "metadata": {},
   "source": [
    "### Train RFC on the trainings folds"
   ]
  },
  {
   "cell_type": "code",
   "execution_count": 12,
   "id": "1decd7a3",
   "metadata": {},
   "outputs": [],
   "source": [
    "def BF_fitting(Input_folds, Output_folds): \n",
    "    \"\"\" Input:\n",
    "                    Input_train_list      List of 5 balanced arrays for training data\n",
    "                    Classes_train_list    List of 5 balanced arrays of training data labels\n",
    "        Returns:    BF_RFC                List of RFC's trained on data in each balancing fold\n",
    "\n",
    "        Create RFC model that returns probability predictions for each fold, using output of Balance_Folds() as training data\n",
    "    \"\"\"    \n",
    "    BF_RFC = []\n",
    "    for i in range(BF):\n",
    "        BF_RFC.append(RandomForestClassifier(verbose = 1, n_estimators = 1000)) #Generates a RFC for each fold's training data\n",
    "        BF_RFC[i].fit(Input_folds[i], Output_folds[i]) #Fits the RFC to each folds' training data\n",
    "        \n",
    "    return BF_RFC"
   ]
  },
  {
   "cell_type": "markdown",
   "id": "b0dd278c",
   "metadata": {},
   "source": [
    "#### Validate each RFC on validation set, for each fold"
   ]
  },
  {
   "cell_type": "code",
   "execution_count": 13,
   "id": "acc41cbb",
   "metadata": {},
   "outputs": [],
   "source": [
    "def BF_validate(BF_RFC, ValData):\n",
    "    \"\"\" Input:  BF_RFC          List of RFC's trained on data in each balancing fold\n",
    "                Input_val_list  Unseen validation data fold from CV fold\n",
    "                \n",
    "        Returns:Prob_matrix     List of arrays. Each item is 2D matrix where the 1st dimension is each subset in balancing fold, \n",
    "                                2nd dimension is predicted probability\n",
    "    \n",
    "        Test the trained RFCs on the test set, then for every instance, outputs the predicted probability for each class\n",
    "    \"\"\"\n",
    "    \n",
    "    Prob_matrix = [] #Empty list\n",
    "    for i in range(len(BF_RFC)):\n",
    "        Prob = BF_RFC[i].predict_proba(ValData.values)\n",
    "        Prob_matrix.append(Prob)   \n",
    "            \n",
    "    with open('Validation fold probabilities.txt', 'w') as f:\n",
    "        for number, line in zip(range(BF), Prob_matrix ):\n",
    "            f.write(f\"Fold: {number}\\n\\n   SNP    PD\\n{line}\\n\\n\\n\")\n",
    "\n",
    "    return Prob_matrix"
   ]
  },
  {
   "cell_type": "markdown",
   "id": "0c4b8fdd",
   "metadata": {},
   "source": [
    "### Weighted voting"
   ]
  },
  {
   "cell_type": "code",
   "execution_count": 14,
   "id": "71033215",
   "metadata": {},
   "outputs": [],
   "source": [
    "def Weighted_Vote(Prob_matrix, BF):\n",
    "    \"\"\" Input:      Prob_matrix     List of arrays. 2D matrix where the 1st dimension is each subset in balancing fold, \n",
    "                                    2nd dimension is predicted probability\n",
    "                    BF              Number of balancing folds\n",
    "\n",
    "        Returns:    Final_vote      Weighted vote classification\n",
    "\n",
    "        Calculate the final weighted vote using confidence scores (Sc). Binary classification formula Sc = 2|S0 - 0.5|\n",
    "    \"\"\"\n",
    "    Sc_PD = [] #Empty list\n",
    "    Sc_SNP = [] #Empty list\n",
    "    T = 0.45\n",
    "    for i in range(BF):\n",
    "        Sc_PD.append(2* (Prob_matrix[i][:,1] - 0.5)) #Confidence scores for PD, for each fold\n",
    "        Sc_SNP.append(2*(Prob_matrix[i][:,0] - 0.5)) #Confidence scores for SNP, for each fold\n",
    "\n",
    "    Sum_PD = np.sum(Sc_PD, axis = 0) #Sum of all PD confidence scores. 1D Array\n",
    "    Sum_SNP = np.sum(Sc_SNP, axis = 0) #Sum of all SNP confidence scores. 1D Array     \n",
    "    \n",
    "    Vote_arr = [] #Empty list\n",
    "\n",
    "    for i in range(len(Sum_PD)):\n",
    "        if Sum_PD[i] >= Sum_SNP[i]:\n",
    "            Vote_arr.append([1]) #Append PD classifications to list\n",
    "        elif Sum_SNP[i] > Sum_PD[i]:\n",
    "            Vote_arr.append([0]) #Append SNP classifications to list\n",
    "\n",
    "        Final_vote = np.stack(Vote_arr) #Converts list of arrays to a 2D array\n",
    "        Final_vote = Final_vote.ravel() #Flattens 2D array to 1D array\n",
    "\n",
    "    return(Final_vote, Sum_PD, Sum_SNP) #Returns the final confidence scores\n"
   ]
  },
  {
   "cell_type": "code",
   "execution_count": 26,
   "id": "91ccea90",
   "metadata": {},
   "outputs": [
    {
     "name": "stdout",
     "output_type": "stream",
     "text": [
      "538\n",
      ", [0.763, 0.387, 0.496, 0.876, 0.873, 0.698, 0.497, 0.638, 0.462, 0.359, 0.695, 0.632, 0.716, 0.707, 0.565, 0.311, 0.596, 0.347, 0.422, 0.246, 0.696, 0.506, 0.519, 0.255, 0.474, 0.342, 0.774, 0.725, 0.756, 0.452, 0.551, 0.583, 0.28, 0.869, 0.468, 0.255, 0.233, 0.311, 0.541, 0.797, 0.401, 0.292, 0.405, 0.873, 0.787, 0.584, 0.426, 0.37, 0.433, 0.52, 0.707, 0.355, 0.359, 0.766, 0.652, 0.526, 0.509, 0.395, 0.782, 0.784, 0.531, 0.534, 0.349, 0.51, 0.255, 0.456, 0.372, 0.68, 0.28, 0.697, 0.604, 0.649, 0.835, 0.756, 0.647, 0.48, 0.34, 0.464, 0.609, 0.25, 0.863, 0.494, 0.341, 0.621, 0.742, 0.284, 0.42, 0.394, 0.853, 0.823, 0.775, 0.499, 0.364, 0.605, 0.606, 0.569, 0.821, 0.521, 0.763, 0.721, 0.27, 0.588, 0.592, 0.74, 0.297, 0.717, 0.415, 0.215, 0.65, 0.398, 0.548, 0.327, 0.528, 0.38, 0.687, 0.403, 0.516, 0.803, 0.574, 0.616, 0.521, 0.433, 0.674, 0.765, 0.392, 0.698, 0.608, 0.207, 0.72, 0.278, 0.522, 0.421, 0.385, 0.537, 0.769, 0.679, 0.457, 0.504, 0.53, 0.361, 0.295, 0.665, 0.503, 0.491, 0.29, 0.213, 0.702, 0.841, 0.577, 0.659, 0.837, 0.367, 0.438, 0.752, 0.62, 0.455, 0.72, 0.515, 0.491, 0.302, 0.627, 0.712, 0.68, 0.789, 0.423, 0.308, 0.464, 0.517, 0.342, 0.734, 0.709, 0.331, 0.798, 0.554, 0.465, 0.352, 0.608, 0.646, 0.723, 0.322, 0.279, 0.487, 0.334, 0.306, 0.712, 0.554, 0.352, 0.209, 0.472, 0.677, 0.407, 0.749, 0.377, 0.191, 0.28, 0.68, 0.375, 0.859, 0.848, 0.221, 0.633, 0.241, 0.34, 0.7, 0.458, 0.313, 0.551, 0.665, 0.414, 0.481, 0.368, 0.755, 0.688, 0.661, 0.336, 0.596, 0.259, 0.303, 0.56, 0.384, 0.559, 0.434, 0.392, 0.422, 0.588, 0.3, 0.586, 0.374, 0.635, 0.604, 0.284, 0.482, 0.494, 0.618, 0.763, 0.426, 0.333, 0.679, 0.366, 0.388, 0.647, 0.67, 0.352, 0.329, 0.293, 0.591, 0.764, 0.364, 0.723, 0.453, 0.713, 0.243, 0.467, 0.701, 0.297, 0.731, 0.487, 0.705, 0.64, 0.661, 0.46, 0.28, 0.291, 0.255, 0.564, 0.523, 0.554, 0.638, 0.285, 0.497, 0.347, 0.544, 0.433, 0.355, 0.668, 0.381, 0.713, 0.575, 0.792, 0.73, 0.333, 0.502, 0.471, 0.683, 0.84, 0.599, 0.836, 0.858, 0.735, 0.92, 0.482, 0.689, 0.534, 0.415, 0.495, 0.718, 0.653, 0.291, 0.425, 0.42, 0.482, 0.43, 0.545, 0.709, 0.328, 0.516, 0.658, 0.391, 0.684, 0.616, 0.559, 0.509, 0.421, 0.532, 0.414, 0.449, 0.654, 0.728, 0.461, 0.777, 0.755, 0.29, 0.463, 0.326, 0.674, 0.896, 0.527, 0.763, 0.34, 0.304, 0.692, 0.434, 0.701, 0.658, 0.524, 0.3, 0.529, 0.571, 0.451, 0.824, 0.611, 0.636, 0.447, 0.784, 0.686, 0.589, 0.351, 0.264, 0.609, 0.315, 0.89, 0.758, 0.381, 0.249, 0.795, 0.637, 0.791, 0.334, 0.268, 0.757, 0.624, 0.609, 0.788, 0.53, 0.529, 0.318, 0.498, 0.644, 0.572, 0.539, 0.676, 0.218, 0.743, 0.473, 0.283, 0.832, 0.777, 0.691, 0.709, 0.852, 0.796, 0.62, 0.494, 0.696, 0.647, 0.474, 0.731, 0.707, 0.818, 0.367, 0.693, 0.785, 0.712, 0.695, 0.547, 0.662, 0.382, 0.473, 0.468, 0.689, 0.685, 0.4, 0.26, 0.884, 0.872, 0.504, 0.588, 0.579, 0.567, 0.724, 0.559, 0.374, 0.507, 0.602, 0.675, 0.197, 0.324, 0.495, 0.448, 0.336, 0.755, 0.832, 0.477, 0.563, 0.319, 0.776, 0.571, 0.356, 0.447, 0.355, 0.718, 0.784, 0.504, 0.921, 0.244, 0.701, 0.781, 0.727, 0.597, 0.799, 0.638, 0.483, 0.665, 0.725, 0.563, 0.635, 0.755, 0.531, 0.815, 0.451, 0.373, 0.789, 0.359, 0.506, 0.614, 0.88, 0.469, 0.594, 0.377, 0.203, 0.473, 0.405, 0.861, 0.404, 0.9, 0.627, 0.673, 0.481, 0.73, 0.615, 0.621, 0.429, 0.577, 0.82, 0.713, 0.391, 0.709, 0.682, 0.381, 0.8, 0.592, 0.507, 0.854, 0.409, 0.166, 0.778, 0.163, 0.375, 0.36, 0.516, 0.363, 0.823, 0.501, 0.886, 0.352, 0.622, 0.766, 0.342, 0.241, 0.762, 0.667, 0.437, 0.779, 0.343, 0.597, 0.332, 0.656, 0.354, 0.508, 0.847, 0.595, 0.497, 0.568, 0.421, 0.567, 0.706, 0.391, 0.663, 0.45, 0.479, 0.904, 0.43, 0.325, 0.214, 0.736, 0.494, 0.538, 0.451, 0.703, 0.335, 0.298, 0.395, 0.713, 0.728, 0.528, 0.295, 0.721, 0.616]\n",
      "538\n",
      ", [0.759, 0.348, 0.543, 0.856, 0.897, 0.76, 0.367, 0.655, 0.447, 0.379, 0.64, 0.611, 0.693, 0.697, 0.531, 0.29, 0.687, 0.363, 0.392, 0.246, 0.759, 0.485, 0.493, 0.152, 0.334, 0.27, 0.852, 0.711, 0.815, 0.431, 0.437, 0.458, 0.292, 0.848, 0.55, 0.186, 0.231, 0.225, 0.638, 0.84, 0.409, 0.2, 0.365, 0.794, 0.766, 0.493, 0.47, 0.307, 0.474, 0.582, 0.788, 0.272, 0.467, 0.824, 0.608, 0.501, 0.505, 0.36, 0.698, 0.596, 0.536, 0.533, 0.353, 0.551, 0.27, 0.351, 0.277, 0.717, 0.188, 0.754, 0.623, 0.632, 0.845, 0.675, 0.59, 0.444, 0.295, 0.377, 0.618, 0.288, 0.864, 0.51, 0.37, 0.673, 0.703, 0.216, 0.39, 0.345, 0.84, 0.864, 0.809, 0.534, 0.292, 0.538, 0.576, 0.652, 0.823, 0.499, 0.782, 0.647, 0.225, 0.545, 0.581, 0.753, 0.324, 0.721, 0.489, 0.154, 0.6, 0.488, 0.579, 0.246, 0.546, 0.33, 0.746, 0.298, 0.419, 0.732, 0.523, 0.695, 0.555, 0.519, 0.572, 0.757, 0.435, 0.649, 0.654, 0.157, 0.761, 0.334, 0.482, 0.301, 0.247, 0.583, 0.797, 0.616, 0.51, 0.502, 0.432, 0.28, 0.232, 0.65, 0.486, 0.479, 0.333, 0.234, 0.657, 0.86, 0.597, 0.654, 0.812, 0.396, 0.367, 0.797, 0.624, 0.472, 0.755, 0.46, 0.564, 0.238, 0.585, 0.717, 0.585, 0.723, 0.392, 0.271, 0.456, 0.557, 0.269, 0.706, 0.575, 0.199, 0.757, 0.473, 0.464, 0.379, 0.566, 0.666, 0.715, 0.353, 0.198, 0.576, 0.284, 0.167, 0.743, 0.518, 0.394, 0.175, 0.464, 0.683, 0.446, 0.755, 0.362, 0.172, 0.309, 0.628, 0.435, 0.878, 0.836, 0.198, 0.612, 0.258, 0.359, 0.741, 0.468, 0.4, 0.642, 0.739, 0.487, 0.605, 0.383, 0.828, 0.805, 0.615, 0.167, 0.652, 0.302, 0.278, 0.652, 0.314, 0.68, 0.425, 0.431, 0.337, 0.631, 0.309, 0.685, 0.326, 0.638, 0.571, 0.299, 0.367, 0.495, 0.633, 0.692, 0.473, 0.26, 0.678, 0.327, 0.429, 0.643, 0.706, 0.388, 0.402, 0.291, 0.551, 0.736, 0.293, 0.783, 0.527, 0.656, 0.16, 0.403, 0.735, 0.239, 0.696, 0.336, 0.665, 0.521, 0.649, 0.563, 0.259, 0.257, 0.27, 0.669, 0.504, 0.566, 0.708, 0.307, 0.409, 0.347, 0.539, 0.302, 0.291, 0.658, 0.437, 0.77, 0.618, 0.768, 0.723, 0.501, 0.505, 0.439, 0.662, 0.873, 0.599, 0.911, 0.832, 0.69, 0.942, 0.391, 0.751, 0.498, 0.291, 0.545, 0.587, 0.711, 0.308, 0.484, 0.393, 0.538, 0.413, 0.617, 0.717, 0.379, 0.375, 0.651, 0.248, 0.768, 0.506, 0.463, 0.489, 0.479, 0.392, 0.351, 0.3, 0.664, 0.658, 0.486, 0.769, 0.786, 0.3, 0.4, 0.28, 0.69, 0.9, 0.546, 0.755, 0.252, 0.263, 0.713, 0.526, 0.655, 0.747, 0.453, 0.351, 0.626, 0.591, 0.494, 0.791, 0.637, 0.517, 0.379, 0.692, 0.721, 0.648, 0.373, 0.263, 0.503, 0.385, 0.926, 0.695, 0.419, 0.305, 0.778, 0.52, 0.772, 0.342, 0.317, 0.69, 0.657, 0.668, 0.705, 0.556, 0.53, 0.333, 0.491, 0.7, 0.588, 0.551, 0.668, 0.27, 0.784, 0.369, 0.251, 0.857, 0.748, 0.603, 0.708, 0.837, 0.841, 0.574, 0.426, 0.73, 0.663, 0.519, 0.761, 0.738, 0.837, 0.309, 0.763, 0.796, 0.759, 0.642, 0.678, 0.634, 0.367, 0.425, 0.459, 0.664, 0.696, 0.421, 0.203, 0.933, 0.908, 0.396, 0.639, 0.725, 0.497, 0.725, 0.572, 0.358, 0.423, 0.57, 0.533, 0.165, 0.267, 0.434, 0.47, 0.362, 0.781, 0.721, 0.475, 0.633, 0.319, 0.69, 0.614, 0.328, 0.412, 0.438, 0.663, 0.788, 0.332, 0.887, 0.278, 0.708, 0.684, 0.692, 0.536, 0.766, 0.545, 0.456, 0.712, 0.791, 0.565, 0.579, 0.708, 0.629, 0.799, 0.387, 0.224, 0.696, 0.307, 0.522, 0.663, 0.792, 0.521, 0.617, 0.393, 0.166, 0.376, 0.382, 0.913, 0.366, 0.808, 0.604, 0.654, 0.614, 0.72, 0.624, 0.677, 0.463, 0.654, 0.898, 0.716, 0.361, 0.75, 0.688, 0.419, 0.771, 0.512, 0.467, 0.844, 0.428, 0.194, 0.794, 0.139, 0.295, 0.417, 0.404, 0.412, 0.794, 0.438, 0.902, 0.297, 0.594, 0.754, 0.25, 0.329, 0.748, 0.686, 0.412, 0.756, 0.279, 0.612, 0.409, 0.629, 0.378, 0.53, 0.796, 0.573, 0.384, 0.573, 0.433, 0.609, 0.717, 0.4, 0.726, 0.328, 0.476, 0.896, 0.35, 0.297, 0.2, 0.784, 0.385, 0.496, 0.448, 0.696, 0.254, 0.284, 0.46, 0.675, 0.615, 0.448, 0.27, 0.739, 0.529]\n",
      "538\n",
      ", [0.667, 0.457, 0.585, 0.751, 0.9, 0.747, 0.393, 0.576, 0.504, 0.427, 0.575, 0.739, 0.579, 0.656, 0.566, 0.283, 0.588, 0.355, 0.377, 0.338, 0.598, 0.493, 0.416, 0.138, 0.413, 0.383, 0.784, 0.775, 0.712, 0.48, 0.49, 0.557, 0.303, 0.758, 0.417, 0.178, 0.254, 0.274, 0.565, 0.683, 0.406, 0.218, 0.375, 0.812, 0.731, 0.499, 0.481, 0.341, 0.375, 0.506, 0.65, 0.392, 0.446, 0.698, 0.763, 0.506, 0.492, 0.403, 0.666, 0.69, 0.629, 0.526, 0.376, 0.559, 0.314, 0.372, 0.323, 0.707, 0.223, 0.766, 0.638, 0.646, 0.864, 0.665, 0.674, 0.489, 0.321, 0.467, 0.66, 0.215, 0.907, 0.483, 0.432, 0.706, 0.697, 0.281, 0.339, 0.344, 0.824, 0.845, 0.786, 0.628, 0.362, 0.668, 0.584, 0.621, 0.778, 0.414, 0.747, 0.712, 0.244, 0.446, 0.568, 0.682, 0.243, 0.762, 0.389, 0.168, 0.703, 0.445, 0.561, 0.288, 0.531, 0.467, 0.627, 0.306, 0.443, 0.729, 0.495, 0.637, 0.515, 0.505, 0.69, 0.7, 0.396, 0.52, 0.63, 0.18, 0.736, 0.308, 0.565, 0.33, 0.308, 0.658, 0.739, 0.603, 0.478, 0.544, 0.5, 0.377, 0.312, 0.55, 0.467, 0.497, 0.393, 0.284, 0.663, 0.846, 0.632, 0.627, 0.787, 0.395, 0.329, 0.758, 0.595, 0.403, 0.742, 0.488, 0.52, 0.246, 0.516, 0.56, 0.719, 0.807, 0.488, 0.34, 0.488, 0.562, 0.36, 0.713, 0.651, 0.293, 0.842, 0.48, 0.454, 0.347, 0.613, 0.625, 0.656, 0.32, 0.212, 0.515, 0.277, 0.215, 0.701, 0.653, 0.349, 0.217, 0.494, 0.694, 0.493, 0.774, 0.344, 0.229, 0.256, 0.638, 0.371, 0.907, 0.846, 0.187, 0.661, 0.203, 0.364, 0.702, 0.495, 0.405, 0.544, 0.692, 0.461, 0.472, 0.406, 0.759, 0.766, 0.631, 0.202, 0.665, 0.277, 0.306, 0.567, 0.335, 0.535, 0.578, 0.418, 0.378, 0.621, 0.321, 0.66, 0.321, 0.729, 0.565, 0.276, 0.384, 0.55, 0.659, 0.813, 0.462, 0.241, 0.769, 0.351, 0.478, 0.591, 0.68, 0.429, 0.413, 0.282, 0.552, 0.748, 0.326, 0.738, 0.52, 0.683, 0.137, 0.441, 0.713, 0.277, 0.648, 0.382, 0.735, 0.689, 0.565, 0.515, 0.318, 0.35, 0.289, 0.57, 0.496, 0.536, 0.694, 0.247, 0.556, 0.383, 0.597, 0.368, 0.427, 0.771, 0.425, 0.805, 0.624, 0.782, 0.763, 0.451, 0.448, 0.453, 0.673, 0.824, 0.515, 0.881, 0.885, 0.715, 0.899, 0.422, 0.764, 0.578, 0.361, 0.497, 0.564, 0.738, 0.372, 0.588, 0.442, 0.512, 0.433, 0.56, 0.649, 0.385, 0.511, 0.747, 0.261, 0.664, 0.548, 0.46, 0.408, 0.431, 0.509, 0.329, 0.347, 0.67, 0.736, 0.409, 0.714, 0.814, 0.281, 0.567, 0.285, 0.675, 0.898, 0.587, 0.717, 0.28, 0.284, 0.743, 0.508, 0.701, 0.737, 0.424, 0.401, 0.56, 0.558, 0.505, 0.795, 0.586, 0.643, 0.422, 0.722, 0.626, 0.622, 0.336, 0.245, 0.57, 0.331, 0.893, 0.753, 0.427, 0.245, 0.818, 0.463, 0.784, 0.312, 0.312, 0.78, 0.481, 0.581, 0.764, 0.549, 0.495, 0.293, 0.511, 0.618, 0.621, 0.494, 0.691, 0.256, 0.759, 0.376, 0.269, 0.839, 0.822, 0.62, 0.776, 0.79, 0.726, 0.558, 0.471, 0.719, 0.625, 0.446, 0.789, 0.678, 0.805, 0.37, 0.713, 0.724, 0.732, 0.756, 0.536, 0.683, 0.323, 0.494, 0.393, 0.678, 0.69, 0.391, 0.246, 0.919, 0.876, 0.464, 0.568, 0.617, 0.5, 0.635, 0.499, 0.342, 0.461, 0.656, 0.59, 0.239, 0.386, 0.488, 0.492, 0.347, 0.737, 0.856, 0.521, 0.723, 0.269, 0.699, 0.629, 0.367, 0.475, 0.388, 0.729, 0.751, 0.422, 0.894, 0.228, 0.657, 0.745, 0.6, 0.568, 0.755, 0.498, 0.42, 0.684, 0.712, 0.603, 0.661, 0.733, 0.527, 0.814, 0.468, 0.254, 0.77, 0.34, 0.571, 0.578, 0.884, 0.586, 0.555, 0.418, 0.204, 0.624, 0.433, 0.919, 0.351, 0.842, 0.616, 0.723, 0.575, 0.733, 0.646, 0.623, 0.361, 0.472, 0.813, 0.71, 0.398, 0.767, 0.634, 0.391, 0.847, 0.504, 0.527, 0.779, 0.375, 0.221, 0.768, 0.111, 0.357, 0.446, 0.441, 0.398, 0.868, 0.378, 0.889, 0.447, 0.693, 0.676, 0.291, 0.279, 0.712, 0.769, 0.325, 0.739, 0.279, 0.479, 0.401, 0.625, 0.38, 0.553, 0.757, 0.571, 0.472, 0.545, 0.48, 0.465, 0.697, 0.427, 0.727, 0.321, 0.435, 0.879, 0.404, 0.348, 0.235, 0.651, 0.409, 0.467, 0.352, 0.735, 0.246, 0.303, 0.362, 0.756, 0.802, 0.407, 0.308, 0.707, 0.54]\n",
      "538\n",
      ", [0.777, 0.395, 0.539, 0.884, 0.85, 0.724, 0.298, 0.633, 0.417, 0.406, 0.692, 0.683, 0.658, 0.651, 0.536, 0.215, 0.578, 0.315, 0.402, 0.286, 0.722, 0.531, 0.494, 0.149, 0.382, 0.284, 0.838, 0.697, 0.736, 0.446, 0.5, 0.517, 0.274, 0.897, 0.586, 0.205, 0.175, 0.226, 0.586, 0.834, 0.336, 0.188, 0.377, 0.812, 0.727, 0.608, 0.513, 0.337, 0.443, 0.492, 0.727, 0.318, 0.392, 0.719, 0.693, 0.677, 0.51, 0.412, 0.668, 0.598, 0.584, 0.485, 0.378, 0.509, 0.308, 0.33, 0.322, 0.68, 0.18, 0.684, 0.644, 0.639, 0.878, 0.754, 0.654, 0.443, 0.304, 0.55, 0.645, 0.283, 0.85, 0.494, 0.371, 0.672, 0.691, 0.258, 0.344, 0.376, 0.786, 0.878, 0.904, 0.545, 0.308, 0.749, 0.563, 0.618, 0.759, 0.507, 0.694, 0.71, 0.264, 0.483, 0.487, 0.783, 0.231, 0.764, 0.42, 0.127, 0.686, 0.509, 0.436, 0.235, 0.548, 0.334, 0.75, 0.408, 0.439, 0.706, 0.502, 0.664, 0.644, 0.458, 0.584, 0.74, 0.38, 0.579, 0.632, 0.228, 0.671, 0.291, 0.609, 0.291, 0.296, 0.561, 0.788, 0.622, 0.567, 0.468, 0.461, 0.307, 0.299, 0.636, 0.479, 0.483, 0.366, 0.215, 0.777, 0.919, 0.633, 0.743, 0.782, 0.368, 0.437, 0.728, 0.63, 0.426, 0.697, 0.478, 0.48, 0.271, 0.634, 0.683, 0.706, 0.773, 0.388, 0.338, 0.448, 0.544, 0.289, 0.83, 0.559, 0.293, 0.84, 0.579, 0.432, 0.285, 0.593, 0.598, 0.671, 0.336, 0.235, 0.47, 0.235, 0.194, 0.683, 0.59, 0.33, 0.19, 0.495, 0.689, 0.449, 0.807, 0.374, 0.235, 0.295, 0.686, 0.419, 0.888, 0.86, 0.19, 0.657, 0.258, 0.31, 0.687, 0.371, 0.302, 0.589, 0.683, 0.488, 0.542, 0.376, 0.839, 0.655, 0.612, 0.181, 0.613, 0.28, 0.3, 0.569, 0.336, 0.479, 0.471, 0.419, 0.381, 0.586, 0.326, 0.682, 0.333, 0.729, 0.569, 0.262, 0.375, 0.449, 0.513, 0.68, 0.441, 0.278, 0.652, 0.321, 0.368, 0.639, 0.712, 0.293, 0.234, 0.325, 0.537, 0.708, 0.292, 0.706, 0.554, 0.693, 0.171, 0.5, 0.658, 0.243, 0.622, 0.342, 0.624, 0.6, 0.613, 0.462, 0.234, 0.313, 0.267, 0.679, 0.486, 0.54, 0.733, 0.282, 0.514, 0.358, 0.528, 0.347, 0.346, 0.722, 0.374, 0.847, 0.649, 0.84, 0.798, 0.38, 0.523, 0.434, 0.653, 0.891, 0.663, 0.86, 0.86, 0.69, 0.947, 0.397, 0.795, 0.6, 0.323, 0.564, 0.646, 0.694, 0.283, 0.417, 0.423, 0.501, 0.382, 0.595, 0.707, 0.395, 0.451, 0.659, 0.258, 0.638, 0.535, 0.568, 0.545, 0.44, 0.493, 0.324, 0.304, 0.634, 0.714, 0.495, 0.701, 0.742, 0.266, 0.433, 0.297, 0.71, 0.943, 0.581, 0.669, 0.265, 0.291, 0.674, 0.533, 0.689, 0.667, 0.505, 0.409, 0.522, 0.627, 0.455, 0.89, 0.657, 0.531, 0.455, 0.745, 0.686, 0.619, 0.317, 0.308, 0.628, 0.315, 0.913, 0.704, 0.412, 0.272, 0.802, 0.566, 0.726, 0.347, 0.281, 0.674, 0.663, 0.655, 0.691, 0.477, 0.513, 0.338, 0.502, 0.658, 0.579, 0.553, 0.654, 0.309, 0.683, 0.3, 0.279, 0.861, 0.787, 0.667, 0.757, 0.807, 0.793, 0.737, 0.494, 0.707, 0.646, 0.597, 0.717, 0.685, 0.867, 0.347, 0.7, 0.744, 0.683, 0.625, 0.573, 0.712, 0.285, 0.542, 0.478, 0.711, 0.779, 0.385, 0.218, 0.937, 0.87, 0.456, 0.52, 0.663, 0.537, 0.749, 0.457, 0.415, 0.435, 0.581, 0.611, 0.214, 0.318, 0.457, 0.464, 0.311, 0.704, 0.886, 0.458, 0.649, 0.292, 0.68, 0.599, 0.388, 0.329, 0.485, 0.651, 0.768, 0.353, 0.861, 0.234, 0.673, 0.72, 0.618, 0.531, 0.903, 0.575, 0.515, 0.687, 0.705, 0.596, 0.595, 0.721, 0.569, 0.787, 0.399, 0.318, 0.733, 0.367, 0.407, 0.686, 0.939, 0.506, 0.522, 0.386, 0.151, 0.343, 0.386, 0.925, 0.371, 0.834, 0.716, 0.552, 0.595, 0.658, 0.681, 0.611, 0.449, 0.598, 0.885, 0.773, 0.426, 0.7, 0.626, 0.415, 0.806, 0.656, 0.468, 0.803, 0.48, 0.159, 0.712, 0.093, 0.32, 0.402, 0.385, 0.424, 0.829, 0.363, 0.899, 0.329, 0.637, 0.74, 0.282, 0.263, 0.718, 0.719, 0.365, 0.774, 0.252, 0.61, 0.353, 0.766, 0.347, 0.567, 0.771, 0.61, 0.415, 0.556, 0.38, 0.466, 0.67, 0.375, 0.695, 0.357, 0.562, 0.871, 0.36, 0.284, 0.225, 0.626, 0.382, 0.523, 0.492, 0.744, 0.241, 0.284, 0.456, 0.731, 0.814, 0.398, 0.3, 0.873, 0.544]\n",
      "538\n",
      ", [0.749, 0.367, 0.584, 0.803, 0.877, 0.719, 0.305, 0.584, 0.452, 0.403, 0.675, 0.696, 0.663, 0.741, 0.576, 0.235, 0.458, 0.368, 0.374, 0.281, 0.757, 0.378, 0.463, 0.187, 0.341, 0.31, 0.795, 0.666, 0.75, 0.349, 0.453, 0.589, 0.259, 0.68, 0.469, 0.193, 0.156, 0.173, 0.552, 0.839, 0.37, 0.226, 0.461, 0.844, 0.761, 0.572, 0.421, 0.277, 0.436, 0.573, 0.729, 0.296, 0.298, 0.819, 0.66, 0.567, 0.419, 0.408, 0.741, 0.678, 0.585, 0.512, 0.328, 0.54, 0.326, 0.36, 0.293, 0.614, 0.212, 0.745, 0.674, 0.657, 0.855, 0.679, 0.653, 0.403, 0.311, 0.48, 0.645, 0.251, 0.898, 0.578, 0.356, 0.58, 0.726, 0.256, 0.413, 0.274, 0.83, 0.844, 0.753, 0.493, 0.277, 0.542, 0.615, 0.622, 0.812, 0.446, 0.73, 0.677, 0.308, 0.599, 0.485, 0.673, 0.288, 0.775, 0.426, 0.193, 0.596, 0.386, 0.527, 0.23, 0.43, 0.305, 0.761, 0.353, 0.398, 0.726, 0.502, 0.718, 0.667, 0.598, 0.579, 0.773, 0.357, 0.688, 0.614, 0.186, 0.756, 0.273, 0.548, 0.447, 0.287, 0.517, 0.813, 0.621, 0.459, 0.548, 0.497, 0.284, 0.274, 0.629, 0.435, 0.49, 0.356, 0.246, 0.727, 0.917, 0.682, 0.63, 0.821, 0.323, 0.522, 0.787, 0.625, 0.408, 0.745, 0.467, 0.563, 0.205, 0.593, 0.693, 0.635, 0.8, 0.344, 0.353, 0.387, 0.493, 0.286, 0.732, 0.61, 0.259, 0.851, 0.537, 0.436, 0.358, 0.545, 0.638, 0.698, 0.399, 0.181, 0.504, 0.231, 0.198, 0.751, 0.574, 0.359, 0.169, 0.503, 0.667, 0.455, 0.812, 0.401, 0.191, 0.271, 0.714, 0.363, 0.911, 0.828, 0.186, 0.641, 0.209, 0.369, 0.712, 0.404, 0.341, 0.523, 0.69, 0.447, 0.464, 0.42, 0.8, 0.68, 0.541, 0.352, 0.561, 0.271, 0.335, 0.678, 0.375, 0.559, 0.56, 0.41, 0.474, 0.598, 0.318, 0.636, 0.393, 0.694, 0.483, 0.248, 0.335, 0.488, 0.592, 0.714, 0.435, 0.25, 0.701, 0.281, 0.417, 0.596, 0.631, 0.28, 0.345, 0.312, 0.551, 0.648, 0.318, 0.76, 0.399, 0.537, 0.185, 0.522, 0.636, 0.346, 0.658, 0.326, 0.748, 0.605, 0.635, 0.499, 0.234, 0.307, 0.27, 0.706, 0.48, 0.593, 0.652, 0.269, 0.408, 0.361, 0.615, 0.329, 0.382, 0.708, 0.399, 0.791, 0.619, 0.886, 0.806, 0.414, 0.448, 0.524, 0.652, 0.846, 0.597, 0.896, 0.922, 0.652, 0.95, 0.343, 0.859, 0.606, 0.301, 0.393, 0.598, 0.622, 0.267, 0.413, 0.379, 0.444, 0.329, 0.632, 0.689, 0.35, 0.494, 0.679, 0.277, 0.654, 0.535, 0.44, 0.469, 0.366, 0.345, 0.369, 0.332, 0.66, 0.706, 0.396, 0.789, 0.773, 0.259, 0.445, 0.281, 0.766, 0.934, 0.591, 0.689, 0.289, 0.237, 0.592, 0.504, 0.626, 0.687, 0.45, 0.334, 0.652, 0.591, 0.484, 0.791, 0.667, 0.589, 0.328, 0.742, 0.75, 0.691, 0.283, 0.24, 0.564, 0.282, 0.92, 0.724, 0.361, 0.286, 0.851, 0.549, 0.799, 0.382, 0.338, 0.773, 0.68, 0.661, 0.668, 0.52, 0.47, 0.226, 0.534, 0.626, 0.617, 0.569, 0.625, 0.236, 0.698, 0.39, 0.269, 0.889, 0.836, 0.685, 0.753, 0.726, 0.811, 0.508, 0.449, 0.621, 0.703, 0.437, 0.72, 0.777, 0.83, 0.302, 0.705, 0.746, 0.762, 0.77, 0.705, 0.698, 0.297, 0.415, 0.406, 0.643, 0.687, 0.314, 0.281, 0.882, 0.915, 0.461, 0.537, 0.732, 0.463, 0.695, 0.453, 0.367, 0.366, 0.647, 0.69, 0.248, 0.332, 0.44, 0.487, 0.315, 0.738, 0.822, 0.416, 0.651, 0.275, 0.585, 0.606, 0.349, 0.372, 0.491, 0.763, 0.769, 0.377, 0.937, 0.263, 0.627, 0.79, 0.693, 0.507, 0.772, 0.584, 0.476, 0.673, 0.653, 0.437, 0.603, 0.718, 0.506, 0.785, 0.419, 0.577, 0.765, 0.392, 0.479, 0.629, 0.784, 0.575, 0.544, 0.418, 0.259, 0.539, 0.424, 0.87, 0.296, 0.829, 0.535, 0.635, 0.572, 0.712, 0.627, 0.623, 0.389, 0.538, 0.833, 0.72, 0.415, 0.817, 0.664, 0.472, 0.82, 0.548, 0.455, 0.799, 0.379, 0.178, 0.774, 0.128, 0.381, 0.415, 0.443, 0.391, 0.849, 0.383, 0.908, 0.293, 0.613, 0.683, 0.252, 0.287, 0.769, 0.706, 0.385, 0.77, 0.324, 0.6, 0.379, 0.496, 0.34, 0.569, 0.815, 0.583, 0.378, 0.577, 0.365, 0.506, 0.734, 0.377, 0.772, 0.375, 0.383, 0.895, 0.402, 0.232, 0.271, 0.641, 0.356, 0.515, 0.451, 0.743, 0.292, 0.274, 0.38, 0.728, 0.587, 0.509, 0.346, 0.713, 0.535]\n"
     ]
    }
   ],
   "source": [
    "T = 0.45\n",
    "for fold in range(BF):\n",
    "    Sc_list = []\n",
    "    for value in range(len(Prob_matrix[fold][:,0])):\n",
    "        S0 = Prob_matrix[fold][:,0][value] #each SNP value in prob matrix fold\n",
    "        if S0 < T:\n",
    "            Sc = (T - S0)/T\n",
    "        elif S0 >= T:\n",
    "            Sc = (S0 - T)/(1 - T)\n",
    "        Sc_list.append(S0)    \n",
    "    print(f\"{len(Sc_list)}\\n, {Sc_list}\")\n",
    "            \n"
   ]
  },
  {
   "cell_type": "markdown",
   "id": "a18f5b78",
   "metadata": {},
   "source": [
    "### Final confidence"
   ]
  },
  {
   "cell_type": "code",
   "execution_count": 16,
   "id": "2ae1157a",
   "metadata": {},
   "outputs": [],
   "source": [
    "def Final_score(Sum_PD, Sum_SNP, BF):\n",
    "    \"\"\" Input:      Sum_PD      Sum of confidence score for PD predictions\n",
    "                    Sum_SNP     Sum of confidence score for SNP predictions\n",
    "\n",
    "        Returns:    S_out       Final confidence score\n",
    "\n",
    "        Calculate the final confidence score\n",
    "    \"\"\"\n",
    "    \n",
    "    S_Out = np.abs((Sum_PD - Sum_SNP) /(BF*2))\n",
    "    np.savetxt('S_out.txt', S_Out, \"%.3f\")\n",
    "    \n",
    "    return S_Out\n"
   ]
  },
  {
   "cell_type": "code",
   "execution_count": 17,
   "id": "92f36545",
   "metadata": {
    "scrolled": true
   },
   "outputs": [],
   "source": [
    "def evalutation(Vallabel, Final_vote, S_Out):\n",
    "    \"\"\" Input:      Classes_val_list   Validation label data\n",
    "                    Final_vote         Weighted vote classification\n",
    "\n",
    "        Evaluation metrics from RFC on validation data with\n",
    "    \"\"\"\n",
    "    Output_pred = Final_vote\n",
    "    print(f\"              ***Final Evaluation***\\n\")\n",
    "    print(f\"Confusion Matrix:\\n {confusion_matrix(Vallabel, Output_pred)}\")\n",
    "    print(f\"{classification_report(Vallabel, Output_pred)}\\nMCC                {matthews_corrcoef(Vallabel, Output_pred)}\")\n",
    "\n",
    "    print(f\"See file 'Classification.txt' for final classifications and confidence scores\")\n",
    "    np.savetxt('Classification.txt',\n",
    "           np.column_stack([Final_vote, S_Out]),\n",
    "           fmt = [\"%.0f\",\"%.3f\"],\n",
    "           delimiter =\"      \",\n",
    "           header = \"Final classifications and confidence scores\\n\\n\"\n",
    "          )\n"
   ]
  },
  {
   "cell_type": "markdown",
   "id": "aa67e232",
   "metadata": {},
   "source": [
    "### Main Program"
   ]
  },
  {
   "cell_type": "code",
   "execution_count": 18,
   "id": "4a5a9897",
   "metadata": {
    "scrolled": false
   },
   "outputs": [
    {
     "name": "stderr",
     "output_type": "stream",
     "text": [
      "[Parallel(n_jobs=1)]: Using backend SequentialBackend with 1 concurrent workers.\n",
      "[Parallel(n_jobs=1)]: Done 1000 out of 1000 | elapsed:    2.7s finished\n",
      "[Parallel(n_jobs=1)]: Using backend SequentialBackend with 1 concurrent workers.\n",
      "[Parallel(n_jobs=1)]: Done 1000 out of 1000 | elapsed:    2.7s finished\n",
      "[Parallel(n_jobs=1)]: Using backend SequentialBackend with 1 concurrent workers.\n",
      "[Parallel(n_jobs=1)]: Done 1000 out of 1000 | elapsed:    2.9s finished\n",
      "[Parallel(n_jobs=1)]: Using backend SequentialBackend with 1 concurrent workers.\n",
      "[Parallel(n_jobs=1)]: Done 1000 out of 1000 | elapsed:    2.9s finished\n",
      "[Parallel(n_jobs=1)]: Using backend SequentialBackend with 1 concurrent workers.\n",
      "[Parallel(n_jobs=1)]: Done 1000 out of 1000 | elapsed:    2.9s finished\n",
      "[Parallel(n_jobs=1)]: Using backend SequentialBackend with 1 concurrent workers.\n",
      "[Parallel(n_jobs=1)]: Done 1000 out of 1000 | elapsed:    0.1s finished\n",
      "[Parallel(n_jobs=1)]: Using backend SequentialBackend with 1 concurrent workers.\n",
      "[Parallel(n_jobs=1)]: Done 1000 out of 1000 | elapsed:    0.0s finished\n",
      "[Parallel(n_jobs=1)]: Using backend SequentialBackend with 1 concurrent workers.\n",
      "[Parallel(n_jobs=1)]: Done 1000 out of 1000 | elapsed:    0.1s finished\n",
      "[Parallel(n_jobs=1)]: Using backend SequentialBackend with 1 concurrent workers.\n",
      "[Parallel(n_jobs=1)]: Done 1000 out of 1000 | elapsed:    0.0s finished\n",
      "[Parallel(n_jobs=1)]: Using backend SequentialBackend with 1 concurrent workers.\n",
      "[Parallel(n_jobs=1)]: Done 1000 out of 1000 | elapsed:    0.0s finished\n"
     ]
    },
    {
     "name": "stdout",
     "output_type": "stream",
     "text": [
      "              ***Final Evaluation***\n",
      "\n",
      "Confusion Matrix:\n",
      " [[137  33]\n",
      " [148 221]]\n",
      "              precision    recall  f1-score   support\n",
      "\n",
      "           0       0.48      0.81      0.60       170\n",
      "           1       0.87      0.60      0.71       369\n",
      "\n",
      "    accuracy                           0.66       539\n",
      "   macro avg       0.68      0.70      0.66       539\n",
      "weighted avg       0.75      0.66      0.68       539\n",
      "\n",
      "MCC                0.37682272043041587\n",
      "See file 'Classification.txt' for final classifications and confidence scores\n"
     ]
    },
    {
     "name": "stderr",
     "output_type": "stream",
     "text": [
      "[Parallel(n_jobs=1)]: Using backend SequentialBackend with 1 concurrent workers.\n",
      "[Parallel(n_jobs=1)]: Done 1000 out of 1000 | elapsed:    3.0s finished\n",
      "[Parallel(n_jobs=1)]: Using backend SequentialBackend with 1 concurrent workers.\n",
      "[Parallel(n_jobs=1)]: Done 1000 out of 1000 | elapsed:    2.9s finished\n",
      "[Parallel(n_jobs=1)]: Using backend SequentialBackend with 1 concurrent workers.\n",
      "[Parallel(n_jobs=1)]: Done 1000 out of 1000 | elapsed:    2.8s finished\n",
      "[Parallel(n_jobs=1)]: Using backend SequentialBackend with 1 concurrent workers.\n",
      "[Parallel(n_jobs=1)]: Done 1000 out of 1000 | elapsed:    2.8s finished\n",
      "[Parallel(n_jobs=1)]: Using backend SequentialBackend with 1 concurrent workers.\n",
      "[Parallel(n_jobs=1)]: Done 1000 out of 1000 | elapsed:    2.8s finished\n",
      "[Parallel(n_jobs=1)]: Using backend SequentialBackend with 1 concurrent workers.\n",
      "[Parallel(n_jobs=1)]: Done 1000 out of 1000 | elapsed:    0.0s finished\n",
      "[Parallel(n_jobs=1)]: Using backend SequentialBackend with 1 concurrent workers.\n",
      "[Parallel(n_jobs=1)]: Done 1000 out of 1000 | elapsed:    0.0s finished\n",
      "[Parallel(n_jobs=1)]: Using backend SequentialBackend with 1 concurrent workers.\n",
      "[Parallel(n_jobs=1)]: Done 1000 out of 1000 | elapsed:    0.1s finished\n",
      "[Parallel(n_jobs=1)]: Using backend SequentialBackend with 1 concurrent workers.\n",
      "[Parallel(n_jobs=1)]: Done 1000 out of 1000 | elapsed:    0.0s finished\n",
      "[Parallel(n_jobs=1)]: Using backend SequentialBackend with 1 concurrent workers.\n",
      "[Parallel(n_jobs=1)]: Done 1000 out of 1000 | elapsed:    0.0s finished\n"
     ]
    },
    {
     "name": "stdout",
     "output_type": "stream",
     "text": [
      "              ***Final Evaluation***\n",
      "\n",
      "Confusion Matrix:\n",
      " [[128  21]\n",
      " [203 187]]\n",
      "              precision    recall  f1-score   support\n",
      "\n",
      "           0       0.39      0.86      0.53       149\n",
      "           1       0.90      0.48      0.63       390\n",
      "\n",
      "    accuracy                           0.58       539\n",
      "   macro avg       0.64      0.67      0.58       539\n",
      "weighted avg       0.76      0.58      0.60       539\n",
      "\n",
      "MCC                0.311028001525192\n",
      "See file 'Classification.txt' for final classifications and confidence scores\n"
     ]
    },
    {
     "name": "stderr",
     "output_type": "stream",
     "text": [
      "[Parallel(n_jobs=1)]: Using backend SequentialBackend with 1 concurrent workers.\n",
      "[Parallel(n_jobs=1)]: Done 1000 out of 1000 | elapsed:    3.0s finished\n",
      "[Parallel(n_jobs=1)]: Using backend SequentialBackend with 1 concurrent workers.\n",
      "[Parallel(n_jobs=1)]: Done 1000 out of 1000 | elapsed:    3.1s finished\n",
      "[Parallel(n_jobs=1)]: Using backend SequentialBackend with 1 concurrent workers.\n",
      "[Parallel(n_jobs=1)]: Done 1000 out of 1000 | elapsed:    4.5s finished\n",
      "[Parallel(n_jobs=1)]: Using backend SequentialBackend with 1 concurrent workers.\n",
      "[Parallel(n_jobs=1)]: Done 1000 out of 1000 | elapsed:    3.3s finished\n",
      "[Parallel(n_jobs=1)]: Using backend SequentialBackend with 1 concurrent workers.\n",
      "[Parallel(n_jobs=1)]: Done 1000 out of 1000 | elapsed:    3.1s finished\n",
      "[Parallel(n_jobs=1)]: Using backend SequentialBackend with 1 concurrent workers.\n",
      "[Parallel(n_jobs=1)]: Done 1000 out of 1000 | elapsed:    0.1s finished\n",
      "[Parallel(n_jobs=1)]: Using backend SequentialBackend with 1 concurrent workers.\n",
      "[Parallel(n_jobs=1)]: Done 1000 out of 1000 | elapsed:    0.1s finished\n",
      "[Parallel(n_jobs=1)]: Using backend SequentialBackend with 1 concurrent workers.\n",
      "[Parallel(n_jobs=1)]: Done 1000 out of 1000 | elapsed:    0.1s finished\n",
      "[Parallel(n_jobs=1)]: Using backend SequentialBackend with 1 concurrent workers.\n",
      "[Parallel(n_jobs=1)]: Done 1000 out of 1000 | elapsed:    0.0s finished\n",
      "[Parallel(n_jobs=1)]: Using backend SequentialBackend with 1 concurrent workers.\n",
      "[Parallel(n_jobs=1)]: Done 1000 out of 1000 | elapsed:    0.1s finished\n"
     ]
    },
    {
     "name": "stdout",
     "output_type": "stream",
     "text": [
      "              ***Final Evaluation***\n",
      "\n",
      "Confusion Matrix:\n",
      " [[131  36]\n",
      " [212 159]]\n",
      "              precision    recall  f1-score   support\n",
      "\n",
      "           0       0.38      0.78      0.51       167\n",
      "           1       0.82      0.43      0.56       371\n",
      "\n",
      "    accuracy                           0.54       538\n",
      "   macro avg       0.60      0.61      0.54       538\n",
      "weighted avg       0.68      0.54      0.55       538\n",
      "\n",
      "MCC                0.2050055698198063\n",
      "See file 'Classification.txt' for final classifications and confidence scores\n"
     ]
    },
    {
     "name": "stderr",
     "output_type": "stream",
     "text": [
      "[Parallel(n_jobs=1)]: Using backend SequentialBackend with 1 concurrent workers.\n",
      "[Parallel(n_jobs=1)]: Done 1000 out of 1000 | elapsed:    3.7s finished\n",
      "[Parallel(n_jobs=1)]: Using backend SequentialBackend with 1 concurrent workers.\n",
      "[Parallel(n_jobs=1)]: Done 1000 out of 1000 | elapsed:    3.1s finished\n",
      "[Parallel(n_jobs=1)]: Using backend SequentialBackend with 1 concurrent workers.\n",
      "[Parallel(n_jobs=1)]: Done 1000 out of 1000 | elapsed:    3.1s finished\n",
      "[Parallel(n_jobs=1)]: Using backend SequentialBackend with 1 concurrent workers.\n",
      "[Parallel(n_jobs=1)]: Done 1000 out of 1000 | elapsed:    3.4s finished\n",
      "[Parallel(n_jobs=1)]: Using backend SequentialBackend with 1 concurrent workers.\n",
      "[Parallel(n_jobs=1)]: Done 1000 out of 1000 | elapsed:    3.2s finished\n",
      "[Parallel(n_jobs=1)]: Using backend SequentialBackend with 1 concurrent workers.\n",
      "[Parallel(n_jobs=1)]: Done 1000 out of 1000 | elapsed:    0.0s finished\n",
      "[Parallel(n_jobs=1)]: Using backend SequentialBackend with 1 concurrent workers.\n",
      "[Parallel(n_jobs=1)]: Done 1000 out of 1000 | elapsed:    0.1s finished\n",
      "[Parallel(n_jobs=1)]: Using backend SequentialBackend with 1 concurrent workers.\n",
      "[Parallel(n_jobs=1)]: Done 1000 out of 1000 | elapsed:    0.0s finished\n",
      "[Parallel(n_jobs=1)]: Using backend SequentialBackend with 1 concurrent workers.\n",
      "[Parallel(n_jobs=1)]: Done 1000 out of 1000 | elapsed:    0.0s finished\n",
      "[Parallel(n_jobs=1)]: Using backend SequentialBackend with 1 concurrent workers.\n",
      "[Parallel(n_jobs=1)]: Done 1000 out of 1000 | elapsed:    0.1s finished\n"
     ]
    },
    {
     "name": "stdout",
     "output_type": "stream",
     "text": [
      "              ***Final Evaluation***\n",
      "\n",
      "Confusion Matrix:\n",
      " [[143  42]\n",
      " [137 216]]\n",
      "              precision    recall  f1-score   support\n",
      "\n",
      "           0       0.51      0.77      0.62       185\n",
      "           1       0.84      0.61      0.71       353\n",
      "\n",
      "    accuracy                           0.67       538\n",
      "   macro avg       0.67      0.69      0.66       538\n",
      "weighted avg       0.72      0.67      0.68       538\n",
      "\n",
      "MCC                0.3659312719116349\n",
      "See file 'Classification.txt' for final classifications and confidence scores\n"
     ]
    },
    {
     "name": "stderr",
     "output_type": "stream",
     "text": [
      "[Parallel(n_jobs=1)]: Using backend SequentialBackend with 1 concurrent workers.\n",
      "[Parallel(n_jobs=1)]: Done 1000 out of 1000 | elapsed:    3.2s finished\n",
      "[Parallel(n_jobs=1)]: Using backend SequentialBackend with 1 concurrent workers.\n",
      "[Parallel(n_jobs=1)]: Done 1000 out of 1000 | elapsed:    3.3s finished\n",
      "[Parallel(n_jobs=1)]: Using backend SequentialBackend with 1 concurrent workers.\n",
      "[Parallel(n_jobs=1)]: Done 1000 out of 1000 | elapsed:    4.1s finished\n",
      "[Parallel(n_jobs=1)]: Using backend SequentialBackend with 1 concurrent workers.\n",
      "[Parallel(n_jobs=1)]: Done 1000 out of 1000 | elapsed:    3.5s finished\n",
      "[Parallel(n_jobs=1)]: Using backend SequentialBackend with 1 concurrent workers.\n",
      "[Parallel(n_jobs=1)]: Done 1000 out of 1000 | elapsed:    3.7s finished\n",
      "[Parallel(n_jobs=1)]: Using backend SequentialBackend with 1 concurrent workers.\n",
      "[Parallel(n_jobs=1)]: Done 1000 out of 1000 | elapsed:    0.1s finished\n",
      "[Parallel(n_jobs=1)]: Using backend SequentialBackend with 1 concurrent workers.\n",
      "[Parallel(n_jobs=1)]: Done 1000 out of 1000 | elapsed:    0.1s finished\n",
      "[Parallel(n_jobs=1)]: Using backend SequentialBackend with 1 concurrent workers.\n",
      "[Parallel(n_jobs=1)]: Done 1000 out of 1000 | elapsed:    0.1s finished\n",
      "[Parallel(n_jobs=1)]: Using backend SequentialBackend with 1 concurrent workers.\n",
      "[Parallel(n_jobs=1)]: Done 1000 out of 1000 | elapsed:    0.2s finished\n",
      "[Parallel(n_jobs=1)]: Using backend SequentialBackend with 1 concurrent workers.\n",
      "[Parallel(n_jobs=1)]: Done 1000 out of 1000 | elapsed:    0.1s finished\n"
     ]
    },
    {
     "name": "stdout",
     "output_type": "stream",
     "text": [
      "              ***Final Evaluation***\n",
      "\n",
      "Confusion Matrix:\n",
      " [[166  43]\n",
      " [130 199]]\n",
      "              precision    recall  f1-score   support\n",
      "\n",
      "           0       0.56      0.79      0.66       209\n",
      "           1       0.82      0.60      0.70       329\n",
      "\n",
      "    accuracy                           0.68       538\n",
      "   macro avg       0.69      0.70      0.68       538\n",
      "weighted avg       0.72      0.68      0.68       538\n",
      "\n",
      "MCC                0.39104143693553856\n",
      "See file 'Classification.txt' for final classifications and confidence scores\n"
     ]
    }
   ],
   "source": [
    "file = \"AC_dataset.csv\"\n",
    "Training_Set, Testing_Set, labels  = Train_Test_Split(file)\n",
    "IT_list, LT_list, IV_list, LV_list = CV(Training_Set)\n",
    "\n",
    "for i in range(len(IT_list)): #For every CV fold\n",
    "    classData                   = LT_list[i].to_numpy()\n",
    "    inData                      = IT_list[i].to_numpy()\n",
    "    ValData                     = IV_list[i]\n",
    "    Vallabel                    = LV_list[i]\n",
    "\n",
    "    minClass, minSize, maxSize  = find_minority_class(classData)\n",
    "    BF                          = Balance_ratio(maxSize, minSize)\n",
    "    Input_folds, Output_folds   = Balance_Folds(BF, inData, classData, minClass, minSize) #balance() and balance_data() functions are called under this\n",
    "\n",
    "    BF_RFC                      = BF_fitting(Input_folds, Output_folds)\n",
    "    Prob_matrix                 = BF_validate(BF_RFC, ValData)\n",
    "\n",
    "    Final_vote, Sum_PD, Sum_SNP = Weighted_Vote(Prob_matrix, BF)\n",
    "    S_Out                       = Final_score(Sum_PD, Sum_SNP, BF)\n",
    "\n",
    "    evalutation(Vallabel, Final_vote, S_Out)"
   ]
  },
  {
   "cell_type": "raw",
   "id": "0f572db9",
   "metadata": {},
   "source": []
  }
 ],
 "metadata": {
  "kernelspec": {
   "display_name": "Python 3 (ipykernel)",
   "language": "python",
   "name": "python3"
  },
  "language_info": {
   "codemirror_mode": {
    "name": "ipython",
    "version": 3
   },
   "file_extension": ".py",
   "mimetype": "text/x-python",
   "name": "python",
   "nbconvert_exporter": "python",
   "pygments_lexer": "ipython3",
   "version": "3.10.7"
  },
  "varInspector": {
   "cols": {
    "lenName": 16,
    "lenType": 16,
    "lenVar": 40
   },
   "kernels_config": {
    "python": {
     "delete_cmd_postfix": "",
     "delete_cmd_prefix": "del ",
     "library": "var_list.py",
     "varRefreshCmd": "print(var_dic_list())"
    },
    "r": {
     "delete_cmd_postfix": ") ",
     "delete_cmd_prefix": "rm(",
     "library": "var_list.r",
     "varRefreshCmd": "cat(var_dic_list()) "
    }
   },
   "oldHeight": 337.844,
   "position": {
    "height": "40px",
    "left": "1536px",
    "right": "20px",
    "top": "112px",
    "width": "354px"
   },
   "types_to_exclude": [
    "module",
    "function",
    "builtin_function_or_method",
    "instance",
    "_Feature"
   ],
   "varInspector_section_display": "none",
   "window_display": true
  }
 },
 "nbformat": 4,
 "nbformat_minor": 5
}
