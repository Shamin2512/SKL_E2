{
 "cells": [
  {
   "cell_type": "markdown",
   "id": "0fcba82d",
   "metadata": {},
   "source": [
    "### Import library"
   ]
  },
  {
   "cell_type": "code",
   "execution_count": null,
   "id": "5d94d2bb",
   "metadata": {},
   "outputs": [],
   "source": [
    "\"\"\" Example 2 is inbalanced data set; ~2200 in PD and ~1100 in SNP\n",
    "    Goal is to predict if mutation is SNP or PD\n",
    "    CV branch\n",
    "    \n",
    "    Total samples: 3368\n",
    "    2254 PD samples\n",
    "    1111 SNP samples\n",
    "\"\"\""
   ]
  },
  {
   "cell_type": "code",
   "execution_count": 1,
   "id": "5737f62f",
   "metadata": {},
   "outputs": [],
   "source": [
    "\"\"\" Imports the required libraries and packages\n",
    "\"\"\"\n",
    "\n",
    "import pandas as pd  #Import for data manipulation in dataframes\n",
    "import numpy as np  #Array manipulation and calculates mean\n",
    "\n",
    "import random as rd\n",
    "import time\n",
    "\n",
    "from sklearn.metrics import(\n",
    "    matthews_corrcoef,  # MCC for evaluation\n",
    "    balanced_accuracy_score, #hyperparameter evaluation\n",
    "    f1_score,  #hyperparameter evaluation\n",
    "    confusion_matrix,  # confusion matrix for classification evalutation\n",
    "    classification_report #Return the F1, precision, and recall of a prediction\n",
    "    )\n",
    "from sklearn.model_selection import(\n",
    "    train_test_split,  # Splits data frame into the training set and testing set\n",
    "    GridSearchCV,  # Cross validation to improve hyperparameters\n",
    "    RandomizedSearchCV,\n",
    "    StratifiedKFold, # K-fold CV\n",
    "    GroupKFold\n",
    "        )\n",
    "from sklearn.ensemble import RandomForestClassifier #SK learn API for classificastion random forests\n",
    "from sklearn.tree import DecisionTreeClassifier #Single tree decisions \n",
    "from sklearn.preprocessing import StandardScaler\n",
    "from sklearn.linear_model import LogisticRegression\n",
    "from sklearn.pipeline import make_pipeline\n",
    "from sklearn.neighbors import KNeighborsClassifier #allows for confidence scores to be predicted for each\n",
    "np.set_printoptions(threshold=np.inf, precision=3) #full array printing"
   ]
  },
  {
   "cell_type": "markdown",
   "id": "90cd3ed6",
   "metadata": {},
   "source": [
    "### Generate random seed"
   ]
  },
  {
   "cell_type": "code",
   "execution_count": null,
   "id": "fa3af259",
   "metadata": {},
   "outputs": [],
   "source": [
    "def Random_Seed(): #Generates a random seed\n",
    "    random1 = rd.randrange(1,100) #Random integet between 1 and 100\n",
    "    random2 =  time.time() #Time since UTC epoch\n",
    "    Seed = int(random2//random1//1000)\n",
    "    return Seed### Generate random seed"
   ]
  },
  {
   "cell_type": "markdown",
   "id": "5506fbc1",
   "metadata": {},
   "source": [
    "### Manual K-fold validation"
   ]
  },
  {
   "cell_type": "code",
   "execution_count": 19,
   "id": "503e943b",
   "metadata": {},
   "outputs": [
    {
     "name": "stdout",
     "output_type": "stream",
     "text": [
      "{'1ggl', '2e9x', '2z0e', '2y3i', '3k5k', '2pmf', '3omh', '1d8j', '2zoq', '2zw3', '2kll', '1jsg', '1saw', '2v5e', '1xdl', '3qik', '1eig', '2pzd', '3h95', '1z3u', '1zsy', '1pdg', '2jif', '2fy3', '1hzm', '1x0x', '2w2m', '1iur', '1ijq', '3nkx', '4a35', '1fuj', '2iag', '1imv', '2gzk', '2gyp', '2oq5', '2pid', '3pls', '1ivh', '2z7s', '2hw5', '1zbq', '2pm8', '3dwb', '3dal', '1mdu', '2vze', '2hi9', '1e51', '1hdr', '3apa', '2kw1', '2xwd', '2l3l', '2yuj', '2if1', '3cmy', '1r0d', '1bnk', '2xzz', '1wlp', '3pdf', '1fdh', '3gro', '1jei', '2gf9', '2fie', '2ra4', '3igu', '3szr', '2coe', '3n2z', '1bhg', '2iik', '2vns', '1bqq', '3qxm', '3f1s', '3bxw', '1cjy', '2l53', '2yhd', '2rfj', '2yvq', '3au4', '1esr', '1z7x', '3jui', '1fsu', '3ews', '3gfw', '3bhi', '1axn', '1tzs', '3lue', '1gr3', '1o1u', '3hy5', '1eak', '3e04', '2d8s', '3d7t', '2eax', '1fxy', '2yrb', '2ep8', '3fer', '3hy8', '3ifw', '2eel', '2anw', '3eqm', '4a04', '3nsi', '3qkj', '2k27', '1yb5', '3p08', '3d25', '3a1f', '3bg3', '1bqu', '2jxc', '3sh4', '2j5w', '1ybw', '2lk2', '2obi', '3ans', '3qk3', '2ysq', '1csg', '3i69', '3gdh', '3dls', '1qg3', '2ax4', '1itb', '2ld4', '1jrh', '2qql', '2goo', '2a2c', '1m27', '3s41', '2xjc', '1b1e', '2o8e', '3syx', '3a1j', '1cvw', '3cuq', '1hne', '2i50', '3hff', '3obz', '2fdb', '1d6n', '3ow9', '1hrk', '1jv2', '3ldx', '2vdx', '3cjj', '2jqk', '3p8f', '2i3y', '1fdq', '1zhr', '2g2b', '1d1t', '2gwh', '2buj', '3tiw', '1uzq', '2jvx', '2e0a', '3ifa', '2pqf', '3odq', '2wl1', '1owh', '3iar', '3tl0', '1kv3', '2i7a', '1efh', '3kys', '2wos', '2c9w', '2xik', '1eg3', '3c2i', '1xwd', '2kzu', '1ohd', '2z0w', '1awb', '2obd', '1y9r', '3e0g', '2w2j', '1h6f', '2ove', '1u7t', '3bpn', '1b08', '2yu6', '2img', '2vx2', '3sje', '2lct', '1z29', '1cb6', '3ee6', '2kki', '3lpp', '2xsw', '1kfu', '3fy7', '2de0', '2enq', '2jsd', '1h9z', '2x6u', '2xiq', '1z8d', '1o8t', '3fo5', '1fc0', '3k75', '2xpg', '2e5j', '3m1n', '2rli', '3f1r', '2nn6', '3zqs', '1orf', '2emj', '2brf', '1p0s', '3r62', '1a5e', '3inb', '2h04', '3g2f', '2e3o', '1v5w', '3oj2', '1d5r', '2di0', '2jii', '2ew9', '1v82', '2pfi', '1ifr', '3zwf', '2af9', '1s2a', '2fim', '3i2n', '2gse', '2q4r', '2byj', '3hme', '3qs7', '3qoa', '3lfm', '1i3d', '3p4u', '1iju', '1n1f', '2h06', '1csb', '1xsl', '3bju', '3ddu', '3q2u', 'PDB file (/acrm/data/pdb/pdb2nr8.ent) does not exist', '3dlj', '1oll', '2vcv', '1b53', '2bo9', '3k8o', '3p70', '2e2w', '1yow', '3bhd', '3mdj', '2yrg', '1jmo', '1qmt', '3qd6', '1ax8', '2nvu', '3bn3', '3p3h', '1wb0', '3g9v', '2jbm', '1kwm', '2bwj', '3o9l', '3i2b', '2ckj', '2nnh', '2esl', '1dmw', '2v7d', '1l9x', '3bvo', '3mt5', '1a4v', '1y2a', '2jq3', '2h8k', '2q3y', '2x0b', '2kv3', '3d34', '2vux', '1rx0', '3lbx', '3q93', '2l7b', '2pqt', '3a7e', '2bp1', '2fvl', '2xkw', '2r3v', '1uwy', '1hlg', '2qq5', '1p49', '2ha8', '2ppl', '2klj', '1us1', '2wno', '3d59', '1tn3', '1j04', '2bkq', 'PDB file (/acrm/data/pdb/pdb1cnt.ent) does not contain residue (1182)', '3mpx', '2bb5', '3d85', '2gk2', '1agw', '1hpt', '1gwb', '3r2p', '2qym', '3kqo', '2kmu', '2lkj', '1itq', '3kq4', '3ugn', '3iai', '3rbf', '1j86', '2c2n', '3rv5', '1bj4', '3fe1', '1s18', '1ytq', '1fq3', '3mdy', '1ext', '1wrm', '1ya4', '2zej', '3p0f', '2nzt', '2aex', '2xn5', '2qnk', '2aw2', '2dbj', '1quu', '2h5g', '2zv6', '2wwe', '3zs0', '2hgs', '3u8u', '3sn5', '1x5d', '1p22', '3bua', '3ps4', '2l4m', '1hwg', '1lv2', '1li1', '2yhf', '2iw2', '3p1j', '2kb9', '3eo3', '3zs2', '1jv0', '3f8u', '2o2k', '1fqy', '2ozo', '2xdg', '3shw', '3t1p', '1apy', '3ikm', '1zsv', '3na3', '1j1l', '3gqc', '2o10', '3hfv', '2c0c', '2y7j', '1yde', '1z6c', '3fv1', '1a22', '3qvu', '3zzw', '2obv', '3bzh', '1m4u', '1rj8', '2k21', '2vr2', '1wsr', '1iyf', '3dlq', '2f9q', '1nun', '2xwt', '1qki', '2nz6', '3lkj', '2b3y', '1xa6', '2c2z', '1bp1', '2lej', '3kzd', '2kri', '1deu', '1d8d', '1yz8', '1do8', '2jdg', '3qum', '3g1n', '3ozc', '2pfr', '3smq', '3k2i', '3rmu', '3lwk', '3e9k', '3kq0', '3lxp', '2bwg', '2yun', '3gc8', '1sir', '1og2', '2kef', '2x5y', '2j0f', '3di2', '3qwl', '3pff', '1ey2', '2k1m', '1jr2', '3tac', '1j72', '2ebk', '3coi', '1z10', '2gk9', '2xrc', '3bh6', '3kse', '3gzc', '2xsn', '3ghn', '3sf8', '2r2p', '3c6g', '2yl4', '3s98', '2a1x', '1xww', '2c0l', '1oip', '2a7r', '3c22', '2vkq', '2ffv', '1u5d', '1edm', '3i4u', '2zv2', '3ohx', '2jlp', '3oom', '1m6h', '2cbz', '1w72', '3orh', '1im9', '3a6p', '2g6z', '2y9u', '3bpt', '1zxq', '3bu3', '1mq0', '2h63', '1zua', '2l9m', '1as4', '3thc', '1rtk', '2ivu', '1w6j', '1nuf', '3n2g', '3t1i', '2q8g', '1l1f', '1gvl', '1ug3', '2aij', '3k35', '2h31', '1gh7', '2ctf', '1hsz', '1i1n', '2gwo', '1d7p', '3oai', '3ajb', '3qof', '4a3a', '1pq3', '3glr', '2b5i', '2ocp', '1fb1', '2vxp', '2h3n', '3hxa', '1zlg', '2g76', '3ayd', '3qlc', '3ecr', '3ob2', '3gki', '1bh5', '1f4o', '1ebm', '1a7a', '1t2f', '1x86', '3te7', '3bqd', '2xrp', '3txo', '1wrd', '1yhn', '2a24', '3qrf', '1iar', '1vcu', '1j1d', '1zjk', '1pl8', '3qyb', '1olz', '2zqq', '2fp0', '2aik', '3p3p', '1k62', '3exe', '1h03', '2gdz', '2ys1', '1rgw', '2cpw', '3o8y', '3ffm', '2ozl', '3pv6', '1w45', '2p0r', '2x4f', '1jbi', '2v53', '2ka3', '2rr3', '6rlx', '3r6b', '2ko0', '2xt3', '1wuu', '2vgb', '2wtk', '2kbr', '2i3c', '2l0w', '2w8r', '3e4e', '3nks', '2b49', '2dmo', '2di7', '2oc3', '3cfw', '3b63', '2dn6', '2o0o', '3ry5', '1h8u', '3t6a', '3mbg', '2h8r', '2dah', '2hqh', '1r42', '13gs', '1onq', '3qft', '2v4m', '2edo', '2f2s', '3abh', '2znn', '3otd', '2doa', '2knv', '2ixm', '1ant', '3q9p', '2d85', '2fxm', '3kqi', '3ay4', '2a8b', '3lrq', '1ik9', '2i0e', '3alq', '3am8', '2r17', '3s0n', '2fd6', '1zrh', '2idx', '3of6', '2j0y', '3pwh', '1dtw', '3b6y', '1ufx', '3ch4', '1ish', '1ua2', '3evs', '3eab', '6pax', '1fj2', '1jbq', '3msx', '1roz', '2zkm', '2c9y', '1jcn', '3fg6', '2gy7', '2vm6', '1hlc', '1ci6', '2clp', '3kcz', '2x4d', '2cw6', '2i7d', '1exz', '3b7k', '3con', '3rm4', '2ger', '4a11', '1hti', '2yqp', '2nup', '2uxw', '1lw3', '1tdh', '1ln2', '2vsw', '2ksn', '3hd6', '1cd9', '1jy1', '1ekv', '2d9z', '2hye', '2k1a', '3mr2', '1p4r', '2wj7', '3tf3', '1i0e', '1dic', '2lcf', '1d4a', '3hig', '3u8z', '3my0', '2e9l', '3lbs', '2fj9', '2e59', '3n1o', '3fby', '1x9n', '2yqg', '2l9n', '3fvy', '1xu8', '2p39', '2nru', '3ozl', '2a1t', '1aut', '2p03', '3se6', '2j6l', '1fw1', '3l6y', '2ygg', '1z83', '3k6s', '2hsp', '1j7v', '3b2d', '2j91', '2vig', '1z00', '1sl6', '1wyw', '2oh2', '2y96', '3lfl', '2hi4', '3rbg', '3p8c', '3jzc', '3tju', '1r54', '1lf8', '2arq', '3s6n', '2vay', '3rl7', '2ag5', '2he3', '3apu', '1yxm', '2ns2', '1iri', '3ry6', '2vct', '3fe4', '3llk', '3ff3', '3lb6', '1e31', '2ke1', '3cok', '2l4c', '1q8m', '2dnf', '2v1x', '2bei', '1d5v', '2wok', '1war', '3o4o', '1u8f', '1ya5', '3cos', '1vry', '1hyn', '3mva', '1r46', '1jj7', '4gtu', '1xm9', '1z6z', '2i6s', '2zoc', '3nya', '3qe9', '3p1n', '2f57', '3n9y', '3lxx', '1spj', '3si0', '3sza', '3ff6', '1ald', '1shr', '2d9q', '2qlf', '3g0e', '3p0l', '2om5', '3e3r', '2xsx', '2pe4', '1xmj', '1i10', '1g5w', '2d1k', '2x7k', '2k40', '2zij', '2kem', '3c3r', '2a9j', '3n5n', '2xnx', '2xms', '3b1t', '1m75', '2a55', '3rig', '3rc4', '2wh0', '1x68', '3nxo', '1f8u', '2l5s', '2cs1', '3s35', '1r5i', '2nz2', '3b5h', '3s7j', '3gvv', '3fuf', '1a02', '1f13', '2v62', '1au8', '3fcx', '1ht0', '1j78', '2y7l', '1nzi', '2e2x', '1g55', '2hlz', '1t09', '2vaf', '1t2k', '3g33', '2bt2', '2b8w', '2gw6', '2iq1', '2l7z', '2ox8', '3ojy', '3cot', '2pla', '1fvo', '2xdv', '2ds4', '2ziu', '3stk', '1woj', '1ek6', '3p56', '2hky', '1t0p', '1g91', '3ogt', '2gjx', '2c3n', '2ary', '2wul', '1v04', '1umk', '2bka', '1so0', '3pm0', '2glq', '3d67', '3d3l', '3u2o', '1e50', '3e77', '2bdh', '2oay', '1z5w', '3isq', '2wz9', '3ooi', '2kum', '1brq', '2jjs', '3puj', '2a14', '3iw4', '1ihi', '1t38', '1stf', '2oju', '2pd6', '1ds6', '2das', '3iuy', '3s9l', '2kr6', '2l0b'}\n"
     ]
    }
   ],
   "source": [
    "df = pd.read_csv('E2.csv')\n",
    "df_ordered = df.sort_values('pdbcode:chain:resnum:mutation') #Only column of PDB codes\n",
    "df_ordered.to_csv('order.csv', index = False)\n",
    "\n",
    "extract = []\n",
    "for i in range(len(df_ordered)):\n",
    "    split = df_ordered.iloc[:,0][i].partition(':')\n",
    "    PDB = split[0]\n",
    "    extract.append(PDB)\n",
    "print(set(extract))\n",
    "\n"
   ]
  },
  {
   "cell_type": "markdown",
   "id": "3ddcc865",
   "metadata": {},
   "source": [
    "### Clean dataset in pandas"
   ]
  },
  {
   "cell_type": "code",
   "execution_count": null,
   "id": "62413d95",
   "metadata": {},
   "outputs": [],
   "source": [
    "def Clean_data(file):\n",
    "    \"\"\" Input:      file        The dataset to read\n",
    "\n",
    "        Returns:    Input       Dataframe with of input features for training\n",
    "                    Output      Dataframe of class labels for each instance in Input\n",
    "\n",
    "        Create, clean and convert dataset E2.csv to PD dataframe. Drops uneeded columns, removes blank spaces, \n",
    "        and applies \"One Hot Encoding\" to convert classes (PD/SNP) to 1/0\n",
    "    \"\"\"\n",
    "\n",
    "    df = pd.read_csv('E2.csv')\n",
    "\n",
    "    #Remove unrequired column, replace blank spaces, reset index to run from 0\n",
    "    df.drop(['pdbcode:chain:resnum:mutation'], axis=1, inplace=True)\n",
    "    df.dropna() #drop rows with missing values\n",
    "    df.replace(' ', '_', regex=True, inplace=True)\n",
    "    df.reset_index(drop=True, inplace = True)\n",
    "\n",
    "    Input = df.drop('dataset', axis =1)\n",
    "    Output_encoded = pd.get_dummies(df, columns=['dataset']) #Encode the PD and SNP columns\n",
    "    Output = Output_encoded['dataset_pd'].copy().astype('int32') #PD = 1, SNP = 0\n",
    "\n",
    "    return Input, Output"
   ]
  },
  {
   "cell_type": "markdown",
   "id": "bb451c9e",
   "metadata": {},
   "source": [
    "### Split into training and testing, generate RF (whole dataset)"
   ]
  },
  {
   "cell_type": "code",
   "execution_count": null,
   "id": "bbfacd1c",
   "metadata": {},
   "outputs": [],
   "source": [
    "def train(Input, Output, Seed):\n",
    "    \"\"\" Input:      Input           Dataframe with of input features for training\n",
    "                    Output          Dataframe of class labels for each instance in Input\n",
    "                    Seed            Random Seed\n",
    "\n",
    "        Returns:    Input_train     Features training data\n",
    "                    Input_test      Features test data\n",
    "                    Classes_train   Class label training data\n",
    "                    Classes_test    Class label test data\n",
    "\n",
    "        80% training and 20% testing split. Strartify ensures fixed poportion of labels are in both sets. \n",
    "        Random forest defined as RFC with x trees, random seed. Outputs the training data to files.\n",
    "        \"\"\"\n",
    "\n",
    "    Input_train, Input_test, Classes_train, Classes_test = train_test_split(Input, Output, train_size = 0.8, random_state= Seed, stratify=Output) \n",
    "    Initial_RFC = RandomForestClassifier(random_state = Seed, verbose = 1)\n",
    "    Initial_RFC.fit(Input_train, Classes_train)\n",
    "\n",
    "    with open('Training Data.txt', 'w') as file: #Writes training features to text file\n",
    "        file.write(Input_train.to_string())\n",
    "    with open('Class labels.txt', 'w') as file: #Writes training class labels to text file\n",
    "        file.write(Classes_train.to_string())\n",
    "    with open('Test Data.txt', 'w') as file: #Writes testing features to text file\n",
    "        file.write(Input_test.to_string())\n",
    "    with open('Test labels.txt', 'w') as file: #Writes testing class labels to text file\n",
    "        file.write(Classes_test.to_string())\n",
    "\n",
    "    return Initial_RFC, Input_test, Classes_test, Input_train, Classes_train"
   ]
  },
  {
   "cell_type": "markdown",
   "id": "b2e8b7f5",
   "metadata": {},
   "source": [
    "### Initial evaluation"
   ]
  },
  {
   "cell_type": "code",
   "execution_count": null,
   "id": "cf8d9857",
   "metadata": {},
   "outputs": [],
   "source": [
    "def test(Initial_RFC, Input_test, Classes_test):\n",
    "    \"\"\" Input:  Input_test      Features test data\n",
    "                Classes_test    Class label test data\n",
    "\n",
    "        Evaluates the training data before balancing. Random forest classifier makes prediction using the test features. True values \n",
    "        are the class labels testing data\n",
    "    \"\"\"\n",
    "\n",
    "    Output_pred = Initial_RFC.predict(Input_test) #Always perdict on the unseen test data, as train has been used by the estimastor\n",
    "    print(f\"              **Initial Evaluation**\\n\")\n",
    "    print(f\"Confusion Matrix:\\n {confusion_matrix(Classes_test, Output_pred)}\")\n",
    "    print(f\"{classification_report(Classes_test, Output_pred)}\\nMCC                {matthews_corrcoef(Classes_test, Output_pred)}\")\n"
   ]
  },
  {
   "cell_type": "markdown",
   "id": "a335a585",
   "metadata": {},
   "source": [
    "### Balancing"
   ]
  },
  {
   "cell_type": "code",
   "execution_count": null,
   "id": "6b6924e9",
   "metadata": {},
   "outputs": [],
   "source": [
    "def find_minority_class(classData):\n",
    "    \"\"\" Input:    classData  Array of class labels\n",
    "        Returns:  minClass   The label for the minority class\n",
    "                  minSize    The number of items in the minority class\n",
    "                  maxSize    The number of items in the majority class\n",
    "\n",
    "        Finds information about the inbalance in class sizes\n",
    "    \"\"\"\n",
    "    \n",
    "    Minority_count = 0\n",
    "    Majority_count = 0\n",
    "    for datum in classData:\n",
    "        if datum == 1:\n",
    "            Majority_count += 1\n",
    "        elif datum == 0:\n",
    "            Minority_count += 1\n",
    "\n",
    "    minClass = 0\n",
    "    minSize = Minority_count\n",
    "    maxSize = Majority_count\n",
    "    if Minority_count > Majority_count:\n",
    "        minClass = 1\n",
    "        minSize = Majority_count\n",
    "        maxSize = Minority_count\n",
    "\n",
    "    return minClass, minSize, maxSize"
   ]
  },
  {
   "cell_type": "code",
   "execution_count": null,
   "id": "6746be83",
   "metadata": {},
   "outputs": [],
   "source": [
    "def Balance_ratio(maxSize, minSize): \n",
    "    \"\"\" Input:      maxSize     The number of items in the majority class\n",
    "                    minSize     The number of items in the minority class\n",
    "\n",
    "        Returns:    BF          Number of balancing folds\n",
    "\n",
    "        Calculate the number of balancing folds needed using ratio of majority to minority class size. Double to ensure sufficient\n",
    "        majority class instances are sampled, then + 1 to make odd to allow weighted vote.\n",
    "    \"\"\"\n",
    "    Divide = maxSize/minSize\n",
    "    BF = (2 * round(Divide)) + 1 #Double ratio to nearest integer\n",
    "    return BF"
   ]
  },
  {
   "cell_type": "code",
   "execution_count": null,
   "id": "5d1241bf",
   "metadata": {},
   "outputs": [],
   "source": [
    "def balance(inData, classData, minClass, minSize):\n",
    "    \"\"\" Input:    inData          array of input data\n",
    "                  classData       array of classes assigned\n",
    "                  minorityClass   class label for the minority class\n",
    "                  minoritySize    size of the minority class\n",
    "\n",
    "        Returns: array of indexes that are of interest for a balanced dataset\n",
    "\n",
    "        Perform the actual balancing between SNPs and PDs\n",
    "    \"\"\"\n",
    "    usedLines = [False] * len(inData) #Array of false for length of data\n",
    "    for i in range(len(inData)):\n",
    "        if classData[i] == minClass:\n",
    "            usedLines[i] = True\n",
    "            \n",
    "    usedCount = 0\n",
    "    while usedCount < minSize:\n",
    "        i = rd.randrange(len(inData))\n",
    "        if usedLines[i] == False:\n",
    "            usedCount += 1\n",
    "            usedLines[i] = True       \n",
    "\n",
    "    return usedLines"
   ]
  },
  {
   "cell_type": "code",
   "execution_count": null,
   "id": "d5c54edb",
   "metadata": {},
   "outputs": [],
   "source": [
    "def balance_data(inData, classData, usedLines):\n",
    "    \"\"\"     Input:     inData      array of input training data\n",
    "                       classData   array of classes assigned to training data\n",
    "                       usedLines   array of line indexes to print\n",
    "\n",
    "            Returns:   Input_balance  Array of balanced input training data\n",
    "                       Label_balance  Array of balanced classes assigned to training data\n",
    "        Create arrays for the input training data and classes, as needed for predicting the probability.\n",
    "        The index [i] is the identifier between the two arrays\n",
    "    \"\"\"\n",
    "    Input_balance = []\n",
    "    Label_balance = []\n",
    "    for i in range(len(inData)):\n",
    "        if usedLines[i]:\n",
    "            Input_balance.append(inData[i])\n",
    "            Label_balance.append(classData[i])\n",
    "            \n",
    "    Input_balance = np.stack(Input_balance, axis =0)\n",
    "    Label_balance = np.stack(Label_balance, axis =0)\n",
    "    \n",
    "    return Input_balance, Label_balance"
   ]
  },
  {
   "cell_type": "markdown",
   "id": "27419a33",
   "metadata": {},
   "source": [
    "### Balance for n folds"
   ]
  },
  {
   "cell_type": "code",
   "execution_count": null,
   "id": "12239dc9",
   "metadata": {
    "scrolled": false
   },
   "outputs": [],
   "source": [
    "def Balance_Folds(BF, usedLines, Input_balance, Label_balance):\n",
    "    \"\"\" Input:      BF                Number of balancing folds needed\n",
    "                    usedLines         Array of line indexes to print\n",
    "                    Input_balance     Input_balance  Array of balanced input training data\n",
    "                    Label_balance     Array of balanced classes assigned to training data\n",
    "\n",
    "        Returns:    Input_folds       List of 5 balanced arrays of training data\n",
    "                    Output_folds      List of 5 balanced arrays of training data's labels\n",
    "\n",
    "        Perform the balance_data() function n number of balancing fold times. Return lists for training data and labels\n",
    "        where each item is the output of balance_data()\n",
    "    \"\"\"\n",
    "    Input_folds = []\n",
    "    Output_folds = []\n",
    "    for fold in range(BF):\n",
    "        Input_folds.append(Input_balance)\n",
    "        Output_folds.append(Label_balance)\n",
    "\n",
    "\n",
    "    with open('Balanced training data.txt', 'w') as f:\n",
    "        for number, fold in zip(range(BF), Input_folds):\n",
    "            f.write(f\"Fold: {number}\\n\\n{fold}\\n\\n\\n\")\n",
    "        \n",
    "    return Input_folds, Output_folds"
   ]
  },
  {
   "cell_type": "markdown",
   "id": "21cd1aaa",
   "metadata": {},
   "source": [
    "### RFC hyperparameter tuning"
   ]
  },
  {
   "cell_type": "code",
   "execution_count": null,
   "id": "0840d9dc",
   "metadata": {
    "scrolled": true
   },
   "outputs": [],
   "source": [
    " def Hyperparameter(BF, Input_folds, Output_folds):\n",
    "    \"\"\" Input:      BF                Number of balancing folds needed\n",
    "                    Input_folds       List of 5 balanced arrays of training data\n",
    "                    Output_folds      List of 5 balanced arrays of training data's labels\n",
    "\n",
    "        Returns:    BF_RFC_HP         List of optimized hyperparameters for each RFC\n",
    "\n",
    "        Perform RandomSearchCV on each RFC to optimize number of trees, max depth and max samples\n",
    "    \"\"\"  \n",
    "    estimator = RandomForestClassifier()\n",
    "    param_grid = {\n",
    "                'n_estimators':np.arange(50,500,50),\n",
    "                'max_depth': np.arange(2, 10, 2),\n",
    "                'max_samples': np.arange(0.2, 1.2, 0.2)\n",
    "                  }\n",
    "    BF_RFC_HP = []\n",
    "\n",
    "    for i in range(BF):\n",
    "        HPtuning = RandomizedSearchCV(\n",
    "            estimator,\n",
    "            param_grid, \n",
    "            scoring = 'balanced_accuracy',\n",
    "            cv = 10,\n",
    "            n_jobs = 6, #how many cores to run in parallel\n",
    "            verbose = 2\n",
    "            ).fit(Input_folds[i], Output_folds[i].ravel())\n",
    "        BF_RFC_HP.append(HPtuning.best_params_)\n",
    "    \n",
    "    return(BF_RFC_HP)"
   ]
  },
  {
   "cell_type": "markdown",
   "id": "796af0e8",
   "metadata": {},
   "source": [
    "### Train RFC on balanced dataset"
   ]
  },
  {
   "cell_type": "code",
   "execution_count": null,
   "id": "1decd7a3",
   "metadata": {},
   "outputs": [],
   "source": [
    "def BF_training(BF, Input_folds, Output_folds, BF_RFC_HP, Seed): \n",
    "    \"\"\" Input:      BF              Number of balancing folds\n",
    "                    Input_folds     List of 5 balanced arrays for training data\n",
    "                    Output_folds    List of 5 balanced arrays of training data's labels\n",
    "\n",
    "        Returns:    BF_RFC          List of RFC's trained on data in each balancing fold\n",
    "\n",
    "        Create a model that returns probability predictions for each fold, using Balance_Fold() as input\n",
    "    \"\"\"    \n",
    "    BF_RFC = []\n",
    "    \n",
    "    for i in range(BF):\n",
    "        BF_RFC.append(RandomForestClassifier(\n",
    "                                             random_state = Seed,\n",
    "                                             verbose = 1\n",
    "                                            )) #Generates a RF for each fold \n",
    "        BF_RFC[i].fit(Input_folds[i], Output_folds[i].ravel()) #Fits the RFC to balanced training data    \n",
    "        \n",
    "    return BF_RFC"
   ]
  },
  {
   "cell_type": "markdown",
   "id": "b0dd278c",
   "metadata": {},
   "source": [
    "#### Test RFC on test set"
   ]
  },
  {
   "cell_type": "code",
   "execution_count": null,
   "id": "acc41cbb",
   "metadata": {},
   "outputs": [],
   "source": [
    "def BFC_test(BF_RFC, Input_test):\n",
    "    \"\"\" Input:  BF_RFC          List of RFC's trained on data in each balancing fold\n",
    "                Input_test      20% unseen testing data split before the balancing folds\n",
    "                \n",
    "        Returns:Prob_matrix     List of arrays. Each item is 2D matrix where the 1st dimension is each subset in balancing fold, \n",
    "                                2nd dimension is predicted probability\n",
    "    \n",
    "        Test the trained RFCs on the test set, then for every instance, outputs the predicted probability for each class\n",
    "    \"\"\"\n",
    "    Prob_matrix = [] #Empty list\n",
    "    Prob_matrixlist = []\n",
    "    for i in range(len(BF_RFC)):\n",
    "        Prob_list = BF_RFC[i].predict_proba(Input_test.values)\n",
    "        Prob_matrix.append(Prob_list)   \n",
    "        \n",
    "    with open('Test probabilities.txt', 'w') as f:\n",
    "        for number, line in zip(range(BF), Prob_matrix ):\n",
    "            f.write(f\"Fold: {number}\\n\\n   SNP    PD\\n{line}\\n\\n\\n\")\n",
    "\n",
    "    return Prob_matrix"
   ]
  },
  {
   "cell_type": "markdown",
   "id": "0c4b8fdd",
   "metadata": {},
   "source": [
    "### Weighted voting"
   ]
  },
  {
   "cell_type": "code",
   "execution_count": null,
   "id": "71033215",
   "metadata": {},
   "outputs": [],
   "source": [
    "def Weighted_Vote(Prob_matrix, BF):\n",
    "    \"\"\" Input:      Prob_matrix     List of arrays. 2D matrix where the 1st dimension is each subset in balancing fold, \n",
    "                                    2nd dimension is predicted probability\n",
    "                    BF              Number of balancing folds\n",
    "\n",
    "        Returns:    Final_vote      Weighted vote classification\n",
    "\n",
    "        Calculate the final weighted vote using confidence scores (Sc). Binary classification formula Sc = 2|S0 - 0.5|\n",
    "    \"\"\"\n",
    "    Sc_PD = [] #Empty list\n",
    "    Sc_SNP = [] #Empty list\n",
    "    for i in range(BF):\n",
    "        Sc_PD.append(2* (Prob_matrix[i][:,1] - 0.5)) #Confidence scores for PD, for each fold\n",
    "        Sc_SNP.append(2*(Prob_matrix[i][:,0] - 0.5)) #Confidence scores for SNP, for each fold\n",
    "    \n",
    "\n",
    "    Sum_PD = np.sum(Sc_PD, axis = 0) #Sum of all PD confidence scores. 1D Array\n",
    "    Sum_SNP = np.sum(Sc_SNP, axis = 0) #Sum of all SNP confidence scores. 1D Array     \n",
    "\n",
    "    Vote_arr = [] #Empty list\n",
    "    \n",
    "    for i in range(len(Classes_test)):\n",
    "        if Sum_PD[i] >= Sum_SNP[i]:\n",
    "            Vote_arr.append([1]) #Append PD classifications to list\n",
    "        elif Sum_SNP[i] > Sum_PD[i]:\n",
    "            Vote_arr.append([0]) #Append SNP classifications to list\n",
    "            \n",
    "    Final_vote = np.stack(Vote_arr) #Converts list of arrays to a 2D array, shape (674,1)\n",
    "    Final_vote = Final_vote.ravel() #Flattens 2D array to 1D array\n",
    "        \n",
    "    return(Final_vote, Sum_PD, Sum_SNP) #Returns the final confidence scores\n"
   ]
  },
  {
   "cell_type": "markdown",
   "id": "a18f5b78",
   "metadata": {},
   "source": [
    "### Final confidence"
   ]
  },
  {
   "cell_type": "code",
   "execution_count": null,
   "id": "2ae1157a",
   "metadata": {},
   "outputs": [],
   "source": [
    "def Final_score(Sum_PD, Sum_SNP, BF):\n",
    "    \"\"\" Input:      Sum_PD      Sum of confidence score for PD predictions\n",
    "                    Sum_SNP     Sum of confidence score for SNP predictions\n",
    "\n",
    "        Returns:    S_out        Final confidence score\n",
    "\n",
    "        Calculate the final confidence score\n",
    "    \"\"\"\n",
    "    \n",
    "    S_Out = np.abs((Sum_PD - Sum_SNP) /(BF*2))\n",
    "    np.savetxt('S_out.txt', S_Out, \"%.3f\")\n",
    "    \n",
    "    return S_Out\n"
   ]
  },
  {
   "cell_type": "code",
   "execution_count": null,
   "id": "92f36545",
   "metadata": {
    "scrolled": true
   },
   "outputs": [],
   "source": [
    "def evalutation(Classes_test, Final_vote, S_Out):\n",
    "    \"\"\" Input:      Classes_test       Class label test data\n",
    "                    Final_vote         Weighted vote classification\n",
    "\n",
    "        Evaluation metrics from RFC on test data with\n",
    "    \"\"\"\n",
    "    Output_pred = Final_vote\n",
    "    print(f\"              ***Final Evaluation***\\n\")\n",
    "    print(f\"Confusion Matrix:\\n {confusion_matrix(Classes_test, Output_pred)}\")\n",
    "    print(f\"{classification_report(Classes_test, Output_pred)}\\nMCC                {matthews_corrcoef(Classes_test, Output_pred)}\")\n",
    "    \n",
    "    print(f\"See file 'Classification.txt' for final classifications and confidence scores\")\n",
    "    np.savetxt('Classification.txt',\n",
    "           np.column_stack([Final_vote, S_Out]),\n",
    "           fmt = [\"%.0f\",\"%.3f\"],\n",
    "           delimiter =\"      \",\n",
    "           header = \"Final classifications and confidence scores\\n\\n\"\n",
    "          )\n",
    "    "
   ]
  },
  {
   "cell_type": "markdown",
   "id": "aa67e232",
   "metadata": {},
   "source": [
    "### Main Program"
   ]
  },
  {
   "cell_type": "code",
   "execution_count": null,
   "id": "8b6b8f6c",
   "metadata": {},
   "outputs": [],
   "source": [
    "Seed                         = Random_Seed()\n",
    "\n",
    "file                         = 'E2.csv'\n",
    "Input, Output                = Clean_data(file)\n",
    "RFC, Input_test, Classes_test, Input_train, Classes_train = train(Input, Output, Seed)\n",
    "test(RFC,Input_test, Classes_test)\n",
    "\n",
    "inData                       = pd.DataFrame(Input_train).to_numpy()\n",
    "classData                    = pd.DataFrame(Classes_train).to_numpy()\n",
    "\n",
    "minClass, minSize, maxSize   = find_minority_class(classData)\n",
    "BF                           = Balance_ratio(maxSize, minSize)\n",
    "usedLines                    = balance(inData, classData, minClass, minSize)\n",
    "\n",
    "Input_balance, Label_balance = balance_data(inData, classData, usedLines)\n",
    "Input_folds, Output_folds    = Balance_Folds(BF, usedLines, Input_balance, Label_balance)\n",
    "\n",
    "BF_RFC_HP                    = Hyperparameter(BF, Input_folds, Output_folds)\n",
    "BF_RFC                       = BF_training(BF, Input_folds, Output_folds, BF_RFC_HP, Seed)\n",
    "Prob_matrix                  = BFC_test(BF_RFC, Input_test)\n",
    "\n",
    "Final_vote, Sum_PD, Sum_SNP  = Weighted_Vote(Prob_matrix, BF)\n",
    "S_Out                        = Final_score(Sum_PD, Sum_SNP, BF)\n",
    "\n",
    "evalutation(Classes_test, Final_vote,S_Out)\n"
   ]
  },
  {
   "cell_type": "code",
   "execution_count": null,
   "id": "1ab48735",
   "metadata": {},
   "outputs": [],
   "source": []
  }
 ],
 "metadata": {
  "kernelspec": {
   "display_name": "Python 3 (ipykernel)",
   "language": "python",
   "name": "python3"
  },
  "language_info": {
   "codemirror_mode": {
    "name": "ipython",
    "version": 3
   },
   "file_extension": ".py",
   "mimetype": "text/x-python",
   "name": "python",
   "nbconvert_exporter": "python",
   "pygments_lexer": "ipython3",
   "version": "3.10.7"
  },
  "varInspector": {
   "cols": {
    "lenName": 16,
    "lenType": 16,
    "lenVar": 40
   },
   "kernels_config": {
    "python": {
     "delete_cmd_postfix": "",
     "delete_cmd_prefix": "del ",
     "library": "var_list.py",
     "varRefreshCmd": "print(var_dic_list())"
    },
    "r": {
     "delete_cmd_postfix": ") ",
     "delete_cmd_prefix": "rm(",
     "library": "var_list.r",
     "varRefreshCmd": "cat(var_dic_list()) "
    }
   },
   "oldHeight": 337.844,
   "position": {
    "height": "40px",
    "left": "1536px",
    "right": "20px",
    "top": "112px",
    "width": "354px"
   },
   "types_to_exclude": [
    "module",
    "function",
    "builtin_function_or_method",
    "instance",
    "_Feature"
   ],
   "varInspector_section_display": "none",
   "window_display": true
  }
 },
 "nbformat": 4,
 "nbformat_minor": 5
}
