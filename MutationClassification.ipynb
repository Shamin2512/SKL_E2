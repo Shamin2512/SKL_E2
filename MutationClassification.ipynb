{
 "cells": [
  {
   "cell_type": "markdown",
   "id": "0fcba82d",
   "metadata": {},
   "source": [
    "### Import library"
   ]
  },
  {
   "cell_type": "code",
   "execution_count": 17,
   "id": "5d94d2bb",
   "metadata": {},
   "outputs": [
    {
     "data": {
      "text/plain": [
       "' Example 2 is inbalanced data set; ~2200 in PD and ~1100 in SNP\\n    Goal is to predict if mutation is SNP or PD\\n    ImprovedBalancing branch\\n    \\n    Total samples: 3368\\n    2254 PD samples\\n    1111 SNP samples\\n'"
      ]
     },
     "execution_count": 17,
     "metadata": {},
     "output_type": "execute_result"
    }
   ],
   "source": [
    "\"\"\" Example 2 is inbalanced data set; ~2200 in PD and ~1100 in SNP\n",
    "    Goal is to predict if mutation is SNP or PD\n",
    "    ImprovedBalancing branch\n",
    "    \n",
    "    Total samples: 3368\n",
    "    2254 PD samples\n",
    "    1111 SNP samples\n",
    "\"\"\""
   ]
  },
  {
   "cell_type": "code",
   "execution_count": 18,
   "id": "5737f62f",
   "metadata": {},
   "outputs": [],
   "source": [
    "\n",
    "\"\"\" Imports the required libraries and packages\n",
    "\"\"\"\n",
    "\n",
    "import pandas as pd  #Import for data manipulation in dataframes\n",
    "import numpy as np  #Array manipulation and calculates mean\n",
    "\n",
    "import random as rd\n",
    "\n",
    "from sklearn.metrics import(\n",
    "    matthews_corrcoef,  # CC for evaluation\n",
    "    f1_score,  #F1 score for evaluation\n",
    "    confusion_matrix,  #Creates the confusion matrix - stats on how accurate the test set output is\n",
    "    classification_report #Returns the F1 socre, precision, and recall of a prediction using a given model\n",
    "    )\n",
    "from sklearn.model_selection import(\n",
    "    train_test_split,  # Splits data frame into the training set and testing set\n",
    "    GridSearchCV,  # Cross validation to improve hyperparameters\n",
    "    StratifiedKFold\n",
    "        )\n",
    "from sklearn.ensemble import RandomForestClassifier #SK learn API for classificastion random forests\n",
    "from sklearn.tree import DecisionTreeClassifier #Single tree decisions \n",
    "from sklearn.preprocessing import StandardScaler\n",
    "from sklearn.linear_model import LogisticRegression\n",
    "from sklearn.pipeline import make_pipeline\n",
    "from sklearn.neighbors import KNeighborsClassifier #allows for confidence scores to be predicted for each\n",
    "\n",
    "np.set_printoptions(threshold=np.inf) #full array printing"
   ]
  },
  {
   "cell_type": "markdown",
   "id": "3ddcc865",
   "metadata": {},
   "source": [
    "### Clean dataset in pandas"
   ]
  },
  {
   "cell_type": "code",
   "execution_count": 19,
   "id": "62413d95",
   "metadata": {},
   "outputs": [],
   "source": [
    "def Clean_data():\n",
    "    \"\"\" Input:      file        The dataset to read\n",
    "\n",
    "        Returns:    Input       Dataframe with of input features for training\n",
    "                    Output      Dataframe of class labels for each instance in Input\n",
    "\n",
    "        Create, clean and convert dataset E2.csv to PD dataframe. Drops uneeded columns, removes blank spaces, \n",
    "        and applies \"One Hot Encoding\" to convert PD/SNP to 1/0\n",
    "    \"\"\"\n",
    "\n",
    "    df = pd.read_csv('E2.csv')\n",
    "\n",
    "    #Remove unrequired column, replace blank spaces, reset index to run from 0\n",
    "    df.drop(['pdbcode:chain:resnum:mutation'], axis=1, inplace=True)\n",
    "    df.replace(' ', '_', regex=True, inplace=True)\n",
    "    df.reset_index(drop=True, inplace = True)\n",
    "\n",
    "    Input = df.drop('dataset', axis =1).fillna('0') #Should remove the row \n",
    "    Output_encoded = pd.get_dummies(df, columns=['dataset']) #Encode the PD and SNP columns\n",
    "    Output = Output_encoded['dataset_pd'].copy().astype('int32') #PD = 1, SNP = 0\n",
    "\n",
    "    return Input, Output"
   ]
  },
  {
   "cell_type": "markdown",
   "id": "bb451c9e",
   "metadata": {},
   "source": [
    "### Split into training and testing, generate RF (whole dataset)"
   ]
  },
  {
   "cell_type": "code",
   "execution_count": 20,
   "id": "bbfacd1c",
   "metadata": {},
   "outputs": [],
   "source": [
    "def train(Input, Output):\n",
    "    \"\"\" Input:      Input           Dataframe with of input features for training\n",
    "                    Output          Dataframe of class labels for each instance in Input\n",
    "\n",
    "        Returns:    Input_train     Features training data\n",
    "                    Input_test      Features test data\n",
    "                    Classes_train   Class label training data\n",
    "                    Classes_test    Class label test data\n",
    "\n",
    "        80% training and 20% testing split. Strartify ensures fixed poportion of labels are in both sets. \n",
    "        Random forest defined as RFC with 1000 trees, seed = 42. Outputs the training data to files.\n",
    "        \"\"\"\n",
    "\n",
    "    Input_train, Input_test, Classes_train, Classes_test = train_test_split(Input, Output, train_size = 0.8, random_state=42, stratify=Output) \n",
    "    RFC = RandomForestClassifier(random_state = 42, n_estimators = 1000, verbose = 1)\n",
    "    RFC.fit(Input_train, Classes_train)\n",
    "\n",
    "    with open('Training Data.txt', 'w') as file: #Writes class labels for all instances to text file\n",
    "        file.write(Input_train.to_string())\n",
    "    with open('Class labels.txt', 'w') as file: #Writes class labels for all instances to text file\n",
    "        file.write(Classes_train.to_string())\n",
    "    with open('Test Data.txt', 'w') as file: #Writes class labels for all instances to text file\n",
    "        file.write(Input_test.to_string())\n",
    "    with open('Test labels.txt', 'w') as file: #Writes class labels for all instances to text file\n",
    "        file.write(Classes_test.to_string())\n",
    "\n",
    "    return RFC, Input_test, Classes_test, Input_train, Classes_train"
   ]
  },
  {
   "cell_type": "markdown",
   "id": "b2e8b7f5",
   "metadata": {},
   "source": [
    "### Initial evaluation"
   ]
  },
  {
   "cell_type": "code",
   "execution_count": 22,
   "id": "cf8d9857",
   "metadata": {},
   "outputs": [],
   "source": [
    "def test(RFC, Input_test, Classes_test):\n",
    "    \"\"\" Input:  Input_test      Features test data\n",
    "                Classes_test    Class label test data\n",
    "\n",
    "        Evaluates the training data. Random forest classifier makes prediction using the test features. True values \n",
    "        are the class labels testing data\n",
    "    \"\"\"\n",
    "\n",
    "    Output_pred = RFC.predict(Input_test) #Always perdict on the unseen test data, as train has been used by the estimastor\n",
    "    print(f\"Confusion Matrix:\\n {confusion_matrix(Classes_test, Output_pred)}\")\n",
    "    print(f\"{classification_report(Classes_test, Output_pred)}\\nMCC                {matthews_corrcoef(Classes_test, Output_pred)}\")\n"
   ]
  },
  {
   "cell_type": "code",
   "execution_count": 23,
   "id": "c10ad630",
   "metadata": {
    "scrolled": true
   },
   "outputs": [
    {
     "name": "stderr",
     "output_type": "stream",
     "text": [
      "[Parallel(n_jobs=1)]: Using backend SequentialBackend with 1 concurrent workers.\n",
      "[Parallel(n_jobs=1)]: Done 1000 out of 1000 | elapsed:    4.1s finished\n"
     ]
    },
    {
     "name": "stdout",
     "output_type": "stream",
     "text": [
      "Confusion Matrix:\n",
      " [[145  78]\n",
      " [ 27 424]]\n",
      "              precision    recall  f1-score   support\n",
      "\n",
      "           0       0.84      0.65      0.73       223\n",
      "           1       0.84      0.94      0.89       451\n",
      "\n",
      "    accuracy                           0.84       674\n",
      "   macro avg       0.84      0.80      0.81       674\n",
      "weighted avg       0.84      0.84      0.84       674\n",
      "\n",
      "MCC                0.6371468255225344\n"
     ]
    },
    {
     "name": "stderr",
     "output_type": "stream",
     "text": [
      "[Parallel(n_jobs=1)]: Using backend SequentialBackend with 1 concurrent workers.\n",
      "[Parallel(n_jobs=1)]: Done 1000 out of 1000 | elapsed:    0.0s finished\n"
     ]
    }
   ],
   "source": [
    "Input, Output = Clean_data()\n",
    "RFC, Input_test, Classes_test, Input_train, Classes_train = train(Input, Output)\n",
    "test(RFC,Input_test, Classes_test)"
   ]
  },
  {
   "cell_type": "code",
   "execution_count": 7,
   "id": "1344ddd8",
   "metadata": {},
   "outputs": [
    {
     "name": "stdout",
     "output_type": "stream",
     "text": [
      "223 SNP samples\n",
      "451 PD samples\n"
     ]
    }
   ],
   "source": [
    "a = 0\n",
    "b = 0\n",
    "for i in Classes_test:\n",
    "    if i == 0:\n",
    "        a = a + 1\n",
    "    if i == 1:\n",
    "        b = b + 1\n",
    "print(f\"{a} SNP samples\")\n",
    "print(f\"{b} PD samples\")"
   ]
  },
  {
   "cell_type": "markdown",
   "id": "a335a585",
   "metadata": {},
   "source": [
    "### Balancing"
   ]
  },
  {
   "cell_type": "code",
   "execution_count": 24,
   "id": "6b6924e9",
   "metadata": {},
   "outputs": [],
   "source": [
    "def find_minority_class(classData):\n",
    "    \"\"\" Input:    classData  Array of class labels\n",
    "        Returns:  minClass   The label for the minority class\n",
    "                  minSize    The number of items in the minority class\n",
    "                  maxSize    The number of items in the majority class\n",
    "    Finds information about the inbalance in class sizes\n",
    "    \"\"\"\n",
    "    \n",
    "    Minority_count = 0\n",
    "    Majority_count = 0\n",
    "    for datum in classData:\n",
    "        if datum == 1:\n",
    "            Majority_count += 1\n",
    "        elif datum == 0:\n",
    "            Minority_count += 1\n",
    "\n",
    "    minClass = 0\n",
    "    minSize = Minority_count\n",
    "    maxSize = Majority_count\n",
    "    if Minority_count > Majority_count:\n",
    "        minClass = 1\n",
    "        minSize = Majority_count\n",
    "        maxSize = Minority_count\n",
    "\n",
    "    return minClass, minSize, maxSize"
   ]
  },
  {
   "cell_type": "code",
   "execution_count": 25,
   "id": "6746be83",
   "metadata": {},
   "outputs": [],
   "source": [
    "\"\"\" Input:      maxSize     The number of items in the majority class\n",
    "                minSize     The number of items in the minority class\n",
    "                \n",
    "    Returns:    BF          Number of balancing folds\n",
    "    \n",
    "    Calculate the number of balancing folds needed using ratio of majority to minority class size. Double to ensure sufficient\n",
    "    majority class instances are sampled, then + 1 to make odd to allow weighted vote.\n",
    "\"\"\"\n",
    "def Balance_ratio(maxSize, minSize): \n",
    "    Divide = maxSize/minSize\n",
    "    BF = (2 * round(Divide)) + 1 #Double ratio to nearest integer\n",
    "    return BF"
   ]
  },
  {
   "cell_type": "code",
   "execution_count": 26,
   "id": "5d1241bf",
   "metadata": {},
   "outputs": [],
   "source": [
    "def balance(inData, classData, minClass, minSize):\n",
    "    \"\"\" Input:    inData          array of input data\n",
    "                  classData       array of classes assigned\n",
    "                  minorityClass   class label for the minority class\n",
    "                  minoritySize    size of the minority class\n",
    "                  \n",
    "         Returns: array of indexes that are of interest for a \n",
    "                  balanced dataset\n",
    "\n",
    "    Perform the actual balancing between SNPs and PDs\n",
    "    \"\"\"\n",
    "    \n",
    "    usedLines = [False] * len(inData) #Array of false for length of data\n",
    "    for i in range(len(inData)):\n",
    "        if classData[i] == minClass:\n",
    "            usedLines[i] = True\n",
    "            \n",
    "    usedCount = 0\n",
    "    while usedCount < minSize:\n",
    "        i = rd.randrange(len(inData))\n",
    "        if usedLines[i] == False:\n",
    "            usedCount += 1\n",
    "            usedLines[i] = True       \n",
    "\n",
    "    return usedLines"
   ]
  },
  {
   "cell_type": "code",
   "execution_count": 27,
   "id": "d5c54edb",
   "metadata": {},
   "outputs": [],
   "source": [
    "def balance_data(inData, classData, usedLines):\n",
    "    \"\"\" Input:     inData      array of input training data\n",
    "                   classData   array of classes assigned to training data\n",
    "                   usedLines   array of line indexes to print\n",
    "                \n",
    "        Returns:   Input_balance  Array of balanced input training data\n",
    "                   Label_balance  Array of balanced classes assigned to training data\n",
    "\n",
    "    Create arrays for the input training data and its corresponding classes, as needed for predicting the probability.\n",
    "    The index [i] is the identifier between the two arrays\n",
    "    \"\"\"\n",
    "    Input_balance = []\n",
    "    Label_balance = []\n",
    "    for i in range(len(inData)):\n",
    "        if usedLines[i]:\n",
    "            Input_balance.append(inData[i])\n",
    "            Label_balance.append(classData[i])\n",
    "            \n",
    "    Input_balance = np.stack(Input_balance, axis =0)\n",
    "    Label_balance = np.stack(Label_balance, axis =0)\n",
    "    \n",
    "    return Input_balance, Label_balance"
   ]
  },
  {
   "cell_type": "markdown",
   "id": "27419a33",
   "metadata": {},
   "source": [
    "### Balance for n folds"
   ]
  },
  {
   "cell_type": "code",
   "execution_count": 28,
   "id": "12239dc9",
   "metadata": {
    "scrolled": false
   },
   "outputs": [],
   "source": [
    "\"\"\" Input:      BF                Number of balancing folds needed\n",
    "                usedLines         Array of line indexes to print\n",
    "                Input_balance     Input_balance  Array of balanced input training data\n",
    "                Label_balance     Array of balanced classes assigned to training data\n",
    "\n",
    "    Returns:    Input_folds       List of 5 balanced arrays of training data\n",
    "                Output_folds      List of 5 balanced arrays of training data's labels\n",
    "\n",
    "    Performs the balance_data() function n number of balancing fold times. Returns lists for training data and labels\n",
    "    where each item is the output of balance_data()\n",
    "\"\"\"\n",
    "def Balance_Folds(BF, usedLines, Input_balance, Label_balance):\n",
    "    Input_folds = []\n",
    "    Output_folds = []\n",
    "    for fold in range(BF):\n",
    "        Input_folds.append(Input_balance)\n",
    "        Output_folds.append(Label_balance)\n",
    "        \n",
    "    return Input_folds, Output_folds"
   ]
  },
  {
   "cell_type": "markdown",
   "id": "796af0e8",
   "metadata": {},
   "source": [
    "### Train RFC on balanced dataset"
   ]
  },
  {
   "cell_type": "code",
   "execution_count": 38,
   "id": "1decd7a3",
   "metadata": {},
   "outputs": [],
   "source": [
    "def BF_training(BF, Input_folds, Output_folds): \n",
    "    \"\"\" Input:      BF              Number of balancing folds\n",
    "                    Input_folds     List of 5 balanced arrays for training data\n",
    "                    Output_folds    List of 5 balanced arrays of training data's labels\n",
    "\n",
    "        Returns:    BF_RFC          List of RFC's trained on data in each balancing fold\n",
    "\n",
    "        Creates a model that returns probability predictions for each fold, using Balance_Fold() as input\n",
    "    \"\"\"    \n",
    "    BF_RFC = []\n",
    "    \n",
    "    for i in range(BF):\n",
    "        BF_RFC.append(RandomForestClassifier(random_state = 42, n_estimators = 1000, verbose = 1)) #Defines a Random Forest for each fold. 42 seeds, 1000 trees\n",
    "        BF_RFC[i].fit(Input_folds[i], Output_folds[i].ravel()) #Generates a random forest for each fold's training data        \n",
    "        \n",
    "    return BF_RFC"
   ]
  },
  {
   "cell_type": "code",
   "execution_count": 39,
   "id": "acc41cbb",
   "metadata": {},
   "outputs": [],
   "source": [
    "def BFC_test(BF_RFC, Input_test):\n",
    "    \"\"\" Input:  BF_RFC          List of RFC's trained on data in each balancing fold\n",
    "                Input_test      20% unseen testing data split before the balancing folds\n",
    "                \n",
    "    Returns:    Prob_matrix      2D matrix where the 1st dimension is each subset in balancing fold, \n",
    "                                 2nd dimension is predicted probability\n",
    "    \n",
    "    Tests the trained RFCs on the test set, then for every instance, outputs the predicted probability for each class\n",
    "    \"\"\"\n",
    "    Prob_matrix = [] #Empty list\n",
    "    Prob_matrixlist = []\n",
    "    for i in range(len(BF_RFC)): #step through item in\n",
    "        Prob_list = BF_RFC[i].predict_proba(Input_test.values)\n",
    "        Prob_matrix.append(Prob_list)\n",
    "        \n",
    "        Output_pred = BF_RFC[i].predict(Input_test.values)\n",
    "        print(f\"{matthews_corrcoef(Classes_test, Output_pred)}\")    \n",
    "              \n",
    "        \n",
    "    with open('Balanced probabilities.txt', 'w') as f:\n",
    "        for number, line in zip(range(BF), Prob_matrix ):\n",
    "            f.write(f\"Fold: {number}\\n\\n   SNP    PD\\n{line}\\n\\n\\n\")\n",
    "\n",
    "    return Prob_matrix"
   ]
  },
  {
   "cell_type": "markdown",
   "id": "0c4b8fdd",
   "metadata": {},
   "source": [
    "### Weighted voting"
   ]
  },
  {
   "cell_type": "code",
   "execution_count": 63,
   "id": "71033215",
   "metadata": {},
   "outputs": [],
   "source": [
    "\"\"\" Input:      Prob_matrix     2D matrix where the 1st dimension is each subset in balancing fold, \n",
    "                                2nd dimension is predicted probability\n",
    "                BF              Number of balancing folds\n",
    "                \n",
    "    Returns:    S_Out           Confidence score for each predictor\n",
    "    \n",
    "    Calculates the final confidence score. Binary classification formula Sc = 2|S0 - 0.5|\n",
    "\"\"\"\n",
    "def Weighted_Vote(Prob_matrix, BF):\n",
    "    Score_PD = []\n",
    "    Score_SNP = []\n",
    "    for i in range(BF):\n",
    "        Score_PD.append(2* np.abs(Prob_matrix[i][:,1] - 0.5))\n",
    "        Score_PD.append(2* np.abs(Prob_matrix[i][:,0] - 0.5))\n",
    "        \n",
    "#     PD_Count = 0\n",
    "#     SNP_Count = 0\n",
    "#     FinalClass = []\n",
    "#     for i in range(len(Score_PD)):\n",
    "#         if Score_PD[i] >= Score_SNP[i]:\n",
    "#             PD_Count += 1\n",
    "#             FinalClass.append(round(S_Out[i]))\n",
    "#         elif S_Out[i] < 0.5:\n",
    "#             SNP_Count += 1\n",
    "#             FinalClass.append(round(S_Out[i]))\n",
    "            \n",
    "#     np.savetxt('S_out.txt', S_Out, \"%.3f\")\n",
    "    \n",
    "    return(Score_PD, Score_SNP) #Returns the final confidence scores\n"
   ]
  },
  {
   "cell_type": "code",
   "execution_count": 69,
   "id": "9f4d015d",
   "metadata": {},
   "outputs": [
    {
     "name": "stdout",
     "output_type": "stream",
     "text": [
      "F\n"
     ]
    }
   ],
   "source": [
    "Score_PD, Score_SNP = Weighted_Vote(Prob_matrix, BF)\n",
    "if Score_PD == Score_SNP:\n",
    "    print(\"T\")\n",
    "else:\n",
    "    print(\"F\")"
   ]
  },
  {
   "cell_type": "code",
   "execution_count": null,
   "id": "a322d7eb",
   "metadata": {},
   "outputs": [],
   "source": [
    "\"\"\" Input:      S_Out       Confidence score for each predictor\n",
    "                \n",
    "    Returns:    Vote        Number of PDs and SNPs predicted after weighted vote\n",
    "    \n",
    "    Calculates the final confidence score\n",
    "\"\"\"\n",
    "def Final_vote(S_Out):\n",
    "    \n",
    "    SNP_Count = 0\n",
    "    PD_Count = 0\n",
    "    FinalClass = []\n",
    "    for i in range(len(S_Out)):\n",
    "        if S_Out[i] >= 0.5:\n",
    "            PD_Count += 1\n",
    "            FinalClass.append(round(S_Out[i]))\n",
    "        elif S_Out[i] < 0.5:\n",
    "            SNP_Count += 1\n",
    "            FinalClass.append(round(S_Out[i]))\n",
    "    \n",
    "    return FinalClass\n"
   ]
  },
  {
   "cell_type": "code",
   "execution_count": 37,
   "id": "9ce6740d",
   "metadata": {},
   "outputs": [
    {
     "name": "stderr",
     "output_type": "stream",
     "text": [
      "[Parallel(n_jobs=1)]: Using backend SequentialBackend with 1 concurrent workers.\n",
      "[Parallel(n_jobs=1)]: Done 1000 out of 1000 | elapsed:    3.1s finished\n",
      "[Parallel(n_jobs=1)]: Using backend SequentialBackend with 1 concurrent workers.\n",
      "[Parallel(n_jobs=1)]: Done 1000 out of 1000 | elapsed:    3.0s finished\n",
      "[Parallel(n_jobs=1)]: Using backend SequentialBackend with 1 concurrent workers.\n",
      "[Parallel(n_jobs=1)]: Done 1000 out of 1000 | elapsed:    3.1s finished\n",
      "[Parallel(n_jobs=1)]: Using backend SequentialBackend with 1 concurrent workers.\n",
      "[Parallel(n_jobs=1)]: Done 1000 out of 1000 | elapsed:    3.1s finished\n",
      "[Parallel(n_jobs=1)]: Using backend SequentialBackend with 1 concurrent workers.\n",
      "[Parallel(n_jobs=1)]: Done 1000 out of 1000 | elapsed:    3.1s finished\n",
      "[Parallel(n_jobs=1)]: Using backend SequentialBackend with 1 concurrent workers.\n",
      "[Parallel(n_jobs=1)]: Done 1000 out of 1000 | elapsed:    0.0s finished\n",
      "[Parallel(n_jobs=1)]: Using backend SequentialBackend with 1 concurrent workers.\n",
      "[Parallel(n_jobs=1)]: Done 1000 out of 1000 | elapsed:    0.0s finished\n",
      "[Parallel(n_jobs=1)]: Using backend SequentialBackend with 1 concurrent workers.\n",
      "[Parallel(n_jobs=1)]: Done 1000 out of 1000 | elapsed:    0.0s finished\n",
      "[Parallel(n_jobs=1)]: Using backend SequentialBackend with 1 concurrent workers.\n"
     ]
    },
    {
     "name": "stdout",
     "output_type": "stream",
     "text": [
      "0.6463795377941435\n"
     ]
    },
    {
     "name": "stderr",
     "output_type": "stream",
     "text": [
      "[Parallel(n_jobs=1)]: Done 1000 out of 1000 | elapsed:    0.1s finished\n",
      "[Parallel(n_jobs=1)]: Using backend SequentialBackend with 1 concurrent workers.\n",
      "[Parallel(n_jobs=1)]: Done 1000 out of 1000 | elapsed:    0.0s finished\n",
      "[Parallel(n_jobs=1)]: Using backend SequentialBackend with 1 concurrent workers.\n"
     ]
    },
    {
     "name": "stdout",
     "output_type": "stream",
     "text": [
      "0.6463795377941435\n"
     ]
    },
    {
     "name": "stderr",
     "output_type": "stream",
     "text": [
      "[Parallel(n_jobs=1)]: Done 1000 out of 1000 | elapsed:    0.0s finished\n",
      "[Parallel(n_jobs=1)]: Using backend SequentialBackend with 1 concurrent workers.\n",
      "[Parallel(n_jobs=1)]: Done 1000 out of 1000 | elapsed:    0.0s finished\n",
      "[Parallel(n_jobs=1)]: Using backend SequentialBackend with 1 concurrent workers.\n"
     ]
    },
    {
     "name": "stdout",
     "output_type": "stream",
     "text": [
      "0.6463795377941435\n"
     ]
    },
    {
     "name": "stderr",
     "output_type": "stream",
     "text": [
      "[Parallel(n_jobs=1)]: Done 1000 out of 1000 | elapsed:    0.0s finished\n",
      "[Parallel(n_jobs=1)]: Using backend SequentialBackend with 1 concurrent workers.\n",
      "[Parallel(n_jobs=1)]: Done 1000 out of 1000 | elapsed:    0.0s finished\n",
      "[Parallel(n_jobs=1)]: Using backend SequentialBackend with 1 concurrent workers.\n"
     ]
    },
    {
     "name": "stdout",
     "output_type": "stream",
     "text": [
      "0.6463795377941435\n",
      "0.6463795377941435\n"
     ]
    },
    {
     "name": "stderr",
     "output_type": "stream",
     "text": [
      "[Parallel(n_jobs=1)]: Done 1000 out of 1000 | elapsed:    0.0s finished\n"
     ]
    }
   ],
   "source": [
    "# file = 'E2.csv'\n",
    "# Input, Output = Clean_data(file)\n",
    "\n",
    "inData    = pd.DataFrame(Input_train).to_numpy()\n",
    "classData = pd.DataFrame(Classes_train).to_numpy()\n",
    "\n",
    "minClass, minSize, maxSize   = find_minority_class(classData)\n",
    "BF                           = Balance_ratio(maxSize, minSize)\n",
    "usedLines                    = balance(inData, classData, minClass, minSize)\n",
    "\n",
    "Input_balance, Label_balance = balance_data(inData, classData, usedLines)\n",
    "Input_folds, Output_folds    = Balance_Folds(BF, usedLines, Input_balance, Label_balance)\n",
    "\n",
    "BF_RFC                       = BF_training(BF, Input_folds, Output_folds)\n",
    "Prob_matrix                  = BFC_test(BF_RFC, Input_test)\n",
    "\n",
    "# S_Out                        = Score(Prob_matrix, BF)\n",
    "\n"
   ]
  },
  {
   "cell_type": "code",
   "execution_count": 52,
   "id": "84ee4d17",
   "metadata": {},
   "outputs": [
    {
     "data": {
      "text/plain": [
       "array([0.401, 0.084, 0.767, 0.686, 0.273, 0.238, 0.149, 0.838, 0.902,\n",
       "       0.084, 0.222, 0.444, 0.203, 0.876, 0.181, 0.457, 0.432, 0.673,\n",
       "       0.131, 0.402, 0.128, 0.492, 0.575, 0.244, 0.533, 0.397, 0.009,\n",
       "       0.124, 0.401, 0.328, 0.111, 0.322, 0.309, 0.148, 0.18 , 0.205,\n",
       "       0.563, 0.524, 0.189, 0.328, 0.955, 0.436, 0.783, 0.022, 0.133,\n",
       "       0.409, 0.175, 0.402, 0.437, 0.141, 0.355, 0.822, 0.075, 0.032,\n",
       "       0.3  , 0.12 , 0.064, 0.894, 0.459, 0.04 , 0.31 , 0.662, 0.363,\n",
       "       0.155, 0.579, 0.207, 0.252, 0.685, 0.352, 0.367, 0.146, 0.739,\n",
       "       0.369, 0.271, 0.953, 0.271, 0.381, 0.455, 0.522, 0.516, 0.36 ,\n",
       "       0.494, 0.231, 0.08 , 0.069, 0.569, 0.513, 0.252, 0.801, 0.197,\n",
       "       0.489, 0.043, 0.643, 0.397, 0.278, 0.094, 0.117, 0.637, 0.685,\n",
       "       0.105, 0.619, 0.501, 0.36 , 0.01 , 0.798, 0.812, 0.203, 0.502,\n",
       "       0.431, 0.804, 0.701, 0.823, 0.449, 0.755, 0.751, 0.464, 0.107,\n",
       "       0.232, 0.846, 0.293, 0.835, 0.772, 0.845, 0.7  , 0.947, 0.019,\n",
       "       0.561, 0.105, 0.813, 0.065, 0.146, 0.611, 0.764, 0.128, 0.068,\n",
       "       0.139, 0.779, 0.083, 0.22 , 0.372, 0.523, 0.049, 0.072, 0.19 ,\n",
       "       0.9  , 0.261, 0.834, 0.268, 0.675, 0.01 , 0.516, 0.336, 0.401,\n",
       "       0.876, 0.757, 0.244, 0.604, 0.478, 0.753, 0.24 , 0.624, 0.668,\n",
       "       0.293, 0.348, 0.235, 0.406, 0.429, 0.094, 0.177, 0.066, 0.06 ,\n",
       "       0.367, 0.168, 0.132, 0.646, 0.054, 0.182, 0.596, 0.085, 0.274,\n",
       "       0.628, 0.348, 0.209, 0.495, 0.543, 0.374, 0.11 , 0.071, 0.629,\n",
       "       0.096, 0.539, 0.782, 0.847, 0.277, 0.898, 0.845, 0.225, 0.235,\n",
       "       0.477, 0.69 , 0.321, 0.316, 0.776, 0.336, 0.057, 0.465, 0.179,\n",
       "       0.094, 0.322, 0.034, 0.274, 0.953, 0.106, 0.07 , 0.497, 0.046,\n",
       "       0.752, 0.086, 0.082, 0.542, 0.421, 0.751, 0.078, 0.203, 0.177,\n",
       "       0.656, 0.228, 0.562, 0.121, 0.017, 0.248, 0.741, 0.942, 0.051,\n",
       "       0.766, 0.182, 0.673, 0.581, 0.147, 0.13 , 0.91 , 0.313, 0.708,\n",
       "       0.835, 0.389, 0.298, 0.495, 0.67 , 0.105, 0.157, 0.324, 0.498,\n",
       "       0.175, 0.593, 0.618, 0.552, 0.736, 0.041, 0.06 , 0.302, 0.14 ,\n",
       "       0.387, 0.548, 0.163, 0.461, 0.216, 0.494, 0.38 , 0.169, 0.86 ,\n",
       "       0.595, 0.596, 0.688, 0.368, 0.265, 0.709, 0.65 , 0.226, 0.113,\n",
       "       0.761, 0.429, 0.265, 0.079, 0.845, 0.079, 0.068, 0.291, 0.021,\n",
       "       0.834, 0.56 , 0.127, 0.081, 0.581, 0.332, 0.223, 0.404, 0.347,\n",
       "       0.204, 0.342, 0.496, 0.34 , 0.072, 0.529, 0.735, 0.127, 0.041,\n",
       "       0.099, 0.668, 0.262, 0.207, 0.541, 0.288, 0.49 , 0.101, 0.115,\n",
       "       0.283, 0.008, 0.761, 0.108, 0.187, 0.173, 0.032, 0.222, 0.702,\n",
       "       0.225, 0.125, 0.813, 0.171, 0.483, 0.09 , 0.371, 0.783, 0.717,\n",
       "       0.623, 0.276, 0.198, 0.675, 0.756, 0.647, 0.445, 0.94 , 0.362,\n",
       "       0.677, 0.113, 0.323, 0.143, 0.923, 0.202, 0.717, 0.253, 0.8  ,\n",
       "       0.248, 0.615, 0.433, 0.739, 0.342, 0.52 , 0.653, 0.399, 0.195,\n",
       "       0.215, 0.376, 0.395, 0.249, 0.156, 0.513, 0.421, 0.266, 0.731,\n",
       "       0.062, 0.502, 0.479, 0.831, 0.069, 0.688, 0.416, 0.697, 0.48 ,\n",
       "       0.78 , 0.674, 0.885, 0.693, 0.108, 0.165, 0.218, 0.324, 0.764,\n",
       "       0.665, 0.488, 0.175, 0.589, 0.481, 0.218, 0.783, 0.434, 0.467,\n",
       "       0.148, 0.786, 0.846, 0.11 , 0.405, 0.813, 0.542, 0.088, 0.426,\n",
       "       0.239, 0.343, 0.574, 0.698, 0.641, 0.05 , 0.391, 0.603, 0.514,\n",
       "       0.436, 0.486, 0.343, 0.348, 0.616, 0.223, 0.525, 0.579, 0.205,\n",
       "       0.403, 0.518, 0.384, 0.06 , 0.588, 0.496, 0.112, 0.243, 0.492,\n",
       "       0.058, 0.805, 0.706, 0.321, 0.063, 0.76 , 0.731, 0.665, 0.344,\n",
       "       0.091, 0.344, 0.052, 0.621, 0.889, 0.381, 0.529, 0.219, 0.339,\n",
       "       0.789, 0.576, 0.904, 0.114, 0.611, 0.767, 0.837, 0.561, 0.316,\n",
       "       0.507, 0.881, 0.215, 0.777, 0.633, 0.282, 0.482, 0.851, 0.094,\n",
       "       0.813, 0.461, 0.629, 0.414, 0.121, 0.186, 0.854, 0.192, 0.566,\n",
       "       0.707, 0.021, 0.796, 0.018, 0.607, 0.09 , 0.317, 0.578, 0.77 ,\n",
       "       0.466, 0.59 , 0.538, 0.739, 0.848, 0.082, 0.616, 0.384, 0.582,\n",
       "       0.76 , 0.339, 0.443, 0.138, 0.752, 0.165, 0.233, 0.035, 0.85 ,\n",
       "       0.163, 0.235, 0.715, 0.816, 0.313, 0.8  , 0.024, 0.384, 0.197,\n",
       "       0.418, 0.557, 0.11 , 0.13 , 0.169, 0.672, 0.168, 0.543, 0.414,\n",
       "       0.03 , 0.857, 0.605, 0.661, 0.677, 0.267, 0.122, 0.424, 0.204,\n",
       "       0.816, 0.637, 0.883, 0.116, 0.873, 0.724, 0.27 , 0.433, 0.374,\n",
       "       0.161, 0.073, 0.221, 0.921, 0.435, 0.493, 0.026, 0.343, 0.863,\n",
       "       0.251, 0.457, 0.763, 0.302, 0.123, 0.651, 0.193, 0.007, 0.224,\n",
       "       0.376, 0.291, 0.083, 0.423, 0.214, 0.555, 0.064, 0.723, 0.503,\n",
       "       0.229, 0.34 , 0.115, 0.751, 0.668, 0.678, 0.597, 0.027, 0.231,\n",
       "       0.071, 0.242, 0.724, 0.745, 0.222, 0.198, 0.862, 0.523, 0.774,\n",
       "       0.33 , 0.163, 0.101, 0.63 , 0.835, 0.121, 0.42 , 0.857, 0.7  ,\n",
       "       0.371, 0.176, 0.813, 0.61 , 0.108, 0.235, 0.166, 0.09 , 0.119,\n",
       "       0.202, 0.656, 0.309, 0.467, 0.504, 0.025, 0.701, 0.075, 0.543,\n",
       "       0.524, 0.127, 0.096, 0.89 , 0.882, 0.586, 0.044, 0.059, 0.445,\n",
       "       0.253, 0.709, 0.241, 0.057, 0.356, 0.046, 0.007, 0.12 , 0.724,\n",
       "       0.215, 0.887, 0.724, 0.257, 0.753, 0.566, 0.316, 0.342, 0.79 ,\n",
       "       0.178, 0.702, 0.592, 0.591, 0.465, 0.472, 0.914, 0.572, 0.5  ,\n",
       "       0.66 , 0.14 , 0.106, 0.268, 0.027, 0.092, 0.337, 0.187, 0.864,\n",
       "       0.324, 0.162, 0.514, 0.759, 0.519, 0.558, 0.527, 0.423, 0.643,\n",
       "       0.375, 0.162, 0.255, 0.66 , 0.072, 0.205, 0.799, 0.466])"
      ]
     },
     "execution_count": 52,
     "metadata": {},
     "output_type": "execute_result"
    }
   ],
   "source": [
    "Prob_matrix[0][:,1]"
   ]
  },
  {
   "cell_type": "code",
   "execution_count": null,
   "id": "92f36545",
   "metadata": {
    "scrolled": true
   },
   "outputs": [],
   "source": [
    "# Final_vote(S_Out)) #Always perdict on the unseen test data, as train has been used by the estimastor\n",
    "Output_pred = Final_vote(S_Out)\n",
    "\n",
    "print(f\"Confusion Matrix:\\n {confusion_matrix(Classes_test, Output_pred)}\")\n",
    "print(f\"{classification_report(Classes_test, Output_pred)}\\nMCC                {matthews_corrcoef(Classes_test, Output_pred)}\")"
   ]
  },
  {
   "cell_type": "code",
   "execution_count": null,
   "id": "6e9a01ac",
   "metadata": {},
   "outputs": [],
   "source": []
  }
 ],
 "metadata": {
  "kernelspec": {
   "display_name": "Python 3 (ipykernel)",
   "language": "python",
   "name": "python3"
  },
  "language_info": {
   "codemirror_mode": {
    "name": "ipython",
    "version": 3
   },
   "file_extension": ".py",
   "mimetype": "text/x-python",
   "name": "python",
   "nbconvert_exporter": "python",
   "pygments_lexer": "ipython3",
   "version": "3.10.7"
  },
  "varInspector": {
   "cols": {
    "lenName": 16,
    "lenType": 16,
    "lenVar": 40
   },
   "kernels_config": {
    "python": {
     "delete_cmd_postfix": "",
     "delete_cmd_prefix": "del ",
     "library": "var_list.py",
     "varRefreshCmd": "print(var_dic_list())"
    },
    "r": {
     "delete_cmd_postfix": ") ",
     "delete_cmd_prefix": "rm(",
     "library": "var_list.r",
     "varRefreshCmd": "cat(var_dic_list()) "
    }
   },
   "oldHeight": 337.844,
   "position": {
    "height": "359.844px",
    "left": "1536px",
    "right": "20px",
    "top": "112px",
    "width": "354px"
   },
   "types_to_exclude": [
    "module",
    "function",
    "builtin_function_or_method",
    "instance",
    "_Feature"
   ],
   "varInspector_section_display": "block",
   "window_display": false
  }
 },
 "nbformat": 4,
 "nbformat_minor": 5
}
