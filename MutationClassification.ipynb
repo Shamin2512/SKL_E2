{
 "cells": [
  {
   "cell_type": "markdown",
   "id": "0fcba82d",
   "metadata": {},
   "source": [
    "### Import library"
   ]
  },
  {
   "cell_type": "code",
   "execution_count": 1,
   "id": "5d94d2bb",
   "metadata": {},
   "outputs": [
    {
     "data": {
      "text/plain": [
       "' Example 2 is inbalanced data set; ~2200 in PD and ~1100 in SNP\\n    Goal is to predict if mutation is SNP or PD\\n    improve_MCC branch\\n    \\n    Total samples: 3368\\n    2254 PD samples\\n    1111 SNP samples\\n    3 NA samples\\n'"
      ]
     },
     "execution_count": 1,
     "metadata": {},
     "output_type": "execute_result"
    }
   ],
   "source": [
    "\"\"\" Example 2 is inbalanced data set; ~2200 in PD and ~1100 in SNP\n",
    "    Goal is to predict if mutation is SNP or PD\n",
    "    improve_MCC branch\n",
    "    \n",
    "    Total samples: 3368\n",
    "    2254 PD samples\n",
    "    1111 SNP samples\n",
    "    3 NA samples\n",
    "\"\"\""
   ]
  },
  {
   "cell_type": "code",
   "execution_count": 2,
   "id": "5737f62f",
   "metadata": {},
   "outputs": [],
   "source": [
    "\"\"\" Imports the required libraries and packages \"\"\"\n",
    "\n",
    "import pandas as pd                                                              # Data manipulation in dataframes\n",
    "import numpy as np                                                               # Array manipulation\n",
    "from numpy import random\n",
    "\n",
    "import random as rd                                                              # Random seed generation\n",
    "import time                                                                      # Time program run time\n",
    "import sys\n",
    "\n",
    "import matplotlib.pyplot as plt\n",
    "from matplotlib.patches import Patch                                             # CV visualise\n",
    "cmap_data = plt.cm.Paired\n",
    "cmap_cv = plt.cm.coolwarm\n",
    "\n",
    "from sklearn.metrics import(\n",
    "    matthews_corrcoef,                                                           # MCC for evaluation\n",
    "    # balanced_accuracy_score, #hyperparameter evaluation\n",
    "    # f1_score,  #hyperparameter evaluation\n",
    "    confusion_matrix,                                                            # Confusion matrix for classification evalutation\n",
    "    classification_report                                                        # Return the F1, precision, and recall of a prediction\n",
    "    )\n",
    "\n",
    "from sklearn.model_selection import(\n",
    "    train_test_split,                                                            # Splits data frame into the training set and testing set\n",
    "    # GridSearchCV,  # Searches all hyperparameters\n",
    "    # RandomizedSearchCV, # Searches random range of hyperparameters\n",
    "    GroupKFold                                                                   # K-fold CV with as groups\n",
    "        )\n",
    "\n",
    "from sklearn.utils import shuffle\n",
    "from sklearn.ensemble import RandomForestClassifier                              # SK learn API for classificastion random forests\n",
    "\n",
    "np.set_printoptions(precision = 3,threshold=np.inf, suppress=True)               # Full array printing"
   ]
  },
  {
   "cell_type": "markdown",
   "id": "bb451c9e",
   "metadata": {},
   "source": [
    "### Split dataset into training and validation sets"
   ]
  },
  {
   "cell_type": "code",
   "execution_count": 3,
   "id": "bbfacd1c",
   "metadata": {},
   "outputs": [],
   "source": [
    "def Train_Test_Split(file):\n",
    "    \"\"\"      \n",
    "    Input:      file             Pre-processed dataset done by PDB2AC script\n",
    "\n",
    "    Returns:    Training_Set     80% training set split\n",
    "                Testing_Set      20% testing set split\n",
    "                \n",
    "    80% training and 20% testing split. Splits are shuffled randomly and index reset\n",
    "    \"\"\"\n",
    "    AC_dataset                  = pd.read_csv(file)    \n",
    "    Training_Set, Testing_Set   = train_test_split(AC_dataset,train_size = 0.8)\n",
    "    \n",
    "    Training_Set.reset_index(drop=True, inplace = True) #Drop index to avoid training on index values\n",
    "    Testing_Set.reset_index(drop=True, inplace = True)  #Reset index after splitting for compatability with CV()\n",
    "        \n",
    "    Training_Set                = Training_Set.sample(frac = 1) #Shuffle data after splitting\n",
    "    Testing_Set                 = Testing_Set.sample(frac = 1)\n",
    "    \n",
    "    return Training_Set, Testing_Set"
   ]
  },
  {
   "cell_type": "markdown",
   "id": "b2e8b7f5",
   "metadata": {},
   "source": [
    "### Initial evaluation"
   ]
  },
  {
   "cell_type": "code",
   "execution_count": 4,
   "id": "cf8d9857",
   "metadata": {},
   "outputs": [],
   "source": [
    "def test(Training_Set, Testing_Set):\n",
    "    \"\"\" \n",
    "    Input:  Training_Set   Training data\n",
    "            Testing_Set    Testing data\n",
    "\n",
    "    Evaluate training data before CV and balancing. Random forest classifier for prediction on the test data. \n",
    "    True values are testing data class labels\n",
    "    \"\"\"\n",
    "    Initial_train  = Training_Set.drop(['dataset_pd','AC Code'], axis=1, inplace = False)\n",
    "    labels_train   = Training_Set['dataset_pd'].astype('int32')\n",
    "\n",
    "    \n",
    "    Initial_test   = Testing_Set.drop(['dataset_pd','AC Code'],axis=1, inplace = False)\n",
    "    labels_test    = Testing_Set['dataset_pd'].astype('int32')\n",
    "    \n",
    "    RFC_initial    = RandomForestClassifier()\n",
    "    RFC_initial.fit(Initial_train, labels_train)\n",
    "\n",
    "    Output_pred    = RFC_initial.predict(Initial_test)\n",
    "    \n",
    "    print(f\"              **Initial Evaluation**\")\n",
    "    print(f\"Confusion Matrix:\\n {confusion_matrix(labels_test, Output_pred)}\")\n",
    "    print(f\"MCC              {matthews_corrcoef(labels_test, Output_pred)}\\n\")\n"
   ]
  },
  {
   "cell_type": "markdown",
   "id": "05b3a2df",
   "metadata": {},
   "source": [
    "## Group K-fold CV (outer loop)"
   ]
  },
  {
   "cell_type": "code",
   "execution_count": 5,
   "id": "975ff775",
   "metadata": {},
   "outputs": [],
   "source": [
    "def CV(Training_Set):\n",
    "    \"\"\"      \n",
    "    Input:      Training_Set     80% training set split\n",
    "            \n",
    "    Returns:    IT_list         List of training features for each fold\n",
    "                LT_list         List of training class labels for each fold\n",
    "                IV_list         List of validation features for each fold\n",
    "                LV_list         List of validation class labels for each fold\n",
    "\n",
    "    Group K-fold CV with protein groups separated between training and validation sets for each fold. Creates 5 folds.\n",
    "    \"\"\"\n",
    "    \n",
    "    Input_CV       = Training_Set.drop(['dataset_pd'], axis =1)         #Features for training\n",
    "    Output_CV      = Training_Set['dataset_pd'].copy().astype('int32')  #Class labels for training\n",
    "    Protein_Groups = Training_Set['AC Code'].to_list()                  #List of proteins for grouping\n",
    "        \n",
    "    CV             = GroupKFold(n_splits = 5)                           #Creates 5 splits\n",
    "    \n",
    "    IT_list = []\n",
    "    LT_list = []\n",
    "    IV_list = []\n",
    "    LV_list = []\n",
    "    \n",
    "    for train_idx, val_idx in CV.split(Input_CV, Output_CV, Protein_Groups): #Generates the indices to be used for a training and validation split. Indicies are unique to train/ val sets\n",
    "                               \n",
    "        Input_train                        = Input_CV.loc[train_idx]         #New dataframe from selected indices\n",
    "        Classes_train                      = Output_CV.loc[train_idx]\n",
    "        Input_train.drop(['AC Code'], axis = 1, inplace = True)              #Group identifer not needed for training\n",
    "                \n",
    "        Input_val                          = Input_CV.loc[val_idx]\n",
    "        Classes_val                        = Output_CV.loc[val_idx]\n",
    "        Input_val.drop(['AC Code'], axis   = 1, inplace = True)\n",
    "\n",
    "        IT_list.append(Input_train)       \n",
    "        LT_list.append(Classes_train)\n",
    "        IV_list.append(Input_val)\n",
    "        LV_list.append(Classes_val)\n",
    "        \n",
    "\n",
    "    return(IT_list, LT_list, IV_list, LV_list)\n"
   ]
  },
  {
   "attachments": {},
   "cell_type": "markdown",
   "id": "1931bdca",
   "metadata": {},
   "source": [
    "### CV visualize"
   ]
  },
  {
   "cell_type": "code",
   "execution_count": 13,
   "id": "97d0efb5",
   "metadata": {},
   "outputs": [],
   "source": [
    "def viz(Training_Set):\n",
    "    rng = np.random.RandomState(1338)\n",
    "    \n",
    "    n_points = len(Training_Set)\n",
    "    \n",
    "    X = range(len(Training_Set))\n",
    "    y = np.stack(Training_Set['dataset_pd'])\n",
    "    groups = np.stack(set(Training_Set['AC Code']))\n",
    "\n",
    "    def visualize_groups(classes, groups):\n",
    "        # Visualize dataset groups\n",
    "        fig, ax = plt.subplots()\n",
    "        ax.scatter(\n",
    "            range(len(groups)),\n",
    "            [0.5] * len(groups),\n",
    "            c=groups,\n",
    "            marker=\"_\",\n",
    "            lw=50,\n",
    "            cmap=cmap_data,\n",
    "        )\n",
    "        ax.scatter(\n",
    "            range(len(groups)),\n",
    "            [3.5] * len(groups),\n",
    "            c=classes,\n",
    "            marker=\"_\",\n",
    "            lw=50,\n",
    "            cmap=cmap_data,\n",
    "        )\n",
    "        ax.set(\n",
    "            ylim=[-1, 5],\n",
    "            yticks=[0.5, 3.5],\n",
    "            yticklabels=[\"Data\\ngroup\", \"Data\\nclass\"],\n",
    "            xlabel=\"Sample index\",\n",
    "        )\n",
    "        \n",
    "    visualize_groups(y, groups)"
   ]
  },
  {
   "cell_type": "code",
   "execution_count": 14,
   "id": "17f3c927",
   "metadata": {},
   "outputs": [
    {
     "name": "stderr",
     "output_type": "stream",
     "text": [
      "c:\\Users\\shami\\AppData\\Local\\Programs\\Python\\Python310\\lib\\site-packages\\IPython\\core\\interactiveshell.py:3433: FutureWarning: arrays to stack must be passed as a \"sequence\" type such as list or tuple. Support for non-sequence iterables such as generators is deprecated as of NumPy 1.16 and will raise an error in the future.\n",
      "  exec(code_obj, self.user_global_ns, self.user_ns)\n"
     ]
    },
    {
     "ename": "ValueError",
     "evalue": "'c' argument must be a color, a sequence of colors, or a sequence of numbers, not ['P01009' 'Q9H816' 'P42892' 'P03950' 'P08253' 'Q3U046' 'Q9UKU7' 'P15559'\n 'P00491' 'P21549' 'B2RDU6' 'P40394' 'Q16555' 'Q16790' 'P55210' 'P23467'\n 'P30793' 'E7ER61' 'Q6VVX0' 'P78504' 'P01042' 'Q8N4Q0' 'P05062' 'P17066'\n 'Q92854' 'P60174' 'O75608' 'Q15256' 'Q5SZC1' 'Q01415' 'Q6MZZ7' 'P27361'\n 'P49418' 'Q5FWE9' 'P55212' 'P16219' 'P32322' 'P07998' 'P17931' 'P30622'\n 'P02730' 'Q03013' 'P01112' 'Q68CZ1' 'O60678' 'P43403' 'Q9P0N9' 'Q5TD97'\n 'P26440' 'Q6ZNL6' 'P10635' 'Q13614' 'Q9UNF0' 'P55008' 'P53634' 'P19878'\n 'P23141' 'P09326' 'O43307' 'Q10471' 'Q93099' 'P07949' 'P45954' 'P07996'\n 'P62825' 'P35557' 'P00995' 'Q99616' 'P12271' 'P23526' 'Q15257' 'P05543'\n 'P41159' 'Q96FI4' 'Q9UQN3' 'O00391' 'P51659' 'O75396' 'P11473' 'O15392'\n 'O75563' 'Q01196' 'P36551' 'Q9GZV9' 'Q13651' 'Q9H2H8' 'P06870' 'P61769'\n 'Q86SX6' 'Q2M296' 'P13929' 'A1L461' 'P11511' 'P02753' 'P54315' 'Q03518'\n 'Q8TDP1' 'Q16678' 'Q9NY25' 'Q99697' 'P04070' 'P20933' 'P10144' 'P08236'\n 'P12429' 'B7Z7V7' 'P08235' 'Q9C035' 'P33981' 'Q06710' 'Q8N3C7' 'Q9Y617'\n 'P50225' 'Q5TC78' 'P31151' 'P06732' 'O75874' 'O94806' 'Q14565' 'P25942'\n 'P27695' 'P40223' 'P49419' 'P02649' 'P31327' 'Q9NVV9' 'Q8N9L9' 'Q9Y223'\n 'Q96LB8' 'P02768' 'P54277' 'P23415' 'P09467' 'Q48WD8' 'Q9BWS9' 'Q7LG56'\n 'P07360' 'P05771' 'Q16647' 'Q13835' 'Q92889' 'P05107' 'P19652' 'Q9NP95'\n 'P22307' 'P12318' 'Q96NA2' 'O14832' 'P06737' 'O95363' 'Q8WW01' 'Q96EY8'\n 'P11717' 'P01019' 'P52895' 'P06865' 'O43405' 'P04049' 'Q04912' 'Q8IUF8'\n 'Q16772' 'H7BXU4' 'Q9UHD0' 'Q9NZJ4' 'P17900' 'P26367' 'O14773' 'P17213'\n 'P50897' 'P00492' 'Q9H008' 'P52566' 'Q9H251' 'P07384' 'P28676' 'Q12913'\n 'Q15118' 'Q16836' 'P36952' 'P48147' 'P15735' 'P60484' 'Q9UIF7' 'P23368'\n 'P51608' 'P00813' 'P05089' 'Q9UM07' 'Q02643' 'Q14117' 'Q9P2T1' 'P52701'\n 'O00506' 'P27540' 'P22061' 'P01308' 'P50570' 'Q9HC16' 'P07858' 'Q9Y3C6'\n 'P02656' 'Q9P202' 'Q99714' 'P32942' 'Q14562' 'P11766' 'Q9Y3A5' 'P36959'\n 'P05154' 'Q04609' 'Q08AH3' 'Q8TBX8' 'P11498' 'P47989' 'P32754' 'Q96AY2'\n 'P02788' 'P68139' 'P17516' 'Q8N6T7' 'Q9BY49' 'P19429' 'P04003' 'O60671'\n 'P0C1Z0' 'O43819' 'O00625' 'P35219' 'P08637' 'P35270' 'O43557' 'Q9H171'\n 'P42702' 'P36898' 'P07148' 'Q08722' 'Q96IY4' 'P09110' 'P06276' 'Q9NW38'\n 'Q10588' 'P05106' 'P00740' 'P19801' 'Q865R3' 'Q9H347' 'Q05066' 'P50053'\n 'P09917' 'P35680' 'Q12794' 'P34896' 'P02042' 'P21953' 'P19438' 'Q9NWX6'\n 'P00749' 'Q86TM3' 'P48025' 'O14717' 'Q13144' 'P06681' 'P05162' 'Q9UH65'\n 'P00918' 'P0CH28' 'P00374' 'Q9H1E1' 'O43312' 'P18054' 'P32320' 'Q2NL95'\n 'P04141' 'P08311' 'P02763' 'P13686' 'P70452' 'P00797' 'O75815' 'O60260'\n 'Q15466' 'Q9Y6Y9' 'P07320' 'Q76LX8' 'P29084' 'Q16719' 'P00734' 'Q14353'\n 'Q13285' 'P06744' 'Q14524' 'Q01974' 'P27169' 'Q15274' 'Q8N335' 'P05177'\n 'P43146' 'P63043' 'P09871' 'Q9NP99' 'Q9P2F6' 'O00175' 'O75695' 'P07225'\n 'P04062' 'P36639' 'P38117' 'P36955' 'Q9Y253' 'P21583' 'P15814' 'P04632'\n 'P29033' 'P29372' 'Q9BYF1' 'Q6NWP4' 'Q13395' 'Q9H227' 'B4DDP9' 'P14091'\n 'Q13009' 'Q15759' 'P07195' 'P15086' 'Q03393' 'O95154' 'P08174' 'Q9NX46'\n 'P63316' 'P28033' 'P10768' 'P11532' 'Q9H3D4' 'P09960' 'P22830' 'Q5T0T0'\n 'Q06520' 'P81122' 'O95760' 'O43708' 'Q6P587' 'P04080' 'P11509' 'P45381'\n 'P09417' 'P18283' 'Q14126' 'P07316' 'P30838' 'P25054' 'P02766' 'P22735'\n 'P15382' 'P05156' 'P22033' 'Q9UHN1' 'P12544' 'P15848' 'P49959' 'P78552'\n 'P45877' 'P62877' 'Q96DC8' 'P98160' 'P06132' 'P04156' 'Q0QI92' 'Q92947'\n 'Q6EWH6' 'P01111' 'P48449' 'P22891' 'P50226' 'P46952' 'O95257' 'P12259'\n 'P14598' 'P53673' 'O15273' 'B4DSJ7' 'F5H6S3' 'O60882' 'P05181' 'P16278'\n 'O15162' 'P00367' 'P13928' 'Q7Z2W4' 'P01116' 'P04075' 'O60729' 'P16083'\n 'P20062' 'P20813' 'P02461' 'P60201' 'P29460' 'P11597' 'Q9NS23' 'P20839'\n 'P24752' 'P00325' 'Q9H6S0' 'Q92820' 'Q9BUT1' 'P68871' 'P35968' 'Q13093'\n 'Q96C23' 'P07108' 'B4DEZ9' 'P07359' 'P78540' 'V8ND28' 'O43488' 'P49366'\n 'P20718' 'O15264' 'Q62625' 'Q9Y5K2' 'Q96PE7' 'O14815' 'H2PWX8' 'P22059'\n 'P39905' 'Q9H0J9' 'P13796' 'V8PGH4' 'P14410' 'Q8TCD5' 'O43521' 'Q92956'\n 'Q9Y4X3' 'Q96KN2' 'P37231' 'P24723' 'Q14896' 'P35247' 'P51649' 'Q9UHG0'\n 'Q14376' 'O60218' 'P49748' 'Q16769' 'P26998' 'P61626' 'P04424' 'Q8IWL3'\n 'O95045' 'P22680' 'P35670' 'Q14790' 'O60543' 'O95727' 'Q07869' 'O75716'\n 'P01011' 'Q6ISU1' 'Q00796' 'P01127' 'Q9BUP3' 'P01040' 'O15305' 'Q9H0P0'\n 'P23946' 'P35609' 'P80075' 'Q03405' 'Q04771' 'P05164' 'Q9H8W5' 'P24666'\n 'P24394' 'P21359' 'Q9UG22' 'P07101' 'Q13126' 'Q9H8M2' 'O15527' 'P48060'\n 'P10147' 'Q9H777' 'Q9UBR2' 'P69891' 'P16444' 'P10746' 'Q9UN36' 'P13688'\n 'Q9Y3R4' 'Q9NRR6' 'P40855' 'P98066' 'Q8N355' 'Q9UJ78' 'P42330' 'P82980'\n 'Q8IV63' 'P00480' 'P53004' 'P53396' 'Q02763' 'Q96F10' 'Q9Y5T5' 'P30566'\n 'P23945' 'P11277' 'Q96LJ7' 'E7ETA9' 'P13716' 'O14958' 'Q6FI81' 'P00450'\n 'P10912' 'O94761' 'P00720' 'Q8IUC6' 'Q12791' 'P30281' 'P30711' 'Q9UBX0'\n 'P23280' 'P55199' 'Q8WXF7' 'O95711' 'P35520' 'A4Z6T9' 'P49638' 'P08709'\n 'P63165' 'O95050' 'P31271' 'P16871' 'Q5S007' 'O60343' 'P08319' 'P51161'\n 'P48728' 'Q06187' 'Q6IMI6' 'Q9NRW4' 'P10275' 'O76003' 'P00523' 'Q14914'\n 'O43602' 'Q8N6P7' 'P42771' 'O75146' 'P42785' 'Q9UGN5' 'P08603' 'O00444'\n 'P49902' 'P35240' 'Q13698' 'Q99062' 'Q9BZP6' 'Q5T1V6' 'P15529' 'P09210'\n 'P29218' 'B0RZ82' 'Q9UQ84' 'Q59GJ9' 'P08572' 'Q8TF42' 'P16473' 'Q9BU02'\n 'Q13490' 'P00338' 'P18440' 'Q08493' 'Q9NRG4' 'Q92506' 'P10828' 'P02655'\n 'Q03692' 'P27930' 'Q9BUD6' 'P33527' 'P22234' 'Q13469' 'O15123' 'O00187'\n 'P19971' 'P00439' 'P50613' 'Q9BS40' 'Q8NHY6' 'Q15843' 'P33764' 'P09525'\n 'P12955' 'Q16853' 'P12319' 'Q00341' 'P60891' 'P35555' 'Q15109' 'P0DP29'\n 'P10109' 'Q7L5Y1' 'P08397' 'P09543' 'Q9Y6C2' 'Q9NUV9' 'P02787' 'P61459'\n 'Q9UKV5' 'Q9NYB9' 'Q9P286' 'B4DUF0' 'Q13002' 'Q48898' 'O15119' 'P16455'\n 'B1AVT1' 'P06241' 'Q9BVJ7' 'P13727' 'P05187' 'Q8WXE9' 'P08246' 'Q9Y6K9'\n 'Q96LD8' 'P18075' 'P06280' 'P03952' 'Q59FA7' 'Q9Y3V2' 'Q68J44' 'Q06124'\n 'P20591' 'Q15465' 'Q9NWZ3' 'P17252' 'P41250' 'A8K6H1' 'P04839' 'Q5KU26'\n 'Q15583' 'Q16637' 'P69892' 'Q92619' 'Q9BY84' 'P03951' 'P00742' 'Q9UII6'\n 'Q99593' 'Q8IVI9' 'O15553' 'Q15788' 'Q9Y657' 'P60022' 'Q6P179' 'B2RA72'\n 'Q86Y07' 'Q16690' 'O00294' 'Q6UW63' 'P16435' 'P49917' 'Q08188' 'P19174'\n 'P14151' 'Q7Z699' 'Q9NTG7' 'Q96L73' 'P07098' 'Q9NY33' 'P04181' 'Q8NBK3'\n 'Q6IP22' 'Q99952' 'P36383' 'Q13501' 'P15428' 'P08514' 'P29972' 'P30084'\n 'P35222' 'P00387' 'P05067' 'P00451' 'O60844' 'P14384' 'P13569' 'P46063'\n 'A2BED6' 'P12883' 'P00326' 'P08842' 'Q9Y6U3' 'O75747' 'P04406' 'P34913'\n 'P16152' 'P52789' 'Q9P2W7' 'P50336' 'P01837' 'P10632' 'P22681' 'P21964'\n 'Q92838' 'O14931' 'Q9BV79' 'P54886' 'Q9BYC5' 'Q08257' 'Q15369' 'Q13938'\n 'P21980' 'P11217' 'P01130' 'Q9NVQ4' 'Q02127' 'O00541' 'P51800' 'O60494'\n 'P21802' 'P11712' 'Q15485' 'Q04756' 'P51570' 'P84243' 'P40121' 'Q16854'\n 'P55773' 'P28329' 'Q658P3' 'Q15814' 'P48637' 'Q86WV1' 'P40692' 'Q13216'\n 'P00441' 'Q92890' 'P27038' 'Q53FG1' 'P47712' 'P20823' 'Q04637' 'O95716'\n 'Q99551' 'Q9Y3B2' 'O95150' 'Q00266' 'E7EU58' 'P11413' 'Q9UBT6' 'Q14623'\n 'P00751' 'P54819' 'Q9NVS9' 'P07288' 'O43175' 'P11086' 'P51857' 'P17050'\n 'P10721' 'O43435' 'Q00722' 'Q02246' 'P00558' 'P17181' 'P23352' 'Q8WXI4'\n 'P42336' 'A8MUD0' 'P11177' 'P02545' 'P00488' 'Q14627' 'O76036' 'P30533'\n 'P40189' 'Q99497' 'V9HWG9' 'Q931M7' 'O15118' 'P02647' 'P41567' 'P00966'\n 'P49768' 'Q15582' 'P54756' 'P11215' 'Q9Y6K8' 'P20711' 'Q5SRE7' 'Q9UBD6'\n 'Q15126' 'P15336' 'P16368' 'P49747' 'B2RBJ7' 'P11362' 'P05120' 'P05155'\n 'P68431' 'Q7Z6Z7' 'Q12809' 'P02774' 'Q92876' 'P04090' 'Q16828' 'P01589'\n 'Q9BRG1' 'O75334' 'P35914' 'P00568' 'Q9UKL6' 'P53370' 'P00746' 'P0AEX9'\n 'P23760']",
     "output_type": "error",
     "traceback": [
      "\u001b[1;31m---------------------------------------------------------------------------\u001b[0m",
      "\u001b[1;31mValueError\u001b[0m                                Traceback (most recent call last)",
      "File \u001b[1;32mc:\\Users\\shami\\AppData\\Local\\Programs\\Python\\Python310\\lib\\site-packages\\matplotlib\\axes\\_axes.py:4367\u001b[0m, in \u001b[0;36mAxes._parse_scatter_color_args\u001b[1;34m(c, edgecolors, kwargs, xsize, get_next_color_func)\u001b[0m\n\u001b[0;32m   4366\u001b[0m \u001b[39mtry\u001b[39;00m:  \u001b[39m# Is 'c' acceptable as PathCollection facecolors?\u001b[39;00m\n\u001b[1;32m-> 4367\u001b[0m     colors \u001b[39m=\u001b[39m mcolors\u001b[39m.\u001b[39;49mto_rgba_array(c)\n\u001b[0;32m   4368\u001b[0m \u001b[39mexcept\u001b[39;00m (\u001b[39mTypeError\u001b[39;00m, \u001b[39mValueError\u001b[39;00m) \u001b[39mas\u001b[39;00m err:\n",
      "File \u001b[1;32mc:\\Users\\shami\\AppData\\Local\\Programs\\Python\\Python310\\lib\\site-packages\\matplotlib\\colors.py:487\u001b[0m, in \u001b[0;36mto_rgba_array\u001b[1;34m(c, alpha)\u001b[0m\n\u001b[0;32m    486\u001b[0m \u001b[39melse\u001b[39;00m:\n\u001b[1;32m--> 487\u001b[0m     rgba \u001b[39m=\u001b[39m np\u001b[39m.\u001b[39marray([to_rgba(cc) \u001b[39mfor\u001b[39;00m cc \u001b[39min\u001b[39;00m c])\n\u001b[0;32m    489\u001b[0m \u001b[39mif\u001b[39;00m alpha \u001b[39mis\u001b[39;00m \u001b[39mnot\u001b[39;00m \u001b[39mNone\u001b[39;00m:\n",
      "File \u001b[1;32mc:\\Users\\shami\\AppData\\Local\\Programs\\Python\\Python310\\lib\\site-packages\\matplotlib\\colors.py:487\u001b[0m, in \u001b[0;36m<listcomp>\u001b[1;34m(.0)\u001b[0m\n\u001b[0;32m    486\u001b[0m \u001b[39melse\u001b[39;00m:\n\u001b[1;32m--> 487\u001b[0m     rgba \u001b[39m=\u001b[39m np\u001b[39m.\u001b[39marray([to_rgba(cc) \u001b[39mfor\u001b[39;00m cc \u001b[39min\u001b[39;00m c])\n\u001b[0;32m    489\u001b[0m \u001b[39mif\u001b[39;00m alpha \u001b[39mis\u001b[39;00m \u001b[39mnot\u001b[39;00m \u001b[39mNone\u001b[39;00m:\n",
      "File \u001b[1;32mc:\\Users\\shami\\AppData\\Local\\Programs\\Python\\Python310\\lib\\site-packages\\matplotlib\\colors.py:299\u001b[0m, in \u001b[0;36mto_rgba\u001b[1;34m(c, alpha)\u001b[0m\n\u001b[0;32m    298\u001b[0m \u001b[39mif\u001b[39;00m rgba \u001b[39mis\u001b[39;00m \u001b[39mNone\u001b[39;00m:  \u001b[39m# Suppress exception chaining of cache lookup failure.\u001b[39;00m\n\u001b[1;32m--> 299\u001b[0m     rgba \u001b[39m=\u001b[39m _to_rgba_no_colorcycle(c, alpha)\n\u001b[0;32m    300\u001b[0m     \u001b[39mtry\u001b[39;00m:\n",
      "File \u001b[1;32mc:\\Users\\shami\\AppData\\Local\\Programs\\Python\\Python310\\lib\\site-packages\\matplotlib\\colors.py:374\u001b[0m, in \u001b[0;36m_to_rgba_no_colorcycle\u001b[1;34m(c, alpha)\u001b[0m\n\u001b[0;32m    373\u001b[0m         \u001b[39mreturn\u001b[39;00m c, c, c, alpha \u001b[39mif\u001b[39;00m alpha \u001b[39mis\u001b[39;00m \u001b[39mnot\u001b[39;00m \u001b[39mNone\u001b[39;00m \u001b[39melse\u001b[39;00m \u001b[39m1.\u001b[39m\n\u001b[1;32m--> 374\u001b[0m     \u001b[39mraise\u001b[39;00m \u001b[39mValueError\u001b[39;00m(\u001b[39mf\u001b[39m\u001b[39m\"\u001b[39m\u001b[39mInvalid RGBA argument: \u001b[39m\u001b[39m{\u001b[39;00morig_c\u001b[39m!r}\u001b[39;00m\u001b[39m\"\u001b[39m)\n\u001b[0;32m    375\u001b[0m \u001b[39m# turn 2-D array into 1-D array\u001b[39;00m\n",
      "\u001b[1;31mValueError\u001b[0m: Invalid RGBA argument: 'P01009'",
      "\nThe above exception was the direct cause of the following exception:\n",
      "\u001b[1;31mValueError\u001b[0m                                Traceback (most recent call last)",
      "\u001b[1;32mc:\\Users\\shami\\git\\SKL_E2\\MutationClassification.ipynb Cell 12\u001b[0m in \u001b[0;36m6\n\u001b[0;32m      <a href='vscode-notebook-cell:/c%3A/Users/shami/git/SKL_E2/MutationClassification.ipynb#X14sZmlsZQ%3D%3D?line=2'>3</a>\u001b[0m Training_Set, Testing_Set          \u001b[39m=\u001b[39m Train_Test_Split(file)                                 \u001b[39m#Create training and testing sets\u001b[39;00m\n\u001b[0;32m      <a href='vscode-notebook-cell:/c%3A/Users/shami/git/SKL_E2/MutationClassification.ipynb#X14sZmlsZQ%3D%3D?line=3'>4</a>\u001b[0m IT_list, LT_list, IV_list, LV_list \u001b[39m=\u001b[39m CV(Training_Set) \n\u001b[1;32m----> <a href='vscode-notebook-cell:/c%3A/Users/shami/git/SKL_E2/MutationClassification.ipynb#X14sZmlsZQ%3D%3D?line=5'>6</a>\u001b[0m viz(Training_Set)\n",
      "\u001b[1;32mc:\\Users\\shami\\git\\SKL_E2\\MutationClassification.ipynb Cell 12\u001b[0m in \u001b[0;36m3\n\u001b[0;32m     <a href='vscode-notebook-cell:/c%3A/Users/shami/git/SKL_E2/MutationClassification.ipynb#X14sZmlsZQ%3D%3D?line=20'>21</a>\u001b[0m     ax\u001b[39m.\u001b[39mscatter(\n\u001b[0;32m     <a href='vscode-notebook-cell:/c%3A/Users/shami/git/SKL_E2/MutationClassification.ipynb#X14sZmlsZQ%3D%3D?line=21'>22</a>\u001b[0m         \u001b[39mrange\u001b[39m(\u001b[39mlen\u001b[39m(groups)),\n\u001b[0;32m     <a href='vscode-notebook-cell:/c%3A/Users/shami/git/SKL_E2/MutationClassification.ipynb#X14sZmlsZQ%3D%3D?line=22'>23</a>\u001b[0m         [\u001b[39m3.5\u001b[39m] \u001b[39m*\u001b[39m \u001b[39mlen\u001b[39m(groups),\n\u001b[1;32m   (...)\u001b[0m\n\u001b[0;32m     <a href='vscode-notebook-cell:/c%3A/Users/shami/git/SKL_E2/MutationClassification.ipynb#X14sZmlsZQ%3D%3D?line=26'>27</a>\u001b[0m         cmap\u001b[39m=\u001b[39mcmap_data,\n\u001b[0;32m     <a href='vscode-notebook-cell:/c%3A/Users/shami/git/SKL_E2/MutationClassification.ipynb#X14sZmlsZQ%3D%3D?line=27'>28</a>\u001b[0m     )\n\u001b[0;32m     <a href='vscode-notebook-cell:/c%3A/Users/shami/git/SKL_E2/MutationClassification.ipynb#X14sZmlsZQ%3D%3D?line=28'>29</a>\u001b[0m     ax\u001b[39m.\u001b[39mset(\n\u001b[0;32m     <a href='vscode-notebook-cell:/c%3A/Users/shami/git/SKL_E2/MutationClassification.ipynb#X14sZmlsZQ%3D%3D?line=29'>30</a>\u001b[0m         ylim\u001b[39m=\u001b[39m[\u001b[39m-\u001b[39m\u001b[39m1\u001b[39m, \u001b[39m5\u001b[39m],\n\u001b[0;32m     <a href='vscode-notebook-cell:/c%3A/Users/shami/git/SKL_E2/MutationClassification.ipynb#X14sZmlsZQ%3D%3D?line=30'>31</a>\u001b[0m         yticks\u001b[39m=\u001b[39m[\u001b[39m0.5\u001b[39m, \u001b[39m3.5\u001b[39m],\n\u001b[0;32m     <a href='vscode-notebook-cell:/c%3A/Users/shami/git/SKL_E2/MutationClassification.ipynb#X14sZmlsZQ%3D%3D?line=31'>32</a>\u001b[0m         yticklabels\u001b[39m=\u001b[39m[\u001b[39m\"\u001b[39m\u001b[39mData\u001b[39m\u001b[39m\\n\u001b[39;00m\u001b[39mgroup\u001b[39m\u001b[39m\"\u001b[39m, \u001b[39m\"\u001b[39m\u001b[39mData\u001b[39m\u001b[39m\\n\u001b[39;00m\u001b[39mclass\u001b[39m\u001b[39m\"\u001b[39m],\n\u001b[0;32m     <a href='vscode-notebook-cell:/c%3A/Users/shami/git/SKL_E2/MutationClassification.ipynb#X14sZmlsZQ%3D%3D?line=32'>33</a>\u001b[0m         xlabel\u001b[39m=\u001b[39m\u001b[39m\"\u001b[39m\u001b[39mSample index\u001b[39m\u001b[39m\"\u001b[39m,\n\u001b[0;32m     <a href='vscode-notebook-cell:/c%3A/Users/shami/git/SKL_E2/MutationClassification.ipynb#X14sZmlsZQ%3D%3D?line=33'>34</a>\u001b[0m     )\n\u001b[1;32m---> <a href='vscode-notebook-cell:/c%3A/Users/shami/git/SKL_E2/MutationClassification.ipynb#X14sZmlsZQ%3D%3D?line=35'>36</a>\u001b[0m visualize_groups(y, groups)\n",
      "\u001b[1;32mc:\\Users\\shami\\git\\SKL_E2\\MutationClassification.ipynb Cell 12\u001b[0m in \u001b[0;36m1\n\u001b[0;32m     <a href='vscode-notebook-cell:/c%3A/Users/shami/git/SKL_E2/MutationClassification.ipynb#X14sZmlsZQ%3D%3D?line=9'>10</a>\u001b[0m \u001b[39mdef\u001b[39;00m \u001b[39mvisualize_groups\u001b[39m(classes, groups):\n\u001b[0;32m     <a href='vscode-notebook-cell:/c%3A/Users/shami/git/SKL_E2/MutationClassification.ipynb#X14sZmlsZQ%3D%3D?line=10'>11</a>\u001b[0m     \u001b[39m# Visualize dataset groups\u001b[39;00m\n\u001b[0;32m     <a href='vscode-notebook-cell:/c%3A/Users/shami/git/SKL_E2/MutationClassification.ipynb#X14sZmlsZQ%3D%3D?line=11'>12</a>\u001b[0m     fig, ax \u001b[39m=\u001b[39m plt\u001b[39m.\u001b[39msubplots()\n\u001b[1;32m---> <a href='vscode-notebook-cell:/c%3A/Users/shami/git/SKL_E2/MutationClassification.ipynb#X14sZmlsZQ%3D%3D?line=12'>13</a>\u001b[0m     ax\u001b[39m.\u001b[39;49mscatter(\n\u001b[0;32m     <a href='vscode-notebook-cell:/c%3A/Users/shami/git/SKL_E2/MutationClassification.ipynb#X14sZmlsZQ%3D%3D?line=13'>14</a>\u001b[0m         \u001b[39mrange\u001b[39;49m(\u001b[39mlen\u001b[39;49m(groups)),\n\u001b[0;32m     <a href='vscode-notebook-cell:/c%3A/Users/shami/git/SKL_E2/MutationClassification.ipynb#X14sZmlsZQ%3D%3D?line=14'>15</a>\u001b[0m         [\u001b[39m0.5\u001b[39;49m] \u001b[39m*\u001b[39;49m \u001b[39mlen\u001b[39;49m(groups),\n\u001b[0;32m     <a href='vscode-notebook-cell:/c%3A/Users/shami/git/SKL_E2/MutationClassification.ipynb#X14sZmlsZQ%3D%3D?line=15'>16</a>\u001b[0m         c\u001b[39m=\u001b[39;49mgroups,\n\u001b[0;32m     <a href='vscode-notebook-cell:/c%3A/Users/shami/git/SKL_E2/MutationClassification.ipynb#X14sZmlsZQ%3D%3D?line=16'>17</a>\u001b[0m         marker\u001b[39m=\u001b[39;49m\u001b[39m\"\u001b[39;49m\u001b[39m_\u001b[39;49m\u001b[39m\"\u001b[39;49m,\n\u001b[0;32m     <a href='vscode-notebook-cell:/c%3A/Users/shami/git/SKL_E2/MutationClassification.ipynb#X14sZmlsZQ%3D%3D?line=17'>18</a>\u001b[0m         lw\u001b[39m=\u001b[39;49m\u001b[39m50\u001b[39;49m,\n\u001b[0;32m     <a href='vscode-notebook-cell:/c%3A/Users/shami/git/SKL_E2/MutationClassification.ipynb#X14sZmlsZQ%3D%3D?line=18'>19</a>\u001b[0m         cmap\u001b[39m=\u001b[39;49mcmap_data,\n\u001b[0;32m     <a href='vscode-notebook-cell:/c%3A/Users/shami/git/SKL_E2/MutationClassification.ipynb#X14sZmlsZQ%3D%3D?line=19'>20</a>\u001b[0m     )\n\u001b[0;32m     <a href='vscode-notebook-cell:/c%3A/Users/shami/git/SKL_E2/MutationClassification.ipynb#X14sZmlsZQ%3D%3D?line=20'>21</a>\u001b[0m     ax\u001b[39m.\u001b[39mscatter(\n\u001b[0;32m     <a href='vscode-notebook-cell:/c%3A/Users/shami/git/SKL_E2/MutationClassification.ipynb#X14sZmlsZQ%3D%3D?line=21'>22</a>\u001b[0m         \u001b[39mrange\u001b[39m(\u001b[39mlen\u001b[39m(groups)),\n\u001b[0;32m     <a href='vscode-notebook-cell:/c%3A/Users/shami/git/SKL_E2/MutationClassification.ipynb#X14sZmlsZQ%3D%3D?line=22'>23</a>\u001b[0m         [\u001b[39m3.5\u001b[39m] \u001b[39m*\u001b[39m \u001b[39mlen\u001b[39m(groups),\n\u001b[1;32m   (...)\u001b[0m\n\u001b[0;32m     <a href='vscode-notebook-cell:/c%3A/Users/shami/git/SKL_E2/MutationClassification.ipynb#X14sZmlsZQ%3D%3D?line=26'>27</a>\u001b[0m         cmap\u001b[39m=\u001b[39mcmap_data,\n\u001b[0;32m     <a href='vscode-notebook-cell:/c%3A/Users/shami/git/SKL_E2/MutationClassification.ipynb#X14sZmlsZQ%3D%3D?line=27'>28</a>\u001b[0m     )\n\u001b[0;32m     <a href='vscode-notebook-cell:/c%3A/Users/shami/git/SKL_E2/MutationClassification.ipynb#X14sZmlsZQ%3D%3D?line=28'>29</a>\u001b[0m     ax\u001b[39m.\u001b[39mset(\n\u001b[0;32m     <a href='vscode-notebook-cell:/c%3A/Users/shami/git/SKL_E2/MutationClassification.ipynb#X14sZmlsZQ%3D%3D?line=29'>30</a>\u001b[0m         ylim\u001b[39m=\u001b[39m[\u001b[39m-\u001b[39m\u001b[39m1\u001b[39m, \u001b[39m5\u001b[39m],\n\u001b[0;32m     <a href='vscode-notebook-cell:/c%3A/Users/shami/git/SKL_E2/MutationClassification.ipynb#X14sZmlsZQ%3D%3D?line=30'>31</a>\u001b[0m         yticks\u001b[39m=\u001b[39m[\u001b[39m0.5\u001b[39m, \u001b[39m3.5\u001b[39m],\n\u001b[0;32m     <a href='vscode-notebook-cell:/c%3A/Users/shami/git/SKL_E2/MutationClassification.ipynb#X14sZmlsZQ%3D%3D?line=31'>32</a>\u001b[0m         yticklabels\u001b[39m=\u001b[39m[\u001b[39m\"\u001b[39m\u001b[39mData\u001b[39m\u001b[39m\\n\u001b[39;00m\u001b[39mgroup\u001b[39m\u001b[39m\"\u001b[39m, \u001b[39m\"\u001b[39m\u001b[39mData\u001b[39m\u001b[39m\\n\u001b[39;00m\u001b[39mclass\u001b[39m\u001b[39m\"\u001b[39m],\n\u001b[0;32m     <a href='vscode-notebook-cell:/c%3A/Users/shami/git/SKL_E2/MutationClassification.ipynb#X14sZmlsZQ%3D%3D?line=32'>33</a>\u001b[0m         xlabel\u001b[39m=\u001b[39m\u001b[39m\"\u001b[39m\u001b[39mSample index\u001b[39m\u001b[39m\"\u001b[39m,\n\u001b[0;32m     <a href='vscode-notebook-cell:/c%3A/Users/shami/git/SKL_E2/MutationClassification.ipynb#X14sZmlsZQ%3D%3D?line=33'>34</a>\u001b[0m     )\n",
      "File \u001b[1;32mc:\\Users\\shami\\AppData\\Local\\Programs\\Python\\Python310\\lib\\site-packages\\matplotlib\\__init__.py:1423\u001b[0m, in \u001b[0;36m_preprocess_data.<locals>.inner\u001b[1;34m(ax, data, *args, **kwargs)\u001b[0m\n\u001b[0;32m   1420\u001b[0m \u001b[39m@functools\u001b[39m\u001b[39m.\u001b[39mwraps(func)\n\u001b[0;32m   1421\u001b[0m \u001b[39mdef\u001b[39;00m \u001b[39minner\u001b[39m(ax, \u001b[39m*\u001b[39margs, data\u001b[39m=\u001b[39m\u001b[39mNone\u001b[39;00m, \u001b[39m*\u001b[39m\u001b[39m*\u001b[39mkwargs):\n\u001b[0;32m   1422\u001b[0m     \u001b[39mif\u001b[39;00m data \u001b[39mis\u001b[39;00m \u001b[39mNone\u001b[39;00m:\n\u001b[1;32m-> 1423\u001b[0m         \u001b[39mreturn\u001b[39;00m func(ax, \u001b[39m*\u001b[39m\u001b[39mmap\u001b[39m(sanitize_sequence, args), \u001b[39m*\u001b[39m\u001b[39m*\u001b[39mkwargs)\n\u001b[0;32m   1425\u001b[0m     bound \u001b[39m=\u001b[39m new_sig\u001b[39m.\u001b[39mbind(ax, \u001b[39m*\u001b[39margs, \u001b[39m*\u001b[39m\u001b[39m*\u001b[39mkwargs)\n\u001b[0;32m   1426\u001b[0m     auto_label \u001b[39m=\u001b[39m (bound\u001b[39m.\u001b[39marguments\u001b[39m.\u001b[39mget(label_namer)\n\u001b[0;32m   1427\u001b[0m                   \u001b[39mor\u001b[39;00m bound\u001b[39m.\u001b[39mkwargs\u001b[39m.\u001b[39mget(label_namer))\n",
      "File \u001b[1;32mc:\\Users\\shami\\AppData\\Local\\Programs\\Python\\Python310\\lib\\site-packages\\matplotlib\\axes\\_axes.py:4530\u001b[0m, in \u001b[0;36mAxes.scatter\u001b[1;34m(self, x, y, s, c, marker, cmap, norm, vmin, vmax, alpha, linewidths, edgecolors, plotnonfinite, **kwargs)\u001b[0m\n\u001b[0;32m   4527\u001b[0m \u001b[39mif\u001b[39;00m edgecolors \u001b[39mis\u001b[39;00m \u001b[39mNone\u001b[39;00m:\n\u001b[0;32m   4528\u001b[0m     orig_edgecolor \u001b[39m=\u001b[39m kwargs\u001b[39m.\u001b[39mget(\u001b[39m'\u001b[39m\u001b[39medgecolor\u001b[39m\u001b[39m'\u001b[39m, \u001b[39mNone\u001b[39;00m)\n\u001b[0;32m   4529\u001b[0m c, colors, edgecolors \u001b[39m=\u001b[39m \\\n\u001b[1;32m-> 4530\u001b[0m     \u001b[39mself\u001b[39;49m\u001b[39m.\u001b[39;49m_parse_scatter_color_args(\n\u001b[0;32m   4531\u001b[0m         c, edgecolors, kwargs, x\u001b[39m.\u001b[39;49msize,\n\u001b[0;32m   4532\u001b[0m         get_next_color_func\u001b[39m=\u001b[39;49m\u001b[39mself\u001b[39;49m\u001b[39m.\u001b[39;49m_get_patches_for_fill\u001b[39m.\u001b[39;49mget_next_color)\n\u001b[0;32m   4534\u001b[0m \u001b[39mif\u001b[39;00m plotnonfinite \u001b[39mand\u001b[39;00m colors \u001b[39mis\u001b[39;00m \u001b[39mNone\u001b[39;00m:\n\u001b[0;32m   4535\u001b[0m     c \u001b[39m=\u001b[39m np\u001b[39m.\u001b[39mma\u001b[39m.\u001b[39mmasked_invalid(c)\n",
      "File \u001b[1;32mc:\\Users\\shami\\AppData\\Local\\Programs\\Python\\Python310\\lib\\site-packages\\matplotlib\\axes\\_axes.py:4376\u001b[0m, in \u001b[0;36mAxes._parse_scatter_color_args\u001b[1;34m(c, edgecolors, kwargs, xsize, get_next_color_func)\u001b[0m\n\u001b[0;32m   4373\u001b[0m             \u001b[39mraise\u001b[39;00m invalid_shape_exception(c\u001b[39m.\u001b[39msize, xsize) \u001b[39mfrom\u001b[39;00m \u001b[39merr\u001b[39;00m\n\u001b[0;32m   4374\u001b[0m         \u001b[39m# Both the mapping *and* the RGBA conversion failed: pretty\u001b[39;00m\n\u001b[0;32m   4375\u001b[0m         \u001b[39m# severe failure => one may appreciate a verbose feedback.\u001b[39;00m\n\u001b[1;32m-> 4376\u001b[0m         \u001b[39mraise\u001b[39;00m \u001b[39mValueError\u001b[39;00m(\n\u001b[0;32m   4377\u001b[0m             \u001b[39mf\u001b[39m\u001b[39m\"\u001b[39m\u001b[39m'\u001b[39m\u001b[39mc\u001b[39m\u001b[39m'\u001b[39m\u001b[39m argument must be a color, a sequence of colors, \u001b[39m\u001b[39m\"\u001b[39m\n\u001b[0;32m   4378\u001b[0m             \u001b[39mf\u001b[39m\u001b[39m\"\u001b[39m\u001b[39mor a sequence of numbers, not \u001b[39m\u001b[39m{\u001b[39;00mc\u001b[39m}\u001b[39;00m\u001b[39m\"\u001b[39m) \u001b[39mfrom\u001b[39;00m \u001b[39merr\u001b[39;00m\n\u001b[0;32m   4379\u001b[0m \u001b[39melse\u001b[39;00m:\n\u001b[0;32m   4380\u001b[0m     \u001b[39mif\u001b[39;00m \u001b[39mlen\u001b[39m(colors) \u001b[39mnot\u001b[39;00m \u001b[39min\u001b[39;00m (\u001b[39m0\u001b[39m, \u001b[39m1\u001b[39m, xsize):\n\u001b[0;32m   4381\u001b[0m         \u001b[39m# NB: remember that a single color is also acceptable.\u001b[39;00m\n\u001b[0;32m   4382\u001b[0m         \u001b[39m# Besides *colors* will be an empty array if c == 'none'.\u001b[39;00m\n",
      "\u001b[1;31mValueError\u001b[0m: 'c' argument must be a color, a sequence of colors, or a sequence of numbers, not ['P01009' 'Q9H816' 'P42892' 'P03950' 'P08253' 'Q3U046' 'Q9UKU7' 'P15559'\n 'P00491' 'P21549' 'B2RDU6' 'P40394' 'Q16555' 'Q16790' 'P55210' 'P23467'\n 'P30793' 'E7ER61' 'Q6VVX0' 'P78504' 'P01042' 'Q8N4Q0' 'P05062' 'P17066'\n 'Q92854' 'P60174' 'O75608' 'Q15256' 'Q5SZC1' 'Q01415' 'Q6MZZ7' 'P27361'\n 'P49418' 'Q5FWE9' 'P55212' 'P16219' 'P32322' 'P07998' 'P17931' 'P30622'\n 'P02730' 'Q03013' 'P01112' 'Q68CZ1' 'O60678' 'P43403' 'Q9P0N9' 'Q5TD97'\n 'P26440' 'Q6ZNL6' 'P10635' 'Q13614' 'Q9UNF0' 'P55008' 'P53634' 'P19878'\n 'P23141' 'P09326' 'O43307' 'Q10471' 'Q93099' 'P07949' 'P45954' 'P07996'\n 'P62825' 'P35557' 'P00995' 'Q99616' 'P12271' 'P23526' 'Q15257' 'P05543'\n 'P41159' 'Q96FI4' 'Q9UQN3' 'O00391' 'P51659' 'O75396' 'P11473' 'O15392'\n 'O75563' 'Q01196' 'P36551' 'Q9GZV9' 'Q13651' 'Q9H2H8' 'P06870' 'P61769'\n 'Q86SX6' 'Q2M296' 'P13929' 'A1L461' 'P11511' 'P02753' 'P54315' 'Q03518'\n 'Q8TDP1' 'Q16678' 'Q9NY25' 'Q99697' 'P04070' 'P20933' 'P10144' 'P08236'\n 'P12429' 'B7Z7V7' 'P08235' 'Q9C035' 'P33981' 'Q06710' 'Q8N3C7' 'Q9Y617'\n 'P50225' 'Q5TC78' 'P31151' 'P06732' 'O75874' 'O94806' 'Q14565' 'P25942'\n 'P27695' 'P40223' 'P49419' 'P02649' 'P31327' 'Q9NVV9' 'Q8N9L9' 'Q9Y223'\n 'Q96LB8' 'P02768' 'P54277' 'P23415' 'P09467' 'Q48WD8' 'Q9BWS9' 'Q7LG56'\n 'P07360' 'P05771' 'Q16647' 'Q13835' 'Q92889' 'P05107' 'P19652' 'Q9NP95'\n 'P22307' 'P12318' 'Q96NA2' 'O14832' 'P06737' 'O95363' 'Q8WW01' 'Q96EY8'\n 'P11717' 'P01019' 'P52895' 'P06865' 'O43405' 'P04049' 'Q04912' 'Q8IUF8'\n 'Q16772' 'H7BXU4' 'Q9UHD0' 'Q9NZJ4' 'P17900' 'P26367' 'O14773' 'P17213'\n 'P50897' 'P00492' 'Q9H008' 'P52566' 'Q9H251' 'P07384' 'P28676' 'Q12913'\n 'Q15118' 'Q16836' 'P36952' 'P48147' 'P15735' 'P60484' 'Q9UIF7' 'P23368'\n 'P51608' 'P00813' 'P05089' 'Q9UM07' 'Q02643' 'Q14117' 'Q9P2T1' 'P52701'\n 'O00506' 'P27540' 'P22061' 'P01308' 'P50570' 'Q9HC16' 'P07858' 'Q9Y3C6'\n 'P02656' 'Q9P202' 'Q99714' 'P32942' 'Q14562' 'P11766' 'Q9Y3A5' 'P36959'\n 'P05154' 'Q04609' 'Q08AH3' 'Q8TBX8' 'P11498' 'P47989' 'P32754' 'Q96AY2'\n 'P02788' 'P68139' 'P17516' 'Q8N6T7' 'Q9BY49' 'P19429' 'P04003' 'O60671'\n 'P0C1Z0' 'O43819' 'O00625' 'P35219' 'P08637' 'P35270' 'O43557' 'Q9H171'\n 'P42702' 'P36898' 'P07148' 'Q08722' 'Q96IY4' 'P09110' 'P06276' 'Q9NW38'\n 'Q10588' 'P05106' 'P00740' 'P19801' 'Q865R3' 'Q9H347' 'Q05066' 'P50053'\n 'P09917' 'P35680' 'Q12794' 'P34896' 'P02042' 'P21953' 'P19438' 'Q9NWX6'\n 'P00749' 'Q86TM3' 'P48025' 'O14717' 'Q13144' 'P06681' 'P05162' 'Q9UH65'\n 'P00918' 'P0CH28' 'P00374' 'Q9H1E1' 'O43312' 'P18054' 'P32320' 'Q2NL95'\n 'P04141' 'P08311' 'P02763' 'P13686' 'P70452' 'P00797' 'O75815' 'O60260'\n 'Q15466' 'Q9Y6Y9' 'P07320' 'Q76LX8' 'P29084' 'Q16719' 'P00734' 'Q14353'\n 'Q13285' 'P06744' 'Q14524' 'Q01974' 'P27169' 'Q15274' 'Q8N335' 'P05177'\n 'P43146' 'P63043' 'P09871' 'Q9NP99' 'Q9P2F6' 'O00175' 'O75695' 'P07225'\n 'P04062' 'P36639' 'P38117' 'P36955' 'Q9Y253' 'P21583' 'P15814' 'P04632'\n 'P29033' 'P29372' 'Q9BYF1' 'Q6NWP4' 'Q13395' 'Q9H227' 'B4DDP9' 'P14091'\n 'Q13009' 'Q15759' 'P07195' 'P15086' 'Q03393' 'O95154' 'P08174' 'Q9NX46'\n 'P63316' 'P28033' 'P10768' 'P11532' 'Q9H3D4' 'P09960' 'P22830' 'Q5T0T0'\n 'Q06520' 'P81122' 'O95760' 'O43708' 'Q6P587' 'P04080' 'P11509' 'P45381'\n 'P09417' 'P18283' 'Q14126' 'P07316' 'P30838' 'P25054' 'P02766' 'P22735'\n 'P15382' 'P05156' 'P22033' 'Q9UHN1' 'P12544' 'P15848' 'P49959' 'P78552'\n 'P45877' 'P62877' 'Q96DC8' 'P98160' 'P06132' 'P04156' 'Q0QI92' 'Q92947'\n 'Q6EWH6' 'P01111' 'P48449' 'P22891' 'P50226' 'P46952' 'O95257' 'P12259'\n 'P14598' 'P53673' 'O15273' 'B4DSJ7' 'F5H6S3' 'O60882' 'P05181' 'P16278'\n 'O15162' 'P00367' 'P13928' 'Q7Z2W4' 'P01116' 'P04075' 'O60729' 'P16083'\n 'P20062' 'P20813' 'P02461' 'P60201' 'P29460' 'P11597' 'Q9NS23' 'P20839'\n 'P24752' 'P00325' 'Q9H6S0' 'Q92820' 'Q9BUT1' 'P68871' 'P35968' 'Q13093'\n 'Q96C23' 'P07108' 'B4DEZ9' 'P07359' 'P78540' 'V8ND28' 'O43488' 'P49366'\n 'P20718' 'O15264' 'Q62625' 'Q9Y5K2' 'Q96PE7' 'O14815' 'H2PWX8' 'P22059'\n 'P39905' 'Q9H0J9' 'P13796' 'V8PGH4' 'P14410' 'Q8TCD5' 'O43521' 'Q92956'\n 'Q9Y4X3' 'Q96KN2' 'P37231' 'P24723' 'Q14896' 'P35247' 'P51649' 'Q9UHG0'\n 'Q14376' 'O60218' 'P49748' 'Q16769' 'P26998' 'P61626' 'P04424' 'Q8IWL3'\n 'O95045' 'P22680' 'P35670' 'Q14790' 'O60543' 'O95727' 'Q07869' 'O75716'\n 'P01011' 'Q6ISU1' 'Q00796' 'P01127' 'Q9BUP3' 'P01040' 'O15305' 'Q9H0P0'\n 'P23946' 'P35609' 'P80075' 'Q03405' 'Q04771' 'P05164' 'Q9H8W5' 'P24666'\n 'P24394' 'P21359' 'Q9UG22' 'P07101' 'Q13126' 'Q9H8M2' 'O15527' 'P48060'\n 'P10147' 'Q9H777' 'Q9UBR2' 'P69891' 'P16444' 'P10746' 'Q9UN36' 'P13688'\n 'Q9Y3R4' 'Q9NRR6' 'P40855' 'P98066' 'Q8N355' 'Q9UJ78' 'P42330' 'P82980'\n 'Q8IV63' 'P00480' 'P53004' 'P53396' 'Q02763' 'Q96F10' 'Q9Y5T5' 'P30566'\n 'P23945' 'P11277' 'Q96LJ7' 'E7ETA9' 'P13716' 'O14958' 'Q6FI81' 'P00450'\n 'P10912' 'O94761' 'P00720' 'Q8IUC6' 'Q12791' 'P30281' 'P30711' 'Q9UBX0'\n 'P23280' 'P55199' 'Q8WXF7' 'O95711' 'P35520' 'A4Z6T9' 'P49638' 'P08709'\n 'P63165' 'O95050' 'P31271' 'P16871' 'Q5S007' 'O60343' 'P08319' 'P51161'\n 'P48728' 'Q06187' 'Q6IMI6' 'Q9NRW4' 'P10275' 'O76003' 'P00523' 'Q14914'\n 'O43602' 'Q8N6P7' 'P42771' 'O75146' 'P42785' 'Q9UGN5' 'P08603' 'O00444'\n 'P49902' 'P35240' 'Q13698' 'Q99062' 'Q9BZP6' 'Q5T1V6' 'P15529' 'P09210'\n 'P29218' 'B0RZ82' 'Q9UQ84' 'Q59GJ9' 'P08572' 'Q8TF42' 'P16473' 'Q9BU02'\n 'Q13490' 'P00338' 'P18440' 'Q08493' 'Q9NRG4' 'Q92506' 'P10828' 'P02655'\n 'Q03692' 'P27930' 'Q9BUD6' 'P33527' 'P22234' 'Q13469' 'O15123' 'O00187'\n 'P19971' 'P00439' 'P50613' 'Q9BS40' 'Q8NHY6' 'Q15843' 'P33764' 'P09525'\n 'P12955' 'Q16853' 'P12319' 'Q00341' 'P60891' 'P35555' 'Q15109' 'P0DP29'\n 'P10109' 'Q7L5Y1' 'P08397' 'P09543' 'Q9Y6C2' 'Q9NUV9' 'P02787' 'P61459'\n 'Q9UKV5' 'Q9NYB9' 'Q9P286' 'B4DUF0' 'Q13002' 'Q48898' 'O15119' 'P16455'\n 'B1AVT1' 'P06241' 'Q9BVJ7' 'P13727' 'P05187' 'Q8WXE9' 'P08246' 'Q9Y6K9'\n 'Q96LD8' 'P18075' 'P06280' 'P03952' 'Q59FA7' 'Q9Y3V2' 'Q68J44' 'Q06124'\n 'P20591' 'Q15465' 'Q9NWZ3' 'P17252' 'P41250' 'A8K6H1' 'P04839' 'Q5KU26'\n 'Q15583' 'Q16637' 'P69892' 'Q92619' 'Q9BY84' 'P03951' 'P00742' 'Q9UII6'\n 'Q99593' 'Q8IVI9' 'O15553' 'Q15788' 'Q9Y657' 'P60022' 'Q6P179' 'B2RA72'\n 'Q86Y07' 'Q16690' 'O00294' 'Q6UW63' 'P16435' 'P49917' 'Q08188' 'P19174'\n 'P14151' 'Q7Z699' 'Q9NTG7' 'Q96L73' 'P07098' 'Q9NY33' 'P04181' 'Q8NBK3'\n 'Q6IP22' 'Q99952' 'P36383' 'Q13501' 'P15428' 'P08514' 'P29972' 'P30084'\n 'P35222' 'P00387' 'P05067' 'P00451' 'O60844' 'P14384' 'P13569' 'P46063'\n 'A2BED6' 'P12883' 'P00326' 'P08842' 'Q9Y6U3' 'O75747' 'P04406' 'P34913'\n 'P16152' 'P52789' 'Q9P2W7' 'P50336' 'P01837' 'P10632' 'P22681' 'P21964'\n 'Q92838' 'O14931' 'Q9BV79' 'P54886' 'Q9BYC5' 'Q08257' 'Q15369' 'Q13938'\n 'P21980' 'P11217' 'P01130' 'Q9NVQ4' 'Q02127' 'O00541' 'P51800' 'O60494'\n 'P21802' 'P11712' 'Q15485' 'Q04756' 'P51570' 'P84243' 'P40121' 'Q16854'\n 'P55773' 'P28329' 'Q658P3' 'Q15814' 'P48637' 'Q86WV1' 'P40692' 'Q13216'\n 'P00441' 'Q92890' 'P27038' 'Q53FG1' 'P47712' 'P20823' 'Q04637' 'O95716'\n 'Q99551' 'Q9Y3B2' 'O95150' 'Q00266' 'E7EU58' 'P11413' 'Q9UBT6' 'Q14623'\n 'P00751' 'P54819' 'Q9NVS9' 'P07288' 'O43175' 'P11086' 'P51857' 'P17050'\n 'P10721' 'O43435' 'Q00722' 'Q02246' 'P00558' 'P17181' 'P23352' 'Q8WXI4'\n 'P42336' 'A8MUD0' 'P11177' 'P02545' 'P00488' 'Q14627' 'O76036' 'P30533'\n 'P40189' 'Q99497' 'V9HWG9' 'Q931M7' 'O15118' 'P02647' 'P41567' 'P00966'\n 'P49768' 'Q15582' 'P54756' 'P11215' 'Q9Y6K8' 'P20711' 'Q5SRE7' 'Q9UBD6'\n 'Q15126' 'P15336' 'P16368' 'P49747' 'B2RBJ7' 'P11362' 'P05120' 'P05155'\n 'P68431' 'Q7Z6Z7' 'Q12809' 'P02774' 'Q92876' 'P04090' 'Q16828' 'P01589'\n 'Q9BRG1' 'O75334' 'P35914' 'P00568' 'Q9UKL6' 'P53370' 'P00746' 'P0AEX9'\n 'P23760']"
     ]
    },
    {
     "data": {
      "image/png": "[encoded data removed]",
      "text/plain": [
       "<Figure size 640x480 with 1 Axes>"
      ]
     },
     "metadata": {},
     "output_type": "display_data"
    }
   ],
   "source": [
    "file = \"AC_dataset.csv\"\n",
    "\n",
    "Training_Set, Testing_Set          = Train_Test_Split(file)                                 #Create training and testing sets\n",
    "IT_list, LT_list, IV_list, LV_list = CV(Training_Set) \n",
    "\n",
    "viz(Training_Set)"
   ]
  },
  {
   "cell_type": "markdown",
   "id": "a335a585",
   "metadata": {},
   "source": [
    "## Balancing (inner loop)"
   ]
  },
  {
   "cell_type": "code",
   "execution_count": null,
   "id": "6b6924e9",
   "metadata": {},
   "outputs": [],
   "source": [
    "def find_minority_class(classData):\n",
    "    \"\"\" \n",
    "    Input:        classData  Array of class labels\n",
    "\n",
    "    Returns:      minClass   The label for the minority class\n",
    "                  minSize    The number of items in the minority class\n",
    "                  maxSize    The number of items in the majority class\n",
    "\n",
    "    Find information about class size imbalance\n",
    "    \"\"\"\n",
    "    \n",
    "    Minority_count = 0\n",
    "    Majority_count = 0\n",
    "    for datum in classData:\n",
    "        if datum == 1:\n",
    "            Majority_count += 1\n",
    "        elif datum == 0:\n",
    "            Minority_count += 1\n",
    "\n",
    "    minClass = 0\n",
    "    minSize  = Minority_count\n",
    "    maxSize  = Majority_count\n",
    "    if Minority_count > Majority_count:\n",
    "        minClass = 1\n",
    "        minSize  = Majority_count\n",
    "        maxSize  = Minority_count\n",
    "\n",
    "    return minClass, minSize, maxSize"
   ]
  },
  {
   "cell_type": "code",
   "execution_count": null,
   "id": "5d1241bf",
   "metadata": {},
   "outputs": [],
   "source": [
    "def balance(inData, classData, minClass, minSize):\n",
    "    \"\"\" \n",
    "    Input:        inData          array of input data\n",
    "                  classData       array of classes assigned\n",
    "                  minorityClass   class label for the minority class\n",
    "                  minoritySize    size of the minority class\n",
    "\n",
    "    Returns:      array of indexes that are of interest for a balanced dataset\n",
    "\n",
    "    Perform the actual balancing for a fold between SNPs and PDs\n",
    "    \"\"\"\n",
    "    usedLines = [False] * len(inData) #Array of false for length of data\n",
    "    for i in range(len(inData)):\n",
    "        if classData.array[i] == minClass:\n",
    "            usedLines[i] = True\n",
    "            \n",
    "    usedCount = 0\n",
    "    while usedCount < minSize:\n",
    "        i = rd.randrange(len(inData))\n",
    "        if usedLines[i] == False:\n",
    "            usedCount += 1\n",
    "            usedLines[i] = True       \n",
    "\n",
    "    return usedLines"
   ]
  },
  {
   "cell_type": "code",
   "execution_count": null,
   "id": "d5c54edb",
   "metadata": {},
   "outputs": [],
   "source": [
    "def balance_data(inData, classData, usedLines):\n",
    "    \"\"\"     \n",
    "    Input:      inData      array of input training data\n",
    "                classData   array of classes assigned to training data\n",
    "                usedLines   array of line indexes to print\n",
    "\n",
    "    Returns:    input_balance  Dataframe of balanced training features\n",
    "                label_balance  Dataframe of balanced training labels\n",
    "                       \n",
    "    Create dataframe of the input training data and classes used. The index [i] is the identifier between the two arrays.\n",
    "    \"\"\"\n",
    "    input_balance = []\n",
    "    label_balance = []\n",
    "    \n",
    "    for i in range(len(inData)):\n",
    "        if usedLines[i] == True:\n",
    "            input_i = inData.iloc[i]\n",
    "            input_balance.append(input_i)\n",
    "            \n",
    "            label_i = classData.iloc[i]\n",
    "            label_balance.append(label_i)\n",
    "    \n",
    "    return input_balance, label_balance"
   ]
  },
  {
   "cell_type": "markdown",
   "id": "27419a33",
   "metadata": {},
   "source": [
    "### Balance for n folds"
   ]
  },
  {
   "cell_type": "code",
   "execution_count": null,
   "id": "6746be83",
   "metadata": {},
   "outputs": [],
   "source": [
    "def Balance_ratio(maxSize, minSize): \n",
    "    \"\"\" \n",
    "    Input:      maxSize     The number of items in the majority class\n",
    "                minSize     The number of items in the minority class\n",
    "\n",
    "    Returns:    BF          Number of balancing folds\n",
    "\n",
    "    Calculate the number of balancing folds needed using ratio of majority to minority class size. Double to ensure sufficient\n",
    "    majority class instances are sampled, then + 1 to make odd to allow weighted vote.\n",
    "    \"\"\"\n",
    "    Divide = maxSize/minSize\n",
    "    BF = (2 * round(Divide)) + 1 #Double ratio to nearest integer\n",
    "    return BF"
   ]
  },
  {
   "cell_type": "code",
   "execution_count": null,
   "id": "12239dc9",
   "metadata": {
    "scrolled": false
   },
   "outputs": [],
   "source": [
    "def Balance_Folds(BF, inData, classData, minClass, minSize):\n",
    "    \"\"\" \n",
    "    Input:      BF                Number of balancing folds\n",
    "                usedLines         Array of line indices to use\n",
    "                input_balance     Dataframe of balanced training features\n",
    "                label_balance     Dataframe of balanced training labels\n",
    "                    \n",
    "    Returns:    Input_folds       List of balanced training feature folds\n",
    "                Output_folds      List of balanced training label folds\n",
    "\n",
    "    Perform the balance_data() function n number of balancing fold times. Return lists for feature data and labels\n",
    "    where each item is the output of balance_data()\n",
    "    \"\"\"\n",
    "    Input_folds  = []\n",
    "    Output_folds = []\n",
    "\n",
    "    for i in range(BF):\n",
    "        usedLines                    = balance(inData, classData, minClass, minSize)\n",
    "        input_balance, label_balance = balance_data(inData, classData, usedLines)\n",
    "        \n",
    "        Input_folds.append(input_balance)\n",
    "        Output_folds.append(label_balance)\n",
    "            \n",
    "    return Input_folds, Output_folds"
   ]
  },
  {
   "cell_type": "markdown",
   "id": "21cd1aaa",
   "metadata": {},
   "source": [
    "### RFC hyperparameter tuning"
   ]
  },
  {
   "cell_type": "code",
   "execution_count": null,
   "id": "0840d9dc",
   "metadata": {
    "scrolled": true
   },
   "outputs": [],
   "source": [
    "# def Hyperparameter(BF, Input_folds, Output_folds):\n",
    "#     \"\"\" Input:      BF                Number of balancing folds needed\n",
    "#                     Input_folds       List of 5 balanced arrays of training data\n",
    "#                     Output_folds      List of 5 balanced arrays of training data's labels\n",
    "\n",
    "#         Returns:    BF_RFC_HP         List of optimized hyperparameters for each RFC\n",
    "\n",
    "#         Perform RandomSearchCV on each RFC to optimize number of trees, max depth and max samples\n",
    "#     \"\"\"  \n",
    "#     estimator = RandomForestClassifier()\n",
    "#     param_grid = {\n",
    "#                 'n_estimators':np.arange(50,500,50),\n",
    "#                 'max_depth': np.arange(2, 10, 2),\n",
    "#                 'max_samples': np.arange(0.2, 1.2, 0.2)\n",
    "#                   }\n",
    "#     BF_RFC_HP = []\n",
    "\n",
    "#     for i in range(BF):\n",
    "#         HPtuning = RandomizedSearchCV(\n",
    "#             estimator,\n",
    "#             param_grid, \n",
    "#             scoring = 'balanced_accuracy',\n",
    "#             cv = 10,\n",
    "#             n_jobs = 6, #how many cores to run in parallel\n",
    "#             verbose = 2\n",
    "#             ).fit(Input_folds[i], Output_folds[i])\n",
    "#         BF_RFC_HP.append(HPtuning.best_params_)\n",
    "    \n",
    "#     return(BF_RFC_HP)"
   ]
  },
  {
   "cell_type": "markdown",
   "id": "796af0e8",
   "metadata": {},
   "source": [
    "### Train RFC on the trainings folds"
   ]
  },
  {
   "cell_type": "code",
   "execution_count": null,
   "id": "1decd7a3",
   "metadata": {},
   "outputs": [],
   "source": [
    "def BF_fitting(BF, Input_folds, Output_folds): \n",
    "    \"\"\" \n",
    "    Input:      BF                Number of balancing folds                      \n",
    "                Input_folds       List of balanced training feature folds\n",
    "                Output_folds      List of balanced training label folds\n",
    "\n",
    "    Returns:    BF_RFC            List of RFCs trained on each balancing fold\n",
    "\n",
    "    Create RFC model that returns probability predictions for each fold, using output of Balance_Folds() as training data\n",
    "    \"\"\"    \n",
    "    BF_RFC = []\n",
    "    for i in range(BF):\n",
    "        BF_RFC.append(RandomForestClassifier(verbose = 0)) #Generates a RFC for each fold's training data\n",
    "        BF_RFC[i].fit(Input_folds[i], Output_folds[i])     #Fits the RFC to each folds' training data\n",
    "        \n",
    "    return BF_RFC"
   ]
  },
  {
   "cell_type": "markdown",
   "id": "b0dd278c",
   "metadata": {},
   "source": [
    "#### Validate each RFC on validation set, for each fold"
   ]
  },
  {
   "cell_type": "code",
   "execution_count": null,
   "id": "acc41cbb",
   "metadata": {},
   "outputs": [],
   "source": [
    "def BF_validate(BF_RFC, ValData):\n",
    "    \"\"\" \n",
    "    Input:      BF_RFC          List of RFCs trained on balancing folds\n",
    "                ValData         Unseen validation features from CV fold\n",
    "                \n",
    "    Returns:    Prob_matrix     List of arrays. Each item is 2D matrix where the 1st dimension is each subset in balancing fold, \n",
    "                                2nd dimension is predicted probability\n",
    "    \n",
    "    Test the trained RFCs on the test set, then for every instance, outputs the predicted probability for each class\n",
    "    \"\"\"\n",
    "    \n",
    "    Prob_matrix = []\n",
    "    \n",
    "    for i in range(len(BF_RFC)):\n",
    "        Prob = BF_RFC[i].predict_proba(ValData.values) #Predicts the probability of an instance belonging to major or minor class\n",
    "        Prob_matrix.append(Prob)   \n",
    "        \n",
    "    return Prob_matrix"
   ]
  },
  {
   "cell_type": "markdown",
   "id": "0c4b8fdd",
   "metadata": {},
   "source": [
    "### Weighted voting"
   ]
  },
  {
   "cell_type": "code",
   "execution_count": null,
   "id": "71033215",
   "metadata": {},
   "outputs": [],
   "source": [
    "def Weighted_Vote(Prob_matrix):\n",
    "    \"\"\" \n",
    "    Input:      Prob_matrix     List of arrays. 2D matrix where the 1st dimension is each subset in balancing fold, \n",
    "                                2nd dimension is predicted probability\n",
    "\n",
    "    Returns:    Final_vote      Weighted vote classification\n",
    "\n",
    "    Calculate the final weighted vote using confidence scores (Sc) from Prob_matrix. Binary classification formula:\n",
    "    Sc = (S0 -T)/(1-T) if S0> T\n",
    "    Sc = (T-S0)/T if S0 < T\n",
    "    \"\"\"\n",
    "    # for fold in range(len(Prob_matrix)):      #Calculates SNP Sc all instances in each fold\n",
    "    #     Sc_SNP = []\n",
    "    #     Sc_PD = []\n",
    "    #     for i in range(len(Prob_matrix)):\n",
    "    #         Sc_SNP.append(Prob_matrix[i][:,0])\n",
    "    #         Sc_PD.append(Prob_matrix[i][:,1])\n",
    "    \n",
    "    T = 0.45                                    #Lower threshold gives more sensitivity to PDs over SNPs\n",
    "    Sc_SNP = []\n",
    "    Sc_PD = []\n",
    "\n",
    "    for fold in range(len(Prob_matrix)):        #Calculates SNP Sc all instances in each fold\n",
    "\n",
    "        Sc_SNP_fold = []                        #List of the Sc for each fold\n",
    "        for value in range(len(Prob_matrix[fold][:,0])):\n",
    "            S0 = Prob_matrix[fold][:,0][value]  #Each SNP's confidence in prob matrix fold\n",
    "            if S0 < T:\n",
    "                Sc = (T - S0)/T\n",
    "            elif S0 >= T:\n",
    "                Sc = (S0 - T)/(1 - T)        \n",
    "            Sc_SNP_fold.append(Sc)              #List of Sc for each fold\n",
    "        Sc_SNP.append(Sc_SNP_fold)              #List of folds with Sc\n",
    "\n",
    "    for fold in range(len(Prob_matrix)):        #Calculates PD Sc all instances in each fold\n",
    "        Sc_PD_fold = []\n",
    "        for value in range(len(Prob_matrix[fold][:,1])):\n",
    "            S0 = Prob_matrix[fold][:,1][value]  #Each PD's confidence in prob matrix fold\n",
    "            if S0 < T:\n",
    "                Sc = (T - S0)/T\n",
    "            elif S0 >= T:\n",
    "                Sc = (S0 - T)/(1 - T)        \n",
    "            Sc_PD_fold.append(Sc)\n",
    "        Sc_PD.append(Sc_PD_fold)\n",
    "        \n",
    "    columnSNP = np.stack(Sc_SNP)                #Covert list of lists to array, shape (5,~539)\n",
    "    columnPD  = np.stack(Sc_PD)\n",
    "\n",
    "    Sum_SNP   = np.sum(columnSNP, axis = 0)     #Sum of all SNP confidence scores. 1D Array\n",
    "    Sum_PD    = np.sum(columnPD, axis = 0)      #Sum of all PD confidence scores. 1D Array\n",
    "    \n",
    "    \n",
    "    Vote_arr  = [] \n",
    "\n",
    "    for i in range(len(Sum_PD)):\n",
    "        if Sum_PD[i] >= Sum_SNP[i]:\n",
    "            Vote_arr.append([1])                #Append PD classifications to list\n",
    "        elif Sum_SNP[i] > Sum_PD[i]:\n",
    "            Vote_arr.append([0])                #Append SNP classifications to list\n",
    "\n",
    "    Final_vote = np.stack(Vote_arr)             #Converts list of arrays to a 2D array\n",
    "    Final_vote = Final_vote.ravel()             #Flattens 2D array to 1D array\n",
    "\n",
    "    return(Final_vote, Sum_PD, Sum_SNP)         #Returns the final confidence scores\n"
   ]
  },
  {
   "cell_type": "markdown",
   "id": "a18f5b78",
   "metadata": {},
   "source": [
    "## Final confidence"
   ]
  },
  {
   "cell_type": "code",
   "execution_count": null,
   "id": "2ae1157a",
   "metadata": {},
   "outputs": [],
   "source": [
    "# def Final_score(Sum_PD, Sum_SNP, BF):\n",
    "#     \"\"\" \n",
    "#     Input:      Sum_PD      Sum of confidence score for PD predictions\n",
    "#                 Sum_SNP     Sum of confidence score for SNP predictions\n",
    "\n",
    "#     Returns:    S_out       Final confidence score\n",
    "\n",
    "#     Calculate the final confidence score\n",
    "#     \"\"\"\n",
    "    \n",
    "#     S_Out = np.abs((Sum_PD - Sum_SNP) /(BF*2))\n",
    "        \n",
    "#     return S_Out"
   ]
  },
  {
   "cell_type": "code",
   "execution_count": null,
   "id": "92f36545",
   "metadata": {
    "scrolled": true
   },
   "outputs": [],
   "source": [
    "def evalutation(Vallabel, Final_vote):\n",
    "    \"\"\" \n",
    "    Input:      Vallabel           Unseen validation class labels from CV fold\n",
    "                Final_vote         Weighted vote classification\n",
    "\n",
    "    Evaluate each fold with confusion matrix and MCC\n",
    "    \"\"\"\n",
    "    Output_pred = Final_vote\n",
    "    print(f\"-----------------------------------------------------\\n              ***Fold {folds + 1} Evaluation***\\n\")\n",
    "    print(f\"Confusion Matrix:\\n {confusion_matrix(Vallabel, Output_pred)}\")\n",
    "    print(f\"{classification_report(Vallabel, Output_pred)}\\nMCC                {matthews_corrcoef(Vallabel, Output_pred)}\\n\")"
   ]
  },
  {
   "cell_type": "markdown",
   "id": "aa67e232",
   "metadata": {},
   "source": [
    "### Main Program"
   ]
  },
  {
   "cell_type": "code",
   "execution_count": null,
   "id": "4a5a9897",
   "metadata": {
    "scrolled": false
   },
   "outputs": [],
   "source": [
    "file = \"AC_dataset.csv\"\n",
    "\n",
    "Training_Set, Testing_Set          = Train_Test_Split(file)                                 #Create training and testing sets\n",
    "test(Training_Set, Testing_Set)                                                             #Initial evaluation\n",
    "IT_list, LT_list, IV_list, LV_list = CV(Training_Set)                                       #Cross-validate training set\n",
    "\n",
    "for folds in range(len(IT_list)):                                                       \n",
    "    classData                   = LT_list[folds]                                            #Training labels\n",
    "    inData                      = IT_list[folds]                                            #Training features\n",
    "    ValData                     = IV_list[folds]                                            #Validation features\n",
    "    Vallabel                    = LV_list[folds]                                            #Validation labels\n",
    "\n",
    "    minClass, minSize, maxSize  = find_minority_class(classData)                            #Determines imbalance\n",
    "    BF                          = Balance_ratio(maxSize, minSize)                           #Determins number of balancing folds needed\n",
    "    Input_folds, Output_folds   = Balance_Folds(BF, inData, classData, minClass, minSize)   # balance() and balance_data() functions are called under this\n",
    "    # BF_RFC_HP = Hyperparameter(BF, Input_folds, Output_folds)\n",
    "    BF_RFC                      = BF_fitting(BF, Input_folds, Output_folds)\n",
    "    Prob_matrix                 = BF_validate(BF_RFC, ValData)\n",
    "\n",
    "    Final_vote, Sum_PD, Sum_SNP = Weighted_Vote(Prob_matrix)\n",
    "    # S_Out                       = Final_score(Sum_PD, Sum_SNP, BF)\n",
    "\n",
    "    evalutation(Vallabel, Final_vote)"
   ]
  }
 ],
 "metadata": {
  "kernelspec": {
   "display_name": "Python 3 (ipykernel)",
   "language": "python",
   "name": "python3"
  },
  "language_info": {
   "codemirror_mode": {
    "name": "ipython",
    "version": 3
   },
   "file_extension": ".py",
   "mimetype": "text/x-python",
   "name": "python",
   "nbconvert_exporter": "python",
   "pygments_lexer": "ipython3",
   "version": "3.10.7"
  },
  "varInspector": {
   "cols": {
    "lenName": 16,
    "lenType": 16,
    "lenVar": 40
   },
   "kernels_config": {
    "python": {
     "delete_cmd_postfix": "",
     "delete_cmd_prefix": "del ",
     "library": "var_list.py",
     "varRefreshCmd": "print(var_dic_list())"
    },
    "r": {
     "delete_cmd_postfix": ") ",
     "delete_cmd_prefix": "rm(",
     "library": "var_list.r",
     "varRefreshCmd": "cat(var_dic_list()) "
    }
   },
   "oldHeight": 337.844,
   "position": {
    "height": "359.844px",
    "left": "1536px",
    "right": "20px",
    "top": "112px",
    "width": "354px"
   },
   "types_to_exclude": [
    "module",
    "function",
    "builtin_function_or_method",
    "instance",
    "_Feature"
   ],
   "varInspector_section_display": "block",
   "window_display": true
  },
  "vscode": {
   "interpreter": {
    "hash": "e5cd67c8584618c148c6f2b57de13817422ccd98975b320089863a41752ead79"
   }
  }
 },
 "nbformat": 4,
 "nbformat_minor": 5
}
