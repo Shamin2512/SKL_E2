{
 "cells": [
  {
   "cell_type": "markdown",
   "id": "0fcba82d",
   "metadata": {},
   "source": [
    "### Import library"
   ]
  },
  {
   "cell_type": "code",
   "execution_count": 7,
   "id": "5d94d2bb",
   "metadata": {},
   "outputs": [
    {
     "data": {
      "text/plain": [
       "' Example 2 is inbalanced data set; ~2200 in PD and ~1100 in SNP\\n    Goal is to predict if mutation is SNP or PD\\n    ImprovedBalancing branch\\n    \\n    Total samples: 3368\\n    2254 PD samples\\n    1111 SNP samples\\n'"
      ]
     },
     "execution_count": 7,
     "metadata": {},
     "output_type": "execute_result"
    }
   ],
   "source": [
    "\"\"\" Example 2 is inbalanced data set; ~2200 in PD and ~1100 in SNP\n",
    "    Goal is to predict if mutation is SNP or PD\n",
    "    ImprovedBalancing branch\n",
    "    \n",
    "    Total samples: 3368\n",
    "    2254 PD samples\n",
    "    1111 SNP samples\n",
    "\"\"\""
   ]
  },
  {
   "cell_type": "code",
   "execution_count": 33,
   "id": "5737f62f",
   "metadata": {},
   "outputs": [],
   "source": [
    "\n",
    "\"\"\" Imports the required libraries and packages\n",
    "\"\"\"\n",
    "\n",
    "import pandas as pd  #Import for data manipulation in dataframes\n",
    "import numpy as np  #Array manipulation and calculates mean\n",
    "\n",
    "import random as rd\n",
    "\n",
    "from sklearn.metrics import(\n",
    "    matthews_corrcoef,  # CC for evaluation\n",
    "    f1_score,  #F1 score for evaluation\n",
    "    confusion_matrix,  #Creates the confusion matrix - stats on how accurate the test set output is\n",
    "    classification_report #Returns the F1 socre, precision, and recall of a prediction using a given model\n",
    "    )\n",
    "from sklearn.model_selection import(\n",
    "    train_test_split,  # Splits data frame into the training set and testing set\n",
    "    GridSearchCV,  # Cross validation to improve hyperparameters\n",
    "    StratifiedKFold\n",
    "        )\n",
    "from sklearn.ensemble import RandomForestClassifier #SK learn API for classificastion random forests\n",
    "from sklearn.tree import DecisionTreeClassifier #Single tree decisions \n",
    "from sklearn.preprocessing import StandardScaler\n",
    "from sklearn.linear_model import LogisticRegression\n",
    "from sklearn.pipeline import make_pipeline\n",
    "from sklearn.neighbors import KNeighborsClassifier #allows for confidence scores to be predicted for each\n",
    "\n",
    "np.set_printoptions(threshold=np.inf) #full array printing"
   ]
  },
  {
   "cell_type": "markdown",
   "id": "3ddcc865",
   "metadata": {},
   "source": [
    "### Clean dataset in pandas"
   ]
  },
  {
   "cell_type": "code",
   "execution_count": 39,
   "id": "62413d95",
   "metadata": {},
   "outputs": [],
   "source": [
    "def Clean_data():\n",
    "    \"\"\" Input:      file        The dataset to read\n",
    "\n",
    "        Returns:    Input       Dataframe with of input features for training\n",
    "                    Output      Dataframe of class labels for each instance in Input\n",
    "\n",
    "        Create, clean and convert dataset E2.csv to PD dataframe. Drops uneeded columns, removes blank spaces, \n",
    "        and applies \"One Hot Encoding\" to convert PD/SNP to 1/0\n",
    "    \"\"\"\n",
    "\n",
    "    df = pd.read_csv('E2.csv')\n",
    "\n",
    "    #Remove unrequired column, replace blank spaces, reset index to run from 0\n",
    "    df.drop(['pdbcode:chain:resnum:mutation'], axis=1, inplace=True)\n",
    "    df.replace(' ', '_', regex=True, inplace=True)\n",
    "    df.reset_index(drop=True, inplace = True)\n",
    "\n",
    "    Input = df.drop('dataset', axis =1).fillna('0') #Should remove the row \n",
    "    Output_encoded = pd.get_dummies(df, columns=['dataset']) #Encode the PD and SNP columns\n",
    "    Output = Output_encoded['dataset_pd'].copy().astype('int32')\n",
    "\n",
    "    return Input, Output"
   ]
  },
  {
   "cell_type": "code",
   "execution_count": 28,
   "id": "deab5274",
   "metadata": {},
   "outputs": [
    {
     "data": {
      "text/plain": [
       "(     Binding SProtFT0 SProtFT1 SProtFT2 SProtFT3 SProtFT4 SProtFT5 SProtFT6  \\\n",
       " 0        0.0      0.0      0.0      0.0      0.0      0.0      0.0      0.0   \n",
       " 1        0.0      0.0      0.0      0.0      0.0      0.0      0.0      0.0   \n",
       " 2        0.0      0.0      0.0      0.0      0.0      0.0      0.0      0.0   \n",
       " 3        0.0      0.0      0.0      0.0      0.0      0.0      0.0      0.0   \n",
       " 4        0.0      0.0      0.0      0.0      0.0      0.0      0.0      0.0   \n",
       " ...      ...      ...      ...      ...      ...      ...      ...      ...   \n",
       " 3363     0.0      0.0      0.0      0.0      0.0      0.0      0.0      0.0   \n",
       " 3364     0.0      0.0      0.0      0.0      0.0      0.0      0.0      0.0   \n",
       " 3365     0.0      0.0      0.0      0.0      0.0      0.0      0.0      0.0   \n",
       " 3366     0.0      0.0      0.0      0.0      0.0      0.0      0.0      0.0   \n",
       " 3367     0.0      0.0      0.0      0.0      0.0      0.0      0.0      0.0   \n",
       " \n",
       "      SProtFT7 SProtFT8  ... NLargest5 NLargest6 NLargest7 NLargest8 NLargest9  \\\n",
       " 0         0.0      0.0  ...    36.641    35.332    33.811    30.525    28.448   \n",
       " 1         0.0      0.0  ...   157.435   152.367   142.055   119.325   110.986   \n",
       " 2         0.0      0.0  ...    87.325    74.267    69.595    67.078    62.108   \n",
       " 3         0.0      0.0  ...   240.239   162.474   130.995   114.245   113.635   \n",
       " 4         0.0      0.0  ...   224.209    188.02   176.892   175.881   160.863   \n",
       " ...       ...      ...  ...       ...       ...       ...       ...       ...   \n",
       " 3363      0.0      0.0  ...   109.095   103.081    85.249    83.669    77.663   \n",
       " 3364      0.0      0.0  ...    54.704    53.941    42.229    27.331     25.61   \n",
       " 3365      0.0      0.0  ...    81.365    73.001    59.724    56.923    50.393   \n",
       " 3366      0.0      0.0  ...    69.285    62.633    51.638    51.579    50.647   \n",
       " 3367      0.0      0.0  ...     79.54    75.434    62.945    56.809    55.505   \n",
       " \n",
       "      NLargest10  Clash Glycine Proline CisPro  \n",
       " 0        23.301  -8.83  -100.0  -100.0    0.0  \n",
       " 1       110.768 -11.19  -100.0  -100.0    0.0  \n",
       " 2        61.438  -2.03  -100.0  -100.0    0.0  \n",
       " 3        87.611   1.32  -100.0  -100.0    0.0  \n",
       " 4       160.839  -2.93  -100.0  -100.0    0.0  \n",
       " ...         ...    ...     ...     ...    ...  \n",
       " 3363     73.123  -4.57  -100.0  -100.0    0.0  \n",
       " 3364     25.432  -5.44  2.4896  -100.0    0.0  \n",
       " 3365     47.249  -4.98  -100.0  -100.0    0.0  \n",
       " 3366     49.074  41.29  -100.0  3.2714    0.0  \n",
       " 3367      54.53  -2.66  -100.0  -100.0    0.0  \n",
       " \n",
       " [3368 rows x 47 columns],\n",
       " 0       1\n",
       " 1       1\n",
       " 2       0\n",
       " 3       1\n",
       " 4       1\n",
       "        ..\n",
       " 3363    1\n",
       " 3364    1\n",
       " 3365    1\n",
       " 3366    1\n",
       " 3367    1\n",
       " Name: dataset_pd, Length: 3368, dtype: int32)"
      ]
     },
     "execution_count": 28,
     "metadata": {},
     "output_type": "execute_result"
    }
   ],
   "source": []
  },
  {
   "cell_type": "markdown",
   "id": "bb451c9e",
   "metadata": {},
   "source": [
    "### Split into training and testing, generate RF (whole dataset)"
   ]
  },
  {
   "cell_type": "code",
   "execution_count": 40,
   "id": "bbfacd1c",
   "metadata": {},
   "outputs": [],
   "source": [
    "def train(Input, Output):\n",
    "    \"\"\" Input:      Input           Dataframe with of input features for training\n",
    "                    Output          Dataframe of class labels for each instance in Input\n",
    "\n",
    "        Returns:    Input_train     Features training data\n",
    "                    Input_test      Features test data\n",
    "                    Classes_train   Class label training data\n",
    "                    Classes_test    Class label test data\n",
    "\n",
    "        80% training and 20% testing split. Strartify ensures fixed poportion of labels are in both sets. \n",
    "        Random forest defined as RFC with 1000 trees, seed = 42. Outputs the training data to files.\n",
    "        \"\"\"\n",
    "\n",
    "    Input_train, Input_test, Classes_train, Classes_test = train_test_split(Input, Output, train_size = 0.8, random_state=42, stratify=Output) \n",
    "    RFC = RandomForestClassifier(random_state = 42, n_estimators = 1000, verbose = 1)\n",
    "    RFC.fit(Input_train, Classes_train)\n",
    "\n",
    "    with open('Training Data.txt', 'w') as file: #Writes class labels for all instances to text file\n",
    "        file.write(Input_train.to_string())\n",
    "    with open('Class labels.txt', 'w') as file: #Writes class labels for all instances to text file\n",
    "        file.write(Classes_train.to_string())\n",
    "\n",
    "    return RFC, Input_test, Classes_test, Input_train, Classes_train"
   ]
  },
  {
   "cell_type": "markdown",
   "id": "b2e8b7f5",
   "metadata": {},
   "source": [
    "### Initial evaluation"
   ]
  },
  {
   "cell_type": "code",
   "execution_count": 41,
   "id": "cf8d9857",
   "metadata": {},
   "outputs": [],
   "source": [
    "def test(RFC, Input_test, Classes_test):\n",
    "    \"\"\" Input:  Input_test      Features test data\n",
    "                Classes_test    Class label test data\n",
    "\n",
    "        Evaluates the training data. Random forest classifier makes prediction using the test features. True values \n",
    "        are the class labels testing data\n",
    "    \"\"\"\n",
    "\n",
    "    Output_pred = RFC.predict(Input_test) #Always perdict on the unseen test data, as train has been used by the estimastor\n",
    "    print(f\"Confusion Matrix:\\n {confusion_matrix(Classes_test, Output_pred)}\")\n",
    "    print(f\"{classification_report(Classes_test, Output_pred)}\\nMCC                {matthews_corrcoef(Classes_test, Output_pred)}\")\n"
   ]
  },
  {
   "cell_type": "code",
   "execution_count": 54,
   "id": "c10ad630",
   "metadata": {},
   "outputs": [
    {
     "name": "stderr",
     "output_type": "stream",
     "text": [
      "[Parallel(n_jobs=1)]: Using backend SequentialBackend with 1 concurrent workers.\n",
      "[Parallel(n_jobs=1)]: Done 1000 out of 1000 | elapsed:    4.2s finished\n"
     ]
    },
    {
     "name": "stdout",
     "output_type": "stream",
     "text": [
      "Confusion Matrix:\n",
      " [[145  78]\n",
      " [ 27 424]]\n",
      "              precision    recall  f1-score   support\n",
      "\n",
      "           0       0.84      0.65      0.73       223\n",
      "           1       0.84      0.94      0.89       451\n",
      "\n",
      "    accuracy                           0.84       674\n",
      "   macro avg       0.84      0.80      0.81       674\n",
      "weighted avg       0.84      0.84      0.84       674\n",
      "\n",
      "MCC                0.6371468255225344\n"
     ]
    },
    {
     "name": "stderr",
     "output_type": "stream",
     "text": [
      "[Parallel(n_jobs=1)]: Using backend SequentialBackend with 1 concurrent workers.\n",
      "[Parallel(n_jobs=1)]: Done 1000 out of 1000 | elapsed:    0.0s finished\n"
     ]
    }
   ],
   "source": [
    "Input, Output = Clean_data()\n",
    "RFC, Input_test, Classes_test, Input_train, Classes_train = train(Input, Output)\n",
    "test(RFC,Input_test, Classes_test)"
   ]
  },
  {
   "cell_type": "markdown",
   "id": "a335a585",
   "metadata": {},
   "source": [
    "### Balancing"
   ]
  },
  {
   "cell_type": "code",
   "execution_count": 44,
   "id": "6b6924e9",
   "metadata": {},
   "outputs": [],
   "source": [
    "def find_minority_class(classData):\n",
    "    \"\"\" Input:    classData  Array of class labels\n",
    "        Returns:  minClass   The label for the minority class\n",
    "                  minSize    The number of items in the minority class\n",
    "                  maxSize    The number of items in the majority class\n",
    "    Finds information about the inbalance in class sizes\n",
    "    \"\"\"\n",
    "    \n",
    "    Minority_count = 0\n",
    "    Majority_count = 0\n",
    "    for datum in classData:\n",
    "        if datum == 1:\n",
    "            Majority_count += 1\n",
    "        elif datum == 0:\n",
    "            Minority_count += 1\n",
    "\n",
    "    minClass = 0\n",
    "    minSize = Minority_count\n",
    "    maxSize = Majority_count\n",
    "    if Minority_count > Majority_count:\n",
    "        minClass = 1\n",
    "        minSize = Majority_count\n",
    "        maxSize = Minority_count\n",
    "\n",
    "    return minClass, minSize, maxSize"
   ]
  },
  {
   "cell_type": "code",
   "execution_count": 46,
   "id": "6746be83",
   "metadata": {},
   "outputs": [],
   "source": [
    "\"\"\" Input:      maxSize     The number of items in the majority class\n",
    "                minSize     The number of items in the minority class\n",
    "                \n",
    "    Returns:    BF          Number of balancing folds\n",
    "    \n",
    "    Calculate the number of balancing folds needed using ratio of majority to minority class size. Double to ensure sufficient\n",
    "    majority class instances are sampled, then + 1 to make odd to allow weighted vote.\n",
    "\"\"\"\n",
    "def Balance_ratio(maxSize, minSize): \n",
    "    Divide = maxSize/minSize\n",
    "    BF = (2 * round(Divide)) + 1 #Double ratio to nearest integer\n",
    "    return BF"
   ]
  },
  {
   "cell_type": "code",
   "execution_count": 47,
   "id": "5d1241bf",
   "metadata": {},
   "outputs": [],
   "source": [
    "def balance(inData, classData, minClass, minSize):\n",
    "    \"\"\" Input:    inData          array of input data\n",
    "                  classData       array of classes assigned\n",
    "                  minorityClass   class label for the minority class\n",
    "                  minoritySize    size of the minority class\n",
    "                  \n",
    "         Returns: array of indexes that are of interest for a \n",
    "                  balanced dataset\n",
    "\n",
    "    Perform the actual balancing between SNPs and PDs\n",
    "    \"\"\"\n",
    "    \n",
    "    usedLines = [False] * len(inData) #Array of false for length of data\n",
    "    for i in range(len(inData)):\n",
    "        if classData[i] == minClass:\n",
    "            usedLines[i] = True\n",
    "            \n",
    "    usedCount = 0\n",
    "    while usedCount < minSize:\n",
    "        i = rd.randrange(len(inData))\n",
    "        if usedLines[i] == False:\n",
    "            usedCount += 1\n",
    "            usedLines[i] = True       \n",
    "\n",
    "    return usedLines"
   ]
  },
  {
   "cell_type": "code",
   "execution_count": 52,
   "id": "d5c54edb",
   "metadata": {},
   "outputs": [],
   "source": [
    "def balance_data(inData, classData, usedLines):\n",
    "    \"\"\" Input:     inData      array of input training data\n",
    "                   classData   array of classes assigned to training data\n",
    "                   usedLines   array of line indexes to print\n",
    "                \n",
    "        Returns:   Input_balance  Array of balanced input training data\n",
    "                   Label_balance  Array of balanced classes assigned to training data\n",
    "\n",
    "    Create arrays for the input training data and its corresponding classes, as needed for predicting the probability.\n",
    "    The index [i] is the identifier between the two arrays\n",
    "    \"\"\"\n",
    "    Input_balance = []\n",
    "    Label_balance = []\n",
    "    for i in range(len(inData)):\n",
    "        if usedLines[i]:\n",
    "            Input_balance.append(inData[i])\n",
    "            Label_balance.append(classData[i])\n",
    "            \n",
    "#     Input_balance = np.stack(Input_balance, axis =0)\n",
    "#     Label_balance = np.stack(Label_balance, axis =0)\n",
    "    \n",
    "    return Input_balance, Label_balance"
   ]
  },
  {
   "cell_type": "code",
   "execution_count": 61,
   "id": "1bec9e9d",
   "metadata": {},
   "outputs": [
    {
     "data": {
      "text/plain": [
       "numpy.ndarray"
      ]
     },
     "execution_count": 61,
     "metadata": {},
     "output_type": "execute_result"
    }
   ],
   "source": [
    "inData    = pd.DataFrame(Input_train).to_numpy()\n",
    "classData = pd.DataFrame(Classes_train).to_numpy()\n",
    "\n",
    "minClass, minSize, maxSize = find_minority_class(classData)\n",
    "BF                         = Balance_ratio(maxSize, minSize)\n",
    "usedLines                  = balance(inData, classData, minClass, minSize)\n",
    "\n",
    "Input_balance, Label_balance = balance_data(inData, classData, usedLines)\n",
    "type(Label_balance)"
   ]
  },
  {
   "cell_type": "markdown",
   "id": "27419a33",
   "metadata": {},
   "source": [
    "### Balance for n folds"
   ]
  },
  {
   "cell_type": "code",
   "execution_count": null,
   "id": "12239dc9",
   "metadata": {
    "scrolled": false
   },
   "outputs": [],
   "source": [
    "\"\"\" Input:      BF                Number of balancing folds needed\n",
    "                usedLines         Array of line indexes to print\n",
    "                Input_balance     Input_balance  Array of balanced input training data\n",
    "                Label_balance     Array of balanced classes assigned to training data\n",
    "\n",
    "    Returns:    Input_folds       List of 5 balanced arrays of training data\n",
    "                Output_folds      List of 5 balanced arrays of training data's labels\n",
    "\n",
    "    Performs the balance_data() function n number of balancing fold times. Returns lists for training data and labels\n",
    "    where each item is the output of balance_data()\n",
    "\"\"\"\n",
    "def Balance_Folds(BF, usedLines, Input_balance, Label_balance):\n",
    "    Input_folds = []\n",
    "    Output_folds = []\n",
    "    for fold in range(BF):\n",
    "        Input_folds.append(Input_balance)\n",
    "        Output_folds.append(Label_balance)\n",
    "        \n",
    "    return Input_folds, Output_folds"
   ]
  },
  {
   "cell_type": "code",
   "execution_count": null,
   "id": "edccd825",
   "metadata": {},
   "outputs": [],
   "source": [
    "inData    = pd.DataFrame(Input_train).to_numpy()\n",
    "classData = pd.DataFrame(Classes_train).to_numpy()\n",
    "\n",
    "minClass, minSize, maxSize = find_minority_class(classData)\n",
    "BF                         = Balance_ratio(maxSize, minSize)\n",
    "usedLines                  = balance(inData, classData, minClass, minSize)\n",
    "\n",
    "Input_balance, Label_balance = balance_data(inData, classData, usedLines)\n",
    "Input_balance"
   ]
  },
  {
   "cell_type": "markdown",
   "id": "4ea8505e",
   "metadata": {},
   "source": [
    "### Train balanced data on random forest model"
   ]
  },
  {
   "cell_type": "code",
   "execution_count": null,
   "id": "1decd7a3",
   "metadata": {},
   "outputs": [],
   "source": [
    "def BF_training(BF, Input_folds, Output_folds): \n",
    "    \"\"\" Input:      BF              Number of balancing folds\n",
    "                    Input_folds     List of 5 balanced arrays for training data\n",
    "                    Output_folds    List of 5 balanced arrays of training data's labels\n",
    "\n",
    "        Returns:    Prob_list       Predicted probability for each class, for each fold in list\n",
    "\n",
    "        Creates a model that returns probability predictions for each fold, using Balance_Fold() as input\n",
    "    \"\"\"    \n",
    "    BF_RFC = []\n",
    "#     Prob_list = []\n",
    "    \n",
    "    for i in range(BF):\n",
    "        BF_RFC.append(RandomForestClassifier(random_state = 42, n_estimators = 1000, verbose = 1)) #Defines the Random Forest. 42 seeds, 1000 trees\n",
    "        BF_RFC[i].fit(Input_folds[i], Output_folds[i].ravel()) #Generates a random forest for each fold's training data\n",
    "#         Prob = BF_RFC.predict_proba(Input_folds[i]) \n",
    "#         Prob_list.append(Prob)\n",
    "        \n",
    "#         with open('Balanced probabilities.txt', 'w') as f:\n",
    "#             for number, line in zip(range(BF), Prob_list):\n",
    "#                 f.write(f\"Fold: {number}\\n\\n{line}\\n\\n\\n\")\n",
    "        \n",
    "    return BF_RFC"
   ]
  },
  {
   "cell_type": "code",
   "execution_count": null,
   "id": "acc41cbb",
   "metadata": {},
   "outputs": [],
   "source": [
    "def BFC_test(BF_RFC, Input_test):\n",
    "    \"\"\" Input:  BF_RFC              Number of balancing folds\n",
    "                Input_folds     List of 5 balanced arrays for training data\n",
    "                Output_folds    List of 5 balanced arrays of training data's labels\n",
    "                \n",
    "    Returns:    Prob_matrix      2D matrix where the 1st dimmension is balancing fold, 2nd dimenssion is test data point number\n",
    "    \n",
    "    Creates a model that returns probability predictions for each fold, using Balance_Fold() as input\n",
    "    \"\"\"\n",
    "    Prob_matrix = [] #Empty list of lists\n",
    "    for i in range(len(BF_RFC)): #step\n",
    "        Prob_list = BF_RFC[i].predict_proba(Input_test)\n",
    "        Prob_matrix.append(Prob_list)\n",
    "    return Prob_matrix"
   ]
  },
  {
   "cell_type": "code",
   "execution_count": null,
   "id": "88a6b9d5",
   "metadata": {},
   "outputs": [],
   "source": [
    "BF_RFC = BF_training(BF, Input_folds, Output_folds)\n",
    "Prob_matrix = BFC_test(BF_RFC, Input_test)"
   ]
  },
  {
   "cell_type": "markdown",
   "id": "0c4b8fdd",
   "metadata": {},
   "source": [
    "### Weighted voting"
   ]
  },
  {
   "cell_type": "code",
   "execution_count": null,
   "id": "71033215",
   "metadata": {},
   "outputs": [],
   "source": [
    "\"\"\" Input:      Prob_matrix       Predicted probability for each class, for each fold in list\n",
    "                BF              Number of balancing folds\n",
    "                \n",
    "    Returns:    S_Out           Confidence score for each predictor\n",
    "    \n",
    "    Calculates the final confidence score\n",
    "\"\"\"\n",
    "def Score(Prob_matrix, BF):\n",
    "    BF_prob_PD =[]\n",
    "    BF_prob_SNP =[]\n",
    "    for i in range(BF):\n",
    "        BF_prob_PD.append(Prob_matrix[i][:,1] - Prob_matrix[i][:,0]) #PD - SNP probabilty\n",
    "        BF_prob_SNP.append(Prob_matrix[i][:,0] - Prob_matrix[i][:,1]) #SNP - PD probabilty     \n",
    "    \n",
    "    PD_Sum = 0\n",
    "    SNP_Sum = 0\n",
    "    for i in range(BF):\n",
    "        PD_Sum += BF_prob_PD[i]\n",
    "        SNP_Sum += BF_prob_SNP[i]\n",
    "        \n",
    "    S_Out = np.abs((PD_Sum - SNP_Sum)/BF)\n",
    "    \n",
    "    np.savetxt('S_out.txt', S_Out, \"%.3f\")\n",
    "    \n",
    "    return(S_Out) #Returns the final confidence scores\n"
   ]
  },
  {
   "cell_type": "code",
   "execution_count": null,
   "id": "a322d7eb",
   "metadata": {},
   "outputs": [],
   "source": [
    "\"\"\" Input:      S_Out       Confidence score for each predictor\n",
    "                \n",
    "    Returns:    Vote        Number of PDs and SNPs predicted after weighted vote\n",
    "    \n",
    "    Calculates the final confidence score\n",
    "\"\"\"\n",
    "def Final_vote(S_Out):\n",
    "    \n",
    "    SNP_Count = 0\n",
    "    PD_Count = 0\n",
    "    FinalClass = []\n",
    "    for i in range(len(S_Out)):\n",
    "        if S_Out[i] >= 0.5:\n",
    "            PD_Count += 1\n",
    "            FinalClass.append(round(S_Out[i]))\n",
    "        elif S_Out[i] < 0.5:\n",
    "            SNP_Count += 1\n",
    "            FinalClass.append(round(S_Out[i]))\n",
    "    \n",
    "    return FinalClass\n"
   ]
  },
  {
   "cell_type": "code",
   "execution_count": null,
   "id": "9ce6740d",
   "metadata": {},
   "outputs": [],
   "source": [
    "file = 'E2.csv'\n",
    "Input, Output = Clean_data(file)\n",
    "\n",
    "inData    = pd.DataFrame(Input_train).to_numpy()\n",
    "classData = pd.DataFrame(Classes_train).to_numpy()\n",
    "\n",
    "minClass, minSize, maxSize = find_minority_class(classData)\n",
    "BF                         = Balance_ratio(maxSize, minSize)\n",
    "usedLines                  = balance(inData, classData, minClass, minSize)\n",
    "\n",
    "Input_balance, Label_balance = balance_data(inData, classData, usedLines)\n",
    "Input_folds, Output_folds    = Balance_Folds(BF, usedLines, Input_balance, Label_balance)\n",
    "Prob_list                    = BF_training(BF, Input_folds, Output_folds)\n",
    "\n",
    "S_Out = Score(Prob_list, BF)\n",
    "\n",
    "Final_vote(S_Out)\n"
   ]
  },
  {
   "cell_type": "code",
   "execution_count": null,
   "id": "92f36545",
   "metadata": {
    "scrolled": true
   },
   "outputs": [],
   "source": [
    "# Final_vote(S_Out)) #Always perdict on the unseen test data, as train has been used by the estimastor\n",
    "Output_pred = Final_vote(S_Out)\n",
    "\n",
    "print(f\"Confusion Matrix:\\n {confusion_matrix(Classes_test, Output_pred)}\")\n",
    "print(f\"{classification_report(Classes_test, Output_pred)}\\nMCC                {matthews_corrcoef(Classes_test, Output_pred)}\")"
   ]
  }
 ],
 "metadata": {
  "kernelspec": {
   "display_name": "Python 3 (ipykernel)",
   "language": "python",
   "name": "python3"
  },
  "language_info": {
   "codemirror_mode": {
    "name": "ipython",
    "version": 3
   },
   "file_extension": ".py",
   "mimetype": "text/x-python",
   "name": "python",
   "nbconvert_exporter": "python",
   "pygments_lexer": "ipython3",
   "version": "3.10.7"
  },
  "varInspector": {
   "cols": {
    "lenName": 16,
    "lenType": 16,
    "lenVar": 40
   },
   "kernels_config": {
    "python": {
     "delete_cmd_postfix": "",
     "delete_cmd_prefix": "del ",
     "library": "var_list.py",
     "varRefreshCmd": "print(var_dic_list())"
    },
    "r": {
     "delete_cmd_postfix": ") ",
     "delete_cmd_prefix": "rm(",
     "library": "var_list.r",
     "varRefreshCmd": "cat(var_dic_list()) "
    }
   },
   "oldHeight": 337.844,
   "position": {
    "height": "359.844px",
    "left": "1536px",
    "right": "20px",
    "top": "112px",
    "width": "354px"
   },
   "types_to_exclude": [
    "module",
    "function",
    "builtin_function_or_method",
    "instance",
    "_Feature"
   ],
   "varInspector_section_display": "block",
   "window_display": false
  }
 },
 "nbformat": 4,
 "nbformat_minor": 5
}
