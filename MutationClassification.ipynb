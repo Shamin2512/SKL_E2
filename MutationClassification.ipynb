{
 "cells": [
  {
   "cell_type": "markdown",
   "id": "0fcba82d",
   "metadata": {},
   "source": [
    "### Import library"
   ]
  },
  {
   "cell_type": "code",
   "execution_count": 1,
   "id": "5d94d2bb",
   "metadata": {},
   "outputs": [
    {
     "data": {
      "text/plain": [
       "' Example 2 is inbalanced data set; ~2200 in PD and ~1100 in SNP\\n    Goal is to predict if mutation is SNP or PD\\n    ImprovedBalancing branch\\n    \\n    Total samples: 3368\\n    2254 PD samples\\n    1111 SNP samples\\n'"
      ]
     },
     "execution_count": 1,
     "metadata": {},
     "output_type": "execute_result"
    }
   ],
   "source": [
    "\"\"\" Example 2 is inbalanced data set; ~2200 in PD and ~1100 in SNP\n",
    "    Goal is to predict if mutation is SNP or PD\n",
    "    ImprovedBalancing branch\n",
    "    \n",
    "    Total samples: 3368\n",
    "    2254 PD samples\n",
    "    1111 SNP samples\n",
    "\"\"\""
   ]
  },
  {
   "cell_type": "code",
   "execution_count": 2,
   "id": "5737f62f",
   "metadata": {},
   "outputs": [],
   "source": [
    "\n",
    "\"\"\" Imports the required libraries and packages\n",
    "\"\"\"\n",
    "\n",
    "import pandas as pd  #Import for data manipulation in dataframes\n",
    "import numpy as np  #Array manipulation and calculates mean\n",
    "\n",
    "import random as rd\n",
    "\n",
    "from sklearn.metrics import(\n",
    "    matthews_corrcoef,  # CC for evaluation\n",
    "    f1_score,  #F1 score for evaluation\n",
    "    confusion_matrix,  #Creates the confusion matrix - stats on how accurate the test set output is\n",
    "    classification_report #Returns the F1 socre, precision, and recall of a prediction using a given model\n",
    "    )\n",
    "from sklearn.model_selection import(\n",
    "    train_test_split,  # Splits data frame into the training set and testing set\n",
    "    GridSearchCV,  # Cross validation to improve hyperparameters\n",
    "    StratifiedKFold\n",
    "        )\n",
    "from sklearn.ensemble import RandomForestClassifier #SK learn API for classificastion random forests\n",
    "from sklearn.tree import DecisionTreeClassifier #Single tree decisions \n",
    "from sklearn.preprocessing import StandardScaler\n",
    "from sklearn.linear_model import LogisticRegression\n",
    "from sklearn.pipeline import make_pipeline\n",
    "from sklearn.neighbors import KNeighborsClassifier #allows for confidence scores to be predicted for each\n",
    "np.set_printoptions(threshold=np.inf) #full array printing"
   ]
  },
  {
   "cell_type": "markdown",
   "id": "3ddcc865",
   "metadata": {},
   "source": [
    "### Clean dataset in pandas"
   ]
  },
  {
   "cell_type": "code",
   "execution_count": 3,
   "id": "62413d95",
   "metadata": {},
   "outputs": [],
   "source": [
    "def Clean_data(file):\n",
    "    \"\"\" Input:      file        The dataset to read\n",
    "\n",
    "        Returns:    Input       Dataframe with of input features for training\n",
    "                    Output      Dataframe of class labels for each instance in Input\n",
    "\n",
    "        Create, clean and convert dataset E2.csv to PD dataframe. Drops uneeded columns, removes blank spaces, \n",
    "        and applies \"One Hot Encoding\" to convert PD/SNP to 1/0\n",
    "    \"\"\"\n",
    "\n",
    "    df = pd.read_csv('E2.csv')\n",
    "\n",
    "    #Remove unrequired column, replace blank spaces, reset index to run from 0\n",
    "    df.drop(['pdbcode:chain:resnum:mutation'], axis=1, inplace=True)\n",
    "    df.replace(' ', '_', regex=True, inplace=True)\n",
    "    df.reset_index(drop=True, inplace = True)\n",
    "\n",
    "    Input = df.drop('dataset', axis =1).fillna('0') #Should remove the row \n",
    "    Output_encoded = pd.get_dummies(df, columns=['dataset']) #Encode the PD and SNP columns\n",
    "    Output = Output_encoded['dataset_pd'].copy().astype('int32') #PD = 1, SNP = 0\n",
    "\n",
    "    return Input, Output"
   ]
  },
  {
   "cell_type": "markdown",
   "id": "bb451c9e",
   "metadata": {},
   "source": [
    "### Split into training and testing, generate RF (whole dataset)"
   ]
  },
  {
   "cell_type": "code",
   "execution_count": 4,
   "id": "bbfacd1c",
   "metadata": {},
   "outputs": [],
   "source": [
    "def train(Input, Output):\n",
    "    \"\"\" Input:      Input           Dataframe with of input features for training\n",
    "                    Output          Dataframe of class labels for each instance in Input\n",
    "\n",
    "        Returns:    Input_train     Features training data\n",
    "                    Input_test      Features test data\n",
    "                    Classes_train   Class label training data\n",
    "                    Classes_test    Class label test data\n",
    "\n",
    "        80% training and 20% testing split. Strartify ensures fixed poportion of labels are in both sets. \n",
    "        Random forest defined as RFC with 1000 trees, seed = 42. Outputs the training data to files.\n",
    "        \"\"\"\n",
    "\n",
    "    Input_train, Input_test, Classes_train, Classes_test = train_test_split(Input, Output, train_size = 0.8, random_state=42, stratify=Output) \n",
    "    RFC = RandomForestClassifier(random_state = 42, n_estimators = 1000, verbose = 1)\n",
    "    RFC.fit(Input_train, Classes_train)\n",
    "\n",
    "    with open('Training Data.txt', 'w') as file: #Writes class labels for all instances to text file\n",
    "        file.write(Input_train.to_string())\n",
    "    with open('Class labels.txt', 'w') as file: #Writes class labels for all instances to text file\n",
    "        file.write(Classes_train.to_string())\n",
    "    with open('Test Data.txt', 'w') as file: #Writes class labels for all instances to text file\n",
    "        file.write(Input_test.to_string())\n",
    "    with open('Test labels.txt', 'w') as file: #Writes class labels for all instances to text file\n",
    "        file.write(Classes_test.to_string())\n",
    "\n",
    "    return RFC, Input_test, Classes_test, Input_train, Classes_train"
   ]
  },
  {
   "cell_type": "markdown",
   "id": "b2e8b7f5",
   "metadata": {},
   "source": [
    "### Initial evaluation"
   ]
  },
  {
   "cell_type": "code",
   "execution_count": 5,
   "id": "cf8d9857",
   "metadata": {},
   "outputs": [],
   "source": [
    "def test(RFC, Input_test, Classes_test):\n",
    "    \"\"\" Input:  Input_test      Features test data\n",
    "                Classes_test    Class label test data\n",
    "\n",
    "        Evaluates the training data. Random forest classifier makes prediction using the test features. True values \n",
    "        are the class labels testing data\n",
    "    \"\"\"\n",
    "\n",
    "    Output_pred = RFC.predict(Input_test) #Always perdict on the unseen test data, as train has been used by the estimastor\n",
    "    print(f\"Confusion Matrix:\\n {confusion_matrix(Classes_test, Output_pred)}\")\n",
    "    print(f\"{classification_report(Classes_test, Output_pred)}\\nMCC                {matthews_corrcoef(Classes_test, Output_pred)}\")\n"
   ]
  },
  {
   "cell_type": "markdown",
   "id": "a335a585",
   "metadata": {},
   "source": [
    "### Balancing"
   ]
  },
  {
   "cell_type": "code",
   "execution_count": 6,
   "id": "6b6924e9",
   "metadata": {},
   "outputs": [],
   "source": [
    "def find_minority_class(classData):\n",
    "    \"\"\" Input:    classData  Array of class labels\n",
    "        Returns:  minClass   The label for the minority class\n",
    "                  minSize    The number of items in the minority class\n",
    "                  maxSize    The number of items in the majority class\n",
    "    Finds information about the inbalance in class sizes\n",
    "    \"\"\"\n",
    "    \n",
    "    Minority_count = 0\n",
    "    Majority_count = 0\n",
    "    for datum in classData:\n",
    "        if datum == 1:\n",
    "            Majority_count += 1\n",
    "        elif datum == 0:\n",
    "            Minority_count += 1\n",
    "\n",
    "    minClass = 0\n",
    "    minSize = Minority_count\n",
    "    maxSize = Majority_count\n",
    "    if Minority_count > Majority_count:\n",
    "        minClass = 1\n",
    "        minSize = Majority_count\n",
    "        maxSize = Minority_count\n",
    "\n",
    "    return minClass, minSize, maxSize"
   ]
  },
  {
   "cell_type": "code",
   "execution_count": 7,
   "id": "6746be83",
   "metadata": {},
   "outputs": [],
   "source": [
    "\"\"\" Input:      maxSize     The number of items in the majority class\n",
    "                minSize     The number of items in the minority class\n",
    "                \n",
    "    Returns:    BF          Number of balancing folds\n",
    "    \n",
    "    Calculate the number of balancing folds needed using ratio of majority to minority class size. Double to ensure sufficient\n",
    "    majority class instances are sampled, then + 1 to make odd to allow weighted vote.\n",
    "\"\"\"\n",
    "def Balance_ratio(maxSize, minSize): \n",
    "    Divide = maxSize/minSize\n",
    "    BF = (2 * round(Divide)) + 1 #Double ratio to nearest integer\n",
    "    return BF"
   ]
  },
  {
   "cell_type": "code",
   "execution_count": 8,
   "id": "5d1241bf",
   "metadata": {},
   "outputs": [],
   "source": [
    "def balance(inData, classData, minClass, minSize):\n",
    "    \"\"\" Input:    inData          array of input data\n",
    "                  classData       array of classes assigned\n",
    "                  minorityClass   class label for the minority class\n",
    "                  minoritySize    size of the minority class\n",
    "                  \n",
    "         Returns: array of indexes that are of interest for a \n",
    "                  balanced dataset\n",
    "\n",
    "    Perform the actual balancing between SNPs and PDs\n",
    "    \"\"\"\n",
    "    \n",
    "    usedLines = [False] * len(inData) #Array of false for length of data\n",
    "    for i in range(len(inData)):\n",
    "        if classData[i] == minClass:\n",
    "            usedLines[i] = True\n",
    "            \n",
    "    usedCount = 0\n",
    "    while usedCount < minSize:\n",
    "        i = rd.randrange(len(inData))\n",
    "        if usedLines[i] == False:\n",
    "            usedCount += 1\n",
    "            usedLines[i] = True       \n",
    "\n",
    "    return usedLines"
   ]
  },
  {
   "cell_type": "code",
   "execution_count": 9,
   "id": "d5c54edb",
   "metadata": {},
   "outputs": [],
   "source": [
    "def balance_data(inData, classData, usedLines):\n",
    "    \"\"\" Input:     inData      array of input training data\n",
    "                   classData   array of classes assigned to training data\n",
    "                   usedLines   array of line indexes to print\n",
    "                \n",
    "        Returns:   Input_balance  Array of balanced input training data\n",
    "                   Label_balance  Array of balanced classes assigned to training data\n",
    "\n",
    "    Create arrays for the input training data and its corresponding classes, as needed for predicting the probability.\n",
    "    The index [i] is the identifier between the two arrays\n",
    "    \"\"\"\n",
    "    Input_balance = []\n",
    "    Label_balance = []\n",
    "    for i in range(len(inData)):\n",
    "        if usedLines[i]:\n",
    "            Input_balance.append(inData[i])\n",
    "            Label_balance.append(classData[i])\n",
    "            \n",
    "    Input_balance = np.stack(Input_balance, axis =0)\n",
    "    Label_balance = np.stack(Label_balance, axis =0)\n",
    "    \n",
    "    return Input_balance, Label_balance"
   ]
  },
  {
   "cell_type": "markdown",
   "id": "27419a33",
   "metadata": {},
   "source": [
    "### Balance for n folds"
   ]
  },
  {
   "cell_type": "code",
   "execution_count": 10,
   "id": "12239dc9",
   "metadata": {
    "scrolled": false
   },
   "outputs": [],
   "source": [
    "\"\"\" Input:      BF                Number of balancing folds needed\n",
    "                usedLines         Array of line indexes to print\n",
    "                Input_balance     Input_balance  Array of balanced input training data\n",
    "                Label_balance     Array of balanced classes assigned to training data\n",
    "\n",
    "    Returns:    Input_folds       List of 5 balanced arrays of training data\n",
    "                Output_folds      List of 5 balanced arrays of training data's labels\n",
    "\n",
    "    Performs the balance_data() function n number of balancing fold times. Returns lists for training data and labels\n",
    "    where each item is the output of balance_data()\n",
    "\"\"\"\n",
    "def Balance_Folds(BF, usedLines, Input_balance, Label_balance):\n",
    "    Input_folds = []\n",
    "    Output_folds = []\n",
    "    for fold in range(BF):\n",
    "        Input_folds.append(Input_balance)\n",
    "        Output_folds.append(Label_balance)\n",
    "        \n",
    "    return Input_folds, Output_folds"
   ]
  },
  {
   "cell_type": "markdown",
   "id": "796af0e8",
   "metadata": {},
   "source": [
    "### Train RFC on balanced dataset"
   ]
  },
  {
   "cell_type": "code",
   "execution_count": 11,
   "id": "1decd7a3",
   "metadata": {},
   "outputs": [],
   "source": [
    "def BF_training(BF, Input_folds, Output_folds): \n",
    "    \"\"\" Input:      BF              Number of balancing folds\n",
    "                    Input_folds     List of 5 balanced arrays for training data\n",
    "                    Output_folds    List of 5 balanced arrays of training data's labels\n",
    "\n",
    "        Returns:    BF_RFC          List of RFC's trained on data in each balancing fold\n",
    "\n",
    "        Creates a model that returns probability predictions for each fold, using Balance_Fold() as input\n",
    "    \"\"\"    \n",
    "    BF_RFC = []\n",
    "    \n",
    "    for i in range(BF):\n",
    "        BF_RFC.append(RandomForestClassifier(random_state = 42, n_estimators = 1000, verbose = 1)) #Defines a Random Forest for each fold. 42 seeds, 1000 trees\n",
    "        BF_RFC[i].fit(Input_folds[i], Output_folds[i].ravel()) #Generates a random forest for each fold's training data        \n",
    "        \n",
    "    return BF_RFC"
   ]
  },
  {
   "cell_type": "markdown",
   "id": "b0dd278c",
   "metadata": {},
   "source": [
    "### Test RFC on test set"
   ]
  },
  {
   "cell_type": "code",
   "execution_count": 12,
   "id": "acc41cbb",
   "metadata": {},
   "outputs": [],
   "source": [
    "def BFC_test(BF_RFC, Input_test):\n",
    "    \"\"\" Input:  BF_RFC          List of RFC's trained on data in each balancing fold\n",
    "                Input_test      20% unseen testing data split before the balancing folds\n",
    "                \n",
    "    Returns:    Prob_matrix      List of arrays. Each item is 2D matrix where the 1st dimension is each subset in balancing fold, \n",
    "                                 2nd dimension is predicted probability\n",
    "    \n",
    "    Tests the trained RFCs on the test set, then for every instance, outputs the predicted probability for each class\n",
    "    \"\"\"\n",
    "    Prob_matrix = [] #Empty list\n",
    "    Prob_matrixlist = []\n",
    "    for i in range(len(BF_RFC)): #step through item in\n",
    "        Prob_list = BF_RFC[i].predict_proba(Input_test.values)\n",
    "        Prob_matrix.append(Prob_list)\n",
    "        \n",
    "        Output_pred = BF_RFC[i].predict(Input_test.values)\n",
    "        print(f\"{matthews_corrcoef(Classes_test, Output_pred)}\")    \n",
    "              \n",
    "        \n",
    "    with open('Test probabilities.txt', 'w') as f:\n",
    "        for number, line in zip(range(BF), Prob_matrix ):\n",
    "            f.write(f\"Fold: {number}\\n\\n   SNP    PD\\n{line}\\n\\n\\n\")\n",
    "\n",
    "    return Prob_matrix"
   ]
  },
  {
   "cell_type": "markdown",
   "id": "0c4b8fdd",
   "metadata": {},
   "source": [
    "### Weighted voting"
   ]
  },
  {
   "cell_type": "code",
   "execution_count": 17,
   "id": "71033215",
   "metadata": {},
   "outputs": [],
   "source": [
    "\"\"\" Input:      Prob_matrix      List of arrays. 2D matrix where the 1st dimension is each subset in balancing fold, \n",
    "                                2nd dimension is predicted probability\n",
    "                BF              Number of balancing folds\n",
    "                \n",
    "    Returns:    Final_vote      Weighted vote classification\n",
    "    \n",
    "    Calculates the final weighted vote using confidence scores (Sc). Binary classification formula Sc = 2|S0 - 0.5|\n",
    "\"\"\"\n",
    "def Weighted_Vote(Prob_matrix, BF):\n",
    "    Sc_PD = [] #Empty list\n",
    "    Sc_SNP = [] #Empty list\n",
    "    for i in range(BF):\n",
    "        Sc_PD.append(2* (Prob_matrix[i][:,1] - 0.5)) #Confidence scores for PD, for each fold\n",
    "        Sc_SNP.append(2*(Prob_matrix[i][:,0] - 0.5)) #Confidence scores for SNP, for each fold\n",
    "\n",
    "    Sum_PD = np.sum(Sc_PD, axis = 0) #Sum of all PD confidence scores\n",
    "    Sum_SNP = np.sum(Sc_SNP, axis = 0) #Sum of all SNP confidence scores\n",
    "           \n",
    "\n",
    "    Vote_arr = [] #Empty list\n",
    "    \n",
    "    for i in range(len(Classes_test)):\n",
    "        if Sum_PD[i] >= Sum_SNP[i]:\n",
    "            Vote_arr.append([1]) #Append PD classifications to list\n",
    "        elif Sum_SNP[i] > Sum_PD[i]:\n",
    "            Vote_arr.append([0]) #Append SNP classifications to list\n",
    "            \n",
    "    Final_vote = np.stack(Vote_arr) #Converts list of arrays to a 2D array, shape (674,1)\n",
    "    Final_vote = Final_vote.ravel() #Flattens 2D array to 1D array\n",
    "    \n",
    "    np.savetxt('Classifications.txt', Final_vote, \"%.0f\")\n",
    "    \n",
    "    return(Final_vote, Sc_PD, Sc_SNP) #Returns the final confidence scores\n"
   ]
  },
  {
   "cell_type": "markdown",
   "id": "a18f5b78",
   "metadata": {},
   "source": [
    "### Final confidence"
   ]
  },
  {
   "cell_type": "code",
   "execution_count": 36,
   "id": "2ae1157a",
   "metadata": {},
   "outputs": [],
   "source": [
    "\"\"\" Input:      Sc_PD       Confidence score for PD predictions\n",
    "                Sc_SNP      Confidence score for SNP predictions\n",
    "                \n",
    "    Returns:    S_out        Final confidence score\n",
    "    \n",
    "    Calculates the final confidence score\n",
    "\"\"\"\n",
    "def Final_score(Sc_PD, Sc_SNP, BF):\n",
    "    \n",
    "    S_Out = np.abs((Sc_PD - Sc_SNP)/BF)\n",
    "    \n",
    "    return S_Out\n"
   ]
  },
  {
   "cell_type": "code",
   "execution_count": 21,
   "id": "92f36545",
   "metadata": {
    "scrolled": true
   },
   "outputs": [],
   "source": [
    "def evalutation(Classes_test, Final_vote):\n",
    "    \"\"\" Input:      Classes_test       Class label test data\n",
    "                    Final_vote         Weighted vote classification\n",
    "\n",
    "        Returns:    Vote        Number of PDs and SNPs predicted after weighted vote\n",
    "\n",
    "        Evaluation metrics from RFC on test data with\n",
    "    \"\"\"\n",
    "    Output_pred = Final_vote\n",
    "\n",
    "    print(f\"Confusion Matrix:\\n {confusion_matrix(Classes_test, Output_pred)}\")\n",
    "    print(f\"{classification_report(Classes_test, Output_pred)}\\nMCC                {matthews_corrcoef(Classes_test, Output_pred)}\")"
   ]
  },
  {
   "cell_type": "markdown",
   "id": "aa67e232",
   "metadata": {},
   "source": [
    "### Main Program"
   ]
  },
  {
   "cell_type": "code",
   "execution_count": 37,
   "id": "8b6b8f6c",
   "metadata": {
    "scrolled": true
   },
   "outputs": [
    {
     "name": "stderr",
     "output_type": "stream",
     "text": [
      "[Parallel(n_jobs=1)]: Using backend SequentialBackend with 1 concurrent workers.\n",
      "[Parallel(n_jobs=1)]: Done 1000 out of 1000 | elapsed:    4.0s finished\n",
      "[Parallel(n_jobs=1)]: Using backend SequentialBackend with 1 concurrent workers.\n",
      "[Parallel(n_jobs=1)]: Done 1000 out of 1000 | elapsed:    0.0s finished\n"
     ]
    },
    {
     "name": "stdout",
     "output_type": "stream",
     "text": [
      "Confusion Matrix:\n",
      " [[145  78]\n",
      " [ 27 424]]\n",
      "              precision    recall  f1-score   support\n",
      "\n",
      "           0       0.84      0.65      0.73       223\n",
      "           1       0.84      0.94      0.89       451\n",
      "\n",
      "    accuracy                           0.84       674\n",
      "   macro avg       0.84      0.80      0.81       674\n",
      "weighted avg       0.84      0.84      0.84       674\n",
      "\n",
      "MCC                0.6371468255225344\n"
     ]
    },
    {
     "name": "stderr",
     "output_type": "stream",
     "text": [
      "[Parallel(n_jobs=1)]: Using backend SequentialBackend with 1 concurrent workers.\n",
      "[Parallel(n_jobs=1)]: Done 1000 out of 1000 | elapsed:    2.9s finished\n",
      "[Parallel(n_jobs=1)]: Using backend SequentialBackend with 1 concurrent workers.\n",
      "[Parallel(n_jobs=1)]: Done 1000 out of 1000 | elapsed:    2.9s finished\n",
      "[Parallel(n_jobs=1)]: Using backend SequentialBackend with 1 concurrent workers.\n",
      "[Parallel(n_jobs=1)]: Done 1000 out of 1000 | elapsed:    2.9s finished\n",
      "[Parallel(n_jobs=1)]: Using backend SequentialBackend with 1 concurrent workers.\n",
      "[Parallel(n_jobs=1)]: Done 1000 out of 1000 | elapsed:    3.0s finished\n",
      "[Parallel(n_jobs=1)]: Using backend SequentialBackend with 1 concurrent workers.\n",
      "[Parallel(n_jobs=1)]: Done 1000 out of 1000 | elapsed:    3.0s finished\n",
      "[Parallel(n_jobs=1)]: Using backend SequentialBackend with 1 concurrent workers.\n",
      "[Parallel(n_jobs=1)]: Done 1000 out of 1000 | elapsed:    0.0s finished\n",
      "[Parallel(n_jobs=1)]: Using backend SequentialBackend with 1 concurrent workers.\n",
      "[Parallel(n_jobs=1)]: Done 1000 out of 1000 | elapsed:    0.0s finished\n",
      "[Parallel(n_jobs=1)]: Using backend SequentialBackend with 1 concurrent workers.\n",
      "[Parallel(n_jobs=1)]: Done 1000 out of 1000 | elapsed:    0.0s finished\n",
      "[Parallel(n_jobs=1)]: Using backend SequentialBackend with 1 concurrent workers.\n"
     ]
    },
    {
     "name": "stdout",
     "output_type": "stream",
     "text": [
      "0.6696926385824308\n"
     ]
    },
    {
     "name": "stderr",
     "output_type": "stream",
     "text": [
      "[Parallel(n_jobs=1)]: Done 1000 out of 1000 | elapsed:    0.0s finished\n",
      "[Parallel(n_jobs=1)]: Using backend SequentialBackend with 1 concurrent workers.\n",
      "[Parallel(n_jobs=1)]: Done 1000 out of 1000 | elapsed:    0.0s finished\n",
      "[Parallel(n_jobs=1)]: Using backend SequentialBackend with 1 concurrent workers.\n"
     ]
    },
    {
     "name": "stdout",
     "output_type": "stream",
     "text": [
      "0.6696926385824308\n"
     ]
    },
    {
     "name": "stderr",
     "output_type": "stream",
     "text": [
      "[Parallel(n_jobs=1)]: Done 1000 out of 1000 | elapsed:    0.0s finished\n",
      "[Parallel(n_jobs=1)]: Using backend SequentialBackend with 1 concurrent workers.\n",
      "[Parallel(n_jobs=1)]: Done 1000 out of 1000 | elapsed:    0.0s finished\n",
      "[Parallel(n_jobs=1)]: Using backend SequentialBackend with 1 concurrent workers.\n"
     ]
    },
    {
     "name": "stdout",
     "output_type": "stream",
     "text": [
      "0.6696926385824308\n"
     ]
    },
    {
     "name": "stderr",
     "output_type": "stream",
     "text": [
      "[Parallel(n_jobs=1)]: Done 1000 out of 1000 | elapsed:    0.0s finished\n",
      "[Parallel(n_jobs=1)]: Using backend SequentialBackend with 1 concurrent workers.\n",
      "[Parallel(n_jobs=1)]: Done 1000 out of 1000 | elapsed:    0.0s finished\n",
      "[Parallel(n_jobs=1)]: Using backend SequentialBackend with 1 concurrent workers.\n"
     ]
    },
    {
     "name": "stdout",
     "output_type": "stream",
     "text": [
      "0.6696926385824308\n",
      "0.6696926385824308\n",
      "Confusion Matrix:\n",
      " [[189  34]\n",
      " [ 70 381]]\n",
      "              precision    recall  f1-score   support\n",
      "\n",
      "           0       0.73      0.85      0.78       223\n",
      "           1       0.92      0.84      0.88       451\n",
      "\n",
      "    accuracy                           0.85       674\n",
      "   macro avg       0.82      0.85      0.83       674\n",
      "weighted avg       0.86      0.85      0.85       674\n",
      "\n",
      "MCC                0.6696926385824308\n"
     ]
    },
    {
     "name": "stderr",
     "output_type": "stream",
     "text": [
      "[Parallel(n_jobs=1)]: Done 1000 out of 1000 | elapsed:    0.0s finished\n"
     ]
    }
   ],
   "source": [
    "file = 'E2.csv'\n",
    "Input, Output = Clean_data(file)\n",
    "RFC, Input_test, Classes_test, Input_train, Classes_train = train(Input, Output)\n",
    "test(RFC,Input_test, Classes_test)\n",
    "\n",
    "inData    = pd.DataFrame(Input_train).to_numpy()\n",
    "classData = pd.DataFrame(Classes_train).to_numpy()\n",
    "\n",
    "minClass, minSize, maxSize   = find_minority_class(classData)\n",
    "BF                           = Balance_ratio(maxSize, minSize)\n",
    "usedLines                    = balance(inData, classData, minClass, minSize)\n",
    "\n",
    "Input_balance, Label_balance = balance_data(inData, classData, usedLines)\n",
    "Input_folds, Output_folds    = Balance_Folds(BF, usedLines, Input_balance, Label_balance)\n",
    "\n",
    "BF_RFC                       = BF_training(BF, Input_folds, Output_folds)\n",
    "Prob_matrix                  = BFC_test(BF_RFC, Input_test)\n",
    "Final_vote, Sc_PD, Sc_SNP    = Weighted_Vote(Prob_matrix, BF)\n",
    "evalutation(Classes_test, Final_vote)"
   ]
  },
  {
   "cell_type": "code",
   "execution_count": 39,
   "id": "720313af",
   "metadata": {},
   "outputs": [
    {
     "data": {
      "text/plain": [
       "array([1.088, 1.22 , 1.276, 0.584, 1.304, 1.172, 1.46 , 1.532, 1.868,\n",
       "       1.384, 1.408, 0.348, 0.936, 1.312, 1.104, 0.324, 0.456, 0.856,\n",
       "       0.976, 0.504, 1.656, 0.136, 0.336, 1.32 , 0.72 , 1.02 , 1.96 ,\n",
       "       1.604, 0.452, 1.168, 1.508, 0.548, 0.644, 1.56 , 0.86 , 1.16 ,\n",
       "       0.312, 0.2  , 1.204, 0.584, 1.856, 0.056, 0.936, 1.956, 1.684,\n",
       "       0.512, 1.18 , 0.468, 0.868, 0.912, 0.912, 1.3  , 1.856, 1.752,\n",
       "       0.268, 1.368, 1.444, 1.736, 0.008, 1.928, 0.576, 0.272, 0.116,\n",
       "       1.228, 0.468, 0.632, 0.78 , 0.912, 0.608, 0.932, 1.6  , 1.172,\n",
       "       0.356, 0.82 , 1.792, 0.672, 0.1  , 0.36 , 0.168, 0.172, 0.648,\n",
       "       0.456, 1.172, 1.26 , 1.768, 0.628, 0.144, 1.276, 1.3  , 1.128,\n",
       "       0.236, 1.776, 0.62 , 0.248, 0.908, 1.556, 1.524, 0.504, 0.744,\n",
       "       1.456, 0.42 , 0.112, 0.5  , 1.988, 1.388, 1.228, 1.16 , 0.164,\n",
       "       0.484, 1.304, 0.636, 1.444, 0.384, 0.972, 0.916, 0.268, 1.74 ,\n",
       "       1.336, 1.572, 0.608, 1.564, 0.996, 1.58 , 0.372, 1.828, 1.852,\n",
       "       0.288, 1.792, 1.32 , 1.576, 1.412, 0.412, 0.94 , 1.28 , 1.736,\n",
       "       0.776, 1.032, 1.628, 1.012, 0.736, 0.26 , 1.98 , 1.7  , 1.484,\n",
       "       1.824, 1.368, 1.404, 0.676, 0.236, 1.988, 0.196, 0.016, 0.1  ,\n",
       "       1.496, 1.08 , 1.36 , 0.924, 1.096, 0.632, 0.948, 0.272, 0.888,\n",
       "       0.192, 0.672, 0.824, 0.42 , 0.66 , 1.632, 1.372, 1.644, 1.876,\n",
       "       1.132, 1.644, 1.384, 0.228, 1.912, 1.28 , 0.204, 1.62 , 1.088,\n",
       "       0.48 , 0.44 , 0.884, 0.012, 0.004, 1.644, 1.64 , 1.6  , 0.572,\n",
       "       1.328, 0.016, 1.092, 1.336, 0.56 , 1.652, 1.432, 1.556, 1.076,\n",
       "       0.24 , 0.968, 0.62 , 0.764, 1.484, 1.336, 1.908, 0.056, 1.096,\n",
       "       1.728, 0.496, 1.916, 0.612, 1.432, 1.456, 1.732, 0.34 , 1.652,\n",
       "       0.968, 1.824, 1.708, 0.028, 1.352, 1.   , 1.596, 1.292, 1.616,\n",
       "       0.452, 1.32 , 0.4  , 1.608, 1.972, 0.9  , 1.08 , 1.704, 1.832,\n",
       "       1.136, 1.128, 0.464, 0.86 , 1.456, 1.52 , 1.48 , 0.42 , 0.628,\n",
       "       1.524, 1.056, 0.24 , 0.336, 1.168, 1.292, 1.528, 0.432, 0.188,\n",
       "       1.628, 0.448, 0.324, 0.832, 1.056, 1.852, 1.816, 0.744, 1.572,\n",
       "       0.284, 0.088, 1.22 , 0.356, 1.036, 1.108, 0.38 , 0.82 , 1.712,\n",
       "       0.54 , 0.312, 0.704, 0.676, 0.692, 0.848, 0.92 , 1.38 , 1.58 ,\n",
       "       1.172, 0.388, 1.548, 1.756, 1.156, 1.876, 1.536, 0.756, 1.912,\n",
       "       1.644, 0.496, 1.588, 1.88 , 0.072, 0.428, 1.368, 1.264, 0.052,\n",
       "       0.452, 1.388, 1.032, 0.932, 1.768, 0.088, 0.468, 1.628, 1.628,\n",
       "       1.548, 0.464, 0.92 , 1.296, 0.368, 0.292, 0.472, 1.44 , 1.412,\n",
       "       0.876, 1.988, 1.204, 1.62 , 1.276, 1.112, 1.928, 0.832, 1.02 ,\n",
       "       1.624, 1.36 , 1.46 , 1.404, 0.472, 1.804, 0.308, 1.42 , 0.928,\n",
       "       0.636, 1.004, 1.088, 0.548, 1.132, 0.78 , 0.3  , 1.676, 0.548,\n",
       "       0.524, 1.552, 0.508, 1.372, 1.72 , 1.128, 0.2  , 1.02 , 1.504,\n",
       "       0.96 , 0.484, 0.964, 1.604, 0.96 , 0.1  , 0.992, 1.464, 0.724,\n",
       "       1.268, 0.72 , 1.452, 0.788, 1.544, 0.596, 0.264, 1.016, 1.048,\n",
       "       1.912, 0.28 , 0.036, 1.488, 1.704, 0.66 , 0.32 , 1.076, 0.048,\n",
       "       1.176, 0.776, 1.428, 0.748, 1.744, 1.628, 1.36 , 0.456, 0.696,\n",
       "       0.528, 0.316, 0.856, 0.24 , 0.696, 1.896, 1.452, 0.456, 0.176,\n",
       "       1.172, 1.404, 1.58 , 1.104, 0.268, 1.492, 0.316, 1.776, 0.312,\n",
       "       1.092, 0.048, 0.152, 0.688, 0.472, 1.864, 0.28 , 0.28 , 0.004,\n",
       "       0.228, 0.288, 1.148, 0.732, 0.404, 1.256, 0.564, 0.676, 1.208,\n",
       "       0.252, 0.692, 1.016, 1.788, 0.48 , 0.248, 1.764, 1.02 , 0.052,\n",
       "       1.68 , 0.976, 0.94 , 0.756, 1.784, 0.412, 1.12 , 0.168, 0.596,\n",
       "       1.628, 0.064, 1.844, 0.384, 1.168, 0.184, 0.148, 1.16 , 1.32 ,\n",
       "       1.064, 0.304, 1.64 , 1.692, 0.44 , 0.504, 1.216, 0.136, 0.16 ,\n",
       "       0.672, 1.524, 1.476, 1.   , 0.508, 0.856, 0.028, 1.7  , 1.5  ,\n",
       "       1.172, 0.272, 0.94 , 1.492, 1.648, 1.3  , 1.504, 1.32 , 0.624,\n",
       "       0.6  , 1.888, 1.156, 1.976, 0.468, 1.696, 1.52 , 0.712, 0.78 ,\n",
       "       0.088, 0.46 , 0.092, 1.372, 0.884, 1.792, 0.008, 0.536, 0.656,\n",
       "       0.796, 0.676, 0.424, 0.38 , 0.108, 1.452, 0.812, 1.732, 1.424,\n",
       "       1.592, 1.5  , 0.872, 1.552, 0.764, 1.116, 1.932, 0.648, 1.244,\n",
       "       0.292, 0.892, 1.52 , 1.44 , 1.232, 1.344, 1.412, 0.568, 0.148,\n",
       "       1.848, 1.668, 0.436, 0.912, 0.544, 0.48 , 1.764, 0.488, 1.012,\n",
       "       1.304, 0.484, 1.44 , 1.524, 1.076, 0.836, 0.06 , 0.092, 0.44 ,\n",
       "       1.256, 1.82 , 0.944, 1.672, 0.36 , 0.672, 1.896, 0.392, 1.516,\n",
       "       1.1  , 0.056, 1.052, 0.188, 1.688, 0.484, 0.6  , 1.98 , 0.924,\n",
       "       0.252, 1.272, 1.68 , 0.092, 0.784, 0.432, 1.428, 1.264, 0.124,\n",
       "       0.64 , 0.46 , 1.316, 1.26 , 0.048, 0.984, 0.9  , 1.956, 0.316,\n",
       "       1.9  , 0.828, 0.864, 1.1  , 1.428, 0.98 , 1.62 , 0.06 , 1.04 ,\n",
       "       0.04 , 1.052, 1.596, 0.232, 1.228, 1.212, 0.172, 1.416, 0.568,\n",
       "       0.712, 1.34 , 1.248, 0.104, 1.708, 1.028, 1.108, 1.128, 1.368,\n",
       "       1.284, 0.24 , 0.596, 0.024, 0.088, 1.908, 0.768, 1.808, 0.196,\n",
       "       0.004, 1.2  , 1.716, 1.64 , 1.528, 0.524, 1.896, 1.66 , 0.364,\n",
       "       0.256, 0.78 , 0.676, 1.6  , 0.592, 1.832, 1.992, 1.612, 0.548,\n",
       "       1.032, 1.676, 0.132, 0.972, 0.912, 0.312, 0.712, 1.46 , 1.248,\n",
       "       1.348, 0.888, 0.032, 0.088, 0.292, 0.708, 1.864, 0.488, 0.384,\n",
       "       0.884, 1.28 , 1.544, 0.928, 1.948, 1.5  , 0.716, 1.556, 1.368,\n",
       "       0.924, 0.368, 0.208, 1.276, 0.04 , 0.456, 0.28 , 0.408, 0.716,\n",
       "       0.736, 1.444, 1.22 , 0.416, 1.76 , 1.192, 1.236, 0.024])"
      ]
     },
     "execution_count": 39,
     "metadata": {},
     "output_type": "execute_result"
    }
   ],
   "source": [
    "S_out = Final_score(Sc_PD, Sc_SNP, BF)\n",
    "S_out"
   ]
  },
  {
   "cell_type": "code",
   "execution_count": null,
   "id": "5825d165",
   "metadata": {},
   "outputs": [],
   "source": []
  }
 ],
 "metadata": {
  "kernelspec": {
   "display_name": "Python 3 (ipykernel)",
   "language": "python",
   "name": "python3"
  },
  "language_info": {
   "codemirror_mode": {
    "name": "ipython",
    "version": 3
   },
   "file_extension": ".py",
   "mimetype": "text/x-python",
   "name": "python",
   "nbconvert_exporter": "python",
   "pygments_lexer": "ipython3",
   "version": "3.10.7"
  },
  "varInspector": {
   "cols": {
    "lenName": 16,
    "lenType": 16,
    "lenVar": 40
   },
   "kernels_config": {
    "python": {
     "delete_cmd_postfix": "",
     "delete_cmd_prefix": "del ",
     "library": "var_list.py",
     "varRefreshCmd": "print(var_dic_list())"
    },
    "r": {
     "delete_cmd_postfix": ") ",
     "delete_cmd_prefix": "rm(",
     "library": "var_list.r",
     "varRefreshCmd": "cat(var_dic_list()) "
    }
   },
   "oldHeight": 337.844,
   "position": {
    "height": "359.844px",
    "left": "1536px",
    "right": "20px",
    "top": "112px",
    "width": "354px"
   },
   "types_to_exclude": [
    "module",
    "function",
    "builtin_function_or_method",
    "instance",
    "_Feature"
   ],
   "varInspector_section_display": "block",
   "window_display": false
  }
 },
 "nbformat": 4,
 "nbformat_minor": 5
}
