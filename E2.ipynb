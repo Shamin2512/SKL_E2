{
 "cells": [
  {
   "cell_type": "markdown",
   "id": "0fcba82d",
   "metadata": {},
   "source": [
    "## Import library"
   ]
  },
  {
   "cell_type": "code",
   "execution_count": 15,
   "id": "5737f62f",
   "metadata": {},
   "outputs": [],
   "source": [
    "# Example 2 is inbalanced data set; ~2200 in PD and ~1100 in SNP\n",
    "# Goal is to predict if protein is a SNP or PD\n",
    "#ImprovedBalancing branch\n",
    "\n",
    "#Imports the required libraries and packages\n",
    "import pandas as pd  #Import for data manipulation in dataframes\n",
    "import numpy as np  #Array manipulation and calculates mean\n",
    "import matplotlib.pyplot as plt  #Graphing and plotting\n",
    "# show figures in jupyter instead of prompt window\n",
    "%matplotlib inline \n",
    "\n",
    "import random as rd\n",
    "import time\n",
    "import sys\n",
    "\n",
    "from sklearn import tree\n",
    "\n",
    "from sklearn.metrics import(\n",
    "    matthews_corrcoef,  # CC for evaluation\n",
    "    f1_score,  #F1 score for evaluation\n",
    "    balanced_accuracy_score, roc_auc_score, make_scorer,  #Scoring metrics\n",
    "    confusion_matrix,  #Creates the confusion matrix - stats on how accurate the test set output is\n",
    "    classification_report #Returns the F1 socre, precision, and recall of a prediction using a given model\n",
    "    )\n",
    "from sklearn.model_selection import(\n",
    "    train_test_split,  # Splits data frame into the training set and testing set\n",
    "    GridSearchCV,  # Cross validation to improve hyperparameters\n",
    "    StratifiedKFold\n",
    "        )\n",
    "from sklearn.ensemble import RandomForestClassifier #SK learn API for classificastion random forests\n",
    "from sklearn.tree import DecisionTreeClassifier #Single tree decisions \n",
    "from sklearn.preprocessing import StandardScaler\n",
    "from sklearn.linear_model import LogisticRegression\n",
    "from sklearn.pipeline import make_pipeline\n",
    "from sklearn.utils import shuffle #shuffles rows\n",
    "from sklearn.neighbors import KNeighborsClassifier #allows for confidence scores to be predicted for each\n",
    "\n",
    "np.set_printoptions(threshold=np.inf) #full array printing"
   ]
  },
  {
   "cell_type": "markdown",
   "id": "af2ffd97",
   "metadata": {},
   "source": [
    "## Random Seed function"
   ]
  },
  {
   "cell_type": "code",
   "execution_count": 16,
   "id": "6be2ee9c",
   "metadata": {},
   "outputs": [
    {
     "data": {
      "text/plain": [
       "75931"
      ]
     },
     "execution_count": 16,
     "metadata": {},
     "output_type": "execute_result"
    }
   ],
   "source": [
    "def Random_Seed(): #Generates a random seed\n",
    "    random1 = rd.randrange(1,100) #Random integet between 1 and 100\n",
    "    random2 =  time.time() #Time since UTC epoch\n",
    "    Seed = int(random2//random1//1000)\n",
    "    return Seed\n",
    "Random_Seed()"
   ]
  },
  {
   "cell_type": "markdown",
   "id": "3ddcc865",
   "metadata": {},
   "source": [
    "## Read the whole dataset - revis"
   ]
  },
  {
   "cell_type": "code",
   "execution_count": 79,
   "id": "62413d95",
   "metadata": {},
   "outputs": [
    {
     "name": "stdout",
     "output_type": "stream",
     "text": [
      "Total samples: 3368\n",
      "2254 PD samples\n",
      "1111 PD samples\n"
     ]
    }
   ],
   "source": [
    "#Create, clean and convert dataset E2.csv to PD dataframe**\n",
    "df = pd.read_csv('E2.csv')  #Create PD data frame from .csv\n",
    "df.drop(['pdbcode:chain:resnum:mutation'], axis=1, inplace=True)  #Removes unrequired columns. PDBcode may be needed for manual validation \n",
    "df.columns = df.columns.str.replace(' ', '_')  # Removes any blank attributes\n",
    "df.replace(' ', '_', regex=True, inplace=True)  # Replace all blank spaces with underscore (none were present)\n",
    "df.reset_index(drop=True, inplace = True) #Resets index numbering from 0 and drops column\n",
    "Input = df.drop('dataset', axis =1).fillna('0') #DF of input instances for classification training. Unknown attributes assigned 0\n",
    "Output_encoded = pd.get_dummies(df, columns=['dataset']) #One hot encoding dataset column so \"PD\" and \"SNP\" attributes are numerical 0 or 1\n",
    "Output = Output_encoded['dataset_pd'].copy().astype('int32') #Dataframe with 1 column where 1 = PD, 0 = SNP, integer\n",
    "\n",
    "print(\"Total samples:\", len(df))\n",
    "Majority = len(df.loc[df['dataset'] == 'pd'])\n",
    "print(f\"{Majority} PD samples\")\n",
    "Minority = len(df.loc[df['dataset'] == 'snp'])\n",
    "print(f\"{Minority} PD samples\")"
   ]
  },
  {
   "cell_type": "markdown",
   "id": "bb451c9e",
   "metadata": {},
   "source": [
    "## Split into training and testing, generate RF (whole dataset)"
   ]
  },
  {
   "cell_type": "code",
   "execution_count": 80,
   "id": "bbfacd1c",
   "metadata": {
    "scrolled": true
   },
   "outputs": [
    {
     "name": "stderr",
     "output_type": "stream",
     "text": [
      "[Parallel(n_jobs=1)]: Using backend SequentialBackend with 1 concurrent workers.\n",
      "[Parallel(n_jobs=1)]: Done 1000 out of 1000 | elapsed:    4.4s finished\n"
     ]
    }
   ],
   "source": [
    "Input_train, Input_test, Classes_train, Classes_test = train_test_split(Input, Output, train_size = 0.8, random_state=42, stratify=Output) #80% training and 20% testing split. Strartify ensures fixed poportion of output labels is in both sets. Input attributes and class labels, training attributes and class label etc\n",
    "start=time.time() #Start timer for inital training model building\n",
    "RFC = RandomForestClassifier(random_state = 42, n_estimators = 1000, verbose = 1) #Defines the Random Forest. 42 seeds, 1000 trees\n",
    "RFC.fit(Input_train, Classes_train) #Generates a random forest from the training data\n",
    "\n",
    "with open('Training Data.txt', 'w') as file: #Writes class labels for all instances to text file\n",
    "    file.write(Input_train.to_string())\n",
    "    \n",
    "with open('Class labels.txt', 'w') as file: #Writes class labels for all instances to text file\n",
    "    file.write(Output.to_string())"
   ]
  },
  {
   "cell_type": "markdown",
   "id": "b2e8b7f5",
   "metadata": {},
   "source": [
    "## Training (revisit params)"
   ]
  },
  {
   "cell_type": "code",
   "execution_count": 81,
   "id": "cf8d9857",
   "metadata": {},
   "outputs": [
    {
     "name": "stdout",
     "output_type": "stream",
     "text": [
      "Confusion Matrix:\n",
      " [[145  78]\n",
      " [ 27 424]]\n",
      "MCC:\n",
      " 0.6371468255225344\n",
      "F1:\n",
      " 0.8898216159496328\n",
      "              precision    recall  f1-score   support\n",
      "\n",
      "           0       0.84      0.65      0.73       223\n",
      "           1       0.84      0.94      0.89       451\n",
      "\n",
      "    accuracy                           0.84       674\n",
      "   macro avg       0.84      0.80      0.81       674\n",
      "weighted avg       0.84      0.84      0.84       674\n",
      "\n"
     ]
    },
    {
     "name": "stderr",
     "output_type": "stream",
     "text": [
      "[Parallel(n_jobs=1)]: Using backend SequentialBackend with 1 concurrent workers.\n",
      "[Parallel(n_jobs=1)]: Done 1000 out of 1000 | elapsed:    0.1s finished\n"
     ]
    }
   ],
   "source": [
    "# StandardScaler().fit(X_train).transform(X_train) #Scales data \n",
    "# pipeline = make_pipeline( #Sets the random forest parameters\n",
    "#     StandardScaler(),\n",
    "#     LogisticRegression(solver='saga', max_iter=2000),\n",
    "#     verbose=2\n",
    "# )\n",
    "RFC.get_params()\n",
    "# Evaluation of training before weighted vote\n",
    "\n",
    "Output_pred = RFC.predict(Input_test) #Always perdict on the unseen test data, as train has been used by the estimastor\n",
    "print(f\"Confusion Matrix:\\n {confusion_matrix(Classes_test, Output_pred)}\")\n",
    "print(f\"MCC:\\n {matthews_corrcoef(Classes_test, Output_pred)}\")\n",
    "print(\"F1:\\n\", f1_score(Classes_test, Output_pred))\n",
    "print(classification_report(Classes_test, Output_pred))"
   ]
  },
  {
   "cell_type": "markdown",
   "id": "6f5ae3dc",
   "metadata": {},
   "source": [
    "# Weighted Voting"
   ]
  },
  {
   "cell_type": "markdown",
   "id": "118067a2",
   "metadata": {},
   "source": [
    "### Find majority:minority ratio and number of balancing folds"
   ]
  },
  {
   "cell_type": "code",
   "execution_count": 82,
   "id": "6746be83",
   "metadata": {
    "scrolled": true
   },
   "outputs": [
    {
     "name": "stdout",
     "output_type": "stream",
     "text": [
      "Imbalance ratio:\n",
      "2.028802880288029:1\n",
      "5 balancing folds needed.\n"
     ]
    }
   ],
   "source": [
    "def Ratio_divide(): #Finds ratio between the 2 classes (i.e the imbalance) and the number of folds required\n",
    "    a = Majority\n",
    "    b = Minority\n",
    "    Divide = a/b\n",
    "    if Divide <= 1:\n",
    "        Ratio = 1/Divide\n",
    "    else:\n",
    "        Ratio = Divide\n",
    "        \n",
    "    if round(Ratio) % 2 == 0:\n",
    "        BF = 2 * round(Ratio) + 1\n",
    "    else:\n",
    "        BF = round(Ratio)\n",
    "    return Ratio, BF;\n",
    "Ratio, BF = Ratio_divide()\n",
    "print(f\"Imbalance ratio:\\n{Ratio}:1\\n{BF} balancing folds needed.\")"
   ]
  },
  {
   "cell_type": "markdown",
   "id": "71b501a8",
   "metadata": {},
   "source": [
    "## Balancing via array index"
   ]
  },
  {
   "cell_type": "code",
   "execution_count": 83,
   "id": "5d1241bf",
   "metadata": {},
   "outputs": [],
   "source": [
    "def Balancing_Fold():\n",
    "    Output_reset = Output.reset_index() #resets index and drops an un-needed \"index\" column\n",
    "    Output_Array = np.array(Output_reset) #Array of class labels. 1 = PD = majority, 0 = SNP = minority\n",
    "    Array = np.squeeze(Output_Array) #Makes array 1D\n",
    "\n",
    "    count_0 = 0\n",
    "    count_1 = 0\n",
    "    list_index = []\n",
    "    Array_loop = shuffle(Array)\n",
    "\n",
    "    for i in Array_loop:\n",
    "        index = int(i[0:1])\n",
    "        values = i[1:]\n",
    "\n",
    "        if values == 0 and count_0 < Minority:\n",
    "            count_0 += 1\n",
    "            list_index.append(index)\n",
    "        elif values == 1 and count_1 < Minority:\n",
    "            count_1 += 1\n",
    "            list_index.append(index)\n",
    "#     print(f\"PD:{count_1}\\nSNP:{count_0}\\nTotal:{count_1+count_0}\")\n",
    "\n",
    "    Balanced_Input = df.filter(list_index, axis = 0)\n",
    "        \n",
    "    return Balanced_Input"
   ]
  },
  {
   "cell_type": "code",
   "execution_count": 84,
   "id": "59873d9f",
   "metadata": {},
   "outputs": [],
   "source": [
    "def Clean_Balance_Fold():\n",
    "    BF_List = []\n",
    "    for i in range(BF):\n",
    "        BF_List.append(Balancing_Fold())\n",
    "    return BF_List\n",
    "Folds = Clean_Balance_Fold()"
   ]
  },
  {
   "cell_type": "code",
   "execution_count": 159,
   "id": "799c7d6c",
   "metadata": {},
   "outputs": [
    {
     "data": {
      "text/plain": [
       "[      Binding  SProtFT0  SProtFT1  SProtFT2  SProtFT3  SProtFT4  SProtFT5  \\\n",
       " 67        0.0       0.0       0.0       0.0       0.0       0.0       0.0   \n",
       " 356       0.0       0.0       0.0       0.0       0.0       0.0       0.0   \n",
       " 2740      0.0       0.0       0.0       0.0       0.0       0.0       0.0   \n",
       " 139       0.0       0.0       0.0       0.0       0.0       0.0       0.0   \n",
       " 912       1.0       0.0       0.0       0.0       0.0       0.0       0.0   \n",
       " ...       ...       ...       ...       ...       ...       ...       ...   \n",
       " 140       0.0       0.0       0.0       0.0       0.0       1.0       0.0   \n",
       " 1205      0.0       0.0       0.0       0.0       0.0       0.0       0.0   \n",
       " 2796      0.0       0.0       0.0       0.0       0.0       0.0       0.0   \n",
       " 1042      0.0       0.0       0.0       0.0       0.0       0.0       0.0   \n",
       " 1404      0.0       0.0       0.0       0.0       0.0       0.0       0.0   \n",
       " \n",
       "       SProtFT6  SProtFT7  SProtFT8  ...  NLargest6  NLargest7  NLargest8  \\\n",
       " 67         0.0       0.0       0.0  ...    114.140    110.799     89.755   \n",
       " 356        0.0       0.0       0.0  ...     86.527     83.546     79.544   \n",
       " 2740       0.0       0.0       0.0  ...    128.884    123.143    103.153   \n",
       " 139        0.0       0.0       0.0  ...    155.635    117.314    116.603   \n",
       " 912        0.0       0.0       0.0  ...      8.145      7.936      6.478   \n",
       " ...        ...       ...       ...  ...        ...        ...        ...   \n",
       " 140        0.0       0.0       0.0  ...     50.187     39.511     38.930   \n",
       " 1205       0.0       0.0       0.0  ...     88.427     80.016     64.183   \n",
       " 2796       0.0       0.0       0.0  ...    494.177    466.073    450.487   \n",
       " 1042       0.0       0.0       0.0  ...     19.579     17.456     15.084   \n",
       " 1404       0.0       0.0       0.0  ...    173.359    151.180    140.825   \n",
       " \n",
       "       NLargest9  NLargest10  Clash  Glycine  Proline  CisPro  dataset  \n",
       " 67       85.151      78.937  -3.72 -100.000   -100.0     0.0      snp  \n",
       " 356      76.898      76.153   0.00 -100.000   -100.0     0.0       pd  \n",
       " 2740    100.776      83.727  -1.90 -100.000   -100.0     0.0      snp  \n",
       " 139     115.474     107.125  -6.33 -100.000   -100.0     0.0       pd  \n",
       " 912       6.013       4.698  -2.62 -100.000   -100.0     0.0       pd  \n",
       " ...         ...         ...    ...      ...      ...     ...      ...  \n",
       " 140      27.804      27.307  -0.34   -5.196   -100.0     0.0      snp  \n",
       " 1205     59.196      46.426  -0.01 -100.000   -100.0     0.0      snp  \n",
       " 2796    399.528     387.221  -1.69 -100.000   -100.0     0.0      snp  \n",
       " 1042     14.330      13.990  -0.92 -100.000   -100.0     0.0      snp  \n",
       " 1404    135.452     129.990  -7.37 -100.000   -100.0     0.0      snp  \n",
       " \n",
       " [2222 rows x 48 columns],\n",
       "       Binding  SProtFT0  SProtFT1  SProtFT2  SProtFT3  SProtFT4  SProtFT5  \\\n",
       " 399       0.0       0.0       0.0       0.0       0.0       0.0       0.0   \n",
       " 2828      0.0       0.0       0.0       0.0       0.0       0.0       0.0   \n",
       " 1334      0.0       0.0       0.0       0.0       0.0       0.0       0.0   \n",
       " 857       1.0       0.0       0.0       0.0       0.0       0.0       0.0   \n",
       " 2080      0.0       0.0       0.0       0.0       0.0       0.0       0.0   \n",
       " ...       ...       ...       ...       ...       ...       ...       ...   \n",
       " 1469      0.0       0.0       0.0       0.0       0.0       0.0       0.0   \n",
       " 1356      0.0       0.0       0.0       0.0       0.0       0.0       0.0   \n",
       " 2195      0.0       0.0       0.0       0.0       0.0       0.0       0.0   \n",
       " 209       0.0       0.0       0.0       0.0       0.0       0.0       0.0   \n",
       " 94        0.0       0.0       0.0       0.0       0.0       0.0       0.0   \n",
       " \n",
       "       SProtFT6  SProtFT7  SProtFT8  ...  NLargest6  NLargest7  NLargest8  \\\n",
       " 399        0.0       0.0       0.0  ...     96.469     92.958     92.200   \n",
       " 2828       0.0       0.0       0.0  ...    107.743     97.997     86.946   \n",
       " 1334       0.0       0.0       0.0  ...     76.077     73.708     71.680   \n",
       " 857        0.0       0.0       0.0  ...     35.332     33.811     30.525   \n",
       " 2080       0.0       0.0       0.0  ...     95.975     85.623     84.245   \n",
       " ...        ...       ...       ...  ...        ...        ...        ...   \n",
       " 1469       0.0       0.0       0.0  ...     98.672     97.855     96.008   \n",
       " 1356       0.0       0.0       0.0  ...     50.454     47.624     45.492   \n",
       " 2195       0.0       0.0       0.0  ...    110.679    109.139    107.260   \n",
       " 209        0.0       0.0       0.0  ...    107.383    105.524    101.075   \n",
       " 94         0.0       0.0       0.0  ...     88.656     75.730     70.794   \n",
       " \n",
       "       NLargest9  NLargest10  Clash  Glycine  Proline  CisPro  dataset  \n",
       " 399      79.049      67.323  -0.99   -100.0   -100.0     0.0       pd  \n",
       " 2828     68.227      65.657   7.68   -100.0   -100.0     0.0       pd  \n",
       " 1334     64.183      61.617  -3.47   -100.0   -100.0     0.0       pd  \n",
       " 857      28.448      23.301  -1.76   -100.0   -100.0     0.0       pd  \n",
       " 2080     73.354      67.270  -1.41   -100.0   -100.0     0.0       pd  \n",
       " ...         ...         ...    ...      ...      ...     ...      ...  \n",
       " 1469     87.970      68.620  -6.15   -100.0   -100.0     0.0      snp  \n",
       " 1356     43.893      43.252  -1.46   -100.0   -100.0     0.0      snp  \n",
       " 2195     95.972      90.304  -4.22   -100.0   -100.0     0.0      snp  \n",
       " 209      99.535      97.552  -2.99   -100.0   -100.0     0.0      snp  \n",
       " 94       65.046      63.497   0.00   -100.0   -100.0     0.0      snp  \n",
       " \n",
       " [2222 rows x 48 columns],\n",
       "       Binding  SProtFT0  SProtFT1  SProtFT2  SProtFT3  SProtFT4  SProtFT5  \\\n",
       " 1029      0.0       0.0       0.0       0.0       0.0       0.0       0.0   \n",
       " 912       1.0       0.0       0.0       0.0       0.0       0.0       0.0   \n",
       " 726       0.0       0.0       0.0       0.0       0.0       0.0       0.0   \n",
       " 2000      0.0       0.0       0.0       0.0       0.0       0.0       0.0   \n",
       " 3307      1.0       0.0       0.0       0.0       0.0       0.0       0.0   \n",
       " ...       ...       ...       ...       ...       ...       ...       ...   \n",
       " 2061      0.0       0.0       0.0       0.0       0.0       0.0       0.0   \n",
       " 502       0.0       0.0       0.0       0.0       0.0       0.0       0.0   \n",
       " 3251      1.0       0.0       0.0       0.0       0.0       0.0       0.0   \n",
       " 1914      0.0       0.0       0.0       0.0       0.0       0.0       0.0   \n",
       " 2122      0.0       0.0       0.0       0.0       0.0       0.0       0.0   \n",
       " \n",
       "       SProtFT6  SProtFT7  SProtFT8  ...  NLargest6  NLargest7  NLargest8  \\\n",
       " 1029       0.0       0.0       0.0  ...     79.415     73.252     71.404   \n",
       " 912        0.0       0.0       0.0  ...      8.145      7.936      6.478   \n",
       " 726        0.0       0.0       0.0  ...    123.517    108.182    105.220   \n",
       " 2000       0.0       0.0       0.0  ...     46.981     42.136     34.982   \n",
       " 3307       0.0       0.0       0.0  ...    132.261    112.289    111.390   \n",
       " ...        ...       ...       ...  ...        ...        ...        ...   \n",
       " 2061       0.0       0.0       0.0  ...    120.498    118.510    102.314   \n",
       " 502        0.0       0.0       0.0  ...     40.256     40.024     31.249   \n",
       " 3251       0.0       0.0       0.0  ...    105.472    102.382     91.024   \n",
       " 1914       0.0       0.0       0.0  ...     22.984     22.860     16.314   \n",
       " 2122       0.0       0.0       0.0  ...    155.635    117.314    116.603   \n",
       " \n",
       "       NLargest9  NLargest10  Clash  Glycine  Proline  CisPro  dataset  \n",
       " 1029     69.014      63.485 -10.49   -100.0   -100.0     0.0      snp  \n",
       " 912       6.013       4.698  -2.62   -100.0   -100.0     0.0       pd  \n",
       " 726     101.671      83.045  -0.73   -100.0   -100.0     0.0       pd  \n",
       " 2000     33.769      33.623 -16.84   -100.0   -100.0     0.0       pd  \n",
       " 3307    110.232      99.504  -2.52   -100.0   -100.0     0.0       pd  \n",
       " ...         ...         ...    ...      ...      ...     ...      ...  \n",
       " 2061     98.974      98.058  -4.30   -100.0   -100.0     0.0      snp  \n",
       " 502      30.701      30.078  -7.43   -100.0   -100.0     0.0      snp  \n",
       " 3251     79.523      67.838   0.00   -100.0   -100.0     0.0      snp  \n",
       " 1914     13.653      12.377  -1.51   -100.0   -100.0     0.0      snp  \n",
       " 2122    115.474     107.125  -1.88   -100.0   -100.0     0.0      snp  \n",
       " \n",
       " [2222 rows x 48 columns],\n",
       "       Binding  SProtFT0  SProtFT1  SProtFT2  SProtFT3  SProtFT4  SProtFT5  \\\n",
       " 3317      0.0       0.0       0.0       0.0       0.0       0.0       0.0   \n",
       " 1092      0.0       0.0       0.0       0.0       0.0       0.0       0.0   \n",
       " 1487      0.0       0.0       0.0       0.0       0.0       0.0       0.0   \n",
       " 2444      0.0       0.0       0.0       0.0       0.0       0.0       0.0   \n",
       " 611       0.0       0.0       0.0       0.0       0.0       0.0       0.0   \n",
       " ...       ...       ...       ...       ...       ...       ...       ...   \n",
       " 873       0.0       0.0       0.0       0.0       0.0       0.0       0.0   \n",
       " 955       1.0       0.0       0.0       0.0       0.0       0.0       0.0   \n",
       " 3025      0.0       0.0       0.0       0.0       0.0       0.0       0.0   \n",
       " 2253      0.0       0.0       0.0       0.0       0.0       0.0       0.0   \n",
       " 2572      0.0       0.0       0.0       0.0       0.0       0.0       0.0   \n",
       " \n",
       "       SProtFT6  SProtFT7  SProtFT8  ...  NLargest6  NLargest7  NLargest8  \\\n",
       " 3317       0.0       0.0       0.0  ...     44.697     44.240     41.510   \n",
       " 1092       0.0       0.0       0.0  ...     98.318     84.466     72.197   \n",
       " 1487       0.0       0.0       0.0  ...     26.403     24.308     22.622   \n",
       " 2444       0.0       0.0       0.0  ...     73.404     72.334     66.438   \n",
       " 611        0.0       0.0       0.0  ...     95.975     85.623     84.245   \n",
       " ...        ...       ...       ...  ...        ...        ...        ...   \n",
       " 873        0.0       0.0       0.0  ...     67.553     64.130     53.039   \n",
       " 955        0.0       0.0       0.0  ...     48.001     46.436     41.175   \n",
       " 3025       0.0       0.0       0.0  ...    106.208     99.205     89.298   \n",
       " 2253       0.0       0.0       0.0  ...     86.011     63.851     55.698   \n",
       " 2572       0.0       0.0       0.0  ...    113.491     97.366     85.701   \n",
       " \n",
       "       NLargest9  NLargest10  Clash  Glycine  Proline  CisPro  dataset  \n",
       " 3317     41.036      36.406   0.69   -100.0   -100.0     0.0      snp  \n",
       " 1092     68.810      60.438  -8.71   -100.0   -100.0     0.0       pd  \n",
       " 1487     17.026      15.898  -5.98   -100.0   -100.0     0.0       pd  \n",
       " 2444     64.507      60.999  -3.59   -100.0   -100.0     0.0      snp  \n",
       " 611      73.354      67.270   0.00   -100.0   -100.0     0.0       pd  \n",
       " ...         ...         ...    ...      ...      ...     ...      ...  \n",
       " 873      52.264      46.498  -4.78   -100.0   -100.0     0.0      snp  \n",
       " 955      40.544      40.525  -9.22   -100.0   -100.0     0.0      snp  \n",
       " 3025     84.021      82.238   8.05   -100.0   -100.0     0.0      snp  \n",
       " 2253     52.125      51.766 -13.29   -100.0   -100.0     0.0      snp  \n",
       " 2572     76.368      71.371  -7.58   -100.0   -100.0     0.0      snp  \n",
       " \n",
       " [2222 rows x 48 columns],\n",
       "       Binding  SProtFT0  SProtFT1  SProtFT2  SProtFT3  SProtFT4  SProtFT5  \\\n",
       " 529       0.0       0.0       0.0       0.0       0.0       0.0       0.0   \n",
       " 1540      0.0       0.0       0.0       0.0       0.0       0.0       0.0   \n",
       " 839       1.0       0.0       0.0       0.0       0.0       0.0       0.0   \n",
       " 1057      0.0       0.0       0.0       0.0       0.0       0.0       0.0   \n",
       " 1033      0.0       0.0       0.0       0.0       0.0       0.0       0.0   \n",
       " ...       ...       ...       ...       ...       ...       ...       ...   \n",
       " 2780      0.0       0.0       0.0       0.0       0.0       0.0       0.0   \n",
       " 1314      0.0       0.0       0.0       0.0       0.0       0.0       0.0   \n",
       " 1118      0.0       0.0       0.0       0.0       0.0       0.0       0.0   \n",
       " 1490      0.0       0.0       0.0       0.0       0.0       0.0       0.0   \n",
       " 2112      0.0       0.0       0.0       0.0       0.0       0.0       0.0   \n",
       " \n",
       "       SProtFT6  SProtFT7  SProtFT8  ...  NLargest6  NLargest7  NLargest8  \\\n",
       " 529        0.0       0.0       0.0  ...     68.513     59.630     47.143   \n",
       " 1540       0.0       0.0       0.0  ...    155.635    117.314    116.603   \n",
       " 839        0.0       0.0       0.0  ...    152.367    142.055    119.325   \n",
       " 1057       0.0       0.0       0.0  ...     46.279     40.626     32.063   \n",
       " 1033       0.0       0.0       0.0  ...     74.896     65.681     63.195   \n",
       " ...        ...       ...       ...  ...        ...        ...        ...   \n",
       " 2780       0.0       0.0       0.0  ...    182.610    181.999    168.794   \n",
       " 1314       0.0       0.0       0.0  ...     91.055     86.448     75.898   \n",
       " 1118       0.0       0.0       0.0  ...    192.321    185.030    174.868   \n",
       " 1490       0.0       0.0       0.0  ...    173.359    151.180    140.825   \n",
       " 2112       0.0       0.0       0.0  ...    138.093    131.905    118.158   \n",
       " \n",
       "       NLargest9  NLargest10  Clash  Glycine  Proline  CisPro  dataset  \n",
       " 529      44.697      42.507  -5.89   -100.0   -100.0     0.0       pd  \n",
       " 1540    115.474     107.125  -4.46   -100.0   -100.0     0.0      snp  \n",
       " 839     110.986     110.768 -17.19   -100.0   -100.0     0.0       pd  \n",
       " 1057     31.670      30.148  -8.66   -100.0   -100.0     0.0       pd  \n",
       " 1033     59.632      58.533 -10.80   -100.0   -100.0     0.0      snp  \n",
       " ...         ...         ...    ...      ...      ...     ...      ...  \n",
       " 2780    147.197     138.103  -4.42   -100.0   -100.0     0.0      snp  \n",
       " 1314     72.891      69.926  -5.86   -100.0   -100.0     0.0      snp  \n",
       " 1118    173.001     138.602  -7.41   -100.0   -100.0     0.0      snp  \n",
       " 1490    135.452     129.990  -9.86   -100.0   -100.0     0.0      snp  \n",
       " 2112    115.661     108.190 -10.13   -100.0   -100.0     0.0      snp  \n",
       " \n",
       " [2222 rows x 48 columns]]"
      ]
     },
     "execution_count": 159,
     "metadata": {},
     "output_type": "execute_result"
    }
   ],
   "source": [
    "Folds"
   ]
  },
  {
   "cell_type": "markdown",
   "id": "f8f31444",
   "metadata": {},
   "source": [
    "## Split into training and testing, generate RF (balanced dataset)"
   ]
  },
  {
   "cell_type": "code",
   "execution_count": 161,
   "id": "0c50ebfe",
   "metadata": {
    "scrolled": false
   },
   "outputs": [
    {
     "name": "stdout",
     "output_type": "stream",
     "text": [
      "     Binding SProtFT0 SProtFT1 SProtFT2 SProtFT3 SProtFT4 SProtFT5 SProtFT6  \\\n",
      "67       0.0      0.0      0.0      0.0      0.0      0.0      0.0      0.0   \n",
      "356      0.0      0.0      0.0      0.0      0.0      0.0      0.0      0.0   \n",
      "2740     0.0      0.0      0.0      0.0      0.0      0.0      0.0      0.0   \n",
      "139      0.0      0.0      0.0      0.0      0.0      0.0      0.0      0.0   \n",
      "912      1.0      0.0      0.0      0.0      0.0      0.0      0.0      0.0   \n",
      "...      ...      ...      ...      ...      ...      ...      ...      ...   \n",
      "140      0.0      0.0      0.0      0.0      0.0      1.0      0.0      0.0   \n",
      "1205     0.0      0.0      0.0      0.0      0.0      0.0      0.0      0.0   \n",
      "2796     0.0      0.0      0.0      0.0      0.0      0.0      0.0      0.0   \n",
      "1042     0.0      0.0      0.0      0.0      0.0      0.0      0.0      0.0   \n",
      "1404     0.0      0.0      0.0      0.0      0.0      0.0      0.0      0.0   \n",
      "\n",
      "     SProtFT7 SProtFT8  ... NLargest5 NLargest6 NLargest7 NLargest8 NLargest9  \\\n",
      "67        0.0      0.0  ...   159.487    114.14   110.799    89.755    85.151   \n",
      "356       0.0      0.0  ...   101.449    86.527    83.546    79.544    76.898   \n",
      "2740      0.0      0.0  ...   141.311   128.884   123.143   103.153   100.776   \n",
      "139       0.0      0.0  ...   160.358   155.635   117.314   116.603   115.474   \n",
      "912       0.0      0.0  ...     8.523     8.145     7.936     6.478     6.013   \n",
      "...       ...      ...  ...       ...       ...       ...       ...       ...   \n",
      "140       0.0      0.0  ...    51.471    50.187    39.511     38.93    27.804   \n",
      "1205      0.0      0.0  ...   141.227    88.427    80.016    64.183    59.196   \n",
      "2796      0.0      0.0  ...   531.621   494.177   466.073   450.487   399.528   \n",
      "1042      0.0      0.0  ...    21.515    19.579    17.456    15.084     14.33   \n",
      "1404      0.0      0.0  ...   188.995   173.359    151.18   140.825   135.452   \n",
      "\n",
      "     NLargest10 Clash Glycine Proline CisPro  \n",
      "67       78.937 -3.72  -100.0  -100.0    0.0  \n",
      "356      76.153   0.0  -100.0  -100.0    0.0  \n",
      "2740     83.727  -1.9  -100.0  -100.0    0.0  \n",
      "139     107.125 -6.33  -100.0  -100.0    0.0  \n",
      "912       4.698 -2.62  -100.0  -100.0    0.0  \n",
      "...         ...   ...     ...     ...    ...  \n",
      "140      27.307 -0.34  -5.196  -100.0    0.0  \n",
      "1205     46.426 -0.01  -100.0  -100.0    0.0  \n",
      "2796    387.221 -1.69  -100.0  -100.0    0.0  \n",
      "1042      13.99 -0.92  -100.0  -100.0    0.0  \n",
      "1404     129.99 -7.37  -100.0  -100.0    0.0  \n",
      "\n",
      "[2222 rows x 47 columns]\n",
      "67      0\n",
      "356     1\n",
      "2740    0\n",
      "139     1\n",
      "912     1\n",
      "       ..\n",
      "140     0\n",
      "1205    0\n",
      "2796    0\n",
      "1042    0\n",
      "1404    0\n",
      "Name: dataset_pd, Length: 2222, dtype: int32\n"
     ]
    }
   ],
   "source": [
    "def BF_training():\n",
    "    Input_list = []\n",
    "    Output_list=[]\n",
    "    for i in range(BF):\n",
    "        BF_Input = Folds[i].drop('dataset', axis = 1).fillna('0')\n",
    "        Input_list.append(BF_Input)\n",
    "        \n",
    "        BF_encoded = pd.get_dummies(Folds[i], columns=['dataset']) #One hot encoding dataset column so \"PD\" and \"SNP\" attributes are numerical 0 or 1\n",
    "        BF_Output = BF_encoded['dataset_pd'].copy().astype('int32') #Dataframe with 1 column where 1 = PD, 0 = SNP, integer\n",
    "        Output_list.append(BF_Output)\n",
    "        \n",
    "    return Input_list, Output_list\n",
    "Input_balanced, Output_balanced = BF_training()\n",
    "        \n",
    "a = 0\n",
    "print(Input_balanced[a])\n",
    "print(Output_balanced[a])\n",
    "        \n",
    "# Input_train, Input_test, Classes_train, Classes_test = train_test_split(Input, Output, train_size = 0.8, random_state=42, stratify=Output) #80% training and 20% testing split. Strartify ensures fixed poportion of output labels is in both sets. Input attributes and class labels, training attributes and class label etc\n",
    "\n",
    "# BF_RFC = RandomForestClassifier(random_state = 42, n_estimators = 1000, verbose = 1) #Defines the Random Forest. 42 seeds, 1000 trees\n",
    "# RFC.fit(Input_train, Classes_train) #Generates a random forest from the training data\n",
    "\n",
    "# with open('Training Data.txt', 'w') as file: #Writes class labels for all instances to text file\n",
    "#     file.write(Input_train.to_string())\n",
    "    \n",
    "# with open('Class labels.txt', 'w') as file: #Writes class labels for all instances to text file\n",
    "#     file.write(Output.to_string())"
   ]
  },
  {
   "cell_type": "code",
   "execution_count": null,
   "id": "170a68d2",
   "metadata": {},
   "outputs": [],
   "source": [
    "#Build a model for each balancing fold, predict the confidence scores and find average for each, which gives final vote\n",
    " \n",
    "BF_RFC = RandomForestClassifier(random_state = 42, n_estimators = 100) #Defines the Random Forest. 42 seeds, 100 trees (increase)\n",
    "BF_Prob = []\n",
    "BF_Probtxt = []\n",
    "BF_data = []\n",
    "\n",
    "#Randomly samples the majority class PD, to the same size of minority class SNP, and scores confidence for each instance\n",
    "for i in range (BF):\n",
    "    a = Random_Seed()\n",
    "    BF_Input_PD_train = Input_PD_train.sample(frac = (1/Ratio), random_state = a//100) #Balanced PD input training data \n",
    "    BF_Classes_PD_train = Classes_PD_train.sample(frac = (1/Ratio), random_state = a//100) #Balanced PD output training data\n",
    "    \n",
    "    #Concatanates the input and output balancing fold training data, so a new RFC can be generated. Function\n",
    "    BF_Input_all = shuffle(pd.concat([BF_Input_PD_train, Input_SNP_train]), random_state = a//50)\n",
    "    BF_Output_all = shuffle(pd.concat([BF_Classes_PD_train, Classes_SNP_train]), random_state = a//50)\n",
    "    Full_set = pd.concat([BF_Input_all, BF_Output_all], axis = 1)\n",
    "\n",
    "\n",
    "    #Generates RF and calculates probabilities for each fold\n",
    "    BF_RFC.fit(BF_Input_all, BF_Output_all)\n",
    "    BF_data.append(Full_set) #Builds random forest from training data for each fold\n",
    "    \n",
    "    Prob_index = BF_RFC.predict_proba(BF_Input_all) #Predicts confidence score for each instance\n",
    "    Full_set[['SNP', 'PD']] = Prob_index\n",
    "    Prob_index = Full_set.drop(labels=['Binding','SProtFT0','SProtFT1','SProtFT2','SProtFT3','SProtFT4','SProtFT5','SProtFT6','SProtFT7','SProtFT8','SProtFT9','SProtFT10','SProtFT11','SProtFT12','Interface','Relaccess','Impact','HBonds','SPhobic','CPhilic','BCharge','SSGeom','Voids','MLargest1','MLargest2','MLargest3','MLargest4','MLargest5','MLargest6','MLargest7','MLargest8','MLargest9','MLargest10','NLargest1','NLargest2','NLargest3','NLargest4','NLargest5','NLargest6','NLargest7','NLargest8','NLargest9','NLargest10','Clash','Glycine','Proline','CisPro','dataset_pd'], axis=1, inplace=False)\n",
    "    #Becomes a list\n",
    "    BF_Prob.append(Prob_index) #List with probabilites for all instances\n",
    "    BF_Probtxt.append(Prob_index.to_string())\n",
    "    \n",
    "with open('Balanced probabilities.txt', 'w') as f:\n",
    "    for number, line in zip(range(BF), BF_Probtxt):\n",
    "        f.write(f\"Fold: {number}\\n\\n{line}\\n\\n\\n\")\n",
    "        \n",
    "with open('Balanced training data.txt', 'w') as f:\n",
    "    for number, fold in zip(range(BF), BF_data):\n",
    "        f.write(f\"Fold: {number}\\n\\n{fold}\\n\\n\\n\")"
   ]
  },
  {
   "cell_type": "markdown",
   "id": "0c4b8fdd",
   "metadata": {},
   "source": [
    "### Weighted voting for each class"
   ]
  },
  {
   "cell_type": "code",
   "execution_count": 84,
   "id": "dead8029",
   "metadata": {
    "scrolled": false
   },
   "outputs": [
    {
     "data": {
      "text/plain": [
       "2       0.0\n",
       "5       0.0\n",
       "2054    0.0\n",
       "2055    0.0\n",
       "8       0.0\n",
       "       ... \n",
       "2025    0.0\n",
       "2027    0.0\n",
       "2034    0.0\n",
       "2036    0.0\n",
       "2039    0.0\n",
       "Length: 1171, dtype: float64"
      ]
     },
     "execution_count": 84,
     "metadata": {},
     "output_type": "execute_result"
    }
   ],
   "source": [
    "#Apply weighted vote scheme for a predictor that outputs confidence value between 0 and 1 for each class. \n",
    "def Weighted_Proba(BF_Prob, BF_list):\n",
    "\n",
    "    # Identify which instance appear in all folds, uding the nth fold (random number)\n",
    "    intersect_index = set(BF_Prob[0].index.values) #index of all 1782 instances in first fold\n",
    "    \n",
    "    for i in BF_list: #for all 5 folds\n",
    "        intersect_index = intersect_index.intersection(set(BF_Prob[i].index.values)) #intersection checks if instances are in all folds\n",
    "    intersect_index_list = list(intersect_index) #converts set to list, 945 items\n",
    "\n",
    "    with open('All Instances.txt', 'w') as f:\n",
    "        for line in intersect_index_list:\n",
    "            f.write(f\"{line}\\n\")\n",
    "            \n",
    "    BF_prob_list_PD =[]\n",
    "    BF_prob_list_SNP =[]\n",
    "    for i in BF_list: #for all 5 folds\n",
    "        BF_Prob_instance = BF_Prob[i].loc[intersect_index_list,:] #Returns each dataframe with the common instances\n",
    "        BF_prob_list_PD.append(BF_Prob_instance.iloc[:,1] - BF_Prob_instance.iloc[:,0]) #PD - SNP prob\n",
    "        BF_prob_list_SNP.append(BF_Prob_instance.iloc[:,0] - BF_Prob_instance.iloc[:,1]) #SNP - PD prob   \n",
    "    \n",
    "    SNP_Sum = 0\n",
    "    for i in BF_list:\n",
    "        SNP_Sum += BF_prob_list_SNP[i]\n",
    "    PD_Sum = 0\n",
    "    for i in BF_list:\n",
    "        PD_Sum += BF_prob_list_PD[i]\n",
    "        \n",
    "    S_out = abs((PD_Sum - SNP_Sum)/(len(BF_list) * 2))\n",
    "    return(S_out)\n",
    "\n",
    "Weighted_Proba(BF_Prob = BF_List, BF_list=range(BF))"
   ]
  },
  {
   "cell_type": "code",
   "execution_count": null,
   "id": "ee46ca48",
   "metadata": {
    "scrolled": true
   },
   "outputs": [],
   "source": [
    "Prob_PD = RFC.predict_proba(Input_PD_train) #Probability prediction, as a mean of all trees in RF, for the PD instances\n",
    "Prob_SNP = RFC.predict_proba(Input_SNP_train) #Probability prediction, as a mean of all trees in RF, for the SNP instances"
   ]
  },
  {
   "cell_type": "code",
   "execution_count": null,
   "id": "f8fe70fc",
   "metadata": {},
   "outputs": [],
   "source": [
    "S_out_string = Weighted_Proba(BF_Prob, BF_list=range(BF)).to_string() #Write S_out to text file\n",
    "with open('S_out.txt', 'w') as f:\n",
    "    f.write(S_out_string)"
   ]
  },
  {
   "cell_type": "code",
   "execution_count": null,
   "id": "05628e7a",
   "metadata": {},
   "outputs": [],
   "source": [
    "BF_Prob[0].iloc[:,0]"
   ]
  },
  {
   "cell_type": "code",
   "execution_count": null,
   "id": "a322d7eb",
   "metadata": {},
   "outputs": [],
   "source": [
    "#Final vote\n",
    "\n",
    "PD = BF_Prob[0].iloc[:,1].to_numpy()\n",
    "SNP = BF_Prob[0].iloc[:,0].to_numpy()\n",
    "# if np.greater(PD,SNP):\n",
    "\n",
    "# PD_Count = 0\n",
    "# SNP_Count = 0\n",
    "# for i in range(len(BF_Prob)):\n",
    "#     if np.greater(PD,SNP):\n",
    "#         PD_Count += 1\n",
    "#     elif BF_Prob[i].iloc[:,0] > BF_Prob[i].iloc[:,1]:\n",
    "#         SNP_Count += 1\n",
    "#     else:\n",
    "#         pass\n",
    "\n",
    "        \n",
    "\n",
    "# PD_Count = 0\n",
    "# for i in Weighted_Proba(BF_Prob, BF_list=range(BF)):\n",
    "#     if i > 0.5:\n",
    "#         PD_Count += 1\n",
    "#     else:\n",
    "#         pass\n",
    "# print(PD_Count,\"samples predicted to be PD\")\n",
    "\n",
    "# SNP_Count = 0\n",
    "# for i in Weighted_Proba(BF_Prob, BF_list=range(BF)):\n",
    "#     if i < 0.5:\n",
    "#         SNP_Count += 1\n",
    "#     else:\n",
    "#         pass\n",
    "# print(SNP_Count,\"samples predicted to be SNP\")\n",
    "\n",
    "\n",
    "# #Evaluation of training after weighted vote\n",
    "# Classes_pred = RFC.predict(Input_test)\n",
    "# print(f\"Confusion Matrix:\\n {confusion_matrix(Classes_test, Classes_pred)}\")\n",
    "# print(f\"MCC:\\n {matthews_corrcoef(Classes_test, Classes_pred)}\")\n",
    "# print(\"F1:\\n\", f1_score(Classes_test, Classes_pred))"
   ]
  },
  {
   "cell_type": "code",
   "execution_count": null,
   "id": "bb4af5bf",
   "metadata": {},
   "outputs": [],
   "source": [
    "# TODO: retrive the probability from each tree for a single sample  "
   ]
  },
  {
   "cell_type": "markdown",
   "id": "965f8777",
   "metadata": {},
   "source": [
    "### Validation"
   ]
  },
  {
   "cell_type": "code",
   "execution_count": null,
   "id": "c426f23e",
   "metadata": {},
   "outputs": [],
   "source": [
    "# # **Split data into training and test**\n",
    "# with open('SNPorPD.txt', 'w+') as f:\n",
    "#         data=f.read()\n",
    "#         f.write(str(y_test.to_string()))\n",
    "\n",
    "# # pipeline.fit(X, y) #applies list if transformers to give a fitted model\n",
    "\n",
    "plt.scatter(Classes_test, Output_pred)"
   ]
  },
  {
   "cell_type": "code",
   "execution_count": null,
   "id": "9f620e35",
   "metadata": {},
   "outputs": [],
   "source": [
    "gridsearch = GridSearchCV( #validation\n",
    "    estimator = LogisticRegression(solver='saga'),\n",
    "    param_grid = {}, #dictionary of parameters to search through\n",
    "    cv = StratifiedKFold(),\n",
    "    n_jobs = 1, #how many processors to run in parallel\n",
    "    scoring = 'f1',\n",
    "    verbose = 3 \n",
    "    ).fit(X_train, y_train)"
   ]
  },
  {
   "cell_type": "code",
   "execution_count": null,
   "id": "15af356d",
   "metadata": {},
   "outputs": [],
   "source": [
    "# y_pred = clf.predict(X_test)\n",
    "# print(\"Training time:\", stop-start)\n",
    "# print(\"Confusion Matrix:\\n\", confusion_matrix(y_test, y_pred))\n",
    "# print(\"MCC:\\n\", matthews_corrcoef(y_test, y_pred))\n",
    "# print(\"F1:\\n\", f1_score(y_test, y_pred))"
   ]
  },
  {
   "cell_type": "code",
   "execution_count": null,
   "id": "b1de8521",
   "metadata": {},
   "outputs": [],
   "source": []
  }
 ],
 "metadata": {
  "kernelspec": {
   "display_name": "Python 3 (ipykernel)",
   "language": "python",
   "name": "python3"
  },
  "language_info": {
   "codemirror_mode": {
    "name": "ipython",
    "version": 3
   },
   "file_extension": ".py",
   "mimetype": "text/x-python",
   "name": "python",
   "nbconvert_exporter": "python",
   "pygments_lexer": "ipython3",
   "version": "3.10.7"
  },
  "varInspector": {
   "cols": {
    "lenName": 16,
    "lenType": 16,
    "lenVar": 40
   },
   "kernels_config": {
    "python": {
     "delete_cmd_postfix": "",
     "delete_cmd_prefix": "del ",
     "library": "var_list.py",
     "varRefreshCmd": "print(var_dic_list())"
    },
    "r": {
     "delete_cmd_postfix": ") ",
     "delete_cmd_prefix": "rm(",
     "library": "var_list.r",
     "varRefreshCmd": "cat(var_dic_list()) "
    }
   },
   "oldHeight": 337.844,
   "position": {
    "height": "359.844px",
    "left": "1536px",
    "right": "20px",
    "top": "112px",
    "width": "354px"
   },
   "types_to_exclude": [
    "module",
    "function",
    "builtin_function_or_method",
    "instance",
    "_Feature"
   ],
   "varInspector_section_display": "block",
   "window_display": true
  }
 },
 "nbformat": 4,
 "nbformat_minor": 5
}
