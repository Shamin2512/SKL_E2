{
 "cells": [
  {
   "cell_type": "markdown",
   "id": "0fcba82d",
   "metadata": {},
   "source": [
    "## Import library"
   ]
  },
  {
   "cell_type": "code",
   "execution_count": 27,
   "id": "5737f62f",
   "metadata": {},
   "outputs": [],
   "source": [
    "# Example 2 is inbalanced data set; ~2200 in PD and ~1100 in SNP\n",
    "# Goal is to predict if protein is a SNP or PD\n",
    "\n",
    "#Imports the required libraries and packages\n",
    "import pandas as pd  #Import for data manipulation in dataframes\n",
    "import numpy as np  #Array manipulation and calculates mean\n",
    "import matplotlib.pyplot as plt  #Graphing and plotting\n",
    "# show figures in jupyter instead of prompt window\n",
    "%matplotlib inline \n",
    "\n",
    "import random as rd\n",
    "import time\n",
    "import sys\n",
    "\n",
    "from sklearn import tree\n",
    "\n",
    "from sklearn.metrics import(\n",
    "    matthews_corrcoef,  # CC for evaluation\n",
    "    f1_score,  #F1 score for evaluation\n",
    "    balanced_accuracy_score, roc_auc_score, make_scorer,  #Scoring metrics\n",
    "    confusion_matrix,  #Creates the confusion matrix - stats on how accurate the test set output is\n",
    "    classification_report #Returns the F1 socre, precision, and recall of a prediction using a given model\n",
    "    )\n",
    "from sklearn.model_selection import(\n",
    "    train_test_split,  # Splits data frame into the training set and testing set\n",
    "    GridSearchCV,  # Cross validation to improve hyperparameters\n",
    "    StratifiedKFold\n",
    "        )\n",
    "from sklearn.ensemble import RandomForestClassifier #SK learn API for classificastion random forests\n",
    "from sklearn.tree import DecisionTreeClassifier #Single tree decisions \n",
    "from sklearn.preprocessing import StandardScaler\n",
    "from sklearn.linear_model import LogisticRegression\n",
    "from sklearn.pipeline import make_pipeline\n",
    "from sklearn.utils import shuffle #shuffles rows\n",
    "from sklearn.neighbors import KNeighborsClassifier #allows for confidence scores to be predicted for each\n",
    "\n",
    "np.set_printoptions(threshold=np.inf) #full array printing"
   ]
  },
  {
   "cell_type": "markdown",
   "id": "af2ffd97",
   "metadata": {},
   "source": [
    "## Random Seed function"
   ]
  },
  {
   "cell_type": "code",
   "execution_count": 5,
   "id": "6be2ee9c",
   "metadata": {},
   "outputs": [
    {
     "data": {
      "text/plain": [
       "167032"
      ]
     },
     "execution_count": 5,
     "metadata": {},
     "output_type": "execute_result"
    }
   ],
   "source": [
    "def Random_Seed(): #Generates a random seed\n",
    "    random1 = rd.randrange(1,100) #Random integet between 1 and 100\n",
    "    random2 =  time.time() #Time since UTC epoch\n",
    "    Seed = int(random2//random1//1000)\n",
    "    return Seed\n",
    "Random_Seed()"
   ]
  },
  {
   "cell_type": "markdown",
   "id": "3ddcc865",
   "metadata": {},
   "source": [
    "## Read the whole dataset - revis"
   ]
  },
  {
   "cell_type": "code",
   "execution_count": 6,
   "id": "62413d95",
   "metadata": {},
   "outputs": [
    {
     "name": "stdout",
     "output_type": "stream",
     "text": [
      "Total samples: 3368\n",
      "2254 PD samples\n",
      "1111 SNP samples\n"
     ]
    }
   ],
   "source": [
    "#Create, clean and convert dataset E2.csv to PD dataframe**\n",
    "df = pd.read_csv('E2.csv')  #Create PD data frame from .csv\n",
    "df.drop(['pdbcode:chain:resnum:mutation'], axis=1, inplace=True)  #Removes unrequired columns. PDBcode may be needed for manual validation \n",
    "df.columns = df.columns.str.replace(' ', '_')  # Removes any blank attributes\n",
    "df.replace(' ', '_', regex=True, inplace=True)  # Replace all blank spaces with underscore (none were present)\n",
    "df.reset_index(drop=True, inplace = True) #Resets index numbering from 0 and drops column\n",
    "Input = df.drop('dataset', axis =1).fillna('0') #DF of input instances for classification training. Unknown attributes assigned 0\n",
    "Output_encoded = pd.get_dummies(df, columns=['dataset']) #One hot encoding dataset column so \"PD\" and \"SNP\" attributes are numerical 0 or 1\n",
    "Output = Output_encoded['dataset_pd'].copy().astype('int32') #Dataframe with 1 column where 1 = PD, 0 = SNP, integer\n",
    "\n",
    "print(\"Total samples:\", len(df))\n",
    "print(f\"{len(df.loc[df['dataset'] == 'pd'])} PD samples\")\n",
    "print(f\"{len(df.loc[df['dataset'] == 'snp'])} SNP samples\")"
   ]
  },
  {
   "cell_type": "markdown",
   "id": "bb451c9e",
   "metadata": {},
   "source": [
    "## Split into training and testing, generate RF"
   ]
  },
  {
   "cell_type": "code",
   "execution_count": 25,
   "id": "bbfacd1c",
   "metadata": {
    "scrolled": true
   },
   "outputs": [
    {
     "name": "stderr",
     "output_type": "stream",
     "text": [
      "[Parallel(n_jobs=1)]: Using backend SequentialBackend with 1 concurrent workers.\n",
      "[Parallel(n_jobs=1)]: Done 1000 out of 1000 | elapsed:    4.1s finished\n"
     ]
    },
    {
     "name": "stdout",
     "output_type": "stream",
     "text": [
      "              precision    recall  f1-score   support\n",
      "\n",
      "           0       0.84      0.65      0.73       223\n",
      "           1       0.84      0.94      0.89       451\n",
      "\n",
      "    accuracy                           0.84       674\n",
      "   macro avg       0.84      0.80      0.81       674\n",
      "weighted avg       0.84      0.84      0.84       674\n",
      "\n"
     ]
    }
   ],
   "source": [
    "Input_train, Input_test, Classes_train, Classes_test = train_test_split(Input, Output, train_size = 0.8, random_state=42, stratify=Output) #80% training and 20% testing split. Strartify ensures fixed poportion of output labels is in both sets. Input attributes and class labels, training attributes and class label etc\n",
    "start=time.time() #Start timer for inital training model building\n",
    "RFC = RandomForestClassifier(random_state = 42, n_estimators = 1000, verbose = 1) #Defines the Random Forest. 42 seeds, 1000 trees\n",
    "RFC.fit(Input_train, Classes_train) #Generates a random forest from the training data\n",
    "\n",
    "with open('Training Data.txt', 'w') as file: #Writes class labels for all instances to text file\n",
    "    file.write(Input_train.to_string())\n",
    "    \n",
    "with open('Class labels.txt', 'w') as file: #Writes class labels for all instances to text file\n",
    "    file.write(Output.to_string())"
   ]
  },
  {
   "cell_type": "markdown",
   "id": "4c2cdf65",
   "metadata": {},
   "source": [
    "### Plotting a tree"
   ]
  },
  {
   "cell_type": "code",
   "execution_count": 5,
   "id": "6f86678f",
   "metadata": {},
   "outputs": [],
   "source": [
    "# fig, axes = plt.subplots(nrows = 1,ncols = 1,figsize = (10,10), dpi=130)\n",
    "# tree.plot_tree(RFC.estimators_[45],\n",
    "#                feature_names = None, \n",
    "#                class_names= None,\n",
    "#                filled = True)\n",
    "# plt.show()\n",
    "# plt.savefig('clf_individualtree.png', bbox_inches = 'tight', pad_inches=0)"
   ]
  },
  {
   "cell_type": "markdown",
   "id": "b2e8b7f5",
   "metadata": {},
   "source": [
    "## Training (revisit params)"
   ]
  },
  {
   "cell_type": "code",
   "execution_count": 26,
   "id": "cf8d9857",
   "metadata": {},
   "outputs": [
    {
     "name": "stdout",
     "output_type": "stream",
     "text": [
      "Confusion Matrix:\n",
      " [[145  78]\n",
      " [ 27 424]]\n",
      "MCC:\n",
      " 0.6371468255225344\n",
      "F1:\n",
      " 0.8898216159496328\n",
      "              precision    recall  f1-score   support\n",
      "\n",
      "           0       0.84      0.65      0.73       223\n",
      "           1       0.84      0.94      0.89       451\n",
      "\n",
      "    accuracy                           0.84       674\n",
      "   macro avg       0.84      0.80      0.81       674\n",
      "weighted avg       0.84      0.84      0.84       674\n",
      "\n"
     ]
    },
    {
     "name": "stderr",
     "output_type": "stream",
     "text": [
      "[Parallel(n_jobs=1)]: Using backend SequentialBackend with 1 concurrent workers.\n",
      "[Parallel(n_jobs=1)]: Done 1000 out of 1000 | elapsed:    0.0s finished\n"
     ]
    }
   ],
   "source": [
    "# StandardScaler().fit(X_train).transform(X_train) #Scales data \n",
    "# pipeline = make_pipeline( #Sets the random forest parameters\n",
    "#     StandardScaler(),\n",
    "#     LogisticRegression(solver='saga', max_iter=2000),\n",
    "#     verbose=2\n",
    "#  )\n",
    "RFC.get_params()\n",
    "# Evaluation of training before weighted vote\n",
    "\n",
    "Output_pred = RFC.predict(Input_test) #Always perdict on the unseen test data, as train has been used by the estimastor\n",
    "print(f\"Confusion Matrix:\\n {confusion_matrix(Classes_test, Output_pred)}\")\n",
    "print(f\"MCC:\\n {matthews_corrcoef(Classes_test, Output_pred)}\")\n",
    "print(\"F1:\\n\", f1_score(Classes_test, Output_pred))\n",
    "print(classification_report(Classes_test, Output_pred))"
   ]
  },
  {
   "cell_type": "markdown",
   "id": "6f5ae3dc",
   "metadata": {},
   "source": [
    "## Weighted Voting"
   ]
  },
  {
   "cell_type": "markdown",
   "id": "d3f4ba36",
   "metadata": {},
   "source": [
    "### Counting the PD and SNP in whole training set"
   ]
  },
  {
   "cell_type": "code",
   "execution_count": 7,
   "id": "1f79e572",
   "metadata": {},
   "outputs": [],
   "source": [
    "# # PD_Count = 0\n",
    "# # SNP_Count = 0\n",
    "# # for i in y_train:\n",
    "# #     if i == 1:\n",
    "# #         PD_Count += 1\n",
    "# #     elif i == 0:\n",
    "# #         SNP_Count += 1\n",
    "# #     else:\n",
    "# #         pass\n",
    "# # print(\"PD:\",PD_Count, \"\\nSNP:\", SNP_Count)\n",
    "\n",
    "# PD_Count = 0\n",
    "# SNP_Count = 0\n",
    "# for i in Majority['Class']:\n",
    "#     if i == 1:\n",
    "#         PD_Count += 1\n",
    "#     elif i == 0:\n",
    "#         SNP_Count += 1\n",
    "#     else:\n",
    "#         pass\n",
    "# for i in Minority['Class']:\n",
    "#     if i == 1:\n",
    "#         PD_Count += 1\n",
    "#     elif i == 0:\n",
    "#         SNP_Count += 1\n",
    "#     else:\n",
    "#         pass\n",
    "# print(\"PD:\",PD_Count, \"\\nSNP:\", SNP_Count)"
   ]
  },
  {
   "cell_type": "markdown",
   "id": "b3dfcbde",
   "metadata": {},
   "source": [
    "### Input training sets for each class (PD and SNP)"
   ]
  },
  {
   "cell_type": "code",
   "execution_count": 9,
   "id": "24405e5f",
   "metadata": {},
   "outputs": [
    {
     "name": "stdout",
     "output_type": "stream",
     "text": [
      "PD:1803\n",
      "SNP:891\n"
     ]
    }
   ],
   "source": [
    "Training_Outputs = pd.DataFrame([Output]).reset_index(drop=True).transpose() #Converts Output series to dataframe\n",
    "Training_Outputs.columns = ['Class'] #Names column 'Class'\n",
    "Majority_Class= Training_Outputs.drop(Training_Outputs[Training_Outputs['Class'] == 0].index) #Removes all SNP classes; only PD majority class remains\n",
    "Minority_Class = Training_Outputs.drop(Training_Outputs[Training_Outputs['Class'] == 1].index) #Removes all PD classes; only SNP minority class remains\n",
    "#print(\"PD:\",len(Majority_Class),\"SNP:\", len(Minority_Class))\n",
    "\n",
    "# Only the rows in input training set that are PD\n",
    "Input_PD_train = Input_train.loc[Input_train.index.isin(Majority_Class.index.values)]\n",
    "Classes_PD_train = Classes_train.loc[Classes_train.index.isin(Majority_Class.index.values)] #Labels training data of only PD. 1803\n",
    "\n",
    "# Only the rows in X (input training set) that are SNP\n",
    "Input_SNP_train = Input_train.loc[Input_train.index.isin(Minority_Class.index.values)]\n",
    "Classes_SNP_train = Classes_train.loc[Classes_train.index.isin(Minority_Class.index.values)] #Labels training data of only SNP. 891\n",
    "\n",
    "print(f\"PD:{len(Input_PD_train)}\\nSNP:{len(Input_SNP_train)}\") #Returns the number of only PD or SNP instances in respective training data sets\n"
   ]
  },
  {
   "cell_type": "markdown",
   "id": "0c4b8fdd",
   "metadata": {},
   "source": [
    "### Weighted voting for each class"
   ]
  },
  {
   "cell_type": "code",
   "execution_count": 9,
   "id": "ee46ca48",
   "metadata": {},
   "outputs": [
    {
     "name": "stderr",
     "output_type": "stream",
     "text": [
      "[Parallel(n_jobs=1)]: Using backend SequentialBackend with 1 concurrent workers.\n",
      "[Parallel(n_jobs=1)]: Done 1000 out of 1000 | elapsed:    0.2s finished\n",
      "[Parallel(n_jobs=1)]: Using backend SequentialBackend with 1 concurrent workers.\n",
      "[Parallel(n_jobs=1)]: Done 1000 out of 1000 | elapsed:    0.1s finished\n"
     ]
    }
   ],
   "source": [
    "Prob_PD = RFC.predict_proba(Input_PD_train) #Probability prediction, as a mean of all trees in RF, for the PD instances\n",
    "Prob_SNP = RFC.predict_proba(Input_SNP_train) #Probability prediction, as a mean of all trees in RF, for the SNP instances"
   ]
  },
  {
   "cell_type": "code",
   "execution_count": 10,
   "id": "6746be83",
   "metadata": {},
   "outputs": [
    {
     "name": "stdout",
     "output_type": "stream",
     "text": [
      "Imbalance ratio:\n",
      "2.0235690235690234:1\n",
      "5 balancing folds needed.\n"
     ]
    }
   ],
   "source": [
    "def Ratio_divide(): #Finds ratio between the 2 classes (i.e the imbalance) and the number of folds required\n",
    "    a = len(Input_PD_train)\n",
    "    b = len(Input_SNP_train)\n",
    "    Divide = a/b\n",
    "    if Divide <= 1:\n",
    "        Ratio = 1/Divide\n",
    "    else:\n",
    "        Ratio = Divide\n",
    "        \n",
    "    if round(Ratio) % 2 == 0:\n",
    "        BF = 2 * round(Ratio) + 1\n",
    "    else:\n",
    "        BF = round(Ratio)\n",
    "    return Ratio, BF;\n",
    "Ratio, BF = Ratio_divide()\n",
    "\n",
    "print(f\"Imbalance ratio:\\n{Ratio}:1\\n{BF} balancing folds needed.\")\n",
    "\n",
    "#Build a model for each balancing fold, predict the confidence scores and find average for each, which gives final vote\n",
    " \n",
    "BF_RFC = RandomForestClassifier(random_state = 42, n_estimators = 100) #Defines the Random Forest. 42 seeds, 100 trees (increase)\n",
    "BF_Prob = []\n",
    "BF_Probtxt = []\n",
    "BF_data = []\n",
    "\n",
    "#Randomly samples the majority class PD, to the same size of minority class SNP, and scores confidence for each instance\n",
    "for i in range (BF):\n",
    "    a = Random_Seed()\n",
    "    BF_Input_PD_train = Input_PD_train.sample(frac = (1/Ratio), random_state = a//100) #Balanced PD input training data \n",
    "    BF_Classes_PD_train = Classes_PD_train.sample(frac = (1/Ratio), random_state = a//100) #Balanced PD output training data\n",
    "    \n",
    "    #Concatanates the input and output balancing fold training data, so a new RFC can be generated. Function\n",
    "    BF_Input_all = shuffle(pd.concat([BF_Input_PD_train, Input_SNP_train]), random_state = a//50)\n",
    "    BF_Output_all = shuffle(pd.concat([BF_Classes_PD_train, Classes_SNP_train]), random_state = a//50)\n",
    "    Full_set = pd.concat([BF_Input_all, BF_Output_all], axis = 1)\n",
    "\n",
    "\n",
    "    #Generates RF and calculates probabilities for each fold\n",
    "    BF_RFC.fit(BF_Input_all, BF_Output_all)\n",
    "    BF_data.append(Full_set) #Builds random forest from training data for each fold\n",
    "    \n",
    "    Prob_index = BF_RFC.predict_proba(BF_Input_all) #Predicts confidence score for each instance\n",
    "    Full_set[['SNP', 'PD']] = Prob_index\n",
    "    Prob_index = Full_set.drop(labels=['Binding','SProtFT0','SProtFT1','SProtFT2','SProtFT3','SProtFT4','SProtFT5','SProtFT6','SProtFT7','SProtFT8','SProtFT9','SProtFT10','SProtFT11','SProtFT12','Interface','Relaccess','Impact','HBonds','SPhobic','CPhilic','BCharge','SSGeom','Voids','MLargest1','MLargest2','MLargest3','MLargest4','MLargest5','MLargest6','MLargest7','MLargest8','MLargest9','MLargest10','NLargest1','NLargest2','NLargest3','NLargest4','NLargest5','NLargest6','NLargest7','NLargest8','NLargest9','NLargest10','Clash','Glycine','Proline','CisPro','dataset_pd'], axis=1, inplace=False)\n",
    "    #Becomes a list\n",
    "    BF_Prob.append(Prob_index) #List with probabilites for all instances\n",
    "    BF_Probtxt.append(Prob_index.to_string())\n",
    "    \n",
    "with open('Balanced probabilities.txt', 'w') as f:\n",
    "    for number, line in zip(range(BF), BF_Probtxt):\n",
    "        f.write(f\"Fold: {number}\\n\\n{line}\\n\\n\\n\")\n",
    "        \n",
    "with open('Balanced training data.txt', 'w') as f:\n",
    "    for number, fold in zip(range(BF), BF_data):\n",
    "        f.write(f\"Fold: {number}\\n\\n{fold}\\n\\n\\n\")"
   ]
  },
  {
   "cell_type": "code",
   "execution_count": 12,
   "id": "dead8029",
   "metadata": {
    "scrolled": false
   },
   "outputs": [
    {
     "data": {
      "text/plain": [
       "2049    0.628\n",
       "2       0.824\n",
       "2054    0.936\n",
       "8       0.764\n",
       "2056    0.884\n",
       "        ...  \n",
       "2004    0.680\n",
       "2017    0.776\n",
       "2019    0.804\n",
       "2036    0.772\n",
       "2039    0.696\n",
       "Length: 932, dtype: float64"
      ]
     },
     "execution_count": 12,
     "metadata": {},
     "output_type": "execute_result"
    }
   ],
   "source": [
    "#Apply weighted vote scheme for a predictor that outputs confidence value between 0 and 1 for each class. \n",
    "def Weighted_Proba(BF_Prob, BF_list):\n",
    "\n",
    "    # Identify which instance appear in all folds, uding the nth fold (random number)\n",
    "    intersect_index = set(BF_Prob[0].index.values) #index of all 1782 instances in first fold\n",
    "    \n",
    "    for i in BF_list: #for all 5 folds\n",
    "        intersect_index = intersect_index.intersection(set(BF_Prob[i].index.values)) #intersection checks if instances are in all folds\n",
    "    intersect_index_list = list(intersect_index) #converts set to list, 945 items\n",
    "\n",
    "    with open('All Instances.txt', 'w') as f:\n",
    "        for line in intersect_index_list:\n",
    "            f.write(f\"{line}\\n\")\n",
    "            \n",
    "    BF_prob_list_PD =[]\n",
    "    BF_prob_list_SNP =[]\n",
    "    for i in BF_list: #for all 5 folds\n",
    "        BF_Prob_instance = BF_Prob[i].loc[intersect_index_list,:] #Returns each dataframe with the common instances\n",
    "        BF_prob_list_PD.append(BF_Prob_instance.iloc[:,1] - BF_Prob_instance.iloc[:,0]) #PD - SNP prob\n",
    "        BF_prob_list_SNP.append(BF_Prob_instance.iloc[:,0] - BF_Prob_instance.iloc[:,1]) #SNP - PD prob   \n",
    "    \n",
    "    SNP_Sum = 0\n",
    "    for i in BF_list:\n",
    "        SNP_Sum += BF_prob_list_SNP[i]\n",
    "    PD_Sum = 0\n",
    "    for i in BF_list:\n",
    "        PD_Sum += BF_prob_list_PD[i]\n",
    "        \n",
    "    S_out = abs((PD_Sum - SNP_Sum)/(len(BF_list) * 2))\n",
    "    return(S_out)\n",
    "\n",
    "Weighted_Proba(BF_Prob, BF_list=range(BF))"
   ]
  },
  {
   "cell_type": "code",
   "execution_count": 13,
   "id": "f8fe70fc",
   "metadata": {},
   "outputs": [],
   "source": [
    "S_out_string = Weighted_Proba(BF_Prob, BF_list=range(BF)).to_string() #Write S_out to text file\n",
    "with open('S_out.txt', 'w') as f:\n",
    "    f.write(S_out_string)"
   ]
  },
  {
   "cell_type": "code",
   "execution_count": 110,
   "id": "05628e7a",
   "metadata": {},
   "outputs": [
    {
     "data": {
      "text/plain": [
       "1337    0.97\n",
       "3021    0.72\n",
       "648     0.43\n",
       "266     0.98\n",
       "993     0.13\n",
       "        ... \n",
       "1874    0.07\n",
       "2717    0.95\n",
       "1344    0.85\n",
       "1620    0.90\n",
       "1341    0.94\n",
       "Name: SNP, Length: 1782, dtype: float64"
      ]
     },
     "execution_count": 110,
     "metadata": {},
     "output_type": "execute_result"
    }
   ],
   "source": [
    "BF_Prob[0].iloc[:,0]"
   ]
  },
  {
   "cell_type": "code",
   "execution_count": 15,
   "id": "a322d7eb",
   "metadata": {},
   "outputs": [],
   "source": [
    "#Final vote\n",
    "\n",
    "PD = BF_Prob[0].iloc[:,1].to_numpy()\n",
    "SNP = BF_Prob[0].iloc[:,0].to_numpy()\n",
    "# if np.greater(PD,SNP):\n",
    "\n",
    "# PD_Count = 0\n",
    "# SNP_Count = 0\n",
    "# for i in range(len(BF_Prob)):\n",
    "#     if np.greater(PD,SNP):\n",
    "#         PD_Count += 1\n",
    "#     elif BF_Prob[i].iloc[:,0] > BF_Prob[i].iloc[:,1]:\n",
    "#         SNP_Count += 1\n",
    "#     else:\n",
    "#         pass\n",
    "\n",
    "        \n",
    "\n",
    "# PD_Count = 0\n",
    "# for i in Weighted_Proba(BF_Prob, BF_list=range(BF)):\n",
    "#     if i > 0.5:\n",
    "#         PD_Count += 1\n",
    "#     else:\n",
    "#         pass\n",
    "# print(PD_Count,\"samples predicted to be PD\")\n",
    "\n",
    "# SNP_Count = 0\n",
    "# for i in Weighted_Proba(BF_Prob, BF_list=range(BF)):\n",
    "#     if i < 0.5:\n",
    "#         SNP_Count += 1\n",
    "#     else:\n",
    "#         pass\n",
    "# print(SNP_Count,\"samples predicted to be SNP\")\n",
    "\n",
    "\n",
    "# #Evaluation of training after weighted vote\n",
    "# Classes_pred = RFC.predict(Input_test)\n",
    "# print(f\"Confusion Matrix:\\n {confusion_matrix(Classes_test, Classes_pred)}\")\n",
    "# print(f\"MCC:\\n {matthews_corrcoef(Classes_test, Classes_pred)}\")\n",
    "# print(\"F1:\\n\", f1_score(Classes_test, Classes_pred))"
   ]
  },
  {
   "cell_type": "code",
   "execution_count": 14,
   "id": "bb4af5bf",
   "metadata": {},
   "outputs": [],
   "source": [
    "# TODO: retrive the probability from each tree for a single sample  "
   ]
  },
  {
   "cell_type": "markdown",
   "id": "965f8777",
   "metadata": {},
   "source": [
    "### Validation"
   ]
  },
  {
   "cell_type": "code",
   "execution_count": 18,
   "id": "c426f23e",
   "metadata": {},
   "outputs": [
    {
     "data": {
      "text/plain": [
       "<matplotlib.collections.PathCollection at 0x24c4a7094e0>"
      ]
     },
     "execution_count": 18,
     "metadata": {},
     "output_type": "execute_result"
    },
    {
     "data": {
      "image/png": "[encoded data removed]",
      "text/plain": [
       "<Figure size 640x480 with 1 Axes>"
      ]
     },
     "metadata": {},
     "output_type": "display_data"
    }
   ],
   "source": [
    "# # **Split data into training and test**\n",
    "# with open('SNPorPD.txt', 'w+') as f:\n",
    "#         data=f.read()\n",
    "#         f.write(str(y_test.to_string()))\n",
    "\n",
    "# # pipeline.fit(X, y) #applies list if transformers to give a fitted model\n",
    "\n",
    "plt.scatter(Classes_test, Output_pred)"
   ]
  },
  {
   "cell_type": "code",
   "execution_count": 16,
   "id": "9f620e35",
   "metadata": {},
   "outputs": [
    {
     "ename": "NameError",
     "evalue": "name 'X_train' is not defined",
     "output_type": "error",
     "traceback": [
      "\u001b[1;31m---------------------------------------------------------------------------\u001b[0m",
      "\u001b[1;31mNameError\u001b[0m                                 Traceback (most recent call last)",
      "Cell \u001b[1;32mIn [16], line 8\u001b[0m\n\u001b[0;32m      1\u001b[0m gridsearch \u001b[38;5;241m=\u001b[39m GridSearchCV( \u001b[38;5;66;03m#validation\u001b[39;00m\n\u001b[0;32m      2\u001b[0m     estimator \u001b[38;5;241m=\u001b[39m LogisticRegression(solver\u001b[38;5;241m=\u001b[39m\u001b[38;5;124m'\u001b[39m\u001b[38;5;124msaga\u001b[39m\u001b[38;5;124m'\u001b[39m),\n\u001b[0;32m      3\u001b[0m     param_grid \u001b[38;5;241m=\u001b[39m {}, \u001b[38;5;66;03m#dictionary of parameters to search through\u001b[39;00m\n\u001b[0;32m      4\u001b[0m     cv \u001b[38;5;241m=\u001b[39m StratifiedKFold(),\n\u001b[0;32m      5\u001b[0m     n_jobs \u001b[38;5;241m=\u001b[39m \u001b[38;5;241m1\u001b[39m, \u001b[38;5;66;03m#how many processors to run in parallel\u001b[39;00m\n\u001b[0;32m      6\u001b[0m     scoring \u001b[38;5;241m=\u001b[39m \u001b[38;5;124m'\u001b[39m\u001b[38;5;124mf1\u001b[39m\u001b[38;5;124m'\u001b[39m,\n\u001b[0;32m      7\u001b[0m     verbose \u001b[38;5;241m=\u001b[39m \u001b[38;5;241m3\u001b[39m \n\u001b[1;32m----> 8\u001b[0m     )\u001b[38;5;241m.\u001b[39mfit(\u001b[43mX_train\u001b[49m, y_train)\n",
      "\u001b[1;31mNameError\u001b[0m: name 'X_train' is not defined"
     ]
    }
   ],
   "source": [
    "gridsearch = GridSearchCV( #validation\n",
    "    estimator = LogisticRegression(solver='saga'),\n",
    "    param_grid = {}, #dictionary of parameters to search through\n",
    "    cv = StratifiedKFold(),\n",
    "    n_jobs = 1, #how many processors to run in parallel\n",
    "    scoring = 'f1',\n",
    "    verbose = 3 \n",
    "    ).fit(X_train, y_train)"
   ]
  },
  {
   "cell_type": "code",
   "execution_count": null,
   "id": "15af356d",
   "metadata": {},
   "outputs": [],
   "source": [
    "# y_pred = clf.predict(X_test)\n",
    "# print(\"Training time:\", stop-start)\n",
    "# print(\"Confusion Matrix:\\n\", confusion_matrix(y_test, y_pred))\n",
    "# print(\"MCC:\\n\", matthews_corrcoef(y_test, y_pred))\n",
    "# print(\"F1:\\n\", f1_score(y_test, y_pred))"
   ]
  },
  {
   "cell_type": "code",
   "execution_count": null,
   "id": "b1de8521",
   "metadata": {},
   "outputs": [],
   "source": []
  }
 ],
 "metadata": {
  "kernelspec": {
   "display_name": "Python 3 (ipykernel)",
   "language": "python",
   "name": "python3"
  },
  "language_info": {
   "codemirror_mode": {
    "name": "ipython",
    "version": 3
   },
   "file_extension": ".py",
   "mimetype": "text/x-python",
   "name": "python",
   "nbconvert_exporter": "python",
   "pygments_lexer": "ipython3",
   "version": "3.10.7"
  },
  "varInspector": {
   "cols": {
    "lenName": 16,
    "lenType": 16,
    "lenVar": 40
   },
   "kernels_config": {
    "python": {
     "delete_cmd_postfix": "",
     "delete_cmd_prefix": "del ",
     "library": "var_list.py",
     "varRefreshCmd": "print(var_dic_list())"
    },
    "r": {
     "delete_cmd_postfix": ") ",
     "delete_cmd_prefix": "rm(",
     "library": "var_list.r",
     "varRefreshCmd": "cat(var_dic_list()) "
    }
   },
   "oldHeight": 337.844,
   "position": {
    "height": "359.844px",
    "left": "1536px",
    "right": "20px",
    "top": "112px",
    "width": "354px"
   },
   "types_to_exclude": [
    "module",
    "function",
    "builtin_function_or_method",
    "instance",
    "_Feature"
   ],
   "varInspector_section_display": "block",
   "window_display": false
  }
 },
 "nbformat": 4,
 "nbformat_minor": 5
}
