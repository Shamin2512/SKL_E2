{
 "cells": [
  {
   "cell_type": "code",
   "execution_count": 5,
   "id": "6928760a",
   "metadata": {},
   "outputs": [],
   "source": [
    "\"Converts PDB codes to Uniprot accession codes. This script only converts the 4 alphanumeric characters, not the chain and residue number.\"\n",
    "#!/usr/bin/env python3\n",
    "\n",
    "from urllib import request\n",
    "import sys\n",
    "import re\n",
    "import pandas as pd\n",
    "import numpy as np\n",
    "import time\n",
    "\n"
   ]
  },
  {
   "cell_type": "code",
   "execution_count": 13,
   "id": "4daeb7b5",
   "metadata": {},
   "outputs": [],
   "source": [
    "def clean_data(file):\n",
    "    df = pd.read_csv('E2.csv')\n",
    "\n",
    "    #Remove unrequired NaNs, blank spaces, reset index to run from 0\n",
    "    df.dropna(inplace = True)\n",
    "    df.replace(' ', '_', regex=True, inplace=True)\n",
    "    df.reset_index(drop=True, inplace = True)\n",
    "\n",
    "    #Encodes class labels to numeric values (0 or 1)\n",
    "    cleaned_encoded = pd.get_dummies(df, columns=['dataset']) #Encode the PD and SNP columns\n",
    "    cleaned = cleaned_encoded.drop(['dataset_snp'],axis = 1)\n",
    "    \n",
    "    return cleaned"
   ]
  },
  {
   "cell_type": "code",
   "execution_count": 22,
   "id": "d6ceb7a5",
   "metadata": {},
   "outputs": [],
   "source": [
    "def group_data(cleaned):\n",
    "    group_cleaned = cleaned.sort_values(by=['pdbcode:chain:resnum:mutation'])\n",
    "\n",
    "    PDB_codes = []\n",
    "    for i in range(len(group_cleaned)):\n",
    "        PDB_codes.append(group_cleaned.iloc[i][0].partition(':')[0]) #Split the identifier and takes only PDB code\n",
    "\n",
    "    group_cleaned.drop(['pdbcode:chain:resnum:mutation'], axis=1, inplace=True) #Remove 'pdbcode:chain:resnum:mutation' column\n",
    "    group_cleaned.reset_index(inplace = True, drop = True)\n",
    "\n",
    "    return group_cleaned, PDB_codes"
   ]
  },
  {
   "cell_type": "code",
   "execution_count": 28,
   "id": "d9f70d8e",
   "metadata": {},
   "outputs": [],
   "source": [
    "PDB_codes = ['13gs', '30dq','2hgs']"
   ]
  },
  {
   "cell_type": "code",
   "execution_count": 42,
   "id": "11ec40cd",
   "metadata": {},
   "outputs": [],
   "source": [
    "def PDBSWS(PDB_codes):\n",
    "    AC_codes = []\n",
    "    for i in range(len(PDB_codes)):\n",
    "        url = 'http://www.bioinf.org.uk/servers/pdbsws/query.cgi?plain=1&qtype=pdb' #REST output\n",
    "        url += '&id=' + PDB_codes[i] #URL for the specific PDB code of interest\n",
    "        print(PDB_codes[i])\n",
    "\n",
    "        result = request.urlopen(url).read() #Reads the URL\n",
    "        result = str(result, encoding='utf-8') #Encodes the URL into utf-8 format\n",
    "        result = result.replace('\\n', '#') #Replaces all the new line returns with #, allowing easy pattern matches\n",
    "\n",
    "        pattern  = re.compile('.*AC:\\s+(.*?)#') #Recognises the accession code pattern\n",
    "        match    = pattern.match(result) #Saves the pattern to match\n",
    "        ac       = match.group(1) #Saves only the accession code to variable\n",
    "        print(ac)\n",
    "        AC_codes.append(ac)\n",
    "    return AC_codes"
   ]
  },
  {
   "cell_type": "code",
   "execution_count": 43,
   "id": "93871184",
   "metadata": {},
   "outputs": [
    {
     "name": "stdout",
     "output_type": "stream",
     "text": [
      "13gs\n",
      "P09211\n",
      "30dq\n"
     ]
    },
    {
     "ename": "AttributeError",
     "evalue": "'NoneType' object has no attribute 'group'",
     "output_type": "error",
     "traceback": [
      "\u001b[1;31m---------------------------------------------------------------------------\u001b[0m",
      "\u001b[1;31mAttributeError\u001b[0m                            Traceback (most recent call last)",
      "Cell \u001b[1;32mIn [43], line 1\u001b[0m\n\u001b[1;32m----> 1\u001b[0m AC_codes \u001b[38;5;241m=\u001b[39m \u001b[43mPDBSWS\u001b[49m\u001b[43m(\u001b[49m\u001b[43mPDB_codes\u001b[49m\u001b[43m)\u001b[49m\n",
      "Cell \u001b[1;32mIn [42], line 14\u001b[0m, in \u001b[0;36mPDBSWS\u001b[1;34m(PDB_codes)\u001b[0m\n\u001b[0;32m     12\u001b[0m pattern  \u001b[38;5;241m=\u001b[39m re\u001b[38;5;241m.\u001b[39mcompile(\u001b[38;5;124m'\u001b[39m\u001b[38;5;124m.*AC:\u001b[39m\u001b[38;5;124m\\\u001b[39m\u001b[38;5;124ms+(.*?)#\u001b[39m\u001b[38;5;124m'\u001b[39m) \u001b[38;5;66;03m#Recognises the accession code pattern\u001b[39;00m\n\u001b[0;32m     13\u001b[0m match    \u001b[38;5;241m=\u001b[39m pattern\u001b[38;5;241m.\u001b[39mmatch(result) \u001b[38;5;66;03m#Saves the pattern to match\u001b[39;00m\n\u001b[1;32m---> 14\u001b[0m ac       \u001b[38;5;241m=\u001b[39m \u001b[43mmatch\u001b[49m\u001b[38;5;241;43m.\u001b[39;49m\u001b[43mgroup\u001b[49m(\u001b[38;5;241m1\u001b[39m) \u001b[38;5;66;03m#Saves only the accession code to variable\u001b[39;00m\n\u001b[0;32m     15\u001b[0m \u001b[38;5;28mprint\u001b[39m(ac)\n\u001b[0;32m     16\u001b[0m AC_codes\u001b[38;5;241m.\u001b[39mappend(ac)\n",
      "\u001b[1;31mAttributeError\u001b[0m: 'NoneType' object has no attribute 'group'"
     ]
    }
   ],
   "source": [
    "AC_codes = PDBSWS(PDB_codes)"
   ]
  },
  {
   "cell_type": "code",
   "execution_count": 23,
   "id": "66a92b0f",
   "metadata": {},
   "outputs": [],
   "source": [
    "\"\"\" Main program \"\"\"\n",
    "start = time.time()\n",
    "\n",
    "file = \"E2.csv\"\n",
    "cleaned = clean_data(file)\n",
    "group_cleaned, PDB_codes = group_data(cleaned)\n",
    "\n",
    "end = time.time()"
   ]
  },
  {
   "cell_type": "code",
   "execution_count": null,
   "id": "04aa211a",
   "metadata": {},
   "outputs": [],
   "source": [
    "def Input_Code(Input_CV_NoCode, AC_codes):\n",
    "    Input_CV = Input_CV_NoCode.insert(0, 'AC Code', AC_codes)\n",
    "    return Input_CV"
   ]
  },
  {
   "cell_type": "code",
   "execution_count": null,
   "id": "998b5cd9",
   "metadata": {},
   "outputs": [],
   "source": [
    "end - start"
   ]
  },
  {
   "cell_type": "code",
   "execution_count": null,
   "id": "425bb097",
   "metadata": {},
   "outputs": [],
   "source": []
  }
 ],
 "metadata": {
  "kernelspec": {
   "display_name": "Python 3 (ipykernel)",
   "language": "python",
   "name": "python3"
  },
  "language_info": {
   "codemirror_mode": {
    "name": "ipython",
    "version": 3
   },
   "file_extension": ".py",
   "mimetype": "text/x-python",
   "name": "python",
   "nbconvert_exporter": "python",
   "pygments_lexer": "ipython3",
   "version": "3.10.7"
  },
  "varInspector": {
   "cols": {
    "lenName": 16,
    "lenType": 16,
    "lenVar": 40
   },
   "kernels_config": {
    "python": {
     "delete_cmd_postfix": "",
     "delete_cmd_prefix": "del ",
     "library": "var_list.py",
     "varRefreshCmd": "print(var_dic_list())"
    },
    "r": {
     "delete_cmd_postfix": ") ",
     "delete_cmd_prefix": "rm(",
     "library": "var_list.r",
     "varRefreshCmd": "cat(var_dic_list()) "
    }
   },
   "types_to_exclude": [
    "module",
    "function",
    "builtin_function_or_method",
    "instance",
    "_Feature"
   ],
   "window_display": true
  }
 },
 "nbformat": 4,
 "nbformat_minor": 5
}
