{
 "cells": [
  {
   "cell_type": "code",
   "execution_count": 11,
   "id": "047a772f",
   "metadata": {},
   "outputs": [
    {
     "name": "stdout",
     "output_type": "stream",
     "text": [
      "<re.Match object; span=(0, 49), match='PDB: 1bwi#CHAIN: A#RESID: 35#PDBAA: E#AC: P00698#>\n",
      "Accession:      P00698\n",
      "UniProt Resnum: 53\n"
     ]
    }
   ],
   "source": [
    "#!/usr/bin/env python3\n",
    "\n",
    "from urllib import request\n",
    "import sys\n",
    "import re\n",
    "\n",
    "def ReadPDBSWS(pdbcode, resnum):\n",
    "    url = 'http://www.bioinf.org.uk/servers/pdbsws/query.cgi?plain=1&qtype=pdb' #REST output\n",
    "    url += '&id=' + pdbcode #URL for the specific PDB code of interest\n",
    "    url += '&res=' + str(resnum) #remove\n",
    "    \n",
    "    result = request.urlopen(url).read() #Reads the URL\n",
    "    result = str(result, encoding='utf-8') #Encodes the URL into utf-8 format\n",
    "    result = result.replace('\\n', '#') #Replaces all the new line returns with #, allowing easy pattern matches\n",
    "\n",
    "    pattern  = re.compile('.*AC:\\s+(.*?)#') #Recognises the accession code pattern\n",
    "    match    = pattern.match(result) #Saves the pattern to match\n",
    "    ac       = match.group(1) #Saves only the accession code to variable\n",
    "    \n",
    "    pattern  = re.compile('.*UPCOUNT:\\s+(.*?)#')\n",
    "    match    = pattern.match(result)\n",
    "    upresnum = int(match.group(1))\n",
    "\n",
    "    return(ac, upresnum)\n",
    "\n",
    "\"\"\" Main program \"\"\"\n",
    "\n",
    "pdbcode = '1bwi'\n",
    "resnum  = 35\n",
    "\n",
    "(ac, upresnum) = ReadPDBSWS(pdbcode, resnum)\n",
    "\n",
    "print (\"Accession:      \" + ac)\n",
    "print (\"UniProt Resnum: %d\" % upresnum)"
   ]
  },
  {
   "cell_type": "code",
   "execution_count": null,
   "id": "4e0d47cf",
   "metadata": {},
   "outputs": [],
   "source": []
  }
 ],
 "metadata": {
  "kernelspec": {
   "display_name": "Python 3 (ipykernel)",
   "language": "python",
   "name": "python3"
  },
  "language_info": {
   "codemirror_mode": {
    "name": "ipython",
    "version": 3
   },
   "file_extension": ".py",
   "mimetype": "text/x-python",
   "name": "python",
   "nbconvert_exporter": "python",
   "pygments_lexer": "ipython3",
   "version": "3.10.7"
  },
  "varInspector": {
   "cols": {
    "lenName": 16,
    "lenType": 16,
    "lenVar": 40
   },
   "kernels_config": {
    "python": {
     "delete_cmd_postfix": "",
     "delete_cmd_prefix": "del ",
     "library": "var_list.py",
     "varRefreshCmd": "print(var_dic_list())"
    },
    "r": {
     "delete_cmd_postfix": ") ",
     "delete_cmd_prefix": "rm(",
     "library": "var_list.r",
     "varRefreshCmd": "cat(var_dic_list()) "
    }
   },
   "types_to_exclude": [
    "module",
    "function",
    "builtin_function_or_method",
    "instance",
    "_Feature"
   ],
   "window_display": false
  }
 },
 "nbformat": 4,
 "nbformat_minor": 5
}
