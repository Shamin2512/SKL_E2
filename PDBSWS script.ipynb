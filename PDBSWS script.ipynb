{
 "cells": [
  {
   "cell_type": "code",
   "execution_count": 1,
   "id": "26c0a8f6",
   "metadata": {},
   "outputs": [],
   "source": [
    "#!/usr/bin/env python3\n",
    "\n",
    "from urllib import request\n",
    "import sys\n",
    "import re\n",
    "import pandas as pd\n",
    "import numpy as np\n",
    "\n"
   ]
  },
  {
   "cell_type": "code",
   "execution_count": 2,
   "id": "ea420b0d",
   "metadata": {},
   "outputs": [],
   "source": [
    "def Clean_data(file):\n",
    "\n",
    "    df = pd.read_csv('E2.csv')\n",
    "\n",
    "    #Remove unrequired NaNs, blank spaces, reset index to run from 0\n",
    "    df.dropna(inplace = True)\n",
    "    df.replace(' ', '_', regex=True, inplace=True)\n",
    "    df.reset_index(drop=True, inplace = True)\n",
    "\n",
    "    Cleaned_encoded = pd.get_dummies(df, columns=['dataset']) #Encode the PD and SNP columns\n",
    "    Cleaned = Cleaned_encoded.drop(['dataset_snp'],axis = 1)\n",
    "    \n",
    "    return Cleaned"
   ]
  },
  {
   "cell_type": "code",
   "execution_count": 3,
   "id": "3e0d4343",
   "metadata": {},
   "outputs": [],
   "source": [
    "def Group_data(Cleaned):\n",
    "    Group_df = Cleaned.sort_values(by=['pdbcode:chain:resnum:mutation'])\n",
    "\n",
    "    PDB_codes = []\n",
    "    for i in range(len(Group_df)):\n",
    "        PDB_codes.append(Group_df.iloc[i][0].partition(':')[0]) #Split the identifier and takes only PDB code\n",
    "\n",
    "    Group_df.drop(['pdbcode:chain:resnum:mutation'], axis=1, inplace=True) #Remove 'pdbcode:chain:resnum:mutation' column\n",
    "    Group_df.insert(0, 'PDB code', PDB_codes)\n",
    "    Group_df.reset_index(inplace = True, drop = True)\n",
    "\n",
    "    Input_CV = Group_df.drop(['dataset_pd'], axis =1)\n",
    "    Output_CV = Group_df['dataset_pd'].copy().astype('int32') \n",
    "    Protein_Groups = Group_df['PDB code'].to_list()\n",
    "\n",
    "    return Input_CV, Output_CV, Protein_Groups"
   ]
  },
  {
   "cell_type": "code",
   "execution_count": 7,
   "id": "4981da45",
   "metadata": {},
   "outputs": [],
   "source": [
    "def Convert(Input_CV):\n",
    "    codes_list = []\n",
    "    for i in range(len(Input_CV)):\n",
    "        codes = Input_CV.iloc[i][0]\n",
    "        codes_list.append(codes)\n",
    "        \n",
    "    return codes_list"
   ]
  },
  {
   "cell_type": "code",
   "execution_count": 13,
   "id": "de391079",
   "metadata": {},
   "outputs": [],
   "source": [
    "def ReadPDBSWS(codes_list):\n",
    "    for i in range(len(codes_list)):\n",
    "        url = 'http://www.bioinf.org.uk/servers/pdbsws/query.cgi?plain=1&qtype=pdb' #REST output\n",
    "        url += '&id=' + codes_list[i] #URL for the specific PDB code of interest\n",
    "\n",
    "        result = request.urlopen(url).read() #Reads the URL\n",
    "        result = str(result, encoding='utf-8') #Encodes the URL into utf-8 format\n",
    "        result = result.replace('\\n', '#') #Replaces all the new line returns with #, allowing easy pattern matches\n",
    "\n",
    "        pattern  = re.compile('.*AC:\\s+(.*?)#') #Recognises the accession code pattern\n",
    "        match    = pattern.match(result) #Saves the pattern to match\n",
    "        ac       = match.group(1) #Saves only the accession code to variable\n",
    "        print(ac)\n"
   ]
  },
  {
   "cell_type": "code",
   "execution_count": null,
   "id": "f66a7855",
   "metadata": {},
   "outputs": [
    {
     "name": "stdout",
     "output_type": "stream",
     "text": [
      "P09211\n",
      "P09211\n",
      "Q13469\n",
      "P10912\n",
      "P10912\n",
      "P10912\n",
      "P10912\n",
      "P10912\n",
      "P00709\n",
      "P42771\n",
      "P42771\n",
      "P42771\n",
      "P42771\n",
      "P42771\n",
      "P42771\n",
      "P42771\n",
      "P42771\n",
      "P42771\n",
      "P42771\n",
      "P42771\n",
      "P42771\n",
      "P42771\n",
      "P42771\n",
      "P42771\n",
      "P23526\n",
      "P23526\n",
      "P11362\n",
      "P11362\n",
      "P11362\n",
      "P11362\n",
      "P04075\n",
      "Q5TC78\n",
      "Q5TC78\n",
      "Q5TC78\n",
      "Q5TC78\n",
      "Q5TC78\n",
      "Q5TC78\n",
      "Q5TC78\n",
      "Q5TC78\n",
      "Q5TC78\n",
      "Q5TC78\n",
      "Q5TC78\n",
      "Q5TC78\n",
      "Q5TC78\n",
      "Q5TC78\n",
      "Q5TC78\n",
      "Q5TC78\n",
      "Q5TC78\n",
      "Q5TC78\n",
      "Q5TC78\n",
      "Q5TC78\n",
      "Q5TC78\n",
      "Q5TC78\n",
      "Q5TC78\n",
      "Q5TC78\n",
      "Q5TC78\n",
      "Q5TC78\n",
      "P20933\n",
      "P20933\n",
      "P20933\n",
      "P20933\n",
      "P01011\n",
      "P08311\n",
      "P04070\n",
      "P04070\n",
      "P04070\n",
      "P04070\n",
      "P04070\n",
      "P04070\n",
      "P04070\n",
      "P04070\n",
      "P04070\n",
      "P04070\n",
      "P04070\n",
      "P04070\n",
      "P04070\n"
     ]
    }
   ],
   "source": [
    "\"\"\" Main program \"\"\"\n",
    "file = \"E2.csv\"\n",
    "Cleaned = Clean_data(file)\n",
    "Input_CV, Output_CV, Protein_Groups = Group_data(Cleaned)\n",
    "codes_list = Convert(Input_CV)\n",
    "\n",
    "ReadPDBSWS(codes_list)\n",
    "\n"
   ]
  },
  {
   "cell_type": "code",
   "execution_count": 12,
   "id": "6b8b3b40",
   "metadata": {},
   "outputs": [
    {
     "data": {
      "text/plain": [
       "str"
      ]
     },
     "execution_count": 12,
     "metadata": {},
     "output_type": "execute_result"
    }
   ],
   "source": []
  },
  {
   "cell_type": "code",
   "execution_count": null,
   "id": "47a03375",
   "metadata": {},
   "outputs": [],
   "source": []
  }
 ],
 "metadata": {
  "kernelspec": {
   "display_name": "Python 3 (ipykernel)",
   "language": "python",
   "name": "python3"
  },
  "language_info": {
   "codemirror_mode": {
    "name": "ipython",
    "version": 3
   },
   "file_extension": ".py",
   "mimetype": "text/x-python",
   "name": "python",
   "nbconvert_exporter": "python",
   "pygments_lexer": "ipython3",
   "version": "3.10.7"
  },
  "varInspector": {
   "cols": {
    "lenName": 16,
    "lenType": 16,
    "lenVar": 40
   },
   "kernels_config": {
    "python": {
     "delete_cmd_postfix": "",
     "delete_cmd_prefix": "del ",
     "library": "var_list.py",
     "varRefreshCmd": "print(var_dic_list())"
    },
    "r": {
     "delete_cmd_postfix": ") ",
     "delete_cmd_prefix": "rm(",
     "library": "var_list.r",
     "varRefreshCmd": "cat(var_dic_list()) "
    }
   },
   "types_to_exclude": [
    "module",
    "function",
    "builtin_function_or_method",
    "instance",
    "_Feature"
   ],
   "window_display": true
  }
 },
 "nbformat": 4,
 "nbformat_minor": 5
}
