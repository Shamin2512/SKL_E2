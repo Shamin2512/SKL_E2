{
 "cells": [
  {
   "cell_type": "code",
   "execution_count": 17,
   "id": "cecd3a16",
   "metadata": {},
   "outputs": [],
   "source": [
    "#!/usr/bin/env python3\n",
    "\n",
    "from urllib import request\n",
    "import sys\n",
    "import re\n",
    "import pandas as pd\n",
    "import numpy as np\n",
    "\n"
   ]
  },
  {
   "cell_type": "code",
   "execution_count": 18,
   "id": "94d115ce",
   "metadata": {},
   "outputs": [],
   "source": [
    "def Clean_data(file):\n",
    "    \"\"\" Input:      file        The dataset to read\n",
    "\n",
    "        Returns:    Cleaned      Cleaned dataframe with numeric values for class\n",
    "\n",
    "        Create, clean and convert dataset E2.csv to PD dataframe. Removes blank spaces and NaNs,\n",
    "        and applies One Hot Encoding to convert classes (PD/SNP) to 1/0\n",
    "    \"\"\"\n",
    "    df = pd.read_csv('E2.csv')\n",
    "\n",
    "    #Remove unrequired NaNs, blank spaces, reset index to run from 0\n",
    "    df.dropna(inplace = True)\n",
    "    df.replace(' ', '_', regex=True, inplace=True)\n",
    "    df.reset_index(drop=True, inplace = True)\n",
    "\n",
    "    Cleaned_encoded = pd.get_dummies(df, columns=['dataset']) #Encode the PD and SNP columns\n",
    "    Cleaned = Cleaned_encoded.drop(['dataset_snp'],axis = 1)\n",
    "    \n",
    "    return Cleaned"
   ]
  },
  {
   "cell_type": "code",
   "execution_count": null,
   "id": "b832b612",
   "metadata": {},
   "outputs": [],
   "source": [
    "def ReadPDBSWS(pdbcode):\n",
    "    url = 'http://www.bioinf.org.uk/servers/pdbsws/query.cgi?plain=1&qtype=pdb' #REST output\n",
    "    url += '&id=' + pdbcode #URL for the specific PDB code of interest\n",
    "    url += '&res=' + str(resnum) #remove\n",
    "    \n",
    "    result = request.urlopen(url).read() #Reads the URL\n",
    "    result = str(result, encoding='utf-8') #Encodes the URL into utf-8 format\n",
    "    result = result.replace('\\n', '#') #Replaces all the new line returns with #, allowing easy pattern matches\n",
    "\n",
    "    pattern  = re.compile('.*AC:\\s+(.*?)#') #Recognises the accession code pattern\n",
    "    match    = pattern.match(result) #Saves the pattern to match\n",
    "    ac       = match.group(1) #Saves only the accession code to variable\n",
    "    \n",
    "    return(ac)\n"
   ]
  },
  {
   "cell_type": "code",
   "execution_count": 22,
   "id": "8bc6f680",
   "metadata": {},
   "outputs": [
    {
     "name": "stdout",
     "output_type": "stream",
     "text": [
      "Accession:Q16647\n",
      "     pdbcode:chain:resnum:mutation  Binding  SProtFT0  SProtFT1  SProtFT2  \\\n",
      "0                      3odq:B:90:K      0.0       0.0       0.0       0.0   \n",
      "1                     3thc:A:214:Y      0.0       0.0       0.0       0.0   \n",
      "2                     2ary:A:103:A      0.0       0.0       0.0       0.0   \n",
      "3                     2r3v:A:301:T      0.0       0.0       0.0       0.0   \n",
      "4                     1bhg:A:408:S      0.0       0.0       0.0       0.0   \n",
      "...                            ...      ...       ...       ...       ...   \n",
      "3360                  3cot:A:261:C      0.0       0.0       0.0       0.0   \n",
      "3361                   2l0w:A:47:V      0.0       0.0       0.0       0.0   \n",
      "3362                  2l9n:A:126:T      0.0       0.0       0.0       0.0   \n",
      "3363                  2xwt:C:252:P      0.0       0.0       0.0       0.0   \n",
      "3364                  3b63:B:177:C      0.0       0.0       0.0       0.0   \n",
      "\n",
      "      SProtFT3  SProtFT4  SProtFT5  SProtFT6  SProtFT7  ...  NLargest6  \\\n",
      "0          0.0       0.0       0.0       0.0       0.0  ...     35.332   \n",
      "1          0.0       0.0       0.0       0.0       0.0  ...    152.367   \n",
      "2          0.0       0.0       0.0       0.0       0.0  ...     74.267   \n",
      "3          0.0       0.0       0.0       0.0       0.0  ...    162.474   \n",
      "4          0.0       0.0       0.0       0.0       0.0  ...    188.020   \n",
      "...        ...       ...       ...       ...       ...  ...        ...   \n",
      "3360       0.0       0.0       0.0       0.0       0.0  ...    103.081   \n",
      "3361       0.0       0.0       0.0       0.0       0.0  ...     53.941   \n",
      "3362       0.0       0.0       0.0       0.0       0.0  ...     73.001   \n",
      "3363       0.0       0.0       0.0       0.0       0.0  ...     62.633   \n",
      "3364       0.0       0.0       0.0       0.0       0.0  ...     75.434   \n",
      "\n",
      "      NLargest7  NLargest8  NLargest9  NLargest10  Clash   Glycine   Proline  \\\n",
      "0        33.811     30.525     28.448      23.301  -8.83 -100.0000 -100.0000   \n",
      "1       142.055    119.325    110.986     110.768 -11.19 -100.0000 -100.0000   \n",
      "2        69.595     67.078     62.108      61.438  -2.03 -100.0000 -100.0000   \n",
      "3       130.995    114.245    113.635      87.611   1.32 -100.0000 -100.0000   \n",
      "4       176.892    175.881    160.863     160.839  -2.93 -100.0000 -100.0000   \n",
      "...         ...        ...        ...         ...    ...       ...       ...   \n",
      "3360     85.249     83.669     77.663      73.123  -4.57 -100.0000 -100.0000   \n",
      "3361     42.229     27.331     25.610      25.432  -5.44    2.4896 -100.0000   \n",
      "3362     59.724     56.923     50.393      47.249  -4.98 -100.0000 -100.0000   \n",
      "3363     51.638     51.579     50.647      49.074  41.29 -100.0000    3.2714   \n",
      "3364     62.945     56.809     55.505      54.530  -2.66 -100.0000 -100.0000   \n",
      "\n",
      "      CisPro  dataset_pd  \n",
      "0        0.0           1  \n",
      "1        0.0           1  \n",
      "2        0.0           0  \n",
      "3        0.0           1  \n",
      "4        0.0           1  \n",
      "...      ...         ...  \n",
      "3360     0.0           1  \n",
      "3361     0.0           1  \n",
      "3362     0.0           1  \n",
      "3363     0.0           1  \n",
      "3364     0.0           1  \n",
      "\n",
      "[3365 rows x 49 columns]\n"
     ]
    },
    {
     "data": {
      "text/plain": [
       "(None, None)"
      ]
     },
     "execution_count": 22,
     "metadata": {},
     "output_type": "execute_result"
    }
   ],
   "source": [
    "\"\"\" Main program \"\"\"\n",
    "file = \"E2.csv\"\n",
    "Cleaned = Clean_data(file)\n",
    "\n",
    "ac = ReadPDBSWS(pdbcode)\n",
    "\n",
    "print(f\"Accession:{ac}\"), print(Cleaned)"
   ]
  },
  {
   "cell_type": "code",
   "execution_count": null,
   "id": "1c3a9dd8",
   "metadata": {},
   "outputs": [],
   "source": []
  }
 ],
 "metadata": {
  "kernelspec": {
   "display_name": "Python 3 (ipykernel)",
   "language": "python",
   "name": "python3"
  },
  "language_info": {
   "codemirror_mode": {
    "name": "ipython",
    "version": 3
   },
   "file_extension": ".py",
   "mimetype": "text/x-python",
   "name": "python",
   "nbconvert_exporter": "python",
   "pygments_lexer": "ipython3",
   "version": "3.10.7"
  },
  "varInspector": {
   "cols": {
    "lenName": 16,
    "lenType": 16,
    "lenVar": 40
   },
   "kernels_config": {
    "python": {
     "delete_cmd_postfix": "",
     "delete_cmd_prefix": "del ",
     "library": "var_list.py",
     "varRefreshCmd": "print(var_dic_list())"
    },
    "r": {
     "delete_cmd_postfix": ") ",
     "delete_cmd_prefix": "rm(",
     "library": "var_list.r",
     "varRefreshCmd": "cat(var_dic_list()) "
    }
   },
   "types_to_exclude": [
    "module",
    "function",
    "builtin_function_or_method",
    "instance",
    "_Feature"
   ],
   "window_display": false
  }
 },
 "nbformat": 4,
 "nbformat_minor": 5
}
